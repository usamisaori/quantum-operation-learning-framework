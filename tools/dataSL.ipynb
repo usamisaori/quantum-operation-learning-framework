{
 "cells": [
  {
   "cell_type": "code",
   "execution_count": 1,
   "id": "afeff556",
   "metadata": {},
   "outputs": [],
   "source": [
    "import pickle"
   ]
  },
  {
   "cell_type": "markdown",
   "id": "cd5fe239",
   "metadata": {},
   "source": [
    "## Save datas"
   ]
  },
  {
   "cell_type": "code",
   "execution_count": 1,
   "id": "1e0fba6a",
   "metadata": {},
   "outputs": [],
   "source": [
    "def save(data, datatype, name, strategy, times):\n",
    "    # eg. params/losses_sdc/sqt/grover/..._unitary/vqc/..._3\n",
    "    \n",
    "    if datatype == 'params':\n",
    "        saveParams(data, name, strategy, times)\n",
    "    elif datatype == 'losses':\n",
    "        saveLosses(data, name, strategy, times)"
   ]
  },
  {
   "cell_type": "code",
   "execution_count": 2,
   "id": "75225f39",
   "metadata": {},
   "outputs": [],
   "source": [
    "def saveParams(params, name, strategy, times):\n",
    "    path = f\"./data/{name}/params/{name}_{strategy}_params_{times}\"\n",
    "    path += '.pkl'\n",
    "    \n",
    "    with open(path, 'wb') as file:\n",
    "        pickle.dump(params, file)\n",
    "        \n",
    "def saveLosses(losses, name, strategy, times):\n",
    "    path = f\"./data/{name}/losses/{name}_{strategy}_losses_{times}\"\n",
    "    path += '.pkl'\n",
    "    \n",
    "    with open(path, 'wb') as file:\n",
    "        pickle.dump(losses, file)"
   ]
  },
  {
   "cell_type": "markdown",
   "id": "1c2339c4",
   "metadata": {},
   "source": [
    "## Load datas"
   ]
  },
  {
   "cell_type": "code",
   "execution_count": 3,
   "id": "30ca7541",
   "metadata": {},
   "outputs": [],
   "source": [
    "def load(datatype, name, strategy, times):\n",
    "    # eg. params/losses_sdc/sqt/grover/..._unitary/vqc/..._3(_F/D/)\n",
    "    \n",
    "    if datatype == 'params':\n",
    "        return loadParams(name, strategy, times)\n",
    "    elif datatype == 'losses':\n",
    "        return loadLosses(name, strategy, times)"
   ]
  },
  {
   "cell_type": "code",
   "execution_count": 4,
   "id": "fe3eb917",
   "metadata": {},
   "outputs": [],
   "source": [
    "def loadParams(name, strategy, times):\n",
    "    path = f\"./data/{name}/params/{name}_{strategy}_params_{times}\"\n",
    "    path += '.pkl'\n",
    "    \n",
    "    with open(path, 'rb') as file:\n",
    "        params = pickle.load(file)\n",
    "    \n",
    "    return params\n",
    "\n",
    "def loadLosses(name, strategy, times):\n",
    "    path = f\"./data/{name}/losses/{name}_{strategy}_losses_{times}\"\n",
    "    path += '.pkl'\n",
    "    \n",
    "    with open(path, 'rb') as file:\n",
    "        losses = pickle.load(file)\n",
    "    \n",
    "    return losses"
   ]
  },
  {
   "cell_type": "markdown",
   "id": "fd00299a",
   "metadata": {},
   "source": [
    "## Plot data"
   ]
  },
  {
   "cell_type": "code",
   "execution_count": 1,
   "id": "b3fa9aff",
   "metadata": {},
   "outputs": [],
   "source": [
    "import numpy as np"
   ]
  },
  {
   "cell_type": "code",
   "execution_count": 5,
   "id": "87df7307",
   "metadata": {},
   "outputs": [],
   "source": [
    "import matplotlib.pyplot as plt \n",
    "\n",
    "def plot(data, color='skyblue'):\n",
    "    y = data\n",
    "    x = range(1, len(y) + 1)\n",
    "        \n",
    "    plt.plot(x, y, color=color, linewidth=2.0, linestyle='--')"
   ]
  },
  {
   "cell_type": "code",
   "execution_count": 1,
   "id": "d25f6b88",
   "metadata": {},
   "outputs": [],
   "source": [
    "def plotLosses(losses, color=\"red\", fill_color=\"#CCCCFF\", title=None, fontsize=20):\n",
    "    losses_mean = np.mean(losses, axis=0)\n",
    "    losses_std = np.std(losses, axis=0)\n",
    "    \n",
    "    x = range(1, len(losses_mean) + 1)\n",
    "    plt.grid()\n",
    "    plt.plot(x, losses_mean, color=color, linewidth=2.0, linestyle='--', label=\"Mean value\")\n",
    "    plt.fill_between(x, losses_mean + losses_std, losses_mean - losses_std, \n",
    "                     color=fill_color, label=\"Standard deviation\")\n",
    "    plt.legend([\"Mean value\", \"Standard deviation\"], loc=\"upper right\")\n",
    "    \n",
    "    if title != None:\n",
    "        plt.title(title, fontsize=fontsize)"
   ]
  },
  {
   "cell_type": "code",
   "execution_count": null,
   "id": "bc8ec28d",
   "metadata": {},
   "outputs": [],
   "source": []
  }
 ],
 "metadata": {
  "kernelspec": {
   "display_name": "Python 3 (ipykernel)",
   "language": "python",
   "name": "python3"
  },
  "language_info": {
   "codemirror_mode": {
    "name": "ipython",
    "version": 3
   },
   "file_extension": ".py",
   "mimetype": "text/x-python",
   "name": "python",
   "nbconvert_exporter": "python",
   "pygments_lexer": "ipython3",
   "version": "3.8.13"
  }
 },
 "nbformat": 4,
 "nbformat_minor": 5
}
