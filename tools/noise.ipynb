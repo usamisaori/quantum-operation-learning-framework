{
 "cells": [
  {
   "cell_type": "code",
   "execution_count": 1,
   "metadata": {},
   "outputs": [],
   "source": [
    "import qiskit\n",
    "from qiskit.providers.aer.noise import NoiseModel\n",
    "from qiskit.providers.aer.utils import insert_noise\n",
    "from qiskit.providers.aer.noise import pauli_error, depolarizing_error"
   ]
  },
  {
   "cell_type": "code",
   "execution_count": 2,
   "metadata": {},
   "outputs": [],
   "source": [
    "def createNoiseModel(p, errorType):\n",
    "    # QuantumError objects\n",
    "    if errorType == 'bit_flip' or errorType == 'b':\n",
    "        error = pauli_error([('X', p), ('I', 1 - p)])\n",
    "    elif errorType == 'phase_flip' or errorType == 'p':\n",
    "        error = pauli_error([('Z', p), ('I', 1 - p)])\n",
    "    elif errorType == 'depolarizing' or errorType == 'd':\n",
    "        error = depolarizing_error(p, num_qubits=1)\n",
    "        \n",
    "    ## two-qubits quantumError objects \n",
    "    if errorType == 'depolarizing' or errorType == 'd':\n",
    "        error_2qubits = depolarizing_error(p, num_qubits=2)\n",
    "    else:\n",
    "        error_2qubits = error.tensor(error)\n",
    "        \n",
    "    # Add errors to noise model\n",
    "    noise_model = NoiseModel()\n",
    "    \n",
    "    noise_model.add_all_qubit_quantum_error(error, ['x', 'y', 'z', 'h', 'rx', 'ry', 'rz', 'u1', 'u2', 'u3'])\n",
    "    noise_model.add_all_qubit_quantum_error(error_2qubits, ['cx', 'cz', 'swap'])\n",
    "    \n",
    "    return noise_model"
   ]
  },
  {
   "cell_type": "code",
   "execution_count": 3,
   "metadata": {},
   "outputs": [],
   "source": [
    "def getNoiseCircuit(circuit, p, errorType):\n",
    "    noise_model = createNoiseModel( p, errorType)\n",
    "    noise_circuit = insert_noise(circuit, noise_model)\n",
    "    \n",
    "    return noise_circuit"
   ]
  },
  {
   "cell_type": "code",
   "execution_count": 1,
   "metadata": {},
   "outputs": [],
   "source": [
    "def getNoiseCircuits(inputCircuits, p, errorType):\n",
    "    noiseInputCircuits = []\n",
    "    \n",
    "    for circuit in inputCircuits:\n",
    "        noiseInputCircuits.append(getNoiseCircuit(circuit, p, errorType))\n",
    "    \n",
    "    return noiseInputCircuits"
   ]
  },
  {
   "cell_type": "code",
   "execution_count": null,
   "metadata": {},
   "outputs": [],
   "source": []
  }
 ],
 "metadata": {
  "kernelspec": {
   "display_name": "Python 3",
   "language": "python",
   "name": "python3"
  },
  "language_info": {
   "codemirror_mode": {
    "name": "ipython",
    "version": 3
   },
   "file_extension": ".py",
   "mimetype": "text/x-python",
   "name": "python",
   "nbconvert_exporter": "python",
   "pygments_lexer": "ipython3",
   "version": "3.6.8"
  }
 },
 "nbformat": 4,
 "nbformat_minor": 4
}
