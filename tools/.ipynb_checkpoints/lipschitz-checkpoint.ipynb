{
 "cells": [
  {
   "cell_type": "code",
   "execution_count": 1,
   "metadata": {},
   "outputs": [],
   "source": [
    "import numpy as np\n",
    "from quantum import *\n",
    "from measurements import *"
   ]
  },
  {
   "cell_type": "code",
   "execution_count": 5,
   "metadata": {},
   "outputs": [],
   "source": [
    "def calculateLipschitz(targetCircuit, afterCircuit, measurements):\n",
    "    lip = 0.0\n",
    "    \n",
    "    t = getDensityMatrix(targetCircuit)\n",
    "    a = getDensityMatrix(afterCircuit)\n",
    "\n",
    "    for measurement in measurements:\n",
    "        # M => M @ E_after @ E_target\n",
    "        measurement = measurement @ a @ t\n",
    "        \n",
    "        D = Dag(measurement) @ measurement\n",
    "        D = D @ D\n",
    "        lip += abs(np.trace(D))\n",
    "        \n",
    "    return lip"
   ]
  },
  {
   "cell_type": "code",
   "execution_count": 5,
   "metadata": {},
   "outputs": [],
   "source": [
    "def calculateLipschitz2(targetCircuit, afterCircuit, measurements):\n",
    "    lip = 0.0\n",
    "    \n",
    "    t = getDensityMatrix(targetCircuit)\n",
    "    a = getDensityMatrix(afterCircuit)\n",
    "\n",
    "    for measurement in measurements:\n",
    "        # M => M @ E_after @ E_target\n",
    "        measurement = measurement @ a @ t\n",
    "        \n",
    "        D = Dag(measurement) @ measurement\n",
    "        D = D @ D\n",
    "        lip += np.trace(D)\n",
    "        \n",
    "    return lip"
   ]
  },
  {
   "cell_type": "code",
   "execution_count": 4,
   "metadata": {},
   "outputs": [],
   "source": [
    "from scipy.linalg import sqrtm\n",
    "\n",
    "def calculateLipschitz3(targetCircuit, afterCircuit, measurements):\n",
    "    lip = 0.0\n",
    "    \n",
    "    t = getDensityMatrix(targetCircuit)\n",
    "    a = getDensityMatrix(afterCircuit)\n",
    "\n",
    "    for measurement in measurements:\n",
    "        # M => M @ E_after @ E_target\n",
    "        measurement = measurement @ a @ t\n",
    "        \n",
    "        D = Dag(measurement) @ measurement\n",
    "        sD = sqrtm(Dag(D) @ D)\n",
    "        D = sD @ sD\n",
    "        lip += np.trace(D)\n",
    "        \n",
    "    return lip"
   ]
  },
  {
   "cell_type": "code",
   "execution_count": 2,
   "metadata": {},
   "outputs": [],
   "source": [
    "from scipy.linalg import sqrtm\n",
    "\n",
    "def trace_distance(rou, sigma):\n",
    "    A = rou - sigma\n",
    "    A_ = sqrtm( np.dot( A.conj().T, A ) )\n",
    "\n",
    "    return 0.5 * np.linalg.norm( np.trace(A_) )"
   ]
  },
  {
   "cell_type": "code",
   "execution_count": 3,
   "metadata": {},
   "outputs": [],
   "source": [
    "def L1_distance(P, Q):\n",
    "    res = 0\n",
    "    for (p, q) in zip(P, Q):\n",
    "        res += np.abs(p - q)\n",
    "    \n",
    "    return res"
   ]
  },
  {
   "cell_type": "code",
   "execution_count": 6,
   "metadata": {},
   "outputs": [],
   "source": [
    "def calculateExactLipschitz(inputCircuits, noiseInputCircuits, targetCircuit, afterCircuit, measurements):\n",
    "    res = 0.0\n",
    "    t = getDensityMatrix(targetCircuit)\n",
    "    p = getDensityMatrix(afterCircuit)\n",
    "    \n",
    "    for (circuit, noiseCircuit) in zip(inputCircuits, noiseInputCircuits):\n",
    "        rou = getDensityMatrix(circuit)\n",
    "        sigma = getDensityMatrix(noiseCircuit)\n",
    "        \n",
    "        d = trace_distance(rou, sigma)\n",
    "        \n",
    "        rou_ = Dag(p) @ Dag(t) @ rou @ t @ p\n",
    "        sigma_ = Dag(p) @ Dag(t) @ sigma @ t @ p\n",
    "        \n",
    "        P, Q = [], []\n",
    "        \n",
    "        for measurement in measurements:\n",
    "            m = measurement\n",
    "            probability_p = np.abs(np.trace(Dag(m) @ rou_ @ m))\n",
    "            probability_q = np.abs(np.trace(Dag(m) @ sigma_ @ m))\n",
    "            \n",
    "            P.append(probability_p)\n",
    "            Q.append(probability_q)\n",
    "            \n",
    "        D = L1_distance(P, Q)\n",
    "        \n",
    "        K = D / d\n",
    "        if K > res:\n",
    "            res = K\n",
    "    \n",
    "    return res"
   ]
  },
  {
   "cell_type": "code",
   "execution_count": 4,
   "metadata": {},
   "outputs": [],
   "source": [
    "def calculateExactLipschitz2(inputCircuits, noiseInputCircuits, targetCircuit, afterCircuit, measurements):\n",
    "    res = 0.0\n",
    "    t = getDensityMatrix(targetCircuit)\n",
    "    p = getDensityMatrix(afterCircuit)\n",
    "    \n",
    "    for i in range(len(noiseCircuits)):\n",
    "        for j in range(len(noiseCircuits)):\n",
    "            if i >= j: \n",
    "                continue\n",
    "            rou = getDensityMatrix(noiseCircuits[i])\n",
    "            sigma = getDensityMatrix(noiseCircuits[j])\n",
    "            d = trace_distance(rou, sigma)\n",
    "        \n",
    "            rou_ = Dag(p) @ Dag(t) @ rou @ t @ p\n",
    "            sigma_ = Dag(p) @ Dag(t) @ sigma @ t @ p\n",
    "\n",
    "            P, Q = [], []\n",
    "\n",
    "            for measurement in measurements:\n",
    "                m = measurement\n",
    "                probability_p = np.abs(np.trace(Dag(m) @ rou_ @ m))\n",
    "                probability_q = np.abs(np.trace(Dag(m) @ sigma_ @ m))\n",
    "\n",
    "                P.append(probability_p)\n",
    "                Q.append(probability_q)\n",
    "\n",
    "            D = L1_distance(P, Q)\n",
    "\n",
    "            K = D / d\n",
    "            if K > res:\n",
    "                res = K\n",
    "    return res"
   ]
  },
  {
   "cell_type": "code",
   "execution_count": null,
   "metadata": {},
   "outputs": [],
   "source": []
  }
 ],
 "metadata": {
  "kernelspec": {
   "display_name": "Python 3 (ipykernel)",
   "language": "python",
   "name": "python3"
  },
  "language_info": {
   "codemirror_mode": {
    "name": "ipython",
    "version": 3
   },
   "file_extension": ".py",
   "mimetype": "text/x-python",
   "name": "python",
   "nbconvert_exporter": "python",
   "pygments_lexer": "ipython3",
   "version": "3.8.13"
  }
 },
 "nbformat": 4,
 "nbformat_minor": 4
}
