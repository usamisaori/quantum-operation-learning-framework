{
 "cells": [
  {
   "cell_type": "code",
   "execution_count": 2,
   "metadata": {},
   "outputs": [],
   "source": [
    "import numpy as np"
   ]
  },
  {
   "cell_type": "code",
   "execution_count": 1,
   "metadata": {},
   "outputs": [],
   "source": [
    "from functools import reduce\n",
    "\n",
    "Dag = lambda matrix: matrix.conj().T\n",
    "Kron = lambda *matrices: reduce(np.kron, matrices)"
   ]
  },
  {
   "cell_type": "code",
   "execution_count": 5,
   "metadata": {},
   "outputs": [],
   "source": [
    "def getMeasurements(n):\n",
    "    psi_0 = np.array([1.0, 0.0])\n",
    "    psi_1 = np.array([0.0, 1.0])\n",
    "    I = np.eye(2)\n",
    "\n",
    "    M_0 = psi_0.reshape([2, 1]) @ psi_0.reshape([1, 2]).conj()\n",
    "    M_1 = psi_1.reshape([2, 1]) @ psi_1.reshape([1, 2]).conj()\n",
    "    \n",
    "    M = [M_0, M_1]\n",
    "    \n",
    "    measurements = []\n",
    "    for i in range(2 ** n):\n",
    "        binnum = bin(i)[2:].rjust(n, '0')\n",
    "\n",
    "        temp = []\n",
    "        indices = map(lambda x: int(x), list(binnum))\n",
    "        for index in indices:\n",
    "            temp.append(M[index])\n",
    "        \n",
    "        measurements.append( Kron(*temp) )\n",
    "    \n",
    "    return measurements"
   ]
  },
  {
   "cell_type": "code",
   "execution_count": 6,
   "metadata": {},
   "outputs": [],
   "source": [
    "def measure(M, state):\n",
    "    return Dag(state) @ Dag(M) @ M @ state"
   ]
  },
  {
   "cell_type": "code",
   "execution_count": null,
   "metadata": {},
   "outputs": [],
   "source": []
  }
 ],
 "metadata": {
  "kernelspec": {
   "display_name": "Python 3 (ipykernel)",
   "language": "python",
   "name": "python3"
  },
  "language_info": {
   "codemirror_mode": {
    "name": "ipython",
    "version": 3
   },
   "file_extension": ".py",
   "mimetype": "text/x-python",
   "name": "python",
   "nbconvert_exporter": "python",
   "pygments_lexer": "ipython3",
   "version": "3.9.13"
  }
 },
 "nbformat": 4,
 "nbformat_minor": 4
}
