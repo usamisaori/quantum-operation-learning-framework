{
 "cells": [
  {
   "cell_type": "code",
   "execution_count": 1,
   "metadata": {},
   "outputs": [],
   "source": [
    "import qiskit\n",
    "from qiskit import QuantumCircuit"
   ]
  },
  {
   "cell_type": "code",
   "execution_count": 5,
   "metadata": {},
   "outputs": [],
   "source": [
    "def getVQCCircuit(circuit, n, p, pos=None, *, vqc_layers_num = 3):\n",
    "    if pos == None:\n",
    "        pos = list(range(n))\n",
    "    \n",
    "    index = 0\n",
    "    for layer in range(vqc_layers_num ): # vqc_layers_num = 3\n",
    "        for i in range(n):\n",
    "            circuit.u2(p[index], p[index + 1], pos[i])\n",
    "            index += 2\n",
    "\n",
    "        if layer + 1 == vqc_layers_num: # vqc_layers_num = 3\n",
    "            break\n",
    "\n",
    "        for i in range(n):\n",
    "            if i + 1 != n:\n",
    "                circuit.cx(pos[i], pos[i + 1])\n",
    "            elif n > 2:\n",
    "                circuit.cx(pos[i], pos[0])\n",
    "    \n",
    "    return circuit"
   ]
  },
  {
   "cell_type": "code",
   "execution_count": null,
   "metadata": {},
   "outputs": [],
   "source": []
  }
 ],
 "metadata": {
  "kernelspec": {
   "display_name": "Python 3",
   "language": "python",
   "name": "python3"
  },
  "language_info": {
   "codemirror_mode": {
    "name": "ipython",
    "version": 3
   },
   "file_extension": ".py",
   "mimetype": "text/x-python",
   "name": "python",
   "nbconvert_exporter": "python",
   "pygments_lexer": "ipython3",
   "version": "3.6.8"
  }
 },
 "nbformat": 4,
 "nbformat_minor": 4
}
