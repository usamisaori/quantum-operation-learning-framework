{
 "cells": [
  {
   "cell_type": "code",
   "execution_count": 1,
   "metadata": {},
   "outputs": [],
   "source": [
    "import qiskit\n",
    "import numpy as np"
   ]
  },
  {
   "cell_type": "code",
   "execution_count": 2,
   "metadata": {},
   "outputs": [],
   "source": [
    "def generateCombs(n, combs, comb):\n",
    "    \"\"\"\n",
    "        n = 3 => 000 ... 333\n",
    "    \"\"\"\n",
    "    if len(comb) == n:\n",
    "        combs.append(comb)\n",
    "        \n",
    "        return\n",
    "\n",
    "    for i in range(4):\n",
    "        generateCombs(n, combs, comb + str(i))"
   ]
  },
  {
   "cell_type": "code",
   "execution_count": 3,
   "metadata": {},
   "outputs": [],
   "source": [
    "combs = dict()\n",
    "\n",
    "for i in range(2, 5):\n",
    "    combs_ = []\n",
    "    generateCombs(i, combs_, '')\n",
    "    combs[i] = combs_"
   ]
  },
  {
   "cell_type": "code",
   "execution_count": 5,
   "metadata": {},
   "outputs": [],
   "source": [
    "from collections import defaultdict\n",
    "\n",
    "from qiskit.quantum_info.operators import Operator, Pauli\n",
    "from qiskit.extensions import HamiltonianGate\n",
    "from qiskit.extensions import UnitaryGate\n",
    "\n",
    "matrixes = [\n",
    "    Pauli(label='I').to_matrix(),\n",
    "    Pauli(label='X').to_matrix(),\n",
    "    Pauli(label='Y').to_matrix(),\n",
    "    Pauli(label='Z').to_matrix(),\n",
    "]\n",
    "\n",
    "Hermitians = defaultdict(list)"
   ]
  },
  {
   "cell_type": "code",
   "execution_count": 6,
   "metadata": {},
   "outputs": [],
   "source": [
    "def buildU(n, p, time=1.0):\n",
    "    H = np.zeros((2 ** n, 2 ** n)).astype('complex64')\n",
    "    \n",
    "    # global Hermitians\n",
    "    if n not in Hermitians:\n",
    "        # global combs\n",
    "        for comb in combs[n]:\n",
    "            temp = np.kron(matrixes[int(comb[0])], matrixes[int(comb[1])])\n",
    "            \n",
    "            for i in range(2, n):\n",
    "                temp = np.kron(temp, matrixes[int(comb[i])])\n",
    "                \n",
    "            Hermitians[n].append(temp)\n",
    "            \n",
    "    for para, hermitian in zip(p, Hermitians[n]):\n",
    "        H += para * hermitian\n",
    "    \n",
    "    # time: simulation time\n",
    "    # return type => DensityMatrix (qiskit)\n",
    "    U = HamiltonianGate(H, time)\n",
    "    \n",
    "    return UnitaryGate(U.to_matrix(), label='U')"
   ]
  },
  {
   "cell_type": "code",
   "execution_count": null,
   "metadata": {},
   "outputs": [],
   "source": []
  }
 ],
 "metadata": {
  "kernelspec": {
   "display_name": "Python 3 (ipykernel)",
   "language": "python",
   "name": "python3"
  },
  "language_info": {
   "codemirror_mode": {
    "name": "ipython",
    "version": 3
   },
   "file_extension": ".py",
   "mimetype": "text/x-python",
   "name": "python",
   "nbconvert_exporter": "python",
   "pygments_lexer": "ipython3",
   "version": "3.8.13"
  }
 },
 "nbformat": 4,
 "nbformat_minor": 4
}
