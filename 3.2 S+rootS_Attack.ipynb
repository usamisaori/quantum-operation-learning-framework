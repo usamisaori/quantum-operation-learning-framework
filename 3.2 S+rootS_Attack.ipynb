{
 "cells": [
  {
   "cell_type": "code",
   "execution_count": 1,
   "metadata": {},
   "outputs": [],
   "source": [
    "import sys\n",
    "sys.path.append(\"./tools\")"
   ]
  },
  {
   "cell_type": "code",
   "execution_count": 2,
   "metadata": {},
   "outputs": [],
   "source": [
    "import numpy as np\n",
    "\n",
    "import qiskit\n",
    "from qiskit import QuantumCircuit\n",
    "from qiskit import execute, Aer\n",
    "\n",
    "simulator = Aer.get_backend('qasm_simulator')"
   ]
  },
  {
   "cell_type": "code",
   "execution_count": 3,
   "metadata": {},
   "outputs": [],
   "source": [
    "import warnings\n",
    "warnings.filterwarnings('ignore')"
   ]
  },
  {
   "cell_type": "code",
   "execution_count": 4,
   "metadata": {},
   "outputs": [],
   "source": [
    "palette = {\n",
    "    'unitary': '#FF9966', 'vqc': '#66CC99', \n",
    "}"
   ]
  },
  {
   "cell_type": "code",
   "execution_count": 5,
   "metadata": {},
   "outputs": [],
   "source": [
    "%matplotlib inline"
   ]
  },
  {
   "cell_type": "code",
   "execution_count": 6,
   "metadata": {},
   "outputs": [
    {
     "data": {
      "text/html": [
       "<style>\n",
       "table {float:left;}\n",
       "</style>\n"
      ],
      "text/plain": [
       "<IPython.core.display.HTML object>"
      ]
     },
     "metadata": {},
     "output_type": "display_data"
    }
   ],
   "source": [
    "%%html\n",
    "<style>\n",
    "table {float:left;}\n",
    "</style>"
   ]
  },
  {
   "cell_type": "markdown",
   "metadata": {},
   "source": [
    "## Tool Modules"
   ]
  },
  {
   "cell_type": "code",
   "execution_count": 7,
   "metadata": {},
   "outputs": [],
   "source": [
    "from quantum import *\n",
    "from measurements import *\n",
    "\n",
    "from unitary import *\n",
    "from VQC import *\n",
    "\n",
    "from dataSL import *\n",
    "from QOLearner import *\n",
    "\n",
    "from noise import *\n",
    "from lipschitz import *"
   ]
  },
  {
   "cell_type": "markdown",
   "metadata": {},
   "source": [
    "## Prepare Circuits"
   ]
  },
  {
   "cell_type": "markdown",
   "metadata": {},
   "source": [
    "### - Input Circuits"
   ]
  },
  {
   "cell_type": "code",
   "execution_count": 8,
   "metadata": {},
   "outputs": [],
   "source": [
    "def getOriginCircuit(bits, decode=False):\n",
    "    circuit = QuantumCircuit(2, 2)\n",
    "    \n",
    "    circuit.h(0)\n",
    "    circuit.cx(0, 1)\n",
    "    circuit.barrier(0)\n",
    "    circuit.barrier(1)\n",
    "    \n",
    "    # encode \n",
    "    if bits[0] == '1':\n",
    "        circuit.z(0)\n",
    "    if bits[1] == '1':\n",
    "        circuit.x(0)\n",
    "    \n",
    "    circuit.barrier()\n",
    "    \n",
    "    if decode:\n",
    "        circuit.cx(0, 1)\n",
    "        circuit.h(0)\n",
    "\n",
    "    return circuit"
   ]
  },
  {
   "cell_type": "code",
   "execution_count": 9,
   "metadata": {},
   "outputs": [],
   "source": [
    "# S+sx-attack at end of both\n",
    "def hack(circuit):\n",
    "    circuit.s(0)\n",
    "    circuit.sx(1)\n",
    "    \n",
    "    return circuit"
   ]
  },
  {
   "cell_type": "code",
   "execution_count": 10,
   "metadata": {},
   "outputs": [
    {
     "name": "stdout",
     "output_type": "stream",
     "text": [
      "4\n",
      "4\n"
     ]
    }
   ],
   "source": [
    "inputCircuits = []\n",
    "inputHackedCircuits = []\n",
    "classical_bits = [\"00\", \"10\", \"01\", \"11\"]\n",
    "\n",
    "for bits in classical_bits:\n",
    "    inputCircuits.append(getOriginCircuit(bits))\n",
    "    inputHackedCircuits.append(hack(getOriginCircuit(bits)))\n",
    "\n",
    "print(len(inputCircuits))\n",
    "print(len(inputHackedCircuits))"
   ]
  },
  {
   "cell_type": "code",
   "execution_count": 11,
   "metadata": {},
   "outputs": [
    {
     "data": {
      "image/png": "[encoded data removed]",
      "text/plain": [
       "<Figure size 447.652x204.68 with 1 Axes>"
      ]
     },
     "execution_count": 11,
     "metadata": {},
     "output_type": "execute_result"
    }
   ],
   "source": [
    "inputHackedCircuits[2].draw(output='mpl')"
   ]
  },
  {
   "cell_type": "markdown",
   "metadata": {},
   "source": [
    "### - Output Circuits"
   ]
  },
  {
   "cell_type": "code",
   "execution_count": 13,
   "metadata": {},
   "outputs": [],
   "source": [
    "def getOutputCircuit(n):\n",
    "    circuit = QuantumCircuit(2 * n, 2 * n)\n",
    "    \n",
    "    for i in range(n):\n",
    "        circuit.cx(i, i + n)\n",
    "        circuit.h(i)\n",
    "    \n",
    "    return circuit"
   ]
  },
  {
   "cell_type": "code",
   "execution_count": 14,
   "metadata": {},
   "outputs": [
    {
     "data": {
      "image/png": "[encoded data removed]",
      "text/plain": [
       "<Figure size 206.852x204.68 with 1 Axes>"
      ]
     },
     "execution_count": 14,
     "metadata": {},
     "output_type": "execute_result"
    }
   ],
   "source": [
    "outputCircuit = getOutputCircuit(1)\n",
    "outputCircuit.draw(output='mpl')"
   ]
  },
  {
   "cell_type": "markdown",
   "metadata": {},
   "source": [
    "## Train paramters"
   ]
  },
  {
   "cell_type": "code",
   "execution_count": 17,
   "metadata": {},
   "outputs": [],
   "source": [
    "import time\n",
    "import sys\n",
    "stdout = sys.stdout"
   ]
  },
  {
   "cell_type": "code",
   "execution_count": 18,
   "metadata": {},
   "outputs": [],
   "source": [
    "# experiments times\n",
    "MAX_TIMES = 10"
   ]
  },
  {
   "cell_type": "code",
   "execution_count": 19,
   "metadata": {},
   "outputs": [],
   "source": [
    "class QOLearner(QOLearnerBase):\n",
    "    def __init__(self, circuits, n, pos):\n",
    "        super().__init__(circuits, n, pos, {}) # empty expected\n",
    "        \n",
    "    def cost(self, circuit, hacked_circuit, index):\n",
    "        rou = getStatevector(circuit)\n",
    "        sigma = getStatevector(hacked_circuit)\n",
    "        loss = 0.0\n",
    "        \n",
    "        for i in range(len(self.measurements)):\n",
    "            p = measure(self.measurements[index], rou)\n",
    "            q = measure(self.measurements[index], sigma)\n",
    "            \n",
    "            if i != index:\n",
    "                loss += p ** 2 + q ** 2\n",
    "            else:\n",
    "                loss += (1 - p) ** 2 + (1 - q) ** 2\n",
    "                \n",
    "            \n",
    "        return loss / len(self.measurements) / 2\n",
    "    \n",
    "    def L(self, p):\n",
    "        loss = 0.0\n",
    "        \n",
    "        for (circuit_index, circuit) in enumerate(self.circuits[0]):\n",
    "            # input circuit\n",
    "            circuit = circuit.copy()\n",
    "            hacked_circuit = circuit.copy()\n",
    "            hacked_circuit = hack(hacked_circuit)\n",
    "            \n",
    "            # parametered part => unitary gate / VQC\n",
    "            if self.strategy == 'unitary':\n",
    "                U = buildU(self.n, p)\n",
    "                circuit.append(U, self.pos)\n",
    "                hacked_circuit.append(U, self.pos)\n",
    "            else:\n",
    "                index = 0\n",
    "                for layer in range(self.vqc_layers_num):\n",
    "                    for i in range(self.n):\n",
    "                        circuit.u2(p[index], p[index + 1], self.pos[i])\n",
    "                        hacked_circuit.u2(p[index], p[index + 1], self.pos[i])\n",
    "                        index += 2\n",
    "\n",
    "                    if layer + 1 == self.vqc_layers_num:\n",
    "                        break\n",
    "\n",
    "                    for i in range(self.n):\n",
    "                        if i + 1 != self.n:\n",
    "                            circuit.cx(self.pos[i], self.pos[i + 1])\n",
    "                            hacked_circuit.cx(self.pos[i], self.pos[i + 1])\n",
    "                        elif self.n > 2:\n",
    "                            circuit.cx(self.pos[i], self.pos[0])\n",
    "                            hacked_circuit.cx(self.pos[i], self.pos[0])\n",
    "\n",
    "            # remained circuit\n",
    "            circuit = circuit.compose(self.circuits[1])\n",
    "            hacked_circuit = hacked_circuit.compose(self.circuits[1])\n",
    "            \n",
    "            loss += self.cost(circuit, hacked_circuit, circuit_index)\n",
    "    \n",
    "        return loss"
   ]
  },
  {
   "cell_type": "markdown",
   "metadata": {},
   "source": [
    "## Strategy: unitary"
   ]
  },
  {
   "cell_type": "code",
   "execution_count": 20,
   "metadata": {},
   "outputs": [],
   "source": [
    "qol_unitary = QOLearner([inputCircuits, outputCircuit], 2, [0, 1])"
   ]
  },
  {
   "cell_type": "code",
   "execution_count": 21,
   "metadata": {},
   "outputs": [
    {
     "name": "stdout",
     "output_type": "stream",
     "text": [
      "Fin - No. 1\n",
      "Fin - No. 2\n",
      "Fin - No. 3\n",
      "Fin - No. 4\n",
      "Fin - No. 5\n",
      "Fin - No. 6\n",
      "Fin - No. 7\n",
      "Fin - No. 8\n",
      "Fin - No. 9\n",
      "Fin - No. 10\n"
     ]
    }
   ],
   "source": [
    "times_unitary = []\n",
    "\n",
    "for i in range(MAX_TIMES):\n",
    "    sys.stdout = None\n",
    "    start = time.clock()\n",
    "    qol_unitary.fit(epoch=1000, strategy='unitary', stepsize=0.005, early_stopping=True)\n",
    "    end = time.clock()\n",
    "    times_unitary.append(end - start)\n",
    "    sys.stdout = stdout\n",
    "    \n",
    "    print(f'Fin - No. {i + 1}')\n",
    "    \n",
    "    saveParams(qol_unitary.params[-1], 'ssxAttack', 'unitary', i + 1)\n",
    "    saveLosses(qol_unitary.losses, 'ssxAttack', 'unitary', i + 1)"
   ]
  },
  {
   "cell_type": "code",
   "execution_count": 22,
   "metadata": {},
   "outputs": [
    {
     "name": "stdout",
     "output_type": "stream",
     "text": [
      "Average times for unitary: 63.15426408\n"
     ]
    }
   ],
   "source": [
    "print(f'Average times for unitary: {np.mean(times_unitary)}')"
   ]
  },
  {
   "cell_type": "markdown",
   "metadata": {},
   "source": [
    "### - plot a loss example"
   ]
  },
  {
   "cell_type": "code",
   "execution_count": 23,
   "metadata": {},
   "outputs": [
    {
     "data": {
      "image/png": "[encoded data removed]",
      "text/plain": [
       "<Figure size 432x288 with 1 Axes>"
      ]
     },
     "metadata": {
      "needs_background": "light"
     },
     "output_type": "display_data"
    }
   ],
   "source": [
    "plot(loadLosses('ssxAttack', 'unitary', 3), color=palette['unitary'])"
   ]
  },
  {
   "cell_type": "code",
   "execution_count": 24,
   "metadata": {},
   "outputs": [],
   "source": [
    "losses_unitary= []\n",
    "max_length = 0\n",
    "for i in range(MAX_TIMES):\n",
    "    losses_unitary.append(loadLosses('ssxAttack', 'unitary', i + 1))\n",
    "    max_length = max(max_length, len(losses_unitary[-1]))\n",
    "\n",
    "for i in range(MAX_TIMES):\n",
    "    length = len(losses_unitary[i])\n",
    "    while length < max_length:\n",
    "        losses_unitary[i].append(losses_unitary[i][-1])\n",
    "        length += 1"
   ]
  },
  {
   "cell_type": "code",
   "execution_count": 25,
   "metadata": {
    "scrolled": true
   },
   "outputs": [
    {
     "data": {
      "image/png": "[encoded data removed]",
      "text/plain": [
       "<Figure size 432x288 with 1 Axes>"
      ]
     },
     "metadata": {
      "needs_background": "light"
     },
     "output_type": "display_data"
    }
   ],
   "source": [
    "plotLosses(losses_unitary, title='S+sx Attack unitary')"
   ]
  },
  {
   "cell_type": "markdown",
   "metadata": {},
   "source": [
    "### - average time and loss"
   ]
  },
  {
   "cell_type": "code",
   "execution_count": 38,
   "metadata": {},
   "outputs": [
    {
     "name": "stdout",
     "output_type": "stream",
     "text": [
      "Average loss for unitary: (0.7503384985756516+0j)\n"
     ]
    }
   ],
   "source": [
    "average_loss_unitary = 0.0\n",
    "for i in range(MAX_TIMES):\n",
    "    loss = loadLosses('ssxAttack', 'unitary', i + 1)[-1]\n",
    "    average_loss_unitary += loss\n",
    "print(f'Average loss for unitary: {average_loss_unitary / MAX_TIMES}')"
   ]
  },
  {
   "cell_type": "code",
   "execution_count": 39,
   "metadata": {},
   "outputs": [
    {
     "name": "stdout",
     "output_type": "stream",
     "text": [
      "Average epoch for unitary: 149.1\n"
     ]
    }
   ],
   "source": [
    "average_epoch_unitary = 0\n",
    "for i in range(MAX_TIMES):\n",
    "    loss = loadLosses('ssxAttack', 'unitary', i + 1)\n",
    "    average_epoch_unitary += len(loss)\n",
    "print(f'Average epoch for unitary: {average_epoch_unitary / MAX_TIMES}')"
   ]
  },
  {
   "cell_type": "code",
   "execution_count": 40,
   "metadata": {},
   "outputs": [],
   "source": [
    "average_time_unitary = 63.15426408"
   ]
  },
  {
   "cell_type": "code",
   "execution_count": 41,
   "metadata": {},
   "outputs": [
    {
     "name": "stdout",
     "output_type": "stream",
     "text": [
      "Average time per epoch for unitary: 0.042356984627766596\n"
     ]
    }
   ],
   "source": [
    "average_time_per_epoch_unitary = average_time_unitary / average_epoch_unitary\n",
    "print(f'Average time per epoch for unitary: {average_time_per_epoch_unitary}')"
   ]
  },
  {
   "cell_type": "markdown",
   "metadata": {},
   "source": [
    "|Strategy| parameterized unitary |\n",
    "|:----------------:|:-----:|\n",
    "| Average loss | 0.75034 |\n",
    "| Average time | 63.15 |\n",
    "| Average epochs | 149.1 |\n",
    "| Average time per epoch | 0.04236 |"
   ]
  },
  {
   "cell_type": "markdown",
   "metadata": {},
   "source": [
    "## Strategy: VQC"
   ]
  },
  {
   "cell_type": "code",
   "execution_count": 26,
   "metadata": {},
   "outputs": [],
   "source": [
    "qol_vqc = QOLearner([inputCircuits, outputCircuit], 2, [0, 1])"
   ]
  },
  {
   "cell_type": "code",
   "execution_count": 27,
   "metadata": {},
   "outputs": [
    {
     "name": "stdout",
     "output_type": "stream",
     "text": [
      "Fin - No. 1\n",
      "Fin - No. 2\n",
      "Fin - No. 3\n",
      "Fin - No. 4\n",
      "Fin - No. 5\n",
      "Fin - No. 6\n",
      "Fin - No. 7\n",
      "Fin - No. 8\n",
      "Fin - No. 9\n",
      "Fin - No. 10\n"
     ]
    }
   ],
   "source": [
    "times_vqc = []\n",
    "\n",
    "for i in range(MAX_TIMES):\n",
    "    sys.stdout = None\n",
    "    start = time.clock()\n",
    "    qol_vqc.fit(epoch=1000, strategy='vqc', stepsize=0.005, early_stopping=True)\n",
    "    end = time.clock()\n",
    "    times_vqc.append(end - start)\n",
    "    sys.stdout = stdout\n",
    "    print(f'Fin - No. {i + 1}')\n",
    "    \n",
    "    saveParams(qol_vqc.params[-1], 'ssxAttack', 'vqc', i + 1)\n",
    "    saveLosses(qol_vqc.losses, 'ssxAttack', 'vqc', i + 1)"
   ]
  },
  {
   "cell_type": "code",
   "execution_count": 28,
   "metadata": {},
   "outputs": [
    {
     "name": "stdout",
     "output_type": "stream",
     "text": [
      "Average times for vqc: 79.01109691\n"
     ]
    }
   ],
   "source": [
    "print(f'Average times for vqc: {np.mean(times_vqc)}')"
   ]
  },
  {
   "cell_type": "markdown",
   "metadata": {},
   "source": [
    "### - plot a loss example"
   ]
  },
  {
   "cell_type": "code",
   "execution_count": 29,
   "metadata": {},
   "outputs": [
    {
     "data": {
      "image/png": "[encoded data removed]",
      "text/plain": [
       "<Figure size 432x288 with 1 Axes>"
      ]
     },
     "metadata": {
      "needs_background": "light"
     },
     "output_type": "display_data"
    }
   ],
   "source": [
    "plot(loadLosses('ssxAttack', 'vqc', 1), color=palette['vqc'])"
   ]
  },
  {
   "cell_type": "code",
   "execution_count": 30,
   "metadata": {},
   "outputs": [],
   "source": [
    "losses_vqc= []\n",
    "max_length = 0\n",
    "for i in range(10):\n",
    "    losses_vqc.append(loadLosses('ssxAttack', 'vqc', i + 1))\n",
    "    max_length = max(max_length, len(losses_vqc[-1]))\n",
    "\n",
    "for i in range(10):\n",
    "    length = len(losses_vqc[i])\n",
    "    while length < max_length:\n",
    "        losses_vqc[i].append(losses_vqc[i][-1])\n",
    "        length += 1"
   ]
  },
  {
   "cell_type": "code",
   "execution_count": 31,
   "metadata": {},
   "outputs": [
    {
     "data": {
      "image/png": "[encoded data removed]",
      "text/plain": [
       "<Figure size 432x288 with 1 Axes>"
      ]
     },
     "metadata": {
      "needs_background": "light"
     },
     "output_type": "display_data"
    }
   ],
   "source": [
    "plotLosses(losses_vqc, color=\"#FF9966\", fill_color=\"#CCFF99\", title=\"S+sx Attack vqc\")"
   ]
  },
  {
   "cell_type": "markdown",
   "metadata": {},
   "source": [
    "### - average time and loss"
   ]
  },
  {
   "cell_type": "code",
   "execution_count": 44,
   "metadata": {},
   "outputs": [
    {
     "name": "stdout",
     "output_type": "stream",
     "text": [
      "Average loss for vqc: (0.7503677562287169+0j)\n"
     ]
    }
   ],
   "source": [
    "average_loss_vqc = 0.0\n",
    "for i in range(MAX_TIMES):\n",
    "    loss = loadLosses('ssxAttack', 'vqc', i + 1)[-1]\n",
    "    average_loss_vqc += loss\n",
    "print(f'Average loss for vqc: {average_loss_vqc / MAX_TIMES}')"
   ]
  },
  {
   "cell_type": "code",
   "execution_count": 45,
   "metadata": {},
   "outputs": [
    {
     "name": "stdout",
     "output_type": "stream",
     "text": [
      "Average epoch for vqc: 188.2\n"
     ]
    }
   ],
   "source": [
    "average_epoch_vqc = 0\n",
    "for i in range(MAX_TIMES):\n",
    "    loss = loadLosses('ssxAttack', 'vqc', i + 1)\n",
    "    average_epoch_vqc += len(loss)\n",
    "print(f'Average epoch for vqc: {average_epoch_vqc / MAX_TIMES}')"
   ]
  },
  {
   "cell_type": "code",
   "execution_count": 46,
   "metadata": {},
   "outputs": [],
   "source": [
    "average_time_vqc = 79.01109691"
   ]
  },
  {
   "cell_type": "code",
   "execution_count": 47,
   "metadata": {},
   "outputs": [
    {
     "name": "stdout",
     "output_type": "stream",
     "text": [
      "Average time per epoch for vqc: 0.04198251695536664\n"
     ]
    }
   ],
   "source": [
    "average_time_per_epoch_vqc = average_time_vqc / average_epoch_vqc\n",
    "print(f'Average time per epoch for vqc: {average_time_per_epoch_vqc}')"
   ]
  },
  {
   "cell_type": "markdown",
   "metadata": {},
   "source": [
    "| Strategy | VQC |\n",
    "|:----------------:|:-----:|\n",
    "| Average loss | 0.7504 |\n",
    "| Average time | 79.01 |\n",
    "| Average epochs | 188.2 |\n",
    "| Average time per epoch | 0.04198 |"
   ]
  },
  {
   "cell_type": "markdown",
   "metadata": {},
   "source": [
    "##  Summarize"
   ]
  },
  {
   "cell_type": "code",
   "execution_count": 48,
   "metadata": {},
   "outputs": [
    {
     "data": {
      "image/png": "[encoded data removed]",
      "text/plain": [
       "<Figure size 1080x432 with 2 Axes>"
      ]
     },
     "metadata": {
      "needs_background": "light"
     },
     "output_type": "display_data"
    }
   ],
   "source": [
    "plt.figure(figsize=(15, 6))\n",
    "plt.subplot(1,2,1)\n",
    "plotLosses(losses_unitary, title=\"S+sx Attack unitary\")\n",
    "plt.subplot(1,2,2)\n",
    "plotLosses(losses_vqc, color=\"#FF9966\", fill_color=\"#CCFF99\", title=\"S+sx Attack vqc\")"
   ]
  },
  {
   "cell_type": "markdown",
   "metadata": {},
   "source": [
    "## Compare Lipschitz"
   ]
  },
  {
   "cell_type": "code",
   "execution_count": 33,
   "metadata": {},
   "outputs": [],
   "source": [
    "measurements = getMeasurements(2)"
   ]
  },
  {
   "cell_type": "code",
   "execution_count": 34,
   "metadata": {},
   "outputs": [],
   "source": [
    "names = ['unitary', 'vqc']"
   ]
  },
  {
   "cell_type": "code",
   "execution_count": 35,
   "metadata": {},
   "outputs": [],
   "source": [
    "error_params = [\n",
    "    [0.1 , 'b'], [0.1 , 'p'], [0.1 , 'd'], \n",
    "    [0.01 , 'b'], [0.01 , 'p'], [0.01 , 'd'], \n",
    "    [0.001 , 'b'], [0.001 , 'p'], [0.001 , 'd'], \n",
    "    [0.0001 , 'b'], [0.0001 , 'p'], [0.0001 , 'd'], \n",
    "]"
   ]
  },
  {
   "cell_type": "markdown",
   "metadata": {},
   "source": [
    "### - exact Lipschitz"
   ]
  },
  {
   "cell_type": "code",
   "execution_count": 37,
   "metadata": {},
   "outputs": [
    {
     "name": "stdout",
     "output_type": "stream",
     "text": [
      " - p = 0.1, errorType: b\n",
      "Lipschitz for [unitary] is: 0.06810855105177781\n",
      "\n",
      "Lipschitz for [vqc] is: 0.01108131252600814\n",
      "\n",
      "smallest one: [vqc]\n",
      "-------------------------\n",
      "\n",
      " - p = 0.1, errorType: p\n",
      "Lipschitz for [unitary] is: 0.057813865215310255\n",
      "\n",
      "Lipschitz for [vqc] is: 0.015737850085071357\n",
      "\n",
      "smallest one: [vqc]\n",
      "-------------------------\n",
      "\n",
      " - p = 0.1, errorType: d\n",
      "Lipschitz for [unitary] is: 0.05930327241831272\n",
      "\n",
      "Lipschitz for [vqc] is: 0.013736627349252389\n",
      "\n",
      "smallest one: [vqc]\n",
      "-------------------------\n",
      "\n",
      " - p = 0.01, errorType: b\n",
      "Lipschitz for [unitary] is: 0.06810855102944659\n",
      "\n",
      "Lipschitz for [vqc] is: 0.01108131250638118\n",
      "\n",
      "smallest one: [vqc]\n",
      "-------------------------\n",
      "\n",
      " - p = 0.01, errorType: p\n",
      "Lipschitz for [unitary] is: 0.05781386519610152\n",
      "\n",
      "Lipschitz for [vqc] is: 0.0157378500923363\n",
      "\n",
      "smallest one: [vqc]\n",
      "-------------------------\n",
      "\n",
      " - p = 0.01, errorType: d\n",
      "Lipschitz for [unitary] is: 0.05926547664926483\n",
      "\n",
      "Lipschitz for [vqc] is: 0.01373885415364252\n",
      "\n",
      "smallest one: [vqc]\n",
      "-------------------------\n",
      "\n",
      " - p = 0.001, errorType: b\n",
      "Lipschitz for [unitary] is: 0.06810855104104656\n",
      "\n",
      "Lipschitz for [vqc] is: 0.011081312520831239\n",
      "\n",
      "smallest one: [vqc]\n",
      "-------------------------\n",
      "\n",
      " - p = 0.001, errorType: p\n",
      "Lipschitz for [unitary] is: 0.05781386524236952\n",
      "\n",
      "Lipschitz for [vqc] is: 0.015737850088167596\n",
      "\n",
      "smallest one: [vqc]\n",
      "-------------------------\n",
      "\n",
      " - p = 0.001, errorType: d\n",
      "Lipschitz for [unitary] is: 0.05926113477010285\n",
      "\n",
      "Lipschitz for [vqc] is: 0.013739149959769353\n",
      "\n",
      "smallest one: [vqc]\n",
      "-------------------------\n",
      "\n",
      " - p = 0.0001, errorType: b\n",
      "Lipschitz for [unitary] is: 0.06810855102462277\n",
      "\n",
      "Lipschitz for [vqc] is: 0.011081312520827447\n",
      "\n",
      "smallest one: [vqc]\n",
      "-------------------------\n",
      "\n",
      " - p = 0.0001, errorType: p\n",
      "Lipschitz for [unitary] is: 0.05781386525078638\n",
      "\n",
      "Lipschitz for [vqc] is: 0.01573785008910327\n",
      "\n",
      "smallest one: [vqc]\n",
      "-------------------------\n",
      "\n",
      " - p = 0.0001, errorType: d\n",
      "Lipschitz for [unitary] is: 0.05926069571400243\n",
      "\n",
      "Lipschitz for [vqc] is: 0.01373918018312823\n",
      "\n",
      "smallest one: [vqc]\n",
      "-------------------------\n",
      "\n",
      "{'unitary': 0, 'vqc': 12.0}\n"
     ]
    }
   ],
   "source": [
    "smallestDict = { k: 0 for k in names }\n",
    "\n",
    "for (p, errorType) in error_params:\n",
    "    print(f' - p = {p}, errorType: {errorType}')\n",
    "    \n",
    "    # simulate noise input circuits\n",
    "    noiseInputCircuits = getNoiseCircuits(inputCircuits + inputHackedCircuits, p, errorType)\n",
    "\n",
    "    smallest = 1.0; smallestKey = ''\n",
    "    for name in names: # unitary or vqc\n",
    "        lip = 0.0\n",
    "        \n",
    "        for i in range(MAX_TIMES):\n",
    "            # build targetCircuit\n",
    "            params = loadParams('ssxAttack', name, i + 1)\n",
    "            targetCircuit = QuantumCircuit(2, 2)\n",
    "            \n",
    "            if name == 'unitary':\n",
    "                targetCircuit.append(buildU(2, params), [0, 1])\n",
    "            else:\n",
    "                targetCircuit = getVQCCircuit(targetCircuit, 2, params, [0, 1])\n",
    "                \n",
    "            lip += calculateExactLipschitz(\n",
    "                inputCircuits + inputHackedCircuits, noiseInputCircuits, \n",
    "                targetCircuit, outputCircuit, measurements\n",
    "            )\n",
    "        lip = lip / MAX_TIMES\n",
    "        \n",
    "        if lip < smallest:\n",
    "            smallest = lip\n",
    "            smallestKey = name\n",
    "        \n",
    "        print(f'Lipschitz for [{name}] is: {lip}\\n')\n",
    "    \n",
    "    smallestDict[smallestKey]  += 1.0\n",
    "    print(f'smallest one: [{smallestKey}]')\n",
    "        \n",
    "    print('-' * 25)\n",
    "    print()\n",
    "\n",
    "print(smallestDict)"
   ]
  },
  {
   "cell_type": "markdown",
   "metadata": {},
   "source": [
    "### - approximate Lipschitz"
   ]
  },
  {
   "cell_type": "code",
   "execution_count": 36,
   "metadata": {},
   "outputs": [
    {
     "name": "stdout",
     "output_type": "stream",
     "text": [
      "Lipschitz for [unitary] is: 0.029017037551985037\n",
      "\n",
      "Lipschitz for [vqc] is: 0.0016940049974183558\n",
      "\n"
     ]
    }
   ],
   "source": [
    "for name in names: # unitary or vqc\n",
    "    lip = 0.0\n",
    "\n",
    "    for i in range(MAX_TIMES):\n",
    "        # build targetCircuit\n",
    "        params = loadParams('ssxAttack', name, i + 1)\n",
    "        targetCircuit = QuantumCircuit(2, 2)\n",
    "\n",
    "        if name == 'unitary':\n",
    "            targetCircuit.append(buildU(2, params), [0, 1])\n",
    "        else:\n",
    "            targetCircuit = getVQCCircuit(targetCircuit, 2, params, [0, 1])\n",
    "\n",
    "        lip += calculateLipschitz(targetCircuit, outputCircuit, measurements)\n",
    "                                  \n",
    "    lip = lip / MAX_TIMES\n",
    "\n",
    "    print(f'Lipschitz for [{name}] is: {lip}\\n')"
   ]
  },
  {
   "cell_type": "code",
   "execution_count": 15,
   "metadata": {},
   "outputs": [],
   "source": [
    "unitary_params = loadParams('ssxAttack', 'unitary', 1)\n",
    "vqc_params = loadParams('ssxAttack', 'vqc', 1)"
   ]
  },
  {
   "cell_type": "code",
   "execution_count": 16,
   "metadata": {},
   "outputs": [],
   "source": [
    "def statisticCount(counts):\n",
    "    dictionary = {'00': 0, '01': 0, '10': 0, '11': 0}\n",
    "\n",
    "    for key in counts:\n",
    "        # dict[key[:2]]\n",
    "        dictionary[ key[:2] ] += counts[key]\n",
    "\n",
    "    print(f'1: {dictionary}')"
   ]
  },
  {
   "cell_type": "code",
   "execution_count": 17,
   "metadata": {},
   "outputs": [],
   "source": [
    "def stat(circuit, shots=1000):\n",
    "    circuit = circuit.copy()\n",
    "    circuit.measure([0, 1], [1, 0])\n",
    "    \n",
    "    job = execute(circuit, simulator, shots = shots)\n",
    "    results = job.result()\n",
    "    counts = results.get_counts(circuit)\n",
    "    \n",
    "    print(counts)\n",
    "    print()\n",
    "    statisticCount(counts)"
   ]
  },
  {
   "cell_type": "code",
   "execution_count": 18,
   "metadata": {},
   "outputs": [],
   "source": [
    "def initVQCFullCircuit(bits, params, hack=False):\n",
    "    circuit = getOriginCircuit(bits, decode=False)\n",
    "    if hack:\n",
    "        circuit.s(0)\n",
    "        circuit.sx(1)\n",
    "        circuit.barrier()\n",
    "\n",
    "    circuit.u2(params[0],params[1], 0)\n",
    "    circuit.u2(params[2],params[3], 1)\n",
    "    circuit.cx(0, 1)\n",
    "    circuit.u2(params[4],params[5], 0)\n",
    "    circuit.u2(params[6],params[7], 1)\n",
    "    circuit.cx(0, 1)\n",
    "    circuit.u2(params[8],params[9], 0)\n",
    "    circuit.u2(params[10],params[11], 1)\n",
    "    \n",
    "    circuit.barrier()\n",
    "\n",
    "    circuit.cx(0, 1)\n",
    "    circuit.h(0)\n",
    "\n",
    "    return circuit"
   ]
  },
  {
   "cell_type": "code",
   "execution_count": 19,
   "metadata": {},
   "outputs": [],
   "source": [
    "bits = \"11\""
   ]
  },
  {
   "cell_type": "code",
   "execution_count": 24,
   "metadata": {},
   "outputs": [
    {
     "data": {
      "image/png": "[encoded data removed]",
      "text/plain": [
       "<Figure size 568.052x204.68 with 1 Axes>"
      ]
     },
     "execution_count": 24,
     "metadata": {},
     "output_type": "execute_result"
    }
   ],
   "source": [
    "origin_circuit = getOriginCircuit(bits, True)\n",
    "origin_circuit.draw(output='mpl')"
   ]
  },
  {
   "cell_type": "code",
   "execution_count": 21,
   "metadata": {},
   "outputs": [
    {
     "data": {
      "image/png": "[encoded data removed]",
      "text/plain": [
       "<Figure size 1109.85x204.68 with 1 Axes>"
      ]
     },
     "execution_count": 21,
     "metadata": {},
     "output_type": "execute_result"
    }
   ],
   "source": [
    "vqc_circuit = initVQCFullCircuit(bits, vqc_params)\n",
    "vqc_circuit.draw(output='mpl')"
   ]
  },
  {
   "cell_type": "code",
   "execution_count": 22,
   "metadata": {},
   "outputs": [
    {
     "data": {
      "image/png": "[encoded data removed]",
      "text/plain": [
       "<Figure size 1230.25x204.68 with 1 Axes>"
      ]
     },
     "execution_count": 22,
     "metadata": {},
     "output_type": "execute_result"
    }
   ],
   "source": [
    "vqc_circuit_hacked = initVQCFullCircuit(bits, vqc_params, True)\n",
    "vqc_circuit_hacked.draw(output='mpl')"
   ]
  },
  {
   "cell_type": "code",
   "execution_count": 26,
   "metadata": {},
   "outputs": [
    {
     "name": "stdout",
     "output_type": "stream",
     "text": [
      "Testing: 00\n",
      "\n",
      "{'00': 1000}\n",
      "\n",
      "1: {'00': 1000, '01': 0, '10': 0, '11': 0}\n",
      "\n",
      "------------------------------------------------------------\n",
      "\n",
      "{'10': 249, '11': 289, '01': 208, '00': 254}\n",
      "\n",
      "1: {'00': 254, '01': 208, '10': 249, '11': 289}\n",
      "\n",
      "------------------------------------------------------------\n",
      "\n",
      "{'10': 313, '01': 236, '00': 253, '11': 198}\n",
      "\n",
      "1: {'00': 253, '01': 236, '10': 313, '11': 198}\n",
      "\n",
      "\n",
      "\n",
      "Testing: 10\n",
      "\n",
      "{'10': 1000}\n",
      "\n",
      "1: {'00': 0, '01': 0, '10': 1000, '11': 0}\n",
      "\n",
      "------------------------------------------------------------\n",
      "\n",
      "{'10': 238, '00': 263, '11': 239, '01': 260}\n",
      "\n",
      "1: {'00': 263, '01': 260, '10': 238, '11': 239}\n",
      "\n",
      "------------------------------------------------------------\n",
      "\n",
      "{'11': 261, '00': 273, '01': 202, '10': 264}\n",
      "\n",
      "1: {'00': 273, '01': 202, '10': 264, '11': 261}\n",
      "\n",
      "\n",
      "\n",
      "Testing: 01\n",
      "\n",
      "{'01': 1000}\n",
      "\n",
      "1: {'00': 0, '01': 1000, '10': 0, '11': 0}\n",
      "\n",
      "------------------------------------------------------------\n",
      "\n",
      "{'00': 270, '11': 250, '01': 264, '10': 216}\n",
      "\n",
      "1: {'00': 270, '01': 264, '10': 216, '11': 250}\n",
      "\n",
      "------------------------------------------------------------\n",
      "\n",
      "{'00': 245, '11': 279, '10': 203, '01': 273}\n",
      "\n",
      "1: {'00': 245, '01': 273, '10': 203, '11': 279}\n",
      "\n",
      "\n",
      "\n",
      "Testing: 11\n",
      "\n",
      "{'11': 1000}\n",
      "\n",
      "1: {'00': 0, '01': 0, '10': 0, '11': 1000}\n",
      "\n",
      "------------------------------------------------------------\n",
      "\n",
      "{'00': 194, '01': 269, '10': 299, '11': 238}\n",
      "\n",
      "1: {'00': 194, '01': 269, '10': 299, '11': 238}\n",
      "\n",
      "------------------------------------------------------------\n",
      "\n",
      "{'11': 237, '10': 249, '01': 311, '00': 203}\n",
      "\n",
      "1: {'00': 203, '01': 311, '10': 249, '11': 237}\n",
      "\n",
      "\n",
      "\n"
     ]
    }
   ],
   "source": [
    "classical_bits = [\"00\", \"10\", \"01\", \"11\"]\n",
    "\n",
    "for bits in classical_bits:\n",
    "    print(f'Testing: {bits}\\n')\n",
    "    origin_circuit = getOriginCircuit(bits, True)\n",
    "    vqc_circuit = initVQCFullCircuit(bits, vqc_params)\n",
    "    vqc_circuit_hacked = initVQCFullCircuit(bits, vqc_params, True)\n",
    "\n",
    "    stat(origin_circuit, shots=1000)\n",
    "    print('\\n' + '-' * 60 + '\\n')\n",
    "    stat(vqc_circuit, shots=1000)\n",
    "    print('\\n' + '-' * 60 + '\\n')\n",
    "    stat(vqc_circuit_hacked, shots=1000)\n",
    "    print('\\n\\n')"
   ]
  },
  {
   "cell_type": "code",
   "execution_count": null,
   "metadata": {},
   "outputs": [],
   "source": []
  }
 ],
 "metadata": {
  "kernelspec": {
   "display_name": "Python 3 (ipykernel)",
   "language": "python",
   "name": "python3"
  },
  "language_info": {
   "codemirror_mode": {
    "name": "ipython",
    "version": 3
   },
   "file_extension": ".py",
   "mimetype": "text/x-python",
   "name": "python",
   "nbconvert_exporter": "python",
   "pygments_lexer": "ipython3",
   "version": "3.8.13"
  }
 },
 "nbformat": 4,
 "nbformat_minor": 4
}
