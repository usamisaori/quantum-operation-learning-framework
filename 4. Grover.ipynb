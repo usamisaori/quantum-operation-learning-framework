{
 "cells": [
  {
   "cell_type": "code",
   "execution_count": 1,
   "metadata": {},
   "outputs": [],
   "source": [
    "import sys\n",
    "sys.path.append(\"./tools\")"
   ]
  },
  {
   "cell_type": "code",
   "execution_count": 3,
   "metadata": {},
   "outputs": [],
   "source": [
    "import numpy as np\n",
    "\n",
    "import qiskit\n",
    "from qiskit import QuantumCircuit\n",
    "from qiskit import execute, Aer\n",
    "\n",
    "simulator = Aer.get_backend('qasm_simulator')"
   ]
  },
  {
   "cell_type": "code",
   "execution_count": 4,
   "metadata": {},
   "outputs": [],
   "source": [
    "import warnings\n",
    "warnings.filterwarnings('ignore')"
   ]
  },
  {
   "cell_type": "code",
   "execution_count": 5,
   "metadata": {},
   "outputs": [],
   "source": [
    "palette = {\n",
    "    'unitary': '#FF9966', 'vqc': '#66CC99', \n",
    "}"
   ]
  },
  {
   "cell_type": "code",
   "execution_count": 6,
   "metadata": {},
   "outputs": [],
   "source": [
    "%matplotlib inline"
   ]
  },
  {
   "cell_type": "code",
   "execution_count": 7,
   "metadata": {},
   "outputs": [
    {
     "data": {
      "text/html": [
       "<style>\n",
       "table {float:left;}\n",
       "</style>\n"
      ],
      "text/plain": [
       "<IPython.core.display.HTML object>"
      ]
     },
     "metadata": {},
     "output_type": "display_data"
    }
   ],
   "source": [
    "%%html\n",
    "<style>\n",
    "table {float:left;}\n",
    "</style>"
   ]
  },
  {
   "cell_type": "markdown",
   "metadata": {},
   "source": [
    "## Tool Modules"
   ]
  },
  {
   "cell_type": "code",
   "execution_count": 8,
   "metadata": {},
   "outputs": [],
   "source": [
    "from quantum import *\n",
    "from measurements import *\n",
    "\n",
    "from unitary import *\n",
    "from VQC import *\n",
    "\n",
    "from dataSL import *\n",
    "from QOLearner import *\n",
    "\n",
    "from noise import *\n",
    "from lipschitz import *"
   ]
  },
  {
   "cell_type": "markdown",
   "metadata": {},
   "source": [
    "## Prepare Circuits"
   ]
  },
  {
   "cell_type": "code",
   "execution_count": 9,
   "metadata": {},
   "outputs": [],
   "source": [
    "# https://www.quantum-inspire.com/kbase/grover-algorithm/"
   ]
  },
  {
   "cell_type": "markdown",
   "metadata": {},
   "source": [
    "### - Input Circuits"
   ]
  },
  {
   "cell_type": "code",
   "execution_count": 10,
   "metadata": {},
   "outputs": [],
   "source": [
    "def initCircuit(n=3):\n",
    "    circuit = QuantumCircuit(n, n)\n",
    "    \n",
    "    for i in range(n):\n",
    "        circuit.h(i)\n",
    "        circuit.barrier(i)\n",
    "    \n",
    "    return circuit"
   ]
  },
  {
   "cell_type": "code",
   "execution_count": 11,
   "metadata": {},
   "outputs": [
    {
     "data": {
      "image/png": "[encoded data removed]",
      "text/plain": [
       "<Figure size 206.997x264.88 with 1 Axes>"
      ]
     },
     "execution_count": 11,
     "metadata": {},
     "output_type": "execute_result"
    }
   ],
   "source": [
    "inputCircuit = initCircuit()\n",
    "inputCircuit.draw(output='mpl')"
   ]
  },
  {
   "cell_type": "markdown",
   "metadata": {},
   "source": [
    "### - Output Circuits"
   ]
  },
  {
   "cell_type": "code",
   "execution_count": 13,
   "metadata": {},
   "outputs": [],
   "source": [
    "def createDiffuser():\n",
    "    circuit = QuantumCircuit(3, 3)\n",
    "    \n",
    "    # diffuser\n",
    "    circuit.h(2)\n",
    "    circuit.h(0)\n",
    "    circuit.h(1)\n",
    "    circuit.x(2)\n",
    "    circuit.x(0)\n",
    "    circuit.x(1)\n",
    "    circuit.h(2)\n",
    "    circuit.ccx(0, 1, 2)\n",
    "    circuit.barrier(0)\n",
    "    circuit.barrier(1)\n",
    "    circuit.h(2)\n",
    "    circuit.x(2)\n",
    "    circuit.x(0)\n",
    "    circuit.x(1)\n",
    "    circuit.h(0)\n",
    "    circuit.h(1)\n",
    "    circuit.h(2)\n",
    "    \n",
    "    return circuit"
   ]
  },
  {
   "cell_type": "code",
   "execution_count": 14,
   "metadata": {},
   "outputs": [
    {
     "data": {
      "image/png": "[encoded data removed]",
      "text/plain": [
       "<Figure size 507.997x264.88 with 1 Axes>"
      ]
     },
     "execution_count": 14,
     "metadata": {},
     "output_type": "execute_result"
    }
   ],
   "source": [
    "diffuserCircuit = createDiffuser()\n",
    "diffuserCircuit.draw(output='mpl')"
   ]
  },
  {
   "cell_type": "markdown",
   "metadata": {},
   "source": [
    "## Train paramters"
   ]
  },
  {
   "cell_type": "code",
   "execution_count": 15,
   "metadata": {},
   "outputs": [],
   "source": [
    "import time\n",
    "import sys\n",
    "stdout = sys.stdout"
   ]
  },
  {
   "cell_type": "code",
   "execution_count": 16,
   "metadata": {},
   "outputs": [],
   "source": [
    "# experiments times\n",
    "MAX_TIMES = 10"
   ]
  },
  {
   "cell_type": "markdown",
   "metadata": {},
   "source": [
    "### - expecetd"
   ]
  },
  {
   "cell_type": "code",
   "execution_count": 17,
   "metadata": {},
   "outputs": [],
   "source": [
    "expected = {\"110\": 1}"
   ]
  },
  {
   "cell_type": "markdown",
   "metadata": {},
   "source": [
    "## Strategy: unitary"
   ]
  },
  {
   "cell_type": "code",
   "execution_count": 18,
   "metadata": {},
   "outputs": [],
   "source": [
    "qol_unitary = QOLearnerBase([inputCircuit, diffuserCircuit], 3, [0, 1, 2], expected)"
   ]
  },
  {
   "cell_type": "code",
   "execution_count": 20,
   "metadata": {},
   "outputs": [
    {
     "name": "stdout",
     "output_type": "stream",
     "text": [
      "Fin - No. 1\n",
      "Fin - No. 2\n",
      "Fin - No. 3\n",
      "Fin - No. 4\n",
      "Fin - No. 5\n",
      "Fin - No. 6\n",
      "Fin - No. 7\n",
      "Fin - No. 8\n",
      "Fin - No. 9\n",
      "Fin - No. 10\n"
     ]
    }
   ],
   "source": [
    "times_unitary = []\n",
    "\n",
    "for i in range(MAX_TIMES):\n",
    "    sys.stdout = None\n",
    "    start = time.clock()\n",
    "    qol_unitary.fit(epoch=1000, strategy='unitary', stepsize=0.003, early_stopping=True)\n",
    "    end = time.clock()\n",
    "    times_unitary.append(end - start)\n",
    "    sys.stdout = stdout\n",
    "    \n",
    "    print(f'Fin - No. {i + 1}')\n",
    "    \n",
    "    saveParams(qol_unitary.params[-1], 'grover', 'unitary', i + 1)\n",
    "    saveLosses(qol_unitary.losses, 'grover', 'unitary', i + 1)"
   ]
  },
  {
   "cell_type": "code",
   "execution_count": 21,
   "metadata": {},
   "outputs": [
    {
     "name": "stdout",
     "output_type": "stream",
     "text": [
      "Average times for unitary: 96.85178186\n"
     ]
    }
   ],
   "source": [
    "print(f'Average times for unitary: {np.mean(times_unitary)}')"
   ]
  },
  {
   "cell_type": "markdown",
   "metadata": {},
   "source": [
    "### - plot a loss example"
   ]
  },
  {
   "cell_type": "code",
   "execution_count": 22,
   "metadata": {},
   "outputs": [
    {
     "data": {
      "image/png": "[encoded data removed]",
      "text/plain": [
       "<Figure size 432x288 with 1 Axes>"
      ]
     },
     "metadata": {
      "needs_background": "light"
     },
     "output_type": "display_data"
    }
   ],
   "source": [
    "plot(loadLosses('grover', 'unitary', 3), color=palette['unitary'])"
   ]
  },
  {
   "cell_type": "code",
   "execution_count": 23,
   "metadata": {},
   "outputs": [],
   "source": [
    "losses_unitary= []\n",
    "max_length = 0\n",
    "for i in range(MAX_TIMES):\n",
    "    losses_unitary.append(loadLosses('grover', 'unitary', i + 1))\n",
    "    max_length = max(max_length, len(losses_unitary[-1]))\n",
    "\n",
    "for i in range(MAX_TIMES):\n",
    "    length = len(losses_unitary[i])\n",
    "    while length < max_length:\n",
    "        losses_unitary[i].append(losses_unitary[i][-1])\n",
    "        length += 1"
   ]
  },
  {
   "cell_type": "code",
   "execution_count": 24,
   "metadata": {
    "scrolled": true
   },
   "outputs": [
    {
     "data": {
      "image/png": "[encoded data removed]",
      "text/plain": [
       "<Figure size 432x288 with 1 Axes>"
      ]
     },
     "metadata": {
      "needs_background": "light"
     },
     "output_type": "display_data"
    }
   ],
   "source": [
    "plotLosses(losses_unitary, title='Grover-6 unitary')"
   ]
  },
  {
   "cell_type": "markdown",
   "metadata": {},
   "source": [
    "### - average time and loss"
   ]
  },
  {
   "cell_type": "code",
   "execution_count": 38,
   "metadata": {},
   "outputs": [
    {
     "name": "stdout",
     "output_type": "stream",
     "text": [
      "Average loss for unitary: (0.0006146420562817261+0j)\n"
     ]
    }
   ],
   "source": [
    "average_loss_unitary = 0.0\n",
    "for i in range(MAX_TIMES):\n",
    "    loss = loadLosses('grover', 'unitary', i + 1)[-1]\n",
    "    average_loss_unitary += loss\n",
    "print(f'Average loss for unitary: {average_loss_unitary / MAX_TIMES}')"
   ]
  },
  {
   "cell_type": "code",
   "execution_count": 39,
   "metadata": {},
   "outputs": [
    {
     "name": "stdout",
     "output_type": "stream",
     "text": [
      "Average epoch for unitary: 145.6\n"
     ]
    }
   ],
   "source": [
    "average_epoch_unitary = 0\n",
    "for i in range(MAX_TIMES):\n",
    "    loss = loadLosses('grover', 'unitary', i + 1)\n",
    "    average_epoch_unitary += len(loss)\n",
    "print(f'Average epoch for unitary: {average_epoch_unitary / MAX_TIMES}')"
   ]
  },
  {
   "cell_type": "code",
   "execution_count": 40,
   "metadata": {},
   "outputs": [],
   "source": [
    "average_time_unitary = 96.85178186"
   ]
  },
  {
   "cell_type": "code",
   "execution_count": 41,
   "metadata": {},
   "outputs": [
    {
     "name": "stdout",
     "output_type": "stream",
     "text": [
      "Average time per epoch for unitary: 0.0665190809478022\n"
     ]
    }
   ],
   "source": [
    "average_time_per_epoch_unitary = average_time_unitary / average_epoch_unitary\n",
    "print(f'Average time per epoch for unitary: {average_time_per_epoch_unitary}')"
   ]
  },
  {
   "cell_type": "markdown",
   "metadata": {},
   "source": [
    "|Strategy| parameterized unitary |\n",
    "|:----------------:|:-----:|\n",
    "| Average loss | 6.146e-4 |\n",
    "| Average time | 96.852 |\n",
    "| Average epochs | 145.6 |\n",
    "| Average time per epoch | 0.06652 |"
   ]
  },
  {
   "cell_type": "markdown",
   "metadata": {},
   "source": [
    "## Strategy: VQC"
   ]
  },
  {
   "cell_type": "code",
   "execution_count": 25,
   "metadata": {},
   "outputs": [],
   "source": [
    "qol_vqc = QOLearnerBase([inputCircuit, diffuserCircuit], 3, [0, 1, 2], expected)"
   ]
  },
  {
   "cell_type": "code",
   "execution_count": 26,
   "metadata": {},
   "outputs": [
    {
     "name": "stdout",
     "output_type": "stream",
     "text": [
      "Fin - No. 1\n",
      "Fin - No. 2\n",
      "Fin - No. 3\n",
      "Fin - No. 4\n",
      "Fin - No. 5\n",
      "Fin - No. 6\n",
      "Fin - No. 7\n",
      "Fin - No. 8\n",
      "Fin - No. 9\n",
      "Fin - No. 10\n"
     ]
    }
   ],
   "source": [
    "times_vqc = []\n",
    "\n",
    "for i in range(MAX_TIMES):\n",
    "    sys.stdout = None\n",
    "    start = time.clock()\n",
    "    qol_vqc.fit(epoch=1000, strategy='vqc', stepsize=0.003, early_stopping=True)\n",
    "    end = time.clock()\n",
    "    times_vqc.append(end - start)\n",
    "    sys.stdout = stdout\n",
    "    print(f'Fin - No. {i + 1}')\n",
    "    \n",
    "    saveParams(qol_vqc.params[-1], 'grover', 'vqc', i + 1)\n",
    "    saveLosses(qol_vqc.losses, 'grover', 'vqc', i + 1)"
   ]
  },
  {
   "cell_type": "code",
   "execution_count": 27,
   "metadata": {},
   "outputs": [
    {
     "name": "stdout",
     "output_type": "stream",
     "text": [
      "Average times for vqc: 92.09989926\n"
     ]
    }
   ],
   "source": [
    "print(f'Average times for vqc: {np.mean(times_vqc)}')"
   ]
  },
  {
   "cell_type": "markdown",
   "metadata": {},
   "source": [
    "### - plot a loss example"
   ]
  },
  {
   "cell_type": "code",
   "execution_count": 28,
   "metadata": {},
   "outputs": [
    {
     "data": {
      "image/png": "[encoded data removed]",
      "text/plain": [
       "<Figure size 432x288 with 1 Axes>"
      ]
     },
     "metadata": {
      "needs_background": "light"
     },
     "output_type": "display_data"
    }
   ],
   "source": [
    "plot(loadLosses('grover', 'vqc', 1), color=palette['vqc'])"
   ]
  },
  {
   "cell_type": "code",
   "execution_count": 29,
   "metadata": {},
   "outputs": [],
   "source": [
    "losses_vqc= []\n",
    "max_length = 0\n",
    "for i in range(10):\n",
    "    losses_vqc.append(loadLosses('grover', 'vqc', i + 1))\n",
    "    max_length = max(max_length, len(losses_vqc[-1]))\n",
    "\n",
    "for i in range(10):\n",
    "    length = len(losses_vqc[i])\n",
    "    while length < max_length:\n",
    "        losses_vqc[i].append(losses_vqc[i][-1])\n",
    "        length += 1"
   ]
  },
  {
   "cell_type": "code",
   "execution_count": 30,
   "metadata": {
    "scrolled": true
   },
   "outputs": [
    {
     "data": {
      "image/png": "[encoded data removed]",
      "text/plain": [
       "<Figure size 432x288 with 1 Axes>"
      ]
     },
     "metadata": {
      "needs_background": "light"
     },
     "output_type": "display_data"
    }
   ],
   "source": [
    "plotLosses(losses_vqc, color=\"#FF9966\", fill_color=\"#CCFF99\", title=\"grover-6 vqc\")"
   ]
  },
  {
   "cell_type": "markdown",
   "metadata": {},
   "source": [
    "### - average time and loss"
   ]
  },
  {
   "cell_type": "code",
   "execution_count": 45,
   "metadata": {},
   "outputs": [
    {
     "name": "stdout",
     "output_type": "stream",
     "text": [
      "Average loss for vqc: (0.0014480085252654012+0j)\n"
     ]
    }
   ],
   "source": [
    "average_loss_vqc = 0.0\n",
    "for i in range(MAX_TIMES):\n",
    "    loss = loadLosses('grover', 'vqc', i + 1)[-1]\n",
    "    average_loss_vqc += loss\n",
    "print(f'Average loss for vqc: {average_loss_vqc / MAX_TIMES}')"
   ]
  },
  {
   "cell_type": "code",
   "execution_count": 46,
   "metadata": {},
   "outputs": [
    {
     "name": "stdout",
     "output_type": "stream",
     "text": [
      "Average epoch for vqc: 448.9\n"
     ]
    }
   ],
   "source": [
    "average_epoch_vqc = 0\n",
    "for i in range(MAX_TIMES):\n",
    "    loss = loadLosses('grover', 'vqc', i + 1)\n",
    "    average_epoch_vqc += len(loss)\n",
    "print(f'Average epoch for vqc: {average_epoch_vqc / MAX_TIMES}')"
   ]
  },
  {
   "cell_type": "code",
   "execution_count": 47,
   "metadata": {},
   "outputs": [],
   "source": [
    "average_time_vqc = 92.09989926"
   ]
  },
  {
   "cell_type": "code",
   "execution_count": 48,
   "metadata": {},
   "outputs": [
    {
     "name": "stdout",
     "output_type": "stream",
     "text": [
      "Average time per epoch for vqc: 0.020516796449097794\n"
     ]
    }
   ],
   "source": [
    "average_time_per_epoch_vqc = average_time_vqc / average_epoch_vqc\n",
    "print(f'Average time per epoch for vqc: {average_time_per_epoch_vqc}')"
   ]
  },
  {
   "cell_type": "markdown",
   "metadata": {},
   "source": [
    "| Strategy | VQC |\n",
    "|:----------------:|:-----:|\n",
    "| Average loss | 1.448e-3 |\n",
    "| Average time | 92.10 |\n",
    "| Average epochs | 448.9 |\n",
    "| Average time per epoch | 0.02052 |"
   ]
  },
  {
   "cell_type": "markdown",
   "metadata": {},
   "source": [
    "##  Summarize"
   ]
  },
  {
   "cell_type": "code",
   "execution_count": 31,
   "metadata": {
    "scrolled": false
   },
   "outputs": [
    {
     "data": {
      "image/png": "[encoded data removed]",
      "text/plain": [
       "<Figure size 1080x432 with 2 Axes>"
      ]
     },
     "metadata": {
      "needs_background": "light"
     },
     "output_type": "display_data"
    }
   ],
   "source": [
    "plt.figure(figsize=(15, 6))\n",
    "plt.subplot(1,2,1)\n",
    "plotLosses(losses_unitary, title=\"grover-6 unitary\")\n",
    "plt.subplot(1,2,2)\n",
    "plotLosses(losses_vqc, color=\"#FF9966\", fill_color=\"#CCFF99\", title=\"grover-6 vqc\")"
   ]
  },
  {
   "cell_type": "markdown",
   "metadata": {},
   "source": [
    "|Strategy| parameterized unitary |VQC |\n",
    "|:----------------:|:-----:|:-----:|\n",
    "| Average loss | 6.146e-4 | 1.448e-3 |\n",
    "| Average time | 96.852 | 92.10 |\n",
    "| Average epochs | 145.6 |448.9 |\n",
    "| Average time per epoch | 0.06652 |0.02052 |"
   ]
  },
  {
   "cell_type": "markdown",
   "metadata": {},
   "source": [
    "## Compare Lipschitz"
   ]
  },
  {
   "cell_type": "code",
   "execution_count": 18,
   "metadata": {},
   "outputs": [],
   "source": [
    "measurements = getMeasurements(3)"
   ]
  },
  {
   "cell_type": "code",
   "execution_count": 19,
   "metadata": {},
   "outputs": [],
   "source": [
    "names = ['unitary', 'vqc']"
   ]
  },
  {
   "cell_type": "code",
   "execution_count": 20,
   "metadata": {},
   "outputs": [],
   "source": [
    "error_params = [\n",
    "    [0.0001 , 'b'], [0.0001 , 'p'], [0.0001 , 'd'], \n",
    "    [0.001 , 'b'], [0.001 , 'p'], [0.001 , 'd'], \n",
    "    [0.01 , 'b'], [0.01 , 'p'], [0.01 , 'd'],\n",
    "    [0.1 , 'b'], [0.1 , 'p'], [0.1 , 'd'], \n",
    "]"
   ]
  },
  {
   "cell_type": "markdown",
   "metadata": {},
   "source": [
    "### - exact Lipschitz"
   ]
  },
  {
   "cell_type": "code",
   "execution_count": 52,
   "metadata": {
    "scrolled": true
   },
   "outputs": [
    {
     "name": "stdout",
     "output_type": "stream",
     "text": [
      " - p = 0.0001, errorType: b\n",
      "Lipschitz for [unitary] is: 0.02804068356979437\n",
      "\n",
      "Lipschitz for [vqc] is: 0.024512998338303265\n",
      "\n",
      "smallest one: [vqc]\n",
      "-------------------------\n",
      "\n",
      " - p = 0.0001, errorType: p\n",
      "Lipschitz for [unitary] is: 0.011475409742266995\n",
      "\n",
      "Lipschitz for [vqc] is: 0.008553197418383476\n",
      "\n",
      "smallest one: [vqc]\n",
      "-------------------------\n",
      "\n",
      " - p = 0.0001, errorType: d\n",
      "Lipschitz for [unitary] is: 0.011475379256266386\n",
      "\n",
      "Lipschitz for [vqc] is: 0.00855353902680296\n",
      "\n",
      "smallest one: [vqc]\n",
      "-------------------------\n",
      "\n",
      " - p = 0.001, errorType: b\n",
      "Lipschitz for [unitary] is: 0.027684652787261156\n",
      "\n",
      "Lipschitz for [vqc] is: 0.021821300126301853\n",
      "\n",
      "smallest one: [vqc]\n",
      "-------------------------\n",
      "\n",
      " - p = 0.001, errorType: p\n",
      "Lipschitz for [unitary] is: 0.011475956946980897\n",
      "\n",
      "Lipschitz for [vqc] is: 0.008547045485729545\n",
      "\n",
      "smallest one: [vqc]\n",
      "-------------------------\n",
      "\n",
      " - p = 0.001, errorType: d\n",
      "Lipschitz for [unitary] is: 0.01147565322942903\n",
      "\n",
      "Lipschitz for [vqc] is: 0.00855046386646848\n",
      "\n",
      "smallest one: [vqc]\n",
      "-------------------------\n",
      "\n",
      " - p = 0.01, errorType: b\n",
      "Lipschitz for [unitary] is: 0.027184180571139215\n",
      "\n",
      "Lipschitz for [vqc] is: 0.022560760909575952\n",
      "\n",
      "smallest one: [vqc]\n",
      "-------------------------\n",
      "\n",
      " - p = 0.01, errorType: p\n",
      "Lipschitz for [unitary] is: 0.011481295795530349\n",
      "\n",
      "Lipschitz for [vqc] is: 0.008485236507331715\n",
      "\n",
      "smallest one: [vqc]\n",
      "-------------------------\n",
      "\n",
      " - p = 0.01, errorType: d\n",
      "Lipschitz for [unitary] is: 0.01147835987694338\n",
      "\n",
      "Lipschitz for [vqc] is: 0.008519639972310577\n",
      "\n",
      "smallest one: [vqc]\n",
      "-------------------------\n",
      "\n",
      " - p = 0.1, errorType: b\n",
      "Lipschitz for [unitary] is: 0.026955002872125582\n",
      "\n",
      "Lipschitz for [vqc] is: 0.02736534692058649\n",
      "\n",
      "smallest one: [unitary]\n",
      "-------------------------\n",
      "\n",
      " - p = 0.1, errorType: p\n",
      "Lipschitz for [unitary] is: 0.01151972447298685\n",
      "\n",
      "Lipschitz for [vqc] is: 0.008005267716719753\n",
      "\n",
      "smallest one: [vqc]\n",
      "-------------------------\n",
      "\n",
      " - p = 0.1, errorType: d\n",
      "Lipschitz for [unitary] is: 0.011501917966246538\n",
      "\n",
      "Lipschitz for [vqc] is: 0.008204061611372429\n",
      "\n",
      "smallest one: [vqc]\n",
      "-------------------------\n",
      "\n",
      "{'unitary': 1.0, 'vqc': 11.0}\n"
     ]
    }
   ],
   "source": [
    "smallestDict = { k: 0 for k in names }\n",
    "\n",
    "for (p, errorType) in error_params:\n",
    "    print(f' - p = {p}, errorType: {errorType}')\n",
    "    \n",
    "    # simulate noise input circuits\n",
    "    noiseInputCircuits = getNoiseCircuits([inputCircuit], p, errorType)\n",
    "\n",
    "    smallest = 1.0; smallestKey = ''\n",
    "    for name in names: # unitary or vqc\n",
    "        lip = 0.0\n",
    "        \n",
    "        for i in range(MAX_TIMES):\n",
    "            # build targetCircuit\n",
    "            params = loadParams('grover', name, i + 1)\n",
    "            targetCircuit = QuantumCircuit(3, 3)\n",
    "            \n",
    "            if name == 'unitary':\n",
    "                targetCircuit.append(buildU(3, params), [0, 1, 2])\n",
    "            else:\n",
    "                targetCircuit = getVQCCircuit(targetCircuit, 3, params, [0, 1, 2])\n",
    "                \n",
    "            lip += calculateExactLipschitz(\n",
    "                [inputCircuit], noiseInputCircuits, \n",
    "                targetCircuit, diffuserCircuit, measurements\n",
    "            )\n",
    "        lip = lip / MAX_TIMES\n",
    "        \n",
    "        if lip < smallest:\n",
    "            smallest = lip\n",
    "            smallestKey = name\n",
    "        \n",
    "        print(f'Lipschitz for [{name}] is: {lip}\\n')\n",
    "    \n",
    "    smallestDict[smallestKey]  += 1.0\n",
    "    print(f'smallest one: [{smallestKey}]')\n",
    "        \n",
    "    print('-' * 25)\n",
    "    print()\n",
    "\n",
    "print(smallestDict)"
   ]
  },
  {
   "cell_type": "markdown",
   "metadata": {},
   "source": [
    "<table>\n",
    "    <tr>\n",
    "        <th style=\"text-align: center\" rowspan=\"2\">Strategy</th><th style=\"text-align: center\" rowspan=\"2\">Error Type</th><th style=\"text-align: center\" colspan=\"4\">Probability</th>\n",
    "    </tr>\n",
    "    <tr>\n",
    "                                                 <td style=\"text-align: center\">0.0001</td><td style=\"text-align: center\">0.001</td><td style=\"text-align: center\">0.01</td><td style=\"text-align: center\">0.1</td>\n",
    "    </tr>\n",
    "    <tr>\n",
    "        <td style=\"text-align: center\" rowspan=\"3\">PUG</td><td style=\"text-align: center\">bit flip</td><td>0.02804</td><td>0.02768</td><td> 0.02718</td><td>0.02696</td>\n",
    "    </tr>\n",
    "    <tr>\n",
    "        <td style=\"text-align: center\">phase flip</td><td>0.01148</td><td>0.01148</td><td>0.01149</td><td>0.01152</td>\n",
    "    </tr>\n",
    "    <tr>\n",
    "        <td style=\"text-align: center\">depolarizing</td><td>0.01147</td><td>0.01147</td><td>0.01148</td><td>0.01150</td>\n",
    "    </tr>\n",
    "    <tr>\n",
    "        <td style=\"text-align: center\" rowspan=\"3\">VQC</td><td style=\"text-align: center\">bit flip</td><td> 0.02451</td><td>0.02182</td><td>0.02256</td><td>0.02696</td>\n",
    "    </tr>\n",
    "    <tr>\n",
    "        <td style=\"text-align: center\">phase flip</td><td>8.553e-3</td><td>8.547e-3</td><td>8.485e-3</td><td>8.005e-3</td>\n",
    "    </tr>\n",
    "    <tr>\n",
    "        <td style=\"text-align: center\">depolarizing</td><td>8.554e-3</td><td>8.550e-3</td><td>8.520e-3</td><td>8.204e-3</td>\n",
    "    </tr>\n",
    "    \n",
    "</table>"
   ]
  },
  {
   "cell_type": "markdown",
   "metadata": {},
   "source": [
    "### - approximate Lipschitz"
   ]
  },
  {
   "cell_type": "code",
   "execution_count": 54,
   "metadata": {},
   "outputs": [
    {
     "name": "stdout",
     "output_type": "stream",
     "text": [
      "Lipschitz for [unitary] is: 0.012928920738024235(best params: No.4(5.686857679316836e-05))\n",
      "\n",
      "Lipschitz for [vqc] is: 0.0069025716681616915(best params: No.5(6.946250792844498e-06))\n",
      "\n"
     ]
    }
   ],
   "source": [
    "for name in names: # unitary or vqc\n",
    "    lip = 0.0\n",
    "    best_index = -1; best_lip = 1\n",
    "\n",
    "    for i in range(MAX_TIMES):\n",
    "        # build targetCircuit\n",
    "        params = loadParams('grover', name, i + 1)\n",
    "        targetCircuit = QuantumCircuit(3, 3)\n",
    "\n",
    "        if name == 'unitary':\n",
    "            targetCircuit.append(buildU(3, params), [0, 1, 2])\n",
    "        else:\n",
    "            targetCircuit = getVQCCircuit(targetCircuit, 3, params, [0, 1, 2])\n",
    "\n",
    "        score = calculateLipschitz(targetCircuit, diffuserCircuit, measurements)\n",
    "        \n",
    "        if score < best_lip:\n",
    "            best_lip = score\n",
    "            best_index = i + 1\n",
    "        \n",
    "        lip += score\n",
    "        \n",
    "    lip = lip / MAX_TIMES\n",
    "\n",
    "    print(f'Lipschitz for [{name}] is: {lip}(best params: No.{best_index}({best_lip}))\\n')"
   ]
  },
  {
   "cell_type": "code",
   "execution_count": null,
   "metadata": {},
   "outputs": [],
   "source": []
  }
 ],
 "metadata": {
  "kernelspec": {
   "display_name": "Python 3 (ipykernel)",
   "language": "python",
   "name": "python3"
  },
  "language_info": {
   "codemirror_mode": {
    "name": "ipython",
    "version": 3
   },
   "file_extension": ".py",
   "mimetype": "text/x-python",
   "name": "python",
   "nbconvert_exporter": "python",
   "pygments_lexer": "ipython3",
   "version": "3.8.13"
  }
 },
 "nbformat": 4,
 "nbformat_minor": 4
}
