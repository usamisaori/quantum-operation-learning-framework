{
 "cells": [
  {
   "cell_type": "code",
   "execution_count": 1,
   "metadata": {},
   "outputs": [],
   "source": [
    "import sys\n",
    "sys.path.append(\"./tools\")"
   ]
  },
  {
   "cell_type": "code",
   "execution_count": 2,
   "metadata": {},
   "outputs": [],
   "source": [
    "import numpy as np\n",
    "\n",
    "import qiskit\n",
    "from qiskit import QuantumCircuit\n",
    "from qiskit import execute, Aer\n",
    "\n",
    "simulator = Aer.get_backend('qasm_simulator')"
   ]
  },
  {
   "cell_type": "code",
   "execution_count": 3,
   "metadata": {},
   "outputs": [],
   "source": [
    "import warnings\n",
    "warnings.filterwarnings('ignore')"
   ]
  },
  {
   "cell_type": "code",
   "execution_count": 4,
   "metadata": {},
   "outputs": [],
   "source": [
    "palette = {\n",
    "    'unitary': '#FF9966', 'vqc': '#66CC99', \n",
    "}"
   ]
  },
  {
   "cell_type": "code",
   "execution_count": 5,
   "metadata": {},
   "outputs": [],
   "source": [
    "%matplotlib inline"
   ]
  },
  {
   "cell_type": "code",
   "execution_count": 126,
   "metadata": {},
   "outputs": [
    {
     "data": {
      "text/html": [
       "<style>\n",
       "table {float:left;}\n",
       "</style>\n"
      ],
      "text/plain": [
       "<IPython.core.display.HTML object>"
      ]
     },
     "metadata": {},
     "output_type": "display_data"
    }
   ],
   "source": [
    "%%html\n",
    "<style>\n",
    "table {float:left;}\n",
    "</style>"
   ]
  },
  {
   "cell_type": "markdown",
   "metadata": {},
   "source": [
    "## Tool Modules"
   ]
  },
  {
   "cell_type": "code",
   "execution_count": 6,
   "metadata": {},
   "outputs": [],
   "source": [
    "from quantum import *\n",
    "from measurements import *\n",
    "\n",
    "from unitary import *\n",
    "from VQC import *\n",
    "\n",
    "from dataSL import *\n",
    "from QOLearner import *\n",
    "\n",
    "from noise import *\n",
    "from lipschitz import *"
   ]
  },
  {
   "cell_type": "markdown",
   "metadata": {},
   "source": [
    "## Prepare Circuits"
   ]
  },
  {
   "cell_type": "markdown",
   "metadata": {},
   "source": [
    "### - Input Circuits"
   ]
  },
  {
   "cell_type": "code",
   "execution_count": 7,
   "metadata": {},
   "outputs": [],
   "source": [
    "n = 2"
   ]
  },
  {
   "cell_type": "code",
   "execution_count": 9,
   "metadata": {},
   "outputs": [],
   "source": [
    "def getInputCircuit(n):\n",
    "    circuit = QuantumCircuit(2 * n, 2 * n)\n",
    "    \n",
    "    for i in range(n):\n",
    "        circuit.h(i)\n",
    "        circuit.cx(i, n + i)\n",
    "    circuit.barrier()\n",
    "    \n",
    "    return circuit"
   ]
  },
  {
   "cell_type": "code",
   "execution_count": 10,
   "metadata": {},
   "outputs": [
    {
     "data": {
      "image/png": "[encoded data removed]",
      "text/plain": [
       "<Figure size 327.397x325.08 with 1 Axes>"
      ]
     },
     "execution_count": 10,
     "metadata": {},
     "output_type": "execute_result"
    }
   ],
   "source": [
    "inputCircuit = getInputCircuit(n)\n",
    "inputCircuit.draw(output='mpl')"
   ]
  },
  {
   "cell_type": "markdown",
   "metadata": {},
   "source": [
    "### - Output Circuits"
   ]
  },
  {
   "cell_type": "code",
   "execution_count": 11,
   "metadata": {},
   "outputs": [],
   "source": [
    "# empty output citcuit\n",
    "afterCircuit = QuantumCircuit(2 * n, 2 * n)"
   ]
  },
  {
   "cell_type": "markdown",
   "metadata": {},
   "source": [
    "## Train paramters"
   ]
  },
  {
   "cell_type": "code",
   "execution_count": 12,
   "metadata": {},
   "outputs": [],
   "source": [
    "import time\n",
    "import sys\n",
    "stdout = sys.stdout"
   ]
  },
  {
   "cell_type": "code",
   "execution_count": 13,
   "metadata": {},
   "outputs": [],
   "source": [
    "# experiments times\n",
    "MAX_TIMES = 10"
   ]
  },
  {
   "cell_type": "markdown",
   "metadata": {},
   "source": [
    "### - expecetd"
   ]
  },
  {
   "cell_type": "code",
   "execution_count": 14,
   "metadata": {},
   "outputs": [],
   "source": [
    "# expected = {'0000':1, '0101':1, '0010':1, '0111':1, '1000':1, '1101':1, '1010':1, '1111':1}\n",
    "expected = {'0000':1, '0011':1, '0101':1, '0110':1, '1000':1, '1011':1, '1101':1, '1110':1}"
   ]
  },
  {
   "cell_type": "markdown",
   "metadata": {},
   "source": [
    "## Strategy: unitary"
   ]
  },
  {
   "cell_type": "code",
   "execution_count": 15,
   "metadata": {},
   "outputs": [],
   "source": [
    "qol_unitary = QOLearnerBase([inputCircuit, afterCircuit], 2, [2, 3], expected)"
   ]
  },
  {
   "cell_type": "code",
   "execution_count": null,
   "metadata": {},
   "outputs": [
    {
     "name": "stdout",
     "output_type": "stream",
     "text": [
      "Fin - No. 1\n",
      "Fin - No. 2\n",
      "Fin - No. 3\n",
      "Fin - No. 4\n",
      "Fin - No. 5\n",
      "Fin - No. 6\n",
      "Fin - No. 7\n",
      "Fin - No. 8\n"
     ]
    }
   ],
   "source": [
    "times_unitary = []\n",
    "\n",
    "for i in range(MAX_TIMES):\n",
    "    sys.stdout = None\n",
    "    start = time.clock()\n",
    "    qol_unitary.fit(epoch=1000, strategy='unitary', stepsize=0.0004, early_stopping=True)\n",
    "    end = time.clock()\n",
    "    times_unitary.append(end - start)\n",
    "    sys.stdout = stdout\n",
    "    print(f'Fin - No. {i + 1}')\n",
    "    \n",
    "    saveParams(qol_unitary.params[-1], 'sqt', 'unitary', i + 1)\n",
    "    saveLosses(qol_unitary.losses, 'sqt', 'unitary', i + 1)"
   ]
  },
  {
   "cell_type": "code",
   "execution_count": 106,
   "metadata": {},
   "outputs": [
    {
     "name": "stdout",
     "output_type": "stream",
     "text": [
      "Average times for unitary: 4.63623306999998\n"
     ]
    }
   ],
   "source": [
    "print(f'Average times for unitary: {np.mean(times_unitary)}')"
   ]
  },
  {
   "cell_type": "markdown",
   "metadata": {},
   "source": [
    "### - plot a loss example"
   ]
  },
  {
   "cell_type": "code",
   "execution_count": 107,
   "metadata": {
    "scrolled": true
   },
   "outputs": [
    {
     "data": {
      "image/png": "[encoded data removed]",
      "text/plain": [
       "<Figure size 432x288 with 1 Axes>"
      ]
     },
     "metadata": {
      "needs_background": "light"
     },
     "output_type": "display_data"
    }
   ],
   "source": [
    "plot(loadLosses('sqt', 'unitary', 7), color=palette['unitary'])"
   ]
  },
  {
   "cell_type": "code",
   "execution_count": 108,
   "metadata": {},
   "outputs": [],
   "source": [
    "losses_unitary= []\n",
    "max_length = 0\n",
    "for i in range(MAX_TIMES):\n",
    "    losses_unitary.append(loadLosses('sqt', 'unitary', i + 1))\n",
    "    max_length = max(max_length, len(losses_unitary[-1]))\n",
    "\n",
    "for i in range(MAX_TIMES):\n",
    "    length = len(losses_unitary[i])\n",
    "    while length < max_length:\n",
    "        losses_unitary[i].append(losses_unitary[i][-1])\n",
    "        length += 1"
   ]
  },
  {
   "cell_type": "code",
   "execution_count": 109,
   "metadata": {
    "scrolled": true
   },
   "outputs": [
    {
     "data": {
      "image/png": "[encoded data removed]",
      "text/plain": [
       "<Figure size 432x288 with 1 Axes>"
      ]
     },
     "metadata": {
      "needs_background": "light"
     },
     "output_type": "display_data"
    }
   ],
   "source": [
    "plotLosses(losses_unitary, title='SQT-2 unitary')"
   ]
  },
  {
   "cell_type": "markdown",
   "metadata": {},
   "source": [
    "### - average time and loss"
   ]
  },
  {
   "cell_type": "code",
   "execution_count": 127,
   "metadata": {},
   "outputs": [
    {
     "name": "stdout",
     "output_type": "stream",
     "text": [
      "Average loss for unitary: (0.0003801775134209776+0j)\n"
     ]
    }
   ],
   "source": [
    "average_loss_unitary = 0.0\n",
    "for i in range(MAX_TIMES):\n",
    "    loss = loadLosses('sqt', 'unitary', i + 1)[-1]\n",
    "    average_loss_unitary += loss\n",
    "print(f'Average loss for unitary: {average_loss_unitary / MAX_TIMES}')"
   ]
  },
  {
   "cell_type": "code",
   "execution_count": 128,
   "metadata": {},
   "outputs": [
    {
     "name": "stdout",
     "output_type": "stream",
     "text": [
      "Average epoch for unitary: 74.0\n"
     ]
    }
   ],
   "source": [
    "average_epoch_unitary = 0\n",
    "for i in range(MAX_TIMES):\n",
    "    loss = loadLosses('sqt', 'unitary', i + 1)\n",
    "    average_epoch_unitary += len(loss)\n",
    "print(f'Average epoch for unitary: {average_epoch_unitary / MAX_TIMES}')"
   ]
  },
  {
   "cell_type": "code",
   "execution_count": 129,
   "metadata": {},
   "outputs": [],
   "source": [
    "average_time_unitary = 4.63623306999998"
   ]
  },
  {
   "cell_type": "code",
   "execution_count": 130,
   "metadata": {},
   "outputs": [
    {
     "name": "stdout",
     "output_type": "stream",
     "text": [
      "Average time per epoch for unitary: 0.006265179824324297\n"
     ]
    }
   ],
   "source": [
    "average_time_per_epoch_unitary = average_time_unitary / average_epoch_unitary\n",
    "print(f'Average time per epoch for unitary: {average_time_per_epoch_unitary}')"
   ]
  },
  {
   "cell_type": "markdown",
   "metadata": {},
   "source": [
    "|Strategy| parameterized unitary |\n",
    "|:----------------:|:-----:|\n",
    "| Average loss | 3.8012e-4 |\n",
    "| Average time | 4.636 |\n",
    "| Average epochs | 74.0 |\n",
    "| Average time per epoch | 0.00627 |"
   ]
  },
  {
   "cell_type": "markdown",
   "metadata": {},
   "source": [
    "## Strategy: VQC"
   ]
  },
  {
   "cell_type": "code",
   "execution_count": 110,
   "metadata": {},
   "outputs": [],
   "source": [
    "qol_vqc = QOLearnerBase([inputCircuit, afterCircuit], 2, [2, 3], expected)"
   ]
  },
  {
   "cell_type": "code",
   "execution_count": 119,
   "metadata": {
    "scrolled": true
   },
   "outputs": [
    {
     "name": "stdout",
     "output_type": "stream",
     "text": [
      "Fin - No. 1\n",
      "Fin - No. 2\n",
      "Fin - No. 3\n",
      "Fin - No. 4\n",
      "Fin - No. 5\n",
      "Fin - No. 6\n",
      "Fin - No. 7\n",
      "Fin - No. 8\n",
      "Fin - No. 9\n",
      "Fin - No. 10\n"
     ]
    }
   ],
   "source": [
    "times_vqc = []\n",
    "\n",
    "for i in range(MAX_TIMES):\n",
    "    sys.stdout = None\n",
    "    start = time.clock()\n",
    "    qol_vqc.fit(epoch=1000, strategy='vqc', stepsize=0.004, early_stopping=True)\n",
    "    end = time.clock()\n",
    "    times_vqc.append(end - start)\n",
    "    sys.stdout = stdout\n",
    "    print(f'Fin - No. {i + 1}')\n",
    "    \n",
    "    saveParams(qol_vqc.params[-1], 'sqt', 'vqc', i + 1)\n",
    "    saveLosses(qol_vqc.losses, 'sqt', 'vqc', i + 1)"
   ]
  },
  {
   "cell_type": "code",
   "execution_count": 120,
   "metadata": {},
   "outputs": [
    {
     "name": "stdout",
     "output_type": "stream",
     "text": [
      "Average times for vqc: 5.012995950000186\n"
     ]
    }
   ],
   "source": [
    "print(f'Average times for vqc: {np.mean(times_vqc)}')"
   ]
  },
  {
   "cell_type": "markdown",
   "metadata": {},
   "source": [
    "### - plot a loss example"
   ]
  },
  {
   "cell_type": "code",
   "execution_count": 121,
   "metadata": {
    "scrolled": true
   },
   "outputs": [
    {
     "data": {
      "image/png": "[encoded data removed]",
      "text/plain": [
       "<Figure size 432x288 with 1 Axes>"
      ]
     },
     "metadata": {
      "needs_background": "light"
     },
     "output_type": "display_data"
    }
   ],
   "source": [
    "plot(loadLosses('sqt', 'vqc', 1), color=palette['vqc'])"
   ]
  },
  {
   "cell_type": "code",
   "execution_count": 122,
   "metadata": {},
   "outputs": [],
   "source": [
    "losses_vqc= []\n",
    "max_length = 0\n",
    "for i in range(10):\n",
    "    losses_vqc.append(loadLosses('sqt', 'vqc', i + 1))\n",
    "    max_length = max(max_length, len(losses_vqc[-1]))\n",
    "\n",
    "for i in range(10):\n",
    "    length = len(losses_vqc[i])\n",
    "    while length < max_length:\n",
    "        losses_vqc[i].append(losses_vqc[i][-1])\n",
    "        length += 1"
   ]
  },
  {
   "cell_type": "code",
   "execution_count": 123,
   "metadata": {
    "scrolled": true
   },
   "outputs": [
    {
     "data": {
      "image/png": "[encoded data removed]",
      "text/plain": [
       "<Figure size 432x288 with 1 Axes>"
      ]
     },
     "metadata": {
      "needs_background": "light"
     },
     "output_type": "display_data"
    }
   ],
   "source": [
    "plotLosses(losses_vqc, color=\"#FF9966\", fill_color=\"#CCFF99\", title=\"SQT-2 vqc\")"
   ]
  },
  {
   "cell_type": "markdown",
   "metadata": {},
   "source": [
    "### - average time and loss"
   ]
  },
  {
   "cell_type": "code",
   "execution_count": 131,
   "metadata": {},
   "outputs": [
    {
     "name": "stdout",
     "output_type": "stream",
     "text": [
      "Average loss for vqc: (0.0015576369972933226+0j)\n"
     ]
    }
   ],
   "source": [
    "average_loss_vqc = 0.0\n",
    "for i in range(MAX_TIMES):\n",
    "    loss = loadLosses('sqt', 'vqc', i + 1)[-1]\n",
    "    average_loss_vqc += loss\n",
    "print(f'Average loss for vqc: {average_loss_vqc / MAX_TIMES}')"
   ]
  },
  {
   "cell_type": "code",
   "execution_count": 132,
   "metadata": {},
   "outputs": [
    {
     "name": "stdout",
     "output_type": "stream",
     "text": [
      "Average epoch for vqc: 93.8\n"
     ]
    }
   ],
   "source": [
    "average_epoch_vqc = 0\n",
    "for i in range(MAX_TIMES):\n",
    "    loss = loadLosses('sqt', 'vqc', i + 1)\n",
    "    average_epoch_vqc += len(loss)\n",
    "print(f'Average epoch for vqc: {average_epoch_vqc / MAX_TIMES}')"
   ]
  },
  {
   "cell_type": "code",
   "execution_count": 133,
   "metadata": {},
   "outputs": [],
   "source": [
    "average_time_vqc = 5.012995950000186"
   ]
  },
  {
   "cell_type": "code",
   "execution_count": 134,
   "metadata": {},
   "outputs": [
    {
     "name": "stdout",
     "output_type": "stream",
     "text": [
      "Average time per epoch for vqc: 0.005344345362473546\n"
     ]
    }
   ],
   "source": [
    "average_time_per_epoch_vqc = average_time_vqc / average_epoch_vqc\n",
    "print(f'Average time per epoch for vqc: {average_time_per_epoch_vqc}')"
   ]
  },
  {
   "cell_type": "markdown",
   "metadata": {},
   "source": [
    "| Strategy | VQC |\n",
    "|:----------------:|:-----:|\n",
    "| Average loss | 1.558e-3 |\n",
    "| Average time | 5.013 |\n",
    "| Average epochs | 93.8 |\n",
    "| Average time per epoch | 0.00534 |"
   ]
  },
  {
   "cell_type": "markdown",
   "metadata": {},
   "source": [
    "##  Summarize"
   ]
  },
  {
   "cell_type": "code",
   "execution_count": 124,
   "metadata": {
    "scrolled": false
   },
   "outputs": [
    {
     "data": {
      "image/png": "[encoded data removed]",
      "text/plain": [
       "<Figure size 1080x432 with 2 Axes>"
      ]
     },
     "metadata": {
      "needs_background": "light"
     },
     "output_type": "display_data"
    }
   ],
   "source": [
    "plt.figure(figsize=(15, 6))\n",
    "plt.subplot(1,2,1)\n",
    "plotLosses(losses_unitary, title=\"SQT-2 unitary\")\n",
    "plt.subplot(1,2,2)\n",
    "plotLosses(losses_vqc, color=\"#FF9966\", fill_color=\"#CCFF99\", title=\"SQT-2 vqc\")"
   ]
  },
  {
   "cell_type": "markdown",
   "metadata": {},
   "source": [
    "|Strategy| parameterized unitary | VQC |\n",
    "|:----------------:|:-----:| :-----:|\n",
    "| Average loss | 3.8012e-4 | 1.558e-3 |\n",
    "| Average time | 4.636 | 5.013 |\n",
    "| Average epochs | 74.0 |93.8 |\n",
    "| Average time per epoch | 0.00627 | 0.00534 |"
   ]
  },
  {
   "cell_type": "markdown",
   "metadata": {},
   "source": [
    "## Compare Lipschitz"
   ]
  },
  {
   "cell_type": "code",
   "execution_count": 117,
   "metadata": {},
   "outputs": [],
   "source": [
    "measurements = getMeasurements(4)"
   ]
  },
  {
   "cell_type": "code",
   "execution_count": 102,
   "metadata": {},
   "outputs": [],
   "source": [
    "names = ['unitary', 'vqc']"
   ]
  },
  {
   "cell_type": "code",
   "execution_count": 136,
   "metadata": {},
   "outputs": [],
   "source": [
    "error_params = [\n",
    "    [0.0001 , 'b'], [0.0001 , 'p'], [0.0001 , 'd'], \n",
    "    [0.001 , 'b'], [0.001 , 'p'], [0.001 , 'd'], \n",
    "    [0.01 , 'b'], [0.01 , 'p'], [0.01 , 'd'],\n",
    "    [0.1 , 'b'], [0.1 , 'p'], [0.1 , 'd'], \n",
    "]"
   ]
  },
  {
   "cell_type": "markdown",
   "metadata": {},
   "source": [
    "### - exact Lipschitz"
   ]
  },
  {
   "cell_type": "code",
   "execution_count": 137,
   "metadata": {},
   "outputs": [
    {
     "name": "stdout",
     "output_type": "stream",
     "text": [
      " - p = 0.0001, errorType: b\n",
      "Lipschitz for [unitary] is: 0.02417461330853658\n",
      "\n",
      "Lipschitz for [vqc] is: 0.012986258908676\n",
      "\n",
      "smallest one: [vqc]\n",
      "-------------------------\n",
      "\n",
      " - p = 0.0001, errorType: p\n",
      "Lipschitz for [unitary] is: 2.660840428878296e-14\n",
      "\n",
      "Lipschitz for [vqc] is: 2.05347467880825e-14\n",
      "\n",
      "smallest one: [vqc]\n",
      "-------------------------\n",
      "\n",
      " - p = 0.0001, errorType: d\n",
      "Lipschitz for [unitary] is: 0.009670070445862813\n",
      "\n",
      "Lipschitz for [vqc] is: 0.005194511275026501\n",
      "\n",
      "smallest one: [vqc]\n",
      "-------------------------\n",
      "\n",
      " - p = 0.001, errorType: b\n",
      "Lipschitz for [unitary] is: 0.024190345133821917\n",
      "\n",
      "Lipschitz for [vqc] is: 0.012998106214149752\n",
      "\n",
      "smallest one: [vqc]\n",
      "-------------------------\n",
      "\n",
      " - p = 0.001, errorType: p\n",
      "Lipschitz for [unitary] is: 3.272710654952096e-14\n",
      "\n",
      "Lipschitz for [vqc] is: 2.30656469032528e-14\n",
      "\n",
      "smallest one: [vqc]\n",
      "-------------------------\n",
      "\n",
      " - p = 0.001, errorType: d\n",
      "Lipschitz for [unitary] is: 0.009678392459013125\n",
      "\n",
      "Lipschitz for [vqc] is: 0.005199321659703412\n",
      "\n",
      "smallest one: [vqc]\n",
      "-------------------------\n",
      "\n",
      " - p = 0.01, errorType: b\n",
      "Lipschitz for [unitary] is: 0.024347646746909295\n",
      "\n",
      "Lipschitz for [vqc] is: 0.013116566560867076\n",
      "\n",
      "smallest one: [vqc]\n",
      "-------------------------\n",
      "\n",
      " - p = 0.01, errorType: p\n",
      "Lipschitz for [unitary] is: 2.634564994152871e-15\n",
      "\n",
      "Lipschitz for [vqc] is: 1.8471893197640013e-15\n",
      "\n",
      "smallest one: [vqc]\n",
      "-------------------------\n",
      "\n",
      " - p = 0.01, errorType: d\n",
      "Lipschitz for [unitary] is: 0.009762026928566658\n",
      "\n",
      "Lipschitz for [vqc] is: 0.005247682750341545\n",
      "\n",
      "smallest one: [vqc]\n",
      "-------------------------\n",
      "\n",
      " - p = 0.1, errorType: b\n",
      "Lipschitz for [unitary] is: 0.02590164693810637\n",
      "\n",
      "Lipschitz for [vqc] is: 0.014286849820871797\n",
      "\n",
      "smallest one: [vqc]\n",
      "-------------------------\n",
      "\n",
      " - p = 0.1, errorType: p\n",
      "Lipschitz for [unitary] is: 2.85028690178795e-16\n",
      "\n",
      "Lipschitz for [vqc] is: 2.012205383790641e-16\n",
      "\n",
      "smallest one: [vqc]\n",
      "-------------------------\n",
      "\n",
      " - p = 0.1, errorType: d\n",
      "Lipschitz for [unitary] is: 0.010640754216235667\n",
      "\n",
      "Lipschitz for [vqc] is: 0.005757718234883865\n",
      "\n",
      "smallest one: [vqc]\n",
      "-------------------------\n",
      "\n",
      "{'unitary': 0, 'vqc': 12.0}\n"
     ]
    }
   ],
   "source": [
    "smallestDict = { k: 0 for k in names }\n",
    "\n",
    "for (p, errorType) in error_params:\n",
    "    print(f' - p = {p}, errorType: {errorType}')\n",
    "    \n",
    "    # simulate noise input circuits\n",
    "    noiseInputCircuits = getNoiseCircuits([inputCircuit], p, errorType)\n",
    "\n",
    "    smallest = 1.0; smallestKey = ''\n",
    "    for name in names: # unitary or vqc\n",
    "        lip = 0.0\n",
    "        \n",
    "        for i in range(MAX_TIMES):\n",
    "            # build targetCircuit\n",
    "            params = loadParams('sqt', name, i + 1)\n",
    "            targetCircuit = QuantumCircuit(4, 4)\n",
    "            \n",
    "            if name == 'unitary':\n",
    "                targetCircuit.append(buildU(2, params), [2, 3])\n",
    "            else:\n",
    "                targetCircuit = getVQCCircuit(targetCircuit, 2, params, [2, 3])\n",
    "                \n",
    "            lip += calculateExactLipschitz(\n",
    "                [inputCircuit], noiseInputCircuits, \n",
    "                targetCircuit, afterCircuit, measurements\n",
    "            )\n",
    "        lip = lip / MAX_TIMES\n",
    "        \n",
    "        if lip < smallest:\n",
    "            smallest = lip\n",
    "            smallestKey = name\n",
    "        \n",
    "        print(f'Lipschitz for [{name}] is: {lip}\\n')\n",
    "    \n",
    "    smallestDict[smallestKey]  += 1.0\n",
    "    print(f'smallest one: [{smallestKey}]')\n",
    "        \n",
    "    print('-' * 25)\n",
    "    print()\n",
    "\n",
    "print(smallestDict)"
   ]
  },
  {
   "cell_type": "markdown",
   "metadata": {},
   "source": [
    "### - approximate Lipschitz"
   ]
  },
  {
   "cell_type": "code",
   "execution_count": 139,
   "metadata": {},
   "outputs": [
    {
     "name": "stdout",
     "output_type": "stream",
     "text": [
      "Lipschitz for [unitary] is: 0.20228300022320292(best params: No.1(0.15815724845714707))\n",
      "\n",
      "Lipschitz for [vqc] is: 0.14168259880127307(best params: No.1(0.03815543876934357))\n",
      "\n"
     ]
    }
   ],
   "source": [
    "for name in names: # unitary or vqc\n",
    "    lip = 0.0\n",
    "    best_index = -1; best_lip = 1\n",
    "\n",
    "    for i in range(MAX_TIMES):\n",
    "        # build targetCircuit\n",
    "        params = loadParams('sqt', name, i + 1)\n",
    "        targetCircuit = QuantumCircuit(4, 4)\n",
    "\n",
    "        if name == 'unitary':\n",
    "            targetCircuit.append(buildU(2, params), [2, 3])\n",
    "        else:\n",
    "            targetCircuit = getVQCCircuit(targetCircuit, 2, params, [2, 3])\n",
    "\n",
    "        score = calculateLipschitz(targetCircuit, afterCircuit, measurements)\n",
    "        \n",
    "        if score < best_lip:\n",
    "            best_lip = score\n",
    "            best_index = i + 1\n",
    "        \n",
    "        lip += score\n",
    "                                  \n",
    "    lip = lip / MAX_TIMES\n",
    "\n",
    "    print(f'Lipschitz for [{name}] is: {lip}(best params: No.{best_index}({best_lip}))\\n')"
   ]
  },
  {
   "cell_type": "code",
   "execution_count": null,
   "metadata": {},
   "outputs": [],
   "source": []
  }
 ],
 "metadata": {
  "kernelspec": {
   "display_name": "Python 3",
   "language": "python",
   "name": "python3"
  },
  "language_info": {
   "codemirror_mode": {
    "name": "ipython",
    "version": 3
   },
   "file_extension": ".py",
   "mimetype": "text/x-python",
   "name": "python",
   "nbconvert_exporter": "python",
   "pygments_lexer": "ipython3",
   "version": "3.6.8"
  }
 },
 "nbformat": 4,
 "nbformat_minor": 4
}
