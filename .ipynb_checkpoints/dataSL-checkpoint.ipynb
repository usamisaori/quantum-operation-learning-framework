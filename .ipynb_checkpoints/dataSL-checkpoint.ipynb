{
 "cells": [
  {
   "cell_type": "code",
   "execution_count": 1,
   "metadata": {},
   "outputs": [],
   "source": [
    "import pickle"
   ]
  },
  {
   "cell_type": "markdown",
   "metadata": {},
   "source": [
    "## Save datas"
   ]
  },
  {
   "cell_type": "code",
   "execution_count": 1,
   "metadata": {},
   "outputs": [],
   "source": [
    "def save(data, datatype, name, strategy, times):\n",
    "    # eg. params/losses_sdc/sqt/grover/..._unitary/vqc/..._3\n",
    "    \n",
    "    if datatype == 'params':\n",
    "        saveParams(data, name, strategy, times)\n",
    "    elif datatype == 'losses':\n",
    "        saveLosses(data, name, strategy, times)"
   ]
  },
  {
   "cell_type": "code",
   "execution_count": 2,
   "metadata": {},
   "outputs": [],
   "source": [
    "def saveParams(params, name, strategy, times):\n",
    "    path = f\"./data/{name}/params/{name}_{strategy}_params_{times}\"\n",
    "    path += '.pkl'\n",
    "    \n",
    "    with open(path, 'wb') as file:\n",
    "        pickle.dump(params, file)\n",
    "        \n",
    "def saveLosses(losses, name, strategy, times):\n",
    "    path = f\"./data/{name}/losses/{name}_{strategy}_losses_{times}\"\n",
    "    path += '.pkl'\n",
    "    \n",
    "    with open(path, 'wb') as file:\n",
    "        pickle.dump(losses, file)"
   ]
  },
  {
   "cell_type": "markdown",
   "metadata": {},
   "source": [
    "## Load datas"
   ]
  },
  {
   "cell_type": "code",
   "execution_count": 3,
   "metadata": {},
   "outputs": [],
   "source": [
    "def load(datatype, name, strategy, times):\n",
    "    # eg. params/losses_sdc/sqt/grover/..._unitary/vqc/..._3(_F/D/)\n",
    "    \n",
    "    if datatype == 'params':\n",
    "        return loadParams(name, strategy, times)\n",
    "    elif datatype == 'losses':\n",
    "        return loadLosses(name, strategy, times)"
   ]
  },
  {
   "cell_type": "code",
   "execution_count": 5,
   "metadata": {},
   "outputs": [],
   "source": [
    "def loadParams(name, strategy, times):\n",
    "    path = f\"./data/{name}/params/{name}_{strategy}_params_{times}\"\n",
    "    if extrainfo != None:\n",
    "        path += f'_{extrainfo}'\n",
    "    path += '.pkl'\n",
    "    \n",
    "    with open(path, 'rb') as file:\n",
    "        params = pickle.load(file)\n",
    "    \n",
    "    return params\n",
    "\n",
    "def loadLosses(name, strategy, n, extrainfo=None):\n",
    "    path = f\"./data/losses_{name}_{strategy}_{n}\"\n",
    "    if extrainfo != None:\n",
    "        path += f'_{extrainfo}'\n",
    "    path += '.pkl'\n",
    "    \n",
    "    with open(path, 'rb') as file:\n",
    "        losses = pickle.load(file)\n",
    "    \n",
    "    return losses"
   ]
  },
  {
   "cell_type": "markdown",
   "metadata": {},
   "source": [
    "## Plot data"
   ]
  },
  {
   "cell_type": "code",
   "execution_count": 6,
   "metadata": {},
   "outputs": [],
   "source": [
    "import matplotlib.pyplot as plt \n",
    "\n",
    "def plot(data, color='skyblue'):\n",
    "    y = data\n",
    "    x = range(1, len(y) + 1)\n",
    "        \n",
    "    plt.plot(x, y, color=color, linewidth=2.0, linestyle='--')"
   ]
  },
  {
   "cell_type": "code",
   "execution_count": null,
   "metadata": {},
   "outputs": [],
   "source": []
  }
 ],
 "metadata": {
  "kernelspec": {
   "display_name": "Python 3",
   "language": "python",
   "name": "python3"
  },
  "language_info": {
   "codemirror_mode": {
    "name": "ipython",
    "version": 3
   },
   "file_extension": ".py",
   "mimetype": "text/x-python",
   "name": "python",
   "nbconvert_exporter": "python",
   "pygments_lexer": "ipython3",
   "version": "3.6.8"
  }
 },
 "nbformat": 4,
 "nbformat_minor": 5
}
