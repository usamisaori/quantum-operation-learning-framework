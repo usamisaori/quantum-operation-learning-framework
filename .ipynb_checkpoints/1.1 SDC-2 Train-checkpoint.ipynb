{
 "cells": [
  {
   "cell_type": "code",
   "execution_count": 1,
   "metadata": {},
   "outputs": [],
   "source": [
    "import sys\n",
    "sys.path.append(\"./tools\")"
   ]
  },
  {
   "cell_type": "code",
   "execution_count": 82,
   "metadata": {},
   "outputs": [],
   "source": [
    "import numpy as np\n",
    "\n",
    "import qiskit\n",
    "from qiskit import QuantumCircuit\n",
    "from qiskit import execute, Aer\n",
    "\n",
    "simulator = Aer.get_backend('qasm_simulator')"
   ]
  },
  {
   "cell_type": "code",
   "execution_count": 3,
   "metadata": {},
   "outputs": [],
   "source": [
    "import warnings\n",
    "warnings.filterwarnings('ignore')"
   ]
  },
  {
   "cell_type": "code",
   "execution_count": 4,
   "metadata": {},
   "outputs": [],
   "source": [
    "palette = {\n",
    "    'unitary': '#FF9966', 'vqc': '#66CC99', \n",
    "}"
   ]
  },
  {
   "cell_type": "code",
   "execution_count": 93,
   "metadata": {},
   "outputs": [],
   "source": [
    "%matplotlib inline"
   ]
  },
  {
   "cell_type": "code",
   "execution_count": 109,
   "metadata": {},
   "outputs": [
    {
     "data": {
      "text/html": [
       "<style>\n",
       "table {float:left;}\n",
       "</style>\n"
      ],
      "text/plain": [
       "<IPython.core.display.HTML object>"
      ]
     },
     "metadata": {},
     "output_type": "display_data"
    }
   ],
   "source": [
    "%%html\n",
    "<style>\n",
    "table {float:left;}\n",
    "</style>"
   ]
  },
  {
   "cell_type": "markdown",
   "metadata": {},
   "source": [
    "## Tool Modules"
   ]
  },
  {
   "cell_type": "code",
   "execution_count": 6,
   "metadata": {},
   "outputs": [],
   "source": [
    "from quantum import *\n",
    "from measurements import *\n",
    "\n",
    "from unitary import *\n",
    "from VQC import *\n",
    "\n",
    "from dataSL import *\n",
    "from QOLearner import *\n",
    "\n",
    "from noise import *\n",
    "from lipschitz import *"
   ]
  },
  {
   "cell_type": "markdown",
   "metadata": {},
   "source": [
    "## Prepare Circuits"
   ]
  },
  {
   "cell_type": "markdown",
   "metadata": {},
   "source": [
    "### - Input Circuits"
   ]
  },
  {
   "cell_type": "code",
   "execution_count": 7,
   "metadata": {},
   "outputs": [],
   "source": [
    "def initCircuit(n):\n",
    "    circuit = QuantumCircuit(2 * n, 2 * n)\n",
    "    senders = circuit.qubits[0:n]\n",
    "    receivers = circuit.qubits[n:]\n",
    "    \n",
    "    for sender, receiver in zip(senders, receivers):\n",
    "        circuit.h(sender)\n",
    "        circuit.cx(sender, receiver)\n",
    "        \n",
    "    return senders, receivers, circuit"
   ]
  },
  {
   "cell_type": "code",
   "execution_count": 8,
   "metadata": {},
   "outputs": [],
   "source": [
    "def operate(circuit, target, bits):\n",
    "    \"\"\"\n",
    "        => Z^(b_1) * X^(b_2)\n",
    "    \"\"\"\n",
    "    if bits[0] == '1':\n",
    "        circuit.z(target)\n",
    "    if bits[1] == '1':\n",
    "        circuit.x(target)\n",
    "\n",
    "    return circuit\n",
    "\n",
    "def getCircuit(n, classical_bits):\n",
    "    bits_str = ''.join(classical_bits)\n",
    "    \"\"\"\n",
    "        getCircuit(circuit, [\"01\", \"10\", \"00\"])\n",
    "            => X(A1), Z(A2), I(A3)\n",
    "    \"\"\"\n",
    "    senders, receivers, circuit = initCircuit(n)\n",
    "    circuit_copy = circuit.copy()\n",
    "    \n",
    "    circuit_copy.barrier(senders)\n",
    "    for i, sender in enumerate(senders):\n",
    "        operate(circuit_copy, sender, classical_bits[i])\n",
    "\n",
    "    return circuit_copy"
   ]
  },
  {
   "cell_type": "code",
   "execution_count": 9,
   "metadata": {},
   "outputs": [
    {
     "data": {
      "image/png": "[encoded data removed]",
      "text/plain": [
       "<Figure size 387.597x325.08 with 1 Axes>"
      ]
     },
     "execution_count": 9,
     "metadata": {},
     "output_type": "execute_result"
    }
   ],
   "source": [
    "qc = getCircuit(2, [\"01\", \"10\"])\n",
    "qc.draw(output='mpl')"
   ]
  },
  {
   "cell_type": "code",
   "execution_count": 10,
   "metadata": {},
   "outputs": [
    {
     "name": "stdout",
     "output_type": "stream",
     "text": [
      "16\n"
     ]
    }
   ],
   "source": [
    "inputCircuits = []\n",
    "n = 2\n",
    "\n",
    "classical_bits = [\"00\", \"01\", \"10\", \"11\"]\n",
    "for comb in combs[n]:\n",
    "    inputCircuits.append( getCircuit(n, list(map( lambda x: classical_bits[int(x)] , list(comb)))) )\n",
    "\n",
    "print(len(inputCircuits)) # 16"
   ]
  },
  {
   "cell_type": "markdown",
   "metadata": {},
   "source": [
    "### - Output Circuits"
   ]
  },
  {
   "cell_type": "code",
   "execution_count": 11,
   "metadata": {},
   "outputs": [],
   "source": [
    "def getMeasureCircuit(n):\n",
    "    circuit = QuantumCircuit(2 * n, 2 * n)\n",
    "    \n",
    "    for i in range(n):\n",
    "        circuit.cx(i, i + n)\n",
    "        circuit.h(i)\n",
    "    \n",
    "    return circuit"
   ]
  },
  {
   "cell_type": "code",
   "execution_count": 12,
   "metadata": {},
   "outputs": [
    {
     "data": {
      "image/png": "[encoded data removed]",
      "text/plain": [
       "<Figure size 267.197x325.08 with 1 Axes>"
      ]
     },
     "execution_count": 12,
     "metadata": {},
     "output_type": "execute_result"
    }
   ],
   "source": [
    "n = 2\n",
    "\n",
    "measureCircuit = getMeasureCircuit(n)\n",
    "measureCircuit.draw(output='mpl')"
   ]
  },
  {
   "cell_type": "markdown",
   "metadata": {},
   "source": [
    "## Train paramters"
   ]
  },
  {
   "cell_type": "code",
   "execution_count": 13,
   "metadata": {},
   "outputs": [],
   "source": [
    "import time\n",
    "import sys\n",
    "stdout = sys.stdout"
   ]
  },
  {
   "cell_type": "code",
   "execution_count": 14,
   "metadata": {},
   "outputs": [],
   "source": [
    "# experiments times\n",
    "MAX_TIMES = 10"
   ]
  },
  {
   "cell_type": "markdown",
   "metadata": {},
   "source": [
    "### - expecetd"
   ]
  },
  {
   "cell_type": "code",
   "execution_count": 15,
   "metadata": {},
   "outputs": [
    {
     "name": "stdout",
     "output_type": "stream",
     "text": [
      "{'0000': 1, '0001': 1, '0010': 1, '0011': 1, '0100': 1, '0101': 1, '0110': 1, '0111': 1, '1000': 1, '1001': 1, '1010': 1, '1011': 1, '1100': 1, '1101': 1, '1110': 1, '1111': 1}\n",
      "16\n"
     ]
    }
   ],
   "source": [
    "expected = {}\n",
    "\n",
    "n = 2\n",
    "for i in range(2 ** (2 * n)):\n",
    "    expected[bin(i)[2:].rjust(2 * n, '0')] = 1\n",
    "\n",
    "print(expected)\n",
    "print(len(expected)) # 4 ** n"
   ]
  },
  {
   "cell_type": "markdown",
   "metadata": {},
   "source": [
    "## Strategy: unitary"
   ]
  },
  {
   "cell_type": "code",
   "execution_count": 52,
   "metadata": {},
   "outputs": [],
   "source": [
    "qol_unitary = QOLearnerBase([inputCircuits, measureCircuit], 2, [0, 1], expected)"
   ]
  },
  {
   "cell_type": "code",
   "execution_count": 54,
   "metadata": {},
   "outputs": [
    {
     "name": "stdout",
     "output_type": "stream",
     "text": [
      "Fin - No. 1\n",
      "Fin - No. 2\n",
      "Fin - No. 3\n",
      "Fin - No. 4\n",
      "Fin - No. 5\n",
      "Fin - No. 6\n",
      "Fin - No. 7\n",
      "Fin - No. 8\n",
      "Fin - No. 9\n",
      "Fin - No. 10\n"
     ]
    }
   ],
   "source": [
    "times_unitary = []\n",
    "\n",
    "for i in range(MAX_TIMES):\n",
    "    sys.stdout = None\n",
    "    start = time.clock()\n",
    "    qol_unitary.fit(epoch=1000, strategy='unitary', stepsize=0.003, early_stopping=True)\n",
    "    end = time.clock()\n",
    "    times_unitary.append(end - start)\n",
    "    sys.stdout = stdout\n",
    "    \n",
    "    print(f'Fin - No. {i + 1}')\n",
    "    \n",
    "    saveParams(qol_unitary.params[-1], 'sdc2', 'unitary', i + 1)\n",
    "    saveLosses(qol_unitary.losses, 'sdc2', 'unitary', i + 1)"
   ]
  },
  {
   "cell_type": "code",
   "execution_count": 56,
   "metadata": {},
   "outputs": [
    {
     "name": "stdout",
     "output_type": "stream",
     "text": [
      "Average times for unitary: 237.69102304000006\n"
     ]
    }
   ],
   "source": [
    "print(f'Average times for unitary: {np.mean(times_unitary)}')"
   ]
  },
  {
   "cell_type": "markdown",
   "metadata": {},
   "source": [
    "### - plot a loss example"
   ]
  },
  {
   "cell_type": "code",
   "execution_count": 57,
   "metadata": {},
   "outputs": [
    {
     "data": {
      "image/png": "[encoded data removed]",
      "text/plain": [
       "<Figure size 432x288 with 1 Axes>"
      ]
     },
     "metadata": {
      "needs_background": "light"
     },
     "output_type": "display_data"
    }
   ],
   "source": [
    "plot(loadLosses('sdc2', 'unitary', 9), color=palette['unitary'])"
   ]
  },
  {
   "cell_type": "code",
   "execution_count": 58,
   "metadata": {
    "scrolled": true
   },
   "outputs": [],
   "source": [
    "losses_unitary = []\n",
    "max_length = 0\n",
    "for i in range(MAX_TIMES):\n",
    "    losses_unitary.append(loadLosses('sdc2', 'unitary', i + 1))\n",
    "    max_length = max(max_length, len(losses_unitary[-1]))\n",
    "\n",
    "for i in range(MAX_TIMES):\n",
    "    length = len(losses_unitary[i])\n",
    "    while length < max_length:\n",
    "        losses_unitary[i].append(losses_unitary[i][-1])\n",
    "        length += 1"
   ]
  },
  {
   "cell_type": "code",
   "execution_count": 59,
   "metadata": {
    "scrolled": false
   },
   "outputs": [
    {
     "data": {
      "image/png": "[encoded data removed]",
      "text/plain": [
       "<Figure size 432x288 with 1 Axes>"
      ]
     },
     "metadata": {
      "needs_background": "light"
     },
     "output_type": "display_data"
    }
   ],
   "source": [
    "plotLosses(losses_unitary, title='SDC-2 unitary')"
   ]
  },
  {
   "cell_type": "markdown",
   "metadata": {},
   "source": [
    "### - average time and loss"
   ]
  },
  {
   "cell_type": "code",
   "execution_count": 84,
   "metadata": {},
   "outputs": [
    {
     "name": "stdout",
     "output_type": "stream",
     "text": [
      "Average loss for unitary: (0.0004953572272010602+0j)\n"
     ]
    }
   ],
   "source": [
    "average_loss_unitary = 0.0\n",
    "for i in range(MAX_TIMES):\n",
    "    loss = loadLosses('sdc2', 'unitary', i + 1)[-1]\n",
    "    average_loss_unitary += loss\n",
    "print(f'Average loss for unitary: {average_loss_unitary / MAX_TIMES}')"
   ]
  },
  {
   "cell_type": "code",
   "execution_count": 88,
   "metadata": {},
   "outputs": [
    {
     "name": "stdout",
     "output_type": "stream",
     "text": [
      "Average epoch for unitary: 191.6\n"
     ]
    }
   ],
   "source": [
    "average_epoch_unitary = 0\n",
    "for i in range(MAX_TIMES):\n",
    "    loss = loadLosses('sdc2', 'unitary', i + 1)\n",
    "    average_epoch_unitary += len(loss)\n",
    "print(f'Average epoch for unitary: {average_epoch_unitary / MAX_TIMES}')"
   ]
  },
  {
   "cell_type": "code",
   "execution_count": 85,
   "metadata": {},
   "outputs": [],
   "source": [
    "average_time_unitary = 237.69102304000006"
   ]
  },
  {
   "cell_type": "code",
   "execution_count": 95,
   "metadata": {},
   "outputs": [
    {
     "name": "stdout",
     "output_type": "stream",
     "text": [
      "Average time per epoch for unitary: 0.12405585753653448\n"
     ]
    }
   ],
   "source": [
    "average_time_per_epoch_unitary = average_time_unitary / average_epoch_unitary\n",
    "print(f'Average time per epoch for unitary: {average_time_per_epoch_unitary}')"
   ]
  },
  {
   "cell_type": "markdown",
   "metadata": {},
   "source": [
    "|Strategy| parameterized unitary |\n",
    "|:----------------:|:-----:|\n",
    "| Average loss | 4.954e-4 |\n",
    "| Average time | 237.691 |\n",
    "| Average epochs | 191.6 |\n",
    "| Average time per epoch | 0.124 |"
   ]
  },
  {
   "cell_type": "markdown",
   "metadata": {},
   "source": [
    "## Strategy: VQC"
   ]
  },
  {
   "cell_type": "code",
   "execution_count": 67,
   "metadata": {},
   "outputs": [],
   "source": [
    "qol_vqc = QOLearnerBase([inputCircuits, measureCircuit], 2, [0, 1], expected)"
   ]
  },
  {
   "cell_type": "code",
   "execution_count": 75,
   "metadata": {},
   "outputs": [
    {
     "name": "stdout",
     "output_type": "stream",
     "text": [
      "Fin - No. 1\n",
      "Fin - No. 2\n",
      "Fin - No. 3\n",
      "Fin - No. 4\n",
      "Fin - No. 5\n",
      "Fin - No. 6\n",
      "Fin - No. 7\n",
      "Fin - No. 8\n",
      "Fin - No. 9\n",
      "Fin - No. 10\n"
     ]
    }
   ],
   "source": [
    "times_vqc = []\n",
    "\n",
    "for i in range(MAX_TIMES):\n",
    "    sys.stdout = None\n",
    "    start = time.clock()\n",
    "    qol_vqc.fit(epoch=1000, strategy='vqc', stepsize=0.003, early_stopping=True)\n",
    "    end = time.clock()\n",
    "    times_vqc.append(end - start)\n",
    "    sys.stdout = stdout\n",
    "    \n",
    "    print(f'Fin - No. {i + 1}')\n",
    "    \n",
    "    saveParams(qol_vqc.params[-1], 'sdc2', 'vqc', i + 1)\n",
    "    saveLosses(qol_vqc.losses, 'sdc2', 'vqc', i + 1)"
   ]
  },
  {
   "cell_type": "code",
   "execution_count": 76,
   "metadata": {},
   "outputs": [
    {
     "name": "stdout",
     "output_type": "stream",
     "text": [
      "Average times for vqc: 238.52992386000042\n"
     ]
    }
   ],
   "source": [
    "print(f'Average times for vqc: {np.mean(times_vqc)}')"
   ]
  },
  {
   "cell_type": "markdown",
   "metadata": {},
   "source": [
    "### - plot a loss example"
   ]
  },
  {
   "cell_type": "code",
   "execution_count": 77,
   "metadata": {},
   "outputs": [
    {
     "data": {
      "image/png": "[encoded data removed]",
      "text/plain": [
       "<Figure size 432x288 with 1 Axes>"
      ]
     },
     "metadata": {
      "needs_background": "light"
     },
     "output_type": "display_data"
    }
   ],
   "source": [
    "plot(loadLosses('sdc2', 'vqc', 6), color=palette['vqc'])"
   ]
  },
  {
   "cell_type": "code",
   "execution_count": 78,
   "metadata": {
    "scrolled": true
   },
   "outputs": [],
   "source": [
    "losses_vqc = []\n",
    "max_length = 0\n",
    "for i in range(10):\n",
    "    losses_vqc.append(loadLosses('sdc2', 'vqc', i + 1))\n",
    "    max_length = max(max_length, len(losses_vqc[-1]))\n",
    "\n",
    "for i in range(10):\n",
    "    length = len(losses_vqc[i])\n",
    "    while length < max_length:\n",
    "        losses_vqc[i].append(losses_vqc[i][-1])\n",
    "        length += 1"
   ]
  },
  {
   "cell_type": "code",
   "execution_count": 79,
   "metadata": {
    "scrolled": false
   },
   "outputs": [
    {
     "data": {
      "image/png": "[encoded data removed]",
      "text/plain": [
       "<Figure size 432x288 with 1 Axes>"
      ]
     },
     "metadata": {
      "needs_background": "light"
     },
     "output_type": "display_data"
    }
   ],
   "source": [
    "plotLosses(losses_vqc, color=\"#FF9966\", fill_color=\"#CCFF99\", title=\"SDC-2 vqc\")"
   ]
  },
  {
   "cell_type": "markdown",
   "metadata": {},
   "source": [
    "### - average time and loss"
   ]
  },
  {
   "cell_type": "code",
   "execution_count": 97,
   "metadata": {},
   "outputs": [
    {
     "name": "stdout",
     "output_type": "stream",
     "text": [
      "Average loss for vqc: (0.0004950215001920267+0j)\n"
     ]
    }
   ],
   "source": [
    "average_loss_vqc = 0.0\n",
    "for i in range(MAX_TIMES):\n",
    "    loss = loadLosses('sdc2', 'vqc', i + 1)[-1]\n",
    "    average_loss_vqc += loss\n",
    "print(f'Average loss for vqc: {average_loss_vqc / MAX_TIMES}')"
   ]
  },
  {
   "cell_type": "code",
   "execution_count": 98,
   "metadata": {},
   "outputs": [
    {
     "name": "stdout",
     "output_type": "stream",
     "text": [
      "Average epoch for vqc: 226.4\n"
     ]
    }
   ],
   "source": [
    "average_epoch_vqc = 0\n",
    "for i in range(MAX_TIMES):\n",
    "    loss = loadLosses('sdc2', 'vqc', i + 1)\n",
    "    average_epoch_vqc += len(loss)\n",
    "print(f'Average epoch for vqc: {average_epoch_vqc / MAX_TIMES}')"
   ]
  },
  {
   "cell_type": "code",
   "execution_count": 99,
   "metadata": {},
   "outputs": [],
   "source": [
    "average_time_vqc = 238.52992386000042"
   ]
  },
  {
   "cell_type": "code",
   "execution_count": 100,
   "metadata": {},
   "outputs": [
    {
     "name": "stdout",
     "output_type": "stream",
     "text": [
      "Average time per epoch for vqc: 0.10535774022084825\n"
     ]
    }
   ],
   "source": [
    "average_time_per_epoch_vqc = average_time_vqc / average_epoch_vqc\n",
    "print(f'Average time per epoch for vqc: {average_time_per_epoch_vqc}')"
   ]
  },
  {
   "cell_type": "markdown",
   "metadata": {},
   "source": [
    "| Strategy | VQC |\n",
    "|:----------------:|:-----:|\n",
    "| Average loss | 4.950e-4 |\n",
    "| Average time | 238.530 |\n",
    "| Average epochs | 226.4 |\n",
    "| Average time per epoch | 0.105 |"
   ]
  },
  {
   "cell_type": "markdown",
   "metadata": {},
   "source": [
    "##  Summarize"
   ]
  },
  {
   "cell_type": "code",
   "execution_count": 102,
   "metadata": {},
   "outputs": [
    {
     "data": {
      "image/png": "[encoded data removed]",
      "text/plain": [
       "<Figure size 1080x432 with 2 Axes>"
      ]
     },
     "metadata": {
      "needs_background": "light"
     },
     "output_type": "display_data"
    }
   ],
   "source": [
    "plt.figure(figsize=(15, 6))\n",
    "plt.subplot(1,2,1)\n",
    "plotLosses(losses_unitary, title=\"SDC-2 unitary\")\n",
    "plt.subplot(1,2,2)\n",
    "plotLosses(losses_vqc, color=\"#FF9966\", fill_color=\"#CCFF99\", title=\"SDC-2 vqc\")"
   ]
  },
  {
   "cell_type": "markdown",
   "metadata": {},
   "source": [
    "|Strategy| parameterized unitary | VQC |\n",
    "|:----------------:|:-----:|:-----:|\n",
    "| Average loss | 4.954e-4 | 4.950e-4 |\n",
    "| Average time | 237.691 | 238.530 |\n",
    "| Average epochs | 191.6 | 226.4 |\n",
    "| Average time per epoch | 0.124 | 0.105 |"
   ]
  },
  {
   "cell_type": "markdown",
   "metadata": {},
   "source": [
    "## Compare Lipschitz"
   ]
  },
  {
   "cell_type": "code",
   "execution_count": 47,
   "metadata": {},
   "outputs": [],
   "source": [
    "measurements = getMeasurements(4)"
   ]
  },
  {
   "cell_type": "code",
   "execution_count": 48,
   "metadata": {},
   "outputs": [],
   "source": [
    "names = ['unitary', 'vqc']"
   ]
  },
  {
   "cell_type": "code",
   "execution_count": 49,
   "metadata": {},
   "outputs": [],
   "source": [
    "error_params = [\n",
    "    [0.1 , 'b'], [0.1 , 'p'], [0.1 , 'd'], \n",
    "    [0.01 , 'b'], [0.01 , 'p'], [0.01 , 'd'], \n",
    "    [0.001 , 'b'], [0.001 , 'p'], [0.001 , 'd'], \n",
    "    [0.0001 , 'b'], [0.0001 , 'p'], [0.0001 , 'd'], \n",
    "]"
   ]
  },
  {
   "cell_type": "markdown",
   "metadata": {},
   "source": [
    "### - exact Lipschitz"
   ]
  },
  {
   "cell_type": "code",
   "execution_count": 65,
   "metadata": {
    "scrolled": true
   },
   "outputs": [
    {
     "name": "stdout",
     "output_type": "stream",
     "text": [
      " - p = 0.1, errorType: b\n",
      "Lipschitz for [unitary] is: 0.01662923451646511\n",
      "\n",
      "Lipschitz for [vqc] is: 0.012016127128358211\n",
      "\n",
      "smallest one: [vqc]\n",
      "-------------------------\n",
      "\n",
      " - p = 0.1, errorType: p\n",
      "Lipschitz for [unitary] is: 1.996242413635463e-16\n",
      "\n",
      "Lipschitz for [vqc] is: 1.9180337519798892e-16\n",
      "\n",
      "smallest one: [vqc]\n",
      "-------------------------\n",
      "\n",
      " - p = 0.1, errorType: d\n",
      "Lipschitz for [unitary] is: 0.009559644575796838\n",
      "\n",
      "Lipschitz for [vqc] is: 0.006923652905020947\n",
      "\n",
      "smallest one: [vqc]\n",
      "-------------------------\n",
      "\n",
      " - p = 0.01, errorType: b\n",
      "Lipschitz for [unitary] is: 0.016835096019564733\n",
      "\n",
      "Lipschitz for [vqc] is: 0.012051362729747741\n",
      "\n",
      "smallest one: [vqc]\n",
      "-------------------------\n",
      "\n",
      " - p = 0.01, errorType: p\n",
      "Lipschitz for [unitary] is: 1.974309691241226e-15\n",
      "\n",
      "Lipschitz for [vqc] is: 1.882233716326493e-15\n",
      "\n",
      "smallest one: [vqc]\n",
      "-------------------------\n",
      "\n",
      " - p = 0.01, errorType: d\n",
      "Lipschitz for [unitary] is: 0.008947968414561802\n",
      "\n",
      "Lipschitz for [vqc] is: 0.006431270358905364\n",
      "\n",
      "smallest one: [vqc]\n",
      "-------------------------\n",
      "\n",
      " - p = 0.001, errorType: b\n",
      "Lipschitz for [unitary] is: 0.01685476642755464\n",
      "\n",
      "Lipschitz for [vqc] is: 0.012051276884745301\n",
      "\n",
      "smallest one: [vqc]\n",
      "-------------------------\n",
      "\n",
      " - p = 0.001, errorType: p\n",
      "Lipschitz for [unitary] is: 1.6844383123304715e-14\n",
      "\n",
      "Lipschitz for [vqc] is: 1.58800425499135e-14\n",
      "\n",
      "smallest one: [vqc]\n",
      "-------------------------\n",
      "\n",
      " - p = 0.001, errorType: d\n",
      "Lipschitz for [unitary] is: 0.008885836952059457\n",
      "\n",
      "Lipschitz for [vqc] is: 0.006381629174335922\n",
      "\n",
      "smallest one: [vqc]\n",
      "-------------------------\n",
      "\n",
      " - p = 0.0001, errorType: b\n",
      "Lipschitz for [unitary] is: 0.0168568266774782\n",
      "\n",
      "Lipschitz for [vqc] is: 0.012051231041634875\n",
      "\n",
      "smallest one: [vqc]\n",
      "-------------------------\n",
      "\n",
      " - p = 0.0001, errorType: p\n",
      "Lipschitz for [unitary] is: 3.6782457973817146e-14\n",
      "\n",
      "Lipschitz for [vqc] is: 3.292255740877912e-14\n",
      "\n",
      "smallest one: [vqc]\n",
      "-------------------------\n",
      "\n",
      " - p = 0.0001, errorType: d\n",
      "Lipschitz for [unitary] is: 0.008879618067933784\n",
      "\n",
      "Lipschitz for [vqc] is: 0.006376664328769458\n",
      "\n",
      "smallest one: [vqc]\n",
      "-------------------------\n",
      "\n",
      "{'unitary': 0, 'vqc': 12.0}\n"
     ]
    }
   ],
   "source": [
    "smallestDict = { k: 0 for k in names }\n",
    "\n",
    "for (p, errorType) in error_params:\n",
    "    print(f' - p = {p}, errorType: {errorType}')\n",
    "    \n",
    "    # simulate noise input circuits\n",
    "    noiseInputCircuits = getNoiseCircuits(inputCircuits, p, errorType)\n",
    "\n",
    "    smallest = 1.0; smallestKey = ''\n",
    "    for name in names: # unitary or vqc\n",
    "        lip = 0.0\n",
    "        \n",
    "        for i in range(MAX_TIMES):\n",
    "            # build targetCircuit\n",
    "            params = loadParams('sdc2', name, i + 1)\n",
    "            targetCircuit = QuantumCircuit(4, 4)\n",
    "            \n",
    "            if name == 'unitary':\n",
    "                targetCircuit.append(buildU(2, params), [0, 1])\n",
    "            else:\n",
    "                targetCircuit = getVQCCircuit(targetCircuit, 2, params, [0, 1])\n",
    "                \n",
    "            lip += calculateExactLipschitz(\n",
    "                inputCircuits, noiseInputCircuits, \n",
    "                targetCircuit, measureCircuit, measurements\n",
    "            )\n",
    "        lip = lip / MAX_TIMES\n",
    "        \n",
    "        if lip < smallest:\n",
    "            smallest = lip\n",
    "            smallestKey = name\n",
    "        \n",
    "        print(f'Lipschitz for [{name}] is: {lip}\\n')\n",
    "    \n",
    "    smallestDict[smallestKey]  += 1.0\n",
    "    print(f'smallest one: [{smallestKey}]')\n",
    "        \n",
    "    print('-' * 25)\n",
    "    print()\n",
    "\n",
    "print(smallestDict)"
   ]
  },
  {
   "cell_type": "markdown",
   "metadata": {},
   "source": [
    "<table>\n",
    "    <tr>\n",
    "        <th rowspan=\"2\">Strategy</th><th rowspan=\"2\">Error Type</th><th colspan=\"4\">Probability</th>\n",
    "    </tr>\n",
    "    <tr>\n",
    "                                                 <td>0.0001</td><td>0.001</td><td>0.01</td><td>0.1</td>\n",
    "    </tr>\n",
    "    <tr>\n",
    "        <td rowspan=\"3\">Parameterized Unitary</td><td>bit flip</td><td>1</td><td>2</td><td>3</td><td>4</td>\n",
    "    </tr>\n",
    "    <tr>\n",
    "        <td>phase flip</td><td>1</td><td>2</td><td>3</td><td>4</td>\n",
    "    </tr>\n",
    "    <tr>\n",
    "        <td>depolarizing</td><td>1</td><td>2</td><td>3</td><td>4</td>\n",
    "    </tr>\n",
    "    <tr>\n",
    "        <td rowspan=\"3\">VQC</td><td>bit flip</td><td>1</td><td>2</td><td>3</td><td>4</td>\n",
    "    </tr>\n",
    "    <tr>\n",
    "        <td>phase flip</td><td>1</td><td>2</td><td>3</td><td>4</td>\n",
    "    </tr>\n",
    "    <tr>\n",
    "        <td>depolarizing</td><td>1</td><td>2</td><td>3</td><td>4</td>\n",
    "    </tr>\n",
    "    \n",
    "</table>"
   ]
  },
  {
   "cell_type": "markdown",
   "metadata": {},
   "source": [
    "### - approximate Lipschitz"
   ]
  },
  {
   "cell_type": "code",
   "execution_count": 81,
   "metadata": {},
   "outputs": [
    {
     "name": "stdout",
     "output_type": "stream",
     "text": [
      "Lipschitz for [unitary] is: 0.017500816648836334\n",
      "\n",
      "Lipschitz for [vqc] is: 0.002732042244530813\n",
      "\n"
     ]
    }
   ],
   "source": [
    "for name in names: # unitary or vqc\n",
    "    lip = 0.0\n",
    "\n",
    "    for i in range(MAX_TIMES):\n",
    "        # build targetCircuit\n",
    "        params = loadParams('sdc2', name, i + 1)\n",
    "        targetCircuit = QuantumCircuit(4, 4)\n",
    "\n",
    "        if name == 'unitary':\n",
    "            targetCircuit.append(buildU(2, params), [0, 1])\n",
    "        else:\n",
    "            targetCircuit = getVQCCircuit(targetCircuit, 2, params, [0, 1])\n",
    "\n",
    "        lip += calculateLipschitz(targetCircuit, measureCircuit, measurements)\n",
    "                                  \n",
    "    lip = lip / MAX_TIMES\n",
    "\n",
    "    print(f'Lipschitz for [{name}] is: {lip}\\n')"
   ]
  },
  {
   "cell_type": "code",
   "execution_count": null,
   "metadata": {},
   "outputs": [],
   "source": []
  }
 ],
 "metadata": {
  "kernelspec": {
   "display_name": "Python 3",
   "language": "python",
   "name": "python3"
  },
  "language_info": {
   "codemirror_mode": {
    "name": "ipython",
    "version": 3
   },
   "file_extension": ".py",
   "mimetype": "text/x-python",
   "name": "python",
   "nbconvert_exporter": "python",
   "pygments_lexer": "ipython3",
   "version": "3.6.8"
  }
 },
 "nbformat": 4,
 "nbformat_minor": 4
}
