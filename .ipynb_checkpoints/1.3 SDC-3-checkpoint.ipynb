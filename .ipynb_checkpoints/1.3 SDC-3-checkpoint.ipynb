{
 "cells": [
  {
   "cell_type": "code",
   "execution_count": 1,
   "metadata": {},
   "outputs": [],
   "source": [
    "import sys\n",
    "sys.path.append(\"./tools\")"
   ]
  },
  {
   "cell_type": "code",
   "execution_count": 2,
   "metadata": {},
   "outputs": [],
   "source": [
    "import numpy as np\n",
    "\n",
    "import qiskit\n",
    "from qiskit import QuantumCircuit\n",
    "from qiskit import execute, Aer\n",
    "\n",
    "simulator = Aer.get_backend('qasm_simulator')"
   ]
  },
  {
   "cell_type": "code",
   "execution_count": 3,
   "metadata": {},
   "outputs": [],
   "source": [
    "import warnings\n",
    "warnings.filterwarnings('ignore')"
   ]
  },
  {
   "cell_type": "code",
   "execution_count": 4,
   "metadata": {},
   "outputs": [],
   "source": [
    "palette = {\n",
    "    'unitary': '#FF9966', 'vqc': '#66CC99', \n",
    "}"
   ]
  },
  {
   "cell_type": "code",
   "execution_count": 5,
   "metadata": {},
   "outputs": [],
   "source": [
    "%matplotlib inline"
   ]
  },
  {
   "cell_type": "code",
   "execution_count": 59,
   "metadata": {},
   "outputs": [
    {
     "data": {
      "text/html": [
       "<style>\n",
       "table {float:left;}\n",
       "</style>\n"
      ],
      "text/plain": [
       "<IPython.core.display.HTML object>"
      ]
     },
     "metadata": {},
     "output_type": "display_data"
    }
   ],
   "source": [
    "%%html\n",
    "<style>\n",
    "table {float:left;}\n",
    "</style>"
   ]
  },
  {
   "cell_type": "markdown",
   "metadata": {},
   "source": [
    "## Tool Modules"
   ]
  },
  {
   "cell_type": "code",
   "execution_count": 6,
   "metadata": {},
   "outputs": [],
   "source": [
    "from quantum import *\n",
    "from measurements import *\n",
    "\n",
    "from unitary import *\n",
    "from VQC import *\n",
    "\n",
    "from dataSL import *\n",
    "from QOLearner import *\n",
    "\n",
    "from noise import *\n",
    "from lipschitz import *"
   ]
  },
  {
   "cell_type": "markdown",
   "metadata": {},
   "source": [
    "## Prepare Circuits"
   ]
  },
  {
   "cell_type": "markdown",
   "metadata": {},
   "source": [
    "### - Input Circuits"
   ]
  },
  {
   "cell_type": "code",
   "execution_count": 7,
   "metadata": {},
   "outputs": [],
   "source": [
    "def initCircuit(n):\n",
    "    circuit = QuantumCircuit(2 * n, 2 * n)\n",
    "    senders = circuit.qubits[0:n]\n",
    "    receivers = circuit.qubits[n:]\n",
    "    \n",
    "    for sender, receiver in zip(senders, receivers):\n",
    "        circuit.h(sender)\n",
    "        circuit.cx(sender, receiver)\n",
    "        \n",
    "    return senders, receivers, circuit"
   ]
  },
  {
   "cell_type": "code",
   "execution_count": 8,
   "metadata": {},
   "outputs": [],
   "source": [
    "def operate(circuit, target, bits):\n",
    "    \"\"\"\n",
    "        => Z^(b_1) * X^(b_2)\n",
    "    \"\"\"\n",
    "    if bits[0] == '1':\n",
    "        circuit.z(target)\n",
    "    if bits[1] == '1':\n",
    "        circuit.x(target)\n",
    "\n",
    "    return circuit\n",
    "\n",
    "def getCircuit(n, classical_bits):\n",
    "    bits_str = ''.join(classical_bits)\n",
    "    \"\"\"\n",
    "        getCircuit(circuit, [\"01\", \"10\", \"00\"])\n",
    "            => X(A1), Z(A2), I(A3)\n",
    "    \"\"\"\n",
    "    senders, receivers, circuit = initCircuit(n)\n",
    "    circuit_copy = circuit.copy()\n",
    "    \n",
    "    circuit_copy.barrier(senders)\n",
    "    for i, sender in enumerate(senders):\n",
    "        operate(circuit_copy, sender, classical_bits[i])\n",
    "\n",
    "    return circuit_copy"
   ]
  },
  {
   "cell_type": "code",
   "execution_count": 9,
   "metadata": {},
   "outputs": [
    {
     "data": {
      "image/png": "[encoded data removed]",
      "text/plain": [
       "<Figure size 507.997x445.48 with 1 Axes>"
      ]
     },
     "execution_count": 9,
     "metadata": {},
     "output_type": "execute_result"
    }
   ],
   "source": [
    "qc = getCircuit(3, [\"01\", \"10\", \"11\"])\n",
    "qc.draw(output='mpl')"
   ]
  },
  {
   "cell_type": "code",
   "execution_count": 10,
   "metadata": {},
   "outputs": [
    {
     "name": "stdout",
     "output_type": "stream",
     "text": [
      "64\n"
     ]
    }
   ],
   "source": [
    "inputCircuits = []\n",
    "n = 3\n",
    "\n",
    "classical_bits = [\"00\", \"01\", \"10\", \"11\"]\n",
    "for comb in combs[n]:\n",
    "    inputCircuits.append( getCircuit(n, list(map( lambda x: classical_bits[int(x)] , list(comb)))) )\n",
    "\n",
    "print(len(inputCircuits)) # 64"
   ]
  },
  {
   "cell_type": "markdown",
   "metadata": {},
   "source": [
    "### - Output Circuits"
   ]
  },
  {
   "cell_type": "code",
   "execution_count": 12,
   "metadata": {},
   "outputs": [],
   "source": [
    "def getMeasureCircuit(n):\n",
    "    circuit = QuantumCircuit(2 * n, 2 * n)\n",
    "    \n",
    "    for i in range(n):\n",
    "        circuit.cx(i, i + n)\n",
    "        circuit.h(i)\n",
    "    \n",
    "    return circuit"
   ]
  },
  {
   "cell_type": "code",
   "execution_count": 13,
   "metadata": {},
   "outputs": [
    {
     "data": {
      "image/png": "[encoded data removed]",
      "text/plain": [
       "<Figure size 327.397x445.48 with 1 Axes>"
      ]
     },
     "execution_count": 13,
     "metadata": {},
     "output_type": "execute_result"
    }
   ],
   "source": [
    "n = 3\n",
    "\n",
    "measureCircuit = getMeasureCircuit(n)\n",
    "measureCircuit.draw(output='mpl')"
   ]
  },
  {
   "cell_type": "markdown",
   "metadata": {},
   "source": [
    "## Train paramters"
   ]
  },
  {
   "cell_type": "code",
   "execution_count": 16,
   "metadata": {},
   "outputs": [],
   "source": [
    "import time\n",
    "import sys\n",
    "stdout = sys.stdout"
   ]
  },
  {
   "cell_type": "code",
   "execution_count": 15,
   "metadata": {},
   "outputs": [],
   "source": [
    "# experiments times\n",
    "MAX_TIMES = 10"
   ]
  },
  {
   "cell_type": "markdown",
   "metadata": {},
   "source": [
    "### - expecetd"
   ]
  },
  {
   "cell_type": "code",
   "execution_count": 17,
   "metadata": {},
   "outputs": [
    {
     "name": "stdout",
     "output_type": "stream",
     "text": [
      "{'000000': 1, '000001': 1, '000010': 1, '000011': 1, '000100': 1, '000101': 1, '000110': 1, '000111': 1, '001000': 1, '001001': 1, '001010': 1, '001011': 1, '001100': 1, '001101': 1, '001110': 1, '001111': 1, '010000': 1, '010001': 1, '010010': 1, '010011': 1, '010100': 1, '010101': 1, '010110': 1, '010111': 1, '011000': 1, '011001': 1, '011010': 1, '011011': 1, '011100': 1, '011101': 1, '011110': 1, '011111': 1, '100000': 1, '100001': 1, '100010': 1, '100011': 1, '100100': 1, '100101': 1, '100110': 1, '100111': 1, '101000': 1, '101001': 1, '101010': 1, '101011': 1, '101100': 1, '101101': 1, '101110': 1, '101111': 1, '110000': 1, '110001': 1, '110010': 1, '110011': 1, '110100': 1, '110101': 1, '110110': 1, '110111': 1, '111000': 1, '111001': 1, '111010': 1, '111011': 1, '111100': 1, '111101': 1, '111110': 1, '111111': 1}\n",
      "64\n"
     ]
    }
   ],
   "source": [
    "expected = {}\n",
    "\n",
    "n = 3\n",
    "for i in range(2 ** (2 * n)):\n",
    "    expected[bin(i)[2:].rjust(2 * n, '0')] = 1\n",
    "\n",
    "print(expected)\n",
    "print(len(expected)) # 4 ** n"
   ]
  },
  {
   "cell_type": "markdown",
   "metadata": {},
   "source": [
    "## Strategy: unitary"
   ]
  },
  {
   "cell_type": "code",
   "execution_count": 18,
   "metadata": {},
   "outputs": [],
   "source": [
    "qol_unitary = QOLearnerBase([inputCircuits, measureCircuit], 3, [0, 1, 2], expected)"
   ]
  },
  {
   "cell_type": "code",
   "execution_count": null,
   "metadata": {},
   "outputs": [],
   "source": [
    "times_unitary_early = []\n",
    "\n",
    "for i in range(MAX_TIMES):\n",
    "    sys.stdout = None\n",
    "    start = time.clock()\n",
    "    qol_unitary.fit(epoch=1000, strategy='unitary', stepsize=0.005, early_stopping=True)\n",
    "    end = time.clock()\n",
    "    times_unitary_early.append(end - start)\n",
    "    sys.stdout = stdout\n",
    "    print(f'Fin - No. {i + 1}')\n",
    "    \n",
    "    saveParams(qol_unitary.params[-1], 'sdc3', 'unitary', i + 1)\n",
    "    saveLosses(qol_unitary.losses, 'sdc3', 'unitary', i + 1)"
   ]
  },
  {
   "cell_type": "code",
   "execution_count": 20,
   "metadata": {
    "scrolled": true
   },
   "outputs": [],
   "source": [
    "# 10598.685\n",
    "# print(f'Average times for unitary-early: {np.mean(times_unitary_early)}')"
   ]
  },
  {
   "cell_type": "markdown",
   "metadata": {},
   "source": [
    "### - plot a loss example"
   ]
  },
  {
   "cell_type": "code",
   "execution_count": 21,
   "metadata": {},
   "outputs": [
    {
     "data": {
      "image/png": "[encoded data removed]",
      "text/plain": [
       "<Figure size 432x288 with 1 Axes>"
      ]
     },
     "metadata": {
      "needs_background": "light"
     },
     "output_type": "display_data"
    }
   ],
   "source": [
    "plot(loadLosses('sdc3', 'unitary', 8), color=palette['unitary'])"
   ]
  },
  {
   "cell_type": "code",
   "execution_count": 22,
   "metadata": {},
   "outputs": [],
   "source": [
    "losses_unitary_early = []\n",
    "max_length = 0\n",
    "for i in range(MAX_TIMES):\n",
    "    losses_unitary_early.append(loadLosses('sdc3', 'unitary', i + 1))\n",
    "    max_length = max(max_length, len(losses_unitary_early[-1]))\n",
    "\n",
    "for i in range(MAX_TIMES):\n",
    "    length = len(losses_unitary_early[i])\n",
    "    while length < max_length:\n",
    "        losses_unitary_early[i].append(losses_unitary_early[i][-1])\n",
    "        length += 1"
   ]
  },
  {
   "cell_type": "code",
   "execution_count": 53,
   "metadata": {
    "scrolled": true
   },
   "outputs": [
    {
     "data": {
      "image/png": "[encoded data removed]",
      "text/plain": [
       "<Figure size 432x288 with 1 Axes>"
      ]
     },
     "metadata": {
      "needs_background": "light"
     },
     "output_type": "display_data"
    }
   ],
   "source": [
    "plotLosses(losses_unitary_early, color=\"#F5C340\", fill_color=\"#5B72E0\", title='SDC-3 unitary')"
   ]
  },
  {
   "cell_type": "markdown",
   "metadata": {},
   "source": [
    "### - average time and loss"
   ]
  },
  {
   "cell_type": "code",
   "execution_count": 55,
   "metadata": {},
   "outputs": [
    {
     "name": "stdout",
     "output_type": "stream",
     "text": [
      "Average loss for unitary: (0.0013471773823631513+0j)\n"
     ]
    }
   ],
   "source": [
    "average_loss_unitary = 0.0\n",
    "for i in range(MAX_TIMES):\n",
    "    loss = loadLosses('sdc3', 'unitary', i + 1)[-1]\n",
    "    average_loss_unitary += loss\n",
    "print(f'Average loss for unitary: {average_loss_unitary / MAX_TIMES}')"
   ]
  },
  {
   "cell_type": "code",
   "execution_count": 56,
   "metadata": {},
   "outputs": [
    {
     "name": "stdout",
     "output_type": "stream",
     "text": [
      "Average epoch for unitary: 126.0\n"
     ]
    }
   ],
   "source": [
    "average_epoch_unitary = 0\n",
    "for i in range(MAX_TIMES):\n",
    "    loss = loadLosses('sdc3', 'unitary', i + 1)\n",
    "    average_epoch_unitary += len(loss)\n",
    "print(f'Average epoch for unitary: {average_epoch_unitary / MAX_TIMES}')"
   ]
  },
  {
   "cell_type": "code",
   "execution_count": 57,
   "metadata": {},
   "outputs": [],
   "source": [
    "average_time_unitary = 10598.685"
   ]
  },
  {
   "cell_type": "code",
   "execution_count": 58,
   "metadata": {},
   "outputs": [
    {
     "name": "stdout",
     "output_type": "stream",
     "text": [
      "Average time per epoch for unitary: 8.411654761904762\n"
     ]
    }
   ],
   "source": [
    "average_time_per_epoch_unitary = average_time_unitary / average_epoch_unitary\n",
    "print(f'Average time per epoch for unitary: {average_time_per_epoch_unitary}')"
   ]
  },
  {
   "cell_type": "markdown",
   "metadata": {},
   "source": [
    "|Strategy| parameterized unitary |\n",
    "|:----------------:|:-----:|\n",
    "| Average loss | 1.347e-3 |\n",
    "| Average time | 10598.7 |\n",
    "| Average epochs | 126.0 |\n",
    "| Average time per epoch | 8.412 |"
   ]
  },
  {
   "cell_type": "markdown",
   "metadata": {},
   "source": [
    "## Strategy: VQC"
   ]
  },
  {
   "cell_type": "code",
   "execution_count": 24,
   "metadata": {},
   "outputs": [],
   "source": [
    "qol_vqc = QOLearnerBase([inputCircuits, measureCircuit], 3, [0, 1, 2], expected)"
   ]
  },
  {
   "cell_type": "code",
   "execution_count": 45,
   "metadata": {},
   "outputs": [
    {
     "name": "stdout",
     "output_type": "stream",
     "text": [
      "Fin - No. 8\n",
      "Fin - No. 9\n",
      "Fin - No. 10\n",
      "Fin - No. 11\n",
      "Fin - No. 12\n",
      "Fin - No. 13\n",
      "Fin - No. 14\n"
     ]
    }
   ],
   "source": [
    "times_vqc_early = []\n",
    "\n",
    "for i in range(7, 14):\n",
    "    sys.stdout = None\n",
    "    start = time.clock()\n",
    "    qol_vqc.fit(epoch=1000, strategy='vqc', stepsize=0.005, early_stopping=True)\n",
    "    end = time.clock()\n",
    "    times_vqc_early.append(end - start)\n",
    "    sys.stdout = stdout\n",
    "    print(f'Fin - No. {i + 1}')\n",
    "    \n",
    "    saveParams(qol_vqc.params[-1], 'sdc3', 'vqc', i + 1)\n",
    "    saveLosses(qol_vqc.losses, 'sdc3', 'vqc', i + 1)"
   ]
  },
  {
   "cell_type": "code",
   "execution_count": 26,
   "metadata": {},
   "outputs": [],
   "source": [
    "# 4839.122767319997"
   ]
  },
  {
   "cell_type": "code",
   "execution_count": 26,
   "metadata": {},
   "outputs": [
    {
     "name": "stdout",
     "output_type": "stream",
     "text": [
      "Average times for vqc-early: 4839.122767319997\n"
     ]
    }
   ],
   "source": [
    "print(f'Average times for vqc-early: {np.mean(times_vqc_early)}')"
   ]
  },
  {
   "cell_type": "markdown",
   "metadata": {},
   "source": [
    "### - plot a loss example"
   ]
  },
  {
   "cell_type": "code",
   "execution_count": 46,
   "metadata": {
    "scrolled": true
   },
   "outputs": [
    {
     "data": {
      "image/png": "[encoded data removed]",
      "text/plain": [
       "<Figure size 432x288 with 1 Axes>"
      ]
     },
     "metadata": {
      "needs_background": "light"
     },
     "output_type": "display_data"
    }
   ],
   "source": [
    "plot(loadLosses('sdc3', 'vqc', 5), color=palette['vqc'])"
   ]
  },
  {
   "cell_type": "code",
   "execution_count": 27,
   "metadata": {},
   "outputs": [],
   "source": [
    "losses_vqc_early = []\n",
    "max_length = 0\n",
    "for i in range(10):\n",
    "    losses_vqc_early.append(loadLosses('sdc2', 'vqc', i + 1))\n",
    "    max_length = max(max_length, len(losses_vqc_early[-1]))\n",
    "\n",
    "for i in range(10):\n",
    "    length = len(losses_vqc_early[i])\n",
    "    while length < max_length:\n",
    "        losses_vqc_early[i].append(losses_vqc_early[i][-1])\n",
    "        length += 1"
   ]
  },
  {
   "cell_type": "code",
   "execution_count": 54,
   "metadata": {
    "scrolled": false
   },
   "outputs": [
    {
     "data": {
      "image/png": "[encoded data removed]",
      "text/plain": [
       "<Figure size 432x288 with 1 Axes>"
      ]
     },
     "metadata": {
      "needs_background": "light"
     },
     "output_type": "display_data"
    }
   ],
   "source": [
    "plotLosses(losses_vqc_early, color=\"#EF6327\", fill_color=\"#A4E8DB\", title=\"early stopping vqc\")"
   ]
  },
  {
   "cell_type": "markdown",
   "metadata": {},
   "source": [
    "### - average time and loss"
   ]
  },
  {
   "cell_type": "code",
   "execution_count": 60,
   "metadata": {},
   "outputs": [
    {
     "name": "stdout",
     "output_type": "stream",
     "text": [
      "Average loss for vqc: (0.0005458991404556508+0j)\n"
     ]
    }
   ],
   "source": [
    "average_loss_vqc = 0.0\n",
    "for i in range(MAX_TIMES):\n",
    "    loss = loadLosses('sdc3', 'vqc', i + 1)[-1]\n",
    "    average_loss_vqc += loss\n",
    "print(f'Average loss for vqc: {average_loss_vqc / MAX_TIMES}')"
   ]
  },
  {
   "cell_type": "code",
   "execution_count": 61,
   "metadata": {},
   "outputs": [
    {
     "name": "stdout",
     "output_type": "stream",
     "text": [
      "Average epoch for vqc: 159.4\n"
     ]
    }
   ],
   "source": [
    "average_epoch_vqc = 0\n",
    "for i in range(MAX_TIMES):\n",
    "    loss = loadLosses('sdc3', 'vqc', i + 1)\n",
    "    average_epoch_vqc += len(loss)\n",
    "print(f'Average epoch for vqc: {average_epoch_vqc / MAX_TIMES}')"
   ]
  },
  {
   "cell_type": "code",
   "execution_count": 62,
   "metadata": {},
   "outputs": [],
   "source": [
    "average_time_vqc = 4839.122767319997"
   ]
  },
  {
   "cell_type": "code",
   "execution_count": 63,
   "metadata": {},
   "outputs": [
    {
     "name": "stdout",
     "output_type": "stream",
     "text": [
      "Average time per epoch for vqc: 3.035836115006272\n"
     ]
    }
   ],
   "source": [
    "average_time_per_epoch_vqc = average_time_vqc / average_epoch_vqc\n",
    "print(f'Average time per epoch for vqc: {average_time_per_epoch_vqc}')"
   ]
  },
  {
   "cell_type": "markdown",
   "metadata": {},
   "source": [
    "| Strategy | VQC |\n",
    "|:----------------:|:-----:|\n",
    "| Average loss | 5.459e-4 |\n",
    "| Average time | 4839.12 |\n",
    "| Average epochs | 159.4 |\n",
    "| Average time per epoch | 3.0358 |"
   ]
  },
  {
   "cell_type": "markdown",
   "metadata": {},
   "source": [
    "##  Summarize"
   ]
  },
  {
   "cell_type": "code",
   "execution_count": 29,
   "metadata": {
    "scrolled": false
   },
   "outputs": [
    {
     "data": {
      "image/png": "[encoded data removed]",
      "text/plain": [
       "<Figure size 1080x432 with 2 Axes>"
      ]
     },
     "metadata": {
      "needs_background": "light"
     },
     "output_type": "display_data"
    }
   ],
   "source": [
    "plt.figure(figsize=(15, 6))\n",
    "plt.subplot(1,2,1)\n",
    "plotLosses(losses_unitary_early, color=\"#F5C340\", fill_color=\"#5B72E0\", title=\"early stopping unitary\")\n",
    "plt.subplot(1,2,2)\n",
    "plotLosses(losses_vqc_early, color=\"#EF6327\", fill_color=\"#A4E8DB\", title=\"early stopping vqc\")"
   ]
  },
  {
   "cell_type": "markdown",
   "metadata": {},
   "source": [
    "|Indicators| PU | VQC |\n",
    "|:----------------:|:-----:|:-----:|\n",
    "| Average loss | 1.347e-3 |5.459e-4 |\n",
    "| Average time | 10598.7 |4839.12 |\n",
    "| Average epochs | 126.0 |159.4 |\n",
    "| Average time per epoch | 8.412 |3.0358 |\n",
    "| Total parameters | 64 |18 |\n",
    "| Average robustness score | 1.231e-3 |6.540e-4 |"
   ]
  },
  {
   "cell_type": "markdown",
   "metadata": {},
   "source": [
    "## Compare Lipschitz"
   ]
  },
  {
   "cell_type": "code",
   "execution_count": 30,
   "metadata": {},
   "outputs": [],
   "source": [
    "measurements = getMeasurements(6)"
   ]
  },
  {
   "cell_type": "code",
   "execution_count": 31,
   "metadata": {},
   "outputs": [],
   "source": [
    "names = ['unitary', 'vqc']"
   ]
  },
  {
   "cell_type": "code",
   "execution_count": 64,
   "metadata": {},
   "outputs": [],
   "source": [
    "error_params = [\n",
    "    [0.0001 , 'b'], [0.0001 , 'p'], [0.0001 , 'd'], \n",
    "    [0.001 , 'b'], [0.001 , 'p'], [0.001 , 'd'], \n",
    "    [0.01 , 'b'], [0.01 , 'p'], [0.01 , 'd'],\n",
    "    [0.1 , 'b'], [0.1 , 'p'], [0.1 , 'd'], \n",
    "]"
   ]
  },
  {
   "cell_type": "markdown",
   "metadata": {},
   "source": [
    "### - exact Lipschitz"
   ]
  },
  {
   "cell_type": "code",
   "execution_count": 65,
   "metadata": {
    "scrolled": true
   },
   "outputs": [
    {
     "name": "stdout",
     "output_type": "stream",
     "text": [
      " - p = 0.0001, errorType: b\n",
      "Lipschitz for [unitary] is: 0.0025455642121970474\n",
      "\n",
      "Lipschitz for [vqc] is: 0.0010310448759626527\n",
      "\n",
      "smallest one: [vqc]\n",
      "-------------------------\n",
      "\n",
      " - p = 0.0001, errorType: p\n",
      "Lipschitz for [unitary] is: 3.9945460693060676e-15\n",
      "\n",
      "Lipschitz for [vqc] is: 1.9923009353145964e-15\n",
      "\n",
      "smallest one: [vqc]\n",
      "-------------------------\n",
      "\n",
      " - p = 0.0001, errorType: d\n",
      "Lipschitz for [unitary] is: 0.0013292909334969602\n",
      "\n",
      "Lipschitz for [vqc] is: 0.0005458958899904632\n",
      "\n",
      "smallest one: [vqc]\n",
      "-------------------------\n",
      "\n",
      " - p = 0.001, errorType: b\n",
      "Lipschitz for [unitary] is: 0.0025449343840461083\n",
      "\n",
      "Lipschitz for [vqc] is: 0.0010306617335924628\n",
      "\n",
      "smallest one: [vqc]\n",
      "-------------------------\n",
      "\n",
      " - p = 0.001, errorType: p\n",
      "Lipschitz for [unitary] is: 2.0766714540245913e-15\n",
      "\n",
      "Lipschitz for [vqc] is: 9.779221963126414e-16\n",
      "\n",
      "smallest one: [vqc]\n",
      "-------------------------\n",
      "\n",
      " - p = 0.001, errorType: d\n",
      "Lipschitz for [unitary] is: 0.001330891511555235\n",
      "\n",
      "Lipschitz for [vqc] is: 0.0005464474428596577\n",
      "\n",
      "smallest one: [vqc]\n",
      "-------------------------\n",
      "\n",
      " - p = 0.01, errorType: b\n",
      "Lipschitz for [unitary] is: 0.002538724158456142\n",
      "\n",
      "Lipschitz for [vqc] is: 0.0010268951323441642\n",
      "\n",
      "smallest one: [vqc]\n",
      "-------------------------\n",
      "\n",
      " - p = 0.01, errorType: p\n",
      "Lipschitz for [unitary] is: 2.5936989566642563e-16\n",
      "\n",
      "Lipschitz for [vqc] is: 1.1650883206883045e-16\n",
      "\n",
      "smallest one: [vqc]\n",
      "-------------------------\n",
      "\n",
      " - p = 0.01, errorType: d\n",
      "Lipschitz for [unitary] is: 0.0013468913489067893\n",
      "\n",
      "Lipschitz for [vqc] is: 0.0005519479236526018\n",
      "\n",
      "smallest one: [vqc]\n",
      "-------------------------\n",
      "\n",
      " - p = 0.1, errorType: b\n",
      "Lipschitz for [unitary] is: 0.0024879052894333916\n",
      "\n",
      "Lipschitz for [vqc] is: 0.0009884549951306282\n",
      "\n",
      "smallest one: [vqc]\n",
      "-------------------------\n",
      "\n",
      " - p = 0.1, errorType: p\n",
      "Lipschitz for [unitary] is: 3.0539213602570875e-17\n",
      "\n",
      "Lipschitz for [vqc] is: 1.3968483491088977e-17\n",
      "\n",
      "smallest one: [vqc]\n",
      "-------------------------\n",
      "\n",
      " - p = 0.1, errorType: d\n",
      "Lipschitz for [unitary] is: 0.0015061600057428466\n",
      "\n",
      "Lipschitz for [vqc] is: 0.0006048675785814389\n",
      "\n",
      "smallest one: [vqc]\n",
      "-------------------------\n",
      "\n",
      "{'unitary': 0, 'vqc': 12.0}\n"
     ]
    }
   ],
   "source": [
    "smallestDict = { k: 0 for k in names }\n",
    "\n",
    "for (p, errorType) in error_params:\n",
    "    print(f' - p = {p}, errorType: {errorType}')\n",
    "    \n",
    "    # simulate noise input circuits\n",
    "    noiseInputCircuits = getNoiseCircuits(inputCircuits, p, errorType)\n",
    "\n",
    "    smallest = 1.0; smallestKey = ''\n",
    "    for name in names: # unitary or vqc\n",
    "        lip = 0.0\n",
    "        \n",
    "        for i in range(MAX_TIMES):\n",
    "            # build targetCircuit\n",
    "            params = loadParams('sdc3', name, i + 1)\n",
    "            targetCircuit = QuantumCircuit(6, 6)\n",
    "            \n",
    "            if name == 'unitary':\n",
    "                targetCircuit.append(buildU(3, params), [0, 1, 2])\n",
    "            else:\n",
    "                targetCircuit = getVQCCircuit(targetCircuit, 3, params, [0, 1, 2])\n",
    "                \n",
    "            lip += calculateExactLipschitz(\n",
    "                inputCircuits, noiseInputCircuits, \n",
    "                targetCircuit, measureCircuit, measurements\n",
    "            )\n",
    "        lip = lip / MAX_TIMES\n",
    "        \n",
    "        if lip < smallest:\n",
    "            smallest = lip\n",
    "            smallestKey = name\n",
    "        \n",
    "        print(f'Lipschitz for [{name}] is: {lip}\\n')\n",
    "    \n",
    "    smallestDict[smallestKey]  += 1.0\n",
    "    print(f'smallest one: [{smallestKey}]')\n",
    "        \n",
    "    print('-' * 25)\n",
    "    print()\n",
    "\n",
    "print(smallestDict)"
   ]
  },
  {
   "cell_type": "markdown",
   "metadata": {},
   "source": [
    "<table>\n",
    "    <tr>\n",
    "        <th style=\"text-align: center\" rowspan=\"2\">Strategy</th><th style=\"text-align: center\" rowspan=\"2\">Error Type</th><th style=\"text-align: center\" colspan=\"4\">Probability</th>\n",
    "    </tr>\n",
    "    <tr>\n",
    "                                                 <td style=\"text-align: center\">0.0001</td><td style=\"text-align: center\">0.001</td><td style=\"text-align: center\">0.01</td><td style=\"text-align: center\">0.1</td>\n",
    "    </tr>\n",
    "    <tr>\n",
    "        <td style=\"text-align: center\" rowspan=\"3\">Parameterized Unitary</td><td style=\"text-align: center\">bit flip</td><td>0.002546</td><td>0.002545</td><td>0.002539</td><td>0.002488</td>\n",
    "    </tr>\n",
    "    <tr>\n",
    "        <td style=\"text-align: center\">phase flip</td><td>3.995e-15</td><td>2.077e-15</td><td>2.594e-16</td><td>3.054e-17</td>\n",
    "    </tr>\n",
    "    <tr>\n",
    "        <td style=\"text-align: center\">depolarizing</td><td>0.001329</td><td>0.001331</td><td>0.001347</td><td>0.001506</td>\n",
    "    </tr>\n",
    "    <tr>\n",
    "        <td style=\"text-align: center\" rowspan=\"3\">VQC</td><td style=\"text-align: center\">bit flip</td><td>0.001031</td><td>0.001031</td><td>0.001027</td><td>9.885e-4</td>\n",
    "    </tr>\n",
    "    <tr>\n",
    "        <td style=\"text-align: center\">phase flip</td><td>1.992e-15</td><td>9.779e-16</td><td>1.165e-16</td><td>1.397e-17</td>\n",
    "    </tr>\n",
    "    <tr>\n",
    "        <td style=\"text-align: center\">depolarizing</td><td>5.459e-4</td><td>5.464e-4</td><td>5.519e-4</td><td>6.049e-4</td>\n",
    "    </tr>\n",
    "    \n",
    "</table>"
   ]
  },
  {
   "cell_type": "markdown",
   "metadata": {},
   "source": [
    "### - approximate Lipschitz"
   ]
  },
  {
   "cell_type": "code",
   "execution_count": 66,
   "metadata": {},
   "outputs": [
    {
     "name": "stdout",
     "output_type": "stream",
     "text": [
      "Lipschitz for [unitary] is: 0.0012314728904562536(best params: No.5(1.884346545544419e-05))\n",
      "\n",
      "Lipschitz for [vqc] is: 0.0006540311177380494(best params: No.1(5.2778759969748e-11))\n",
      "\n"
     ]
    }
   ],
   "source": [
    "for name in names: # unitary or vqc\n",
    "    lip = 0.0\n",
    "    best_index = -1; best_lip = 1\n",
    "\n",
    "    for i in range(MAX_TIMES):\n",
    "        # build targetCircuit\n",
    "        params = loadParams('sdc3', name, i + 1)\n",
    "        targetCircuit = QuantumCircuit(6, 6)\n",
    "\n",
    "        if name == 'unitary':\n",
    "            targetCircuit.append(buildU(3, params), [0, 1, 2])\n",
    "        else:\n",
    "            targetCircuit = getVQCCircuit(targetCircuit, 3, params, [0, 1, 2])\n",
    "\n",
    "        score = calculateLipschitz(targetCircuit, measureCircuit, measurements)\n",
    "        \n",
    "        if score < best_lip:\n",
    "            best_lip = score\n",
    "            best_index = i + 1\n",
    "        \n",
    "        lip += score\n",
    "                                  \n",
    "    lip = lip / MAX_TIMES\n",
    "\n",
    "    print(f'Lipschitz for [{name}] is: {lip}(best params: No.{best_index}({best_lip}))\\n')"
   ]
  },
  {
   "cell_type": "code",
   "execution_count": null,
   "metadata": {},
   "outputs": [],
   "source": []
  }
 ],
 "metadata": {
  "kernelspec": {
   "display_name": "Python 3 (ipykernel)",
   "language": "python",
   "name": "python3"
  },
  "language_info": {
   "codemirror_mode": {
    "name": "ipython",
    "version": 3
   },
   "file_extension": ".py",
   "mimetype": "text/x-python",
   "name": "python",
   "nbconvert_exporter": "python",
   "pygments_lexer": "ipython3",
   "version": "3.8.13"
  }
 },
 "nbformat": 4,
 "nbformat_minor": 4
}
