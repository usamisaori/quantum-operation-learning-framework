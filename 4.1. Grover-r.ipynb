{
 "cells": [
  {
   "cell_type": "code",
   "execution_count": 2,
   "metadata": {},
   "outputs": [],
   "source": [
    "import sys\n",
    "sys.path.append(\"./tools\")"
   ]
  },
  {
   "cell_type": "code",
   "execution_count": 3,
   "metadata": {},
   "outputs": [],
   "source": [
    "import numpy as np\n",
    "\n",
    "import qiskit\n",
    "from qiskit import QuantumCircuit\n",
    "from qiskit import execute, Aer\n",
    "\n",
    "simulator = Aer.get_backend('qasm_simulator')"
   ]
  },
  {
   "cell_type": "code",
   "execution_count": 4,
   "metadata": {},
   "outputs": [],
   "source": [
    "import warnings\n",
    "warnings.filterwarnings('ignore')"
   ]
  },
  {
   "cell_type": "code",
   "execution_count": 5,
   "metadata": {},
   "outputs": [],
   "source": [
    "palette = {\n",
    "    'unitary': '#FF9966', 'vqc': '#66CC99', \n",
    "}"
   ]
  },
  {
   "cell_type": "code",
   "execution_count": 6,
   "metadata": {},
   "outputs": [],
   "source": [
    "%matplotlib inline"
   ]
  },
  {
   "cell_type": "code",
   "execution_count": 7,
   "metadata": {},
   "outputs": [
    {
     "data": {
      "text/html": [
       "<style>\n",
       "table {float:left;}\n",
       "</style>\n"
      ],
      "text/plain": [
       "<IPython.core.display.HTML object>"
      ]
     },
     "metadata": {},
     "output_type": "display_data"
    }
   ],
   "source": [
    "%%html\n",
    "<style>\n",
    "table {float:left;}\n",
    "</style>"
   ]
  },
  {
   "cell_type": "markdown",
   "metadata": {},
   "source": [
    "## Tool Modules"
   ]
  },
  {
   "cell_type": "code",
   "execution_count": 8,
   "metadata": {},
   "outputs": [],
   "source": [
    "from quantum import *\n",
    "from measurements import *\n",
    "\n",
    "from unitary import *\n",
    "from VQC import *\n",
    "\n",
    "from dataSL import *\n",
    "from QOLearner import *\n",
    "\n",
    "from noise import *\n",
    "from lipschitz import *"
   ]
  },
  {
   "cell_type": "markdown",
   "metadata": {},
   "source": [
    "## Prepare Circuits"
   ]
  },
  {
   "cell_type": "code",
   "execution_count": 9,
   "metadata": {},
   "outputs": [],
   "source": [
    "# https://www.quantum-inspire.com/kbase/grover-algorithm/"
   ]
  },
  {
   "cell_type": "markdown",
   "metadata": {},
   "source": [
    "### - Input Circuits"
   ]
  },
  {
   "cell_type": "code",
   "execution_count": 10,
   "metadata": {},
   "outputs": [],
   "source": [
    "def initCircuit(n=3):\n",
    "    circuit = QuantumCircuit(n, n)\n",
    "    \n",
    "    for i in range(n):\n",
    "        circuit.h(i)\n",
    "        circuit.barrier(i)\n",
    "    \n",
    "    return circuit"
   ]
  },
  {
   "cell_type": "code",
   "execution_count": 11,
   "metadata": {},
   "outputs": [
    {
     "data": {
      "image/png": "[encoded data removed]",
      "text/plain": [
       "<Figure size 206.997x264.88 with 1 Axes>"
      ]
     },
     "execution_count": 11,
     "metadata": {},
     "output_type": "execute_result"
    }
   ],
   "source": [
    "inputCircuit = initCircuit()\n",
    "inputCircuit.draw(output='mpl')"
   ]
  },
  {
   "cell_type": "markdown",
   "metadata": {},
   "source": [
    "### - Output Circuits"
   ]
  },
  {
   "cell_type": "code",
   "execution_count": 12,
   "metadata": {},
   "outputs": [],
   "source": [
    "def createDiffuser():\n",
    "    circuit = QuantumCircuit(3, 3)\n",
    "    \n",
    "    # diffuser\n",
    "    circuit.h(2)\n",
    "    circuit.h(0)\n",
    "    circuit.h(1)\n",
    "    circuit.x(2)\n",
    "    circuit.x(0)\n",
    "    circuit.x(1)\n",
    "    circuit.h(2)\n",
    "    circuit.ccx(0, 1, 2)\n",
    "    circuit.barrier(0)\n",
    "    circuit.barrier(1)\n",
    "    circuit.h(2)\n",
    "    circuit.x(2)\n",
    "    circuit.x(0)\n",
    "    circuit.x(1)\n",
    "    circuit.h(0)\n",
    "    circuit.h(1)\n",
    "    circuit.h(2)\n",
    "    \n",
    "    return circuit"
   ]
  },
  {
   "cell_type": "code",
   "execution_count": 14,
   "metadata": {},
   "outputs": [
    {
     "data": {
      "image/png": "[encoded data removed]",
      "text/plain": [
       "<Figure size 507.997x264.88 with 1 Axes>"
      ]
     },
     "execution_count": 14,
     "metadata": {},
     "output_type": "execute_result"
    }
   ],
   "source": [
    "diffuserCircuit = createDiffuser()\n",
    "diffuserCircuit.draw(output='mpl')"
   ]
  },
  {
   "cell_type": "markdown",
   "metadata": {},
   "source": [
    "## Train paramters"
   ]
  },
  {
   "cell_type": "code",
   "execution_count": 16,
   "metadata": {},
   "outputs": [],
   "source": [
    "import time\n",
    "import sys\n",
    "stdout = sys.stdout"
   ]
  },
  {
   "cell_type": "code",
   "execution_count": 17,
   "metadata": {},
   "outputs": [],
   "source": [
    "# experiments times\n",
    "MAX_TIMES = 10"
   ]
  },
  {
   "cell_type": "markdown",
   "metadata": {},
   "source": [
    "### - expecetd"
   ]
  },
  {
   "cell_type": "code",
   "execution_count": 18,
   "metadata": {},
   "outputs": [],
   "source": [
    "expected = {\"110\": 1}"
   ]
  },
  {
   "cell_type": "markdown",
   "metadata": {},
   "source": [
    "## Strategy: unitary"
   ]
  },
  {
   "cell_type": "code",
   "execution_count": 19,
   "metadata": {},
   "outputs": [],
   "source": [
    "qol_unitary = QOLearnerBase([inputCircuit, diffuserCircuit], 3, [0, 1, 2], expected)"
   ]
  },
  {
   "cell_type": "code",
   "execution_count": 35,
   "metadata": {},
   "outputs": [
    {
     "name": "stdout",
     "output_type": "stream",
     "text": [
      "epoch: [1/1000] - loss: (0.14193233778498643+0j) end.\n",
      "epoch: [2/1000] - loss: (0.13846887668827543+0j) end.\n",
      "epoch: [3/1000] - loss: (0.13483759728787542+0j) end.\n",
      "epoch: [4/1000] - loss: (0.13104489613364698+0j) end.\n",
      "epoch: [5/1000] - loss: (0.12709850471293857+0j) end.\n",
      "epoch: [6/1000] - loss: (0.12301292291072712+0j) end.\n",
      "epoch: [7/1000] - loss: (0.11880543709809833+0j) end.\n",
      "epoch: [8/1000] - loss: (0.11449443357498967+0j) end.\n",
      "epoch: [9/1000] - loss: (0.11009904204411552+0j) end.\n",
      "epoch: [10/1000] - loss: (0.10563901746217277+0j) end.\n",
      "epoch: [11/1000] - loss: (0.10113466044965394+0j) end.\n",
      "epoch: [12/1000] - loss: (0.09660671137968584+0j) end.\n",
      "epoch: [13/1000] - loss: (0.0920760986961021+0j) end.\n",
      "epoch: [14/1000] - loss: (0.08756360633235719+0j) end.\n",
      "epoch: [15/1000] - loss: (0.08308943508952314+0j) end.\n",
      "epoch: [16/1000] - loss: (0.07867290759927319+0j) end.\n",
      "epoch: [17/1000] - loss: (0.07433227057947937+0j) end.\n",
      "epoch: [18/1000] - loss: (0.07008457945592056+0j) end.\n",
      "epoch: [19/1000] - loss: (0.06594556156216765+0j) end.\n",
      "epoch: [20/1000] - loss: (0.061929481425942116+0j) end.\n",
      "epoch: [21/1000] - loss: (0.0580490881835522+0j) end.\n",
      "epoch: [22/1000] - loss: (0.05431536199025567+0j) end.\n",
      "epoch: [23/1000] - loss: (0.05073742716085523+0j) end.\n",
      "epoch: [24/1000] - loss: (0.0473224802095337+0j) end.\n",
      "epoch: [25/1000] - loss: (0.0440756920401647+0j) end.\n",
      "epoch: [26/1000] - loss: (0.041000256392752565+0j) end.\n",
      "epoch: [27/1000] - loss: (0.03809743087024773+0j) end.\n",
      "epoch: [28/1000] - loss: (0.035366672119847224+0j) end.\n",
      "epoch: [29/1000] - loss: (0.032805787282630096+0j) end.\n",
      "epoch: [30/1000] - loss: (0.0304111788452392+0j) end.\n",
      "epoch: [31/1000] - loss: (0.02817802285348239+0j) end.\n",
      "epoch: [32/1000] - loss: (0.026100546764797627+0j) end.\n",
      "epoch: [33/1000] - loss: (0.02417220560977374+0j) end.\n",
      "epoch: [34/1000] - loss: (0.02238592873326876+0j) end.\n",
      "epoch: [35/1000] - loss: (0.02073431547865021+0j) end.\n",
      "epoch: [36/1000] - loss: (0.019209749115578715+0j) end.\n",
      "epoch: [37/1000] - loss: (0.01780458877399806+0j) end.\n",
      "epoch: [38/1000] - loss: (0.01651123163265927+0j) end.\n",
      "epoch: [39/1000] - loss: (0.015322241515278256+0j) end.\n",
      "epoch: [40/1000] - loss: (0.01423037668150506+0j) end.\n",
      "epoch: [41/1000] - loss: (0.013228653791062264+0j) end.\n",
      "epoch: [42/1000] - loss: (0.012310382640788825+0j) end.\n",
      "epoch: [43/1000] - loss: (0.011469187307481591+0j) end.\n",
      "epoch: [44/1000] - loss: (0.010699016336741947+0j) end.\n",
      "epoch: [45/1000] - loss: (0.009994156031471635+0j) end.\n",
      "epoch: [46/1000] - loss: (0.009349231471123973+0j) end.\n",
      "epoch: [47/1000] - loss: (0.008759208892759945+0j) end.\n",
      "epoch: [48/1000] - loss: (0.008219382773655927+0j) end.\n",
      "epoch: [49/1000] - loss: (0.0077253762689986315+0j) end.\n",
      "epoch: [50/1000] - loss: (0.007273138903083528+0j) end.\n",
      "epoch: [51/1000] - loss: (0.006858922365984907+0j) end.\n",
      "epoch: [52/1000] - loss: (0.006479274310686502+0j) end.\n",
      "epoch: [53/1000] - loss: (0.006131028055426736+0j) end.\n",
      "epoch: [54/1000] - loss: (0.00581128139568945+0j) end.\n",
      "epoch: [55/1000] - loss: (0.005517387401336025+0j) end.\n",
      "epoch: [56/1000] - loss: (0.005246937957385342+0j) end.\n",
      "epoch: [57/1000] - loss: (0.004997741273924952+0j) end.\n",
      "epoch: [58/1000] - loss: (0.004767815206869506+0j) end.\n",
      "epoch: [59/1000] - loss: (0.004555361452665789+0j) end.\n",
      "epoch: [60/1000] - loss: (0.004358762353600521+0j) end.\n",
      "epoch: [61/1000] - loss: (0.004176552970288597+0j) end.\n",
      "epoch: [62/1000] - loss: (0.004007416804725406+0j) end.\n",
      "epoch: [63/1000] - loss: (0.003850166460546786+0j) end.\n",
      "epoch: [64/1000] - loss: (0.003703736628753779+0j) end.\n",
      "epoch: [65/1000] - loss: (0.0035671662955425423+0j) end.\n",
      "epoch: [66/1000] - loss: (0.0034395910624614736+0j) end.\n",
      "epoch: [67/1000] - loss: (0.003320236047812401+0j) end.\n",
      "epoch: [68/1000] - loss: (0.00320840127957285+0j) end.\n",
      "epoch: [69/1000] - loss: (0.0031034569063455677+0j) end.\n",
      "epoch: [70/1000] - loss: (0.0030048351519062003+0j) end.\n",
      "epoch: [71/1000] - loss: (0.002912024400667162+0j) end.\n",
      "epoch: [72/1000] - loss: (0.0028245610595806344+0j) end.\n",
      "epoch: [73/1000] - loss: (0.0027420260016611836+0j) end.\n",
      "epoch: [74/1000] - loss: (0.0026640421343732423+0j) end.\n",
      "epoch: [75/1000] - loss: (0.0025902621500320244+0j) end.\n",
      "epoch: [76/1000] - loss: (0.0025203753565473195+0j) end.\n",
      "epoch: [77/1000] - loss: (0.0024540960583046075+0j) end.\n",
      "epoch: [78/1000] - loss: (0.00239116518267679+0j) end.\n",
      "epoch: [79/1000] - loss: (0.002331344256522475+0j) end.\n",
      "epoch: [80/1000] - loss: (0.0022744173071175956+0j) end.\n",
      "epoch: [81/1000] - loss: (0.002220184888394826+0j) end.\n",
      "epoch: [82/1000] - loss: (0.002168466353346351+0j) end.\n",
      "epoch: [83/1000] - loss: (0.0021190929456292858+0j) end.\n",
      "epoch: [84/1000] - loss: (0.00207191150820427+0j) end.\n",
      "epoch: [85/1000] - loss: (0.0020267784615687332+0j) end.\n",
      "epoch: [86/1000] - loss: (0.00198356586539639+0j) end.\n",
      "epoch: [87/1000] - loss: (0.001942149987111469+0j) end.\n",
      "epoch: [88/1000] - loss: (0.0019024223104866511+0j) end.\n",
      "epoch: [89/1000] - loss: (0.001864277819762012+0j) end.\n",
      "epoch: [90/1000] - loss: (0.0018276213128641243+0j) end.\n",
      "epoch: [91/1000] - loss: (0.001792365605774832+0j) end.\n",
      "epoch: [92/1000] - loss: (0.0017584277971111077+0j) end.\n",
      "epoch: [93/1000] - loss: (0.001725731385011572+0j) end.\n",
      "epoch: [94/1000] - loss: (0.0016942074265049116+0j) end.\n",
      "epoch: [95/1000] - loss: (0.0016637893452683948+0j) end.\n",
      "epoch: [96/1000] - loss: (0.001634416743709757+0j) end.\n",
      "epoch: [97/1000] - loss: (0.001606032600894134+0j) end.\n",
      "epoch: [98/1000] - loss: (0.001578584720758095+0j) end.\n",
      "epoch: [99/1000] - loss: (0.001552023625349914+0j) end.\n",
      "epoch: [100/1000] - loss: (0.001526303427148534+0j) end.\n",
      "epoch: [101/1000] - loss: (0.0015013829202781088+0j) end.\n",
      "epoch: [102/1000] - loss: (0.0014772202565353028+0j) end.\n",
      "epoch: [103/1000] - loss: (0.0014537788256302542+0j) end.\n",
      "epoch: [104/1000] - loss: (0.0014310244802291454+0j) end.\n",
      "epoch: [105/1000] - loss: (0.001408924773692764+0j) end.\n",
      "epoch: [106/1000] - loss: (0.0013874489533005248+0j) end.\n",
      "epoch: [107/1000] - loss: (0.0013665677897969385+0j) end.\n"
     ]
    },
    {
     "ename": "KeyboardInterrupt",
     "evalue": "",
     "output_type": "error",
     "traceback": [
      "\u001b[1;31m---------------------------------------------------------------------------\u001b[0m",
      "\u001b[1;31mKeyboardInterrupt\u001b[0m                         Traceback (most recent call last)",
      "Input \u001b[1;32mIn [35]\u001b[0m, in \u001b[0;36m<cell line: 3>\u001b[1;34m()\u001b[0m\n\u001b[0;32m      3\u001b[0m \u001b[38;5;28;01mfor\u001b[39;00m i \u001b[38;5;129;01min\u001b[39;00m \u001b[38;5;28mrange\u001b[39m(MAX_TIMES):\n\u001b[0;32m      4\u001b[0m     start \u001b[38;5;241m=\u001b[39m time\u001b[38;5;241m.\u001b[39mperf_counter()\n\u001b[1;32m----> 5\u001b[0m     \u001b[43mqol_unitary\u001b[49m\u001b[38;5;241;43m.\u001b[39;49m\u001b[43mfit\u001b[49m\u001b[43m(\u001b[49m\u001b[43mepoch\u001b[49m\u001b[38;5;241;43m=\u001b[39;49m\u001b[38;5;241;43m1000\u001b[39;49m\u001b[43m,\u001b[49m\u001b[43m \u001b[49m\u001b[43mstrategy\u001b[49m\u001b[38;5;241;43m=\u001b[39;49m\u001b[38;5;124;43m'\u001b[39;49m\u001b[38;5;124;43munitary\u001b[39;49m\u001b[38;5;124;43m'\u001b[39;49m\u001b[43m,\u001b[49m\u001b[43m \u001b[49m\u001b[43mstepsize\u001b[49m\u001b[38;5;241;43m=\u001b[39;49m\u001b[38;5;241;43m0.003\u001b[39;49m\u001b[43m,\u001b[49m\u001b[43m \u001b[49m\u001b[43mearly_stopping\u001b[49m\u001b[38;5;241;43m=\u001b[39;49m\u001b[38;5;28;43;01mTrue\u001b[39;49;00m\u001b[43m,\u001b[49m\u001b[43m \u001b[49m\u001b[43mregularization_lambda\u001b[49m\u001b[38;5;241;43m=\u001b[39;49m\u001b[38;5;241;43m1\u001b[39;49m\u001b[43m)\u001b[49m\n\u001b[0;32m      6\u001b[0m     end \u001b[38;5;241m=\u001b[39m time\u001b[38;5;241m.\u001b[39mperf_counter()\n\u001b[0;32m      7\u001b[0m     times_unitary\u001b[38;5;241m.\u001b[39mappend(end \u001b[38;5;241m-\u001b[39m start)\n",
      "File \u001b[1;32m~\\Desktop\\QOLF\\./tools\\QOLearner.py:154\u001b[0m, in \u001b[0;36mQOLearnerBase.fit\u001b[1;34m(self, epoch, epsilon, stepsize, strategy, early_stopping, regularization_lambda)\u001b[0m\n\u001b[0;32m    151\u001b[0m \u001b[38;5;28;01mwhile\u001b[39;00m t \u001b[38;5;241m<\u001b[39m epoch:\n\u001b[0;32m    152\u001b[0m     \u001b[38;5;66;03m# repeat\u001b[39;00m\n\u001b[0;32m    153\u001b[0m     t \u001b[38;5;241m+\u001b[39m\u001b[38;5;241m=\u001b[39m \u001b[38;5;241m1\u001b[39m\n\u001b[1;32m--> 154\u001b[0m     grad, loss \u001b[38;5;241m=\u001b[39m \u001b[38;5;28;43mself\u001b[39;49m\u001b[38;5;241;43m.\u001b[39;49m\u001b[43mgradientCalculator\u001b[49m\u001b[43m(\u001b[49m\u001b[43mp\u001b[49m\u001b[43m,\u001b[49m\u001b[43m \u001b[49m\u001b[43mepsilon\u001b[49m\u001b[43m)\u001b[49m\n\u001b[0;32m    155\u001b[0m     \u001b[38;5;28mself\u001b[39m\u001b[38;5;241m.\u001b[39mlosses\u001b[38;5;241m.\u001b[39mappend(loss)\n\u001b[0;32m    156\u001b[0m     \u001b[38;5;28mself\u001b[39m\u001b[38;5;241m.\u001b[39mparams\u001b[38;5;241m.\u001b[39mappend(p)\n",
      "File \u001b[1;32m~\\Desktop\\QOLF\\./tools\\QOLearner.py:122\u001b[0m, in \u001b[0;36mQOLearnerBase.gradientCalculator\u001b[1;34m(self, p, epsilon)\u001b[0m\n\u001b[0;32m    120\u001b[0m \u001b[38;5;28;01mfor\u001b[39;00m i, param \u001b[38;5;129;01min\u001b[39;00m \u001b[38;5;28menumerate\u001b[39m(p):\n\u001b[0;32m    121\u001b[0m     p[i] \u001b[38;5;241m+\u001b[39m\u001b[38;5;241m=\u001b[39m epsilon\n\u001b[1;32m--> 122\u001b[0m     l_pe \u001b[38;5;241m=\u001b[39m \u001b[38;5;28;43mself\u001b[39;49m\u001b[38;5;241;43m.\u001b[39;49m\u001b[43mL\u001b[49m\u001b[43m(\u001b[49m\u001b[43mp\u001b[49m\u001b[43m)\u001b[49m\n\u001b[0;32m    123\u001b[0m     p[i] \u001b[38;5;241m-\u001b[39m\u001b[38;5;241m=\u001b[39m epsilon\n\u001b[0;32m    125\u001b[0m     derivates[i] \u001b[38;5;241m=\u001b[39m (l_pe \u001b[38;5;241m-\u001b[39m l_p)\n",
      "File \u001b[1;32m~\\Desktop\\QOLF\\./tools\\QOLearner.py:89\u001b[0m, in \u001b[0;36mQOLearnerBase.L\u001b[1;34m(self, p)\u001b[0m\n\u001b[0;32m     87\u001b[0m \u001b[38;5;66;03m# parametered part => unitary gate / VQC\u001b[39;00m\n\u001b[0;32m     88\u001b[0m \u001b[38;5;28;01mif\u001b[39;00m \u001b[38;5;28mself\u001b[39m\u001b[38;5;241m.\u001b[39mstrategy \u001b[38;5;241m==\u001b[39m \u001b[38;5;124m'\u001b[39m\u001b[38;5;124munitary\u001b[39m\u001b[38;5;124m'\u001b[39m:\n\u001b[1;32m---> 89\u001b[0m     U \u001b[38;5;241m=\u001b[39m \u001b[43mbuildU\u001b[49m\u001b[43m(\u001b[49m\u001b[38;5;28;43mself\u001b[39;49m\u001b[38;5;241;43m.\u001b[39;49m\u001b[43mn\u001b[49m\u001b[43m,\u001b[49m\u001b[43m \u001b[49m\u001b[43mp\u001b[49m\u001b[43m)\u001b[49m\n\u001b[0;32m     90\u001b[0m     targetCircuit\u001b[38;5;241m.\u001b[39mappend(U, \u001b[38;5;28mself\u001b[39m\u001b[38;5;241m.\u001b[39mpos)\n\u001b[0;32m     91\u001b[0m \u001b[38;5;28;01melse\u001b[39;00m:\n",
      "File \u001b[1;32m~\\Desktop\\QOLF\\./tools\\unitary.py:81\u001b[0m, in \u001b[0;36mbuildU\u001b[1;34m(n, p, time)\u001b[0m\n\u001b[0;32m     77\u001b[0m \u001b[38;5;66;03m# time: simulation time\u001b[39;00m\n\u001b[0;32m     78\u001b[0m \u001b[38;5;66;03m# return type => DensityMatrix (qiskit)\u001b[39;00m\n\u001b[0;32m     79\u001b[0m U \u001b[38;5;241m=\u001b[39m HamiltonianGate(H, time)\n\u001b[1;32m---> 81\u001b[0m \u001b[38;5;28;01mreturn\u001b[39;00m UnitaryGate(\u001b[43mU\u001b[49m\u001b[38;5;241;43m.\u001b[39;49m\u001b[43mto_matrix\u001b[49m\u001b[43m(\u001b[49m\u001b[43m)\u001b[49m, label\u001b[38;5;241m=\u001b[39m\u001b[38;5;124m'\u001b[39m\u001b[38;5;124mU\u001b[39m\u001b[38;5;124m'\u001b[39m)\n",
      "File \u001b[1;32m~\\anaconda3\\envs\\qiskit\\lib\\site-packages\\qiskit\\circuit\\gate.py:55\u001b[0m, in \u001b[0;36mGate.to_matrix\u001b[1;34m(self)\u001b[0m\n\u001b[0;32m     44\u001b[0m \u001b[38;5;124;03m\"\"\"Return a Numpy.array for the gate unitary matrix.\u001b[39;00m\n\u001b[0;32m     45\u001b[0m \n\u001b[0;32m     46\u001b[0m \u001b[38;5;124;03mReturns:\u001b[39;00m\n\u001b[1;32m   (...)\u001b[0m\n\u001b[0;32m     51\u001b[0m \u001b[38;5;124;03m        exception will be raised when this base class method is called.\u001b[39;00m\n\u001b[0;32m     52\u001b[0m \u001b[38;5;124;03m\"\"\"\u001b[39;00m\n\u001b[0;32m     53\u001b[0m \u001b[38;5;28;01mif\u001b[39;00m \u001b[38;5;28mhasattr\u001b[39m(\u001b[38;5;28mself\u001b[39m, \u001b[38;5;124m\"\u001b[39m\u001b[38;5;124m__array__\u001b[39m\u001b[38;5;124m\"\u001b[39m):\n\u001b[0;32m     54\u001b[0m     \u001b[38;5;66;03m# pylint: disable=no-member\u001b[39;00m\n\u001b[1;32m---> 55\u001b[0m     \u001b[38;5;28;01mreturn\u001b[39;00m \u001b[38;5;28;43mself\u001b[39;49m\u001b[38;5;241;43m.\u001b[39;49m\u001b[43m__array__\u001b[49m\u001b[43m(\u001b[49m\u001b[43mdtype\u001b[49m\u001b[38;5;241;43m=\u001b[39;49m\u001b[38;5;28;43mcomplex\u001b[39;49m\u001b[43m)\u001b[49m\n\u001b[0;32m     56\u001b[0m \u001b[38;5;28;01mraise\u001b[39;00m CircuitError(\u001b[38;5;124mf\u001b[39m\u001b[38;5;124m\"\u001b[39m\u001b[38;5;124mto_matrix not defined for this \u001b[39m\u001b[38;5;132;01m{\u001b[39;00m\u001b[38;5;28mtype\u001b[39m(\u001b[38;5;28mself\u001b[39m)\u001b[38;5;132;01m}\u001b[39;00m\u001b[38;5;124m\"\u001b[39m)\n",
      "File \u001b[1;32m~\\anaconda3\\envs\\qiskit\\lib\\site-packages\\qiskit\\extensions\\hamiltonian_gate.py:85\u001b[0m, in \u001b[0;36mHamiltonianGate.__array__\u001b[1;34m(self, dtype)\u001b[0m\n\u001b[0;32m     82\u001b[0m \u001b[38;5;28;01mimport\u001b[39;00m \u001b[38;5;21;01mscipy\u001b[39;00m\u001b[38;5;21;01m.\u001b[39;00m\u001b[38;5;21;01mlinalg\u001b[39;00m\n\u001b[0;32m     84\u001b[0m \u001b[38;5;28;01mtry\u001b[39;00m:\n\u001b[1;32m---> 85\u001b[0m     \u001b[38;5;28;01mreturn\u001b[39;00m \u001b[43mscipy\u001b[49m\u001b[38;5;241;43m.\u001b[39;49m\u001b[43mlinalg\u001b[49m\u001b[38;5;241;43m.\u001b[39;49m\u001b[43mexpm\u001b[49m\u001b[43m(\u001b[49m\u001b[38;5;241;43m-\u001b[39;49m\u001b[38;5;241;43m1\u001b[39;49m\u001b[43mj\u001b[49m\u001b[43m \u001b[49m\u001b[38;5;241;43m*\u001b[39;49m\u001b[43m \u001b[49m\u001b[38;5;28;43mself\u001b[39;49m\u001b[38;5;241;43m.\u001b[39;49m\u001b[43mparams\u001b[49m\u001b[43m[\u001b[49m\u001b[38;5;241;43m0\u001b[39;49m\u001b[43m]\u001b[49m\u001b[43m \u001b[49m\u001b[38;5;241;43m*\u001b[39;49m\u001b[43m \u001b[49m\u001b[38;5;28;43mfloat\u001b[39;49m\u001b[43m(\u001b[49m\u001b[38;5;28;43mself\u001b[39;49m\u001b[38;5;241;43m.\u001b[39;49m\u001b[43mparams\u001b[49m\u001b[43m[\u001b[49m\u001b[38;5;241;43m1\u001b[39;49m\u001b[43m]\u001b[49m\u001b[43m)\u001b[49m\u001b[43m)\u001b[49m\n\u001b[0;32m     86\u001b[0m \u001b[38;5;28;01mexcept\u001b[39;00m \u001b[38;5;167;01mTypeError\u001b[39;00m \u001b[38;5;28;01mas\u001b[39;00m ex:\n\u001b[0;32m     87\u001b[0m     \u001b[38;5;28;01mraise\u001b[39;00m \u001b[38;5;167;01mTypeError\u001b[39;00m(\n\u001b[0;32m     88\u001b[0m         \u001b[38;5;124m\"\u001b[39m\u001b[38;5;124mUnable to generate Unitary matrix for \u001b[39m\u001b[38;5;124m\"\u001b[39m\n\u001b[0;32m     89\u001b[0m         \u001b[38;5;124m\"\u001b[39m\u001b[38;5;124munbound t parameter \u001b[39m\u001b[38;5;132;01m{}\u001b[39;00m\u001b[38;5;124m\"\u001b[39m\u001b[38;5;241m.\u001b[39mformat(\u001b[38;5;28mself\u001b[39m\u001b[38;5;241m.\u001b[39mparams[\u001b[38;5;241m1\u001b[39m])\n\u001b[0;32m     90\u001b[0m     ) \u001b[38;5;28;01mfrom\u001b[39;00m \u001b[38;5;21;01mex\u001b[39;00m\n",
      "File \u001b[1;32m~\\anaconda3\\envs\\qiskit\\lib\\site-packages\\scipy\\linalg\\_matfuncs.py:255\u001b[0m, in \u001b[0;36mexpm\u001b[1;34m(A)\u001b[0m\n\u001b[0;32m    253\u001b[0m \u001b[38;5;66;03m# Input checking and conversion is provided by sparse.linalg.expm().\u001b[39;00m\n\u001b[0;32m    254\u001b[0m \u001b[38;5;28;01mimport\u001b[39;00m \u001b[38;5;21;01mscipy\u001b[39;00m\u001b[38;5;21;01m.\u001b[39;00m\u001b[38;5;21;01msparse\u001b[39;00m\u001b[38;5;21;01m.\u001b[39;00m\u001b[38;5;21;01mlinalg\u001b[39;00m\n\u001b[1;32m--> 255\u001b[0m \u001b[38;5;28;01mreturn\u001b[39;00m \u001b[43mscipy\u001b[49m\u001b[38;5;241;43m.\u001b[39;49m\u001b[43msparse\u001b[49m\u001b[38;5;241;43m.\u001b[39;49m\u001b[43mlinalg\u001b[49m\u001b[38;5;241;43m.\u001b[39;49m\u001b[43mexpm\u001b[49m\u001b[43m(\u001b[49m\u001b[43mA\u001b[49m\u001b[43m)\u001b[49m\n",
      "File \u001b[1;32m~\\anaconda3\\envs\\qiskit\\lib\\site-packages\\scipy\\sparse\\linalg\\_matfuncs.py:590\u001b[0m, in \u001b[0;36mexpm\u001b[1;34m(A)\u001b[0m\n\u001b[0;32m    545\u001b[0m \u001b[38;5;28;01mdef\u001b[39;00m \u001b[38;5;21mexpm\u001b[39m(A):\n\u001b[0;32m    546\u001b[0m     \u001b[38;5;124;03m\"\"\"\u001b[39;00m\n\u001b[0;32m    547\u001b[0m \u001b[38;5;124;03m    Compute the matrix exponential using Pade approximation.\u001b[39;00m\n\u001b[0;32m    548\u001b[0m \n\u001b[1;32m   (...)\u001b[0m\n\u001b[0;32m    588\u001b[0m \u001b[38;5;124;03m           [  0.        ,   0.        ,  20.08553692]])\u001b[39;00m\n\u001b[0;32m    589\u001b[0m \u001b[38;5;124;03m    \"\"\"\u001b[39;00m\n\u001b[1;32m--> 590\u001b[0m     \u001b[38;5;28;01mreturn\u001b[39;00m \u001b[43m_expm\u001b[49m\u001b[43m(\u001b[49m\u001b[43mA\u001b[49m\u001b[43m,\u001b[49m\u001b[43m \u001b[49m\u001b[43muse_exact_onenorm\u001b[49m\u001b[38;5;241;43m=\u001b[39;49m\u001b[38;5;124;43m'\u001b[39;49m\u001b[38;5;124;43mauto\u001b[39;49m\u001b[38;5;124;43m'\u001b[39;49m\u001b[43m)\u001b[49m\n",
      "File \u001b[1;32m~\\anaconda3\\envs\\qiskit\\lib\\site-packages\\scipy\\sparse\\linalg\\_matfuncs.py:628\u001b[0m, in \u001b[0;36m_expm\u001b[1;34m(A, use_exact_onenorm)\u001b[0m\n\u001b[0;32m    625\u001b[0m     A \u001b[38;5;241m=\u001b[39m A\u001b[38;5;241m.\u001b[39mastype(\u001b[38;5;28mfloat\u001b[39m)\n\u001b[0;32m    627\u001b[0m \u001b[38;5;66;03m# Detect upper triangularity.\u001b[39;00m\n\u001b[1;32m--> 628\u001b[0m structure \u001b[38;5;241m=\u001b[39m UPPER_TRIANGULAR \u001b[38;5;28;01mif\u001b[39;00m \u001b[43m_is_upper_triangular\u001b[49m\u001b[43m(\u001b[49m\u001b[43mA\u001b[49m\u001b[43m)\u001b[49m \u001b[38;5;28;01melse\u001b[39;00m \u001b[38;5;28;01mNone\u001b[39;00m\n\u001b[0;32m    630\u001b[0m \u001b[38;5;28;01mif\u001b[39;00m use_exact_onenorm \u001b[38;5;241m==\u001b[39m \u001b[38;5;124m\"\u001b[39m\u001b[38;5;124mauto\u001b[39m\u001b[38;5;124m\"\u001b[39m:\n\u001b[0;32m    631\u001b[0m     \u001b[38;5;66;03m# Hardcode a matrix order threshold for exact vs. estimated one-norms.\u001b[39;00m\n\u001b[0;32m    632\u001b[0m     use_exact_onenorm \u001b[38;5;241m=\u001b[39m A\u001b[38;5;241m.\u001b[39mshape[\u001b[38;5;241m0\u001b[39m] \u001b[38;5;241m<\u001b[39m \u001b[38;5;241m200\u001b[39m\n",
      "File \u001b[1;32m~\\anaconda3\\envs\\qiskit\\lib\\site-packages\\scipy\\sparse\\linalg\\_matfuncs.py:124\u001b[0m, in \u001b[0;36m_is_upper_triangular\u001b[1;34m(A)\u001b[0m\n\u001b[0;32m    122\u001b[0m     \u001b[38;5;28;01mreturn\u001b[39;00m lower_part\u001b[38;5;241m.\u001b[39mnnz \u001b[38;5;241m==\u001b[39m \u001b[38;5;241m0\u001b[39m\n\u001b[0;32m    123\u001b[0m \u001b[38;5;28;01melse\u001b[39;00m:\n\u001b[1;32m--> 124\u001b[0m     \u001b[38;5;28;01mreturn\u001b[39;00m \u001b[38;5;129;01mnot\u001b[39;00m \u001b[43mnp\u001b[49m\u001b[38;5;241;43m.\u001b[39;49m\u001b[43mtril\u001b[49m\u001b[43m(\u001b[49m\u001b[43mA\u001b[49m\u001b[43m,\u001b[49m\u001b[43m \u001b[49m\u001b[38;5;241;43m-\u001b[39;49m\u001b[38;5;241;43m1\u001b[39;49m\u001b[43m)\u001b[49m\u001b[38;5;241m.\u001b[39many()\n",
      "File \u001b[1;32m<__array_function__ internals>:5\u001b[0m, in \u001b[0;36mtril\u001b[1;34m(*args, **kwargs)\u001b[0m\n",
      "File \u001b[1;32m~\\anaconda3\\envs\\qiskit\\lib\\site-packages\\numpy\\lib\\twodim_base.py:470\u001b[0m, in \u001b[0;36mtril\u001b[1;34m(m, k)\u001b[0m\n\u001b[0;32m    438\u001b[0m \u001b[38;5;124;03m\"\"\"\u001b[39;00m\n\u001b[0;32m    439\u001b[0m \u001b[38;5;124;03mLower triangle of an array.\u001b[39;00m\n\u001b[0;32m    440\u001b[0m \n\u001b[1;32m   (...)\u001b[0m\n\u001b[0;32m    467\u001b[0m \n\u001b[0;32m    468\u001b[0m \u001b[38;5;124;03m\"\"\"\u001b[39;00m\n\u001b[0;32m    469\u001b[0m m \u001b[38;5;241m=\u001b[39m asanyarray(m)\n\u001b[1;32m--> 470\u001b[0m mask \u001b[38;5;241m=\u001b[39m \u001b[43mtri\u001b[49m\u001b[43m(\u001b[49m\u001b[38;5;241;43m*\u001b[39;49m\u001b[43mm\u001b[49m\u001b[38;5;241;43m.\u001b[39;49m\u001b[43mshape\u001b[49m\u001b[43m[\u001b[49m\u001b[38;5;241;43m-\u001b[39;49m\u001b[38;5;241;43m2\u001b[39;49m\u001b[43m:\u001b[49m\u001b[43m]\u001b[49m\u001b[43m,\u001b[49m\u001b[43m \u001b[49m\u001b[43mk\u001b[49m\u001b[38;5;241;43m=\u001b[39;49m\u001b[43mk\u001b[49m\u001b[43m,\u001b[49m\u001b[43m \u001b[49m\u001b[43mdtype\u001b[49m\u001b[38;5;241;43m=\u001b[39;49m\u001b[38;5;28;43mbool\u001b[39;49m\u001b[43m)\u001b[49m\n\u001b[0;32m    472\u001b[0m \u001b[38;5;28;01mreturn\u001b[39;00m where(mask, m, zeros(\u001b[38;5;241m1\u001b[39m, m\u001b[38;5;241m.\u001b[39mdtype))\n",
      "File \u001b[1;32m~\\anaconda3\\envs\\qiskit\\lib\\site-packages\\numpy\\lib\\twodim_base.py:418\u001b[0m, in \u001b[0;36mtri\u001b[1;34m(N, M, k, dtype, like)\u001b[0m\n\u001b[0;32m    415\u001b[0m \u001b[38;5;28;01mif\u001b[39;00m M \u001b[38;5;129;01mis\u001b[39;00m \u001b[38;5;28;01mNone\u001b[39;00m:\n\u001b[0;32m    416\u001b[0m     M \u001b[38;5;241m=\u001b[39m N\n\u001b[1;32m--> 418\u001b[0m m \u001b[38;5;241m=\u001b[39m greater_equal\u001b[38;5;241m.\u001b[39mouter(\u001b[43marange\u001b[49m\u001b[43m(\u001b[49m\u001b[43mN\u001b[49m\u001b[43m,\u001b[49m\u001b[43m \u001b[49m\u001b[43mdtype\u001b[49m\u001b[38;5;241;43m=\u001b[39;49m\u001b[43m_min_int\u001b[49m\u001b[43m(\u001b[49m\u001b[38;5;241;43m0\u001b[39;49m\u001b[43m,\u001b[49m\u001b[43m \u001b[49m\u001b[43mN\u001b[49m\u001b[43m)\u001b[49m\u001b[43m)\u001b[49m,\n\u001b[0;32m    419\u001b[0m                         arange(\u001b[38;5;241m-\u001b[39mk, M\u001b[38;5;241m-\u001b[39mk, dtype\u001b[38;5;241m=\u001b[39m_min_int(\u001b[38;5;241m-\u001b[39mk, M \u001b[38;5;241m-\u001b[39m k)))\n\u001b[0;32m    421\u001b[0m \u001b[38;5;66;03m# Avoid making a copy if the requested type is already bool\u001b[39;00m\n\u001b[0;32m    422\u001b[0m m \u001b[38;5;241m=\u001b[39m m\u001b[38;5;241m.\u001b[39mastype(dtype, copy\u001b[38;5;241m=\u001b[39m\u001b[38;5;28;01mFalse\u001b[39;00m)\n",
      "\u001b[1;31mKeyboardInterrupt\u001b[0m: "
     ]
    }
   ],
   "source": [
    "times_unitary = []\n",
    "\n",
    "for i in range(MAX_TIMES):\n",
    "    start = time.perf_counter()\n",
    "    qol_unitary.fit(epoch=1000, strategy='unitary', stepsize=0.003, early_stopping=True, regularization_lambda=1)\n",
    "    end = time.perf_counter()\n",
    "    times_unitary.append(end - start)\n",
    "    \n",
    "    print(f'Fin - No. {i + 1}')\n",
    "    \n",
    "    saveParams(qol_unitary.params[-1], 'grover_r', 'unitary', i + 1)\n",
    "    saveLosses(qol_unitary.losses, 'grover_r', 'unitary', i + 1)"
   ]
  },
  {
   "cell_type": "code",
   "execution_count": 21,
   "metadata": {},
   "outputs": [
    {
     "name": "stdout",
     "output_type": "stream",
     "text": [
      "Average times for unitary: 61.368883040000036\n"
     ]
    }
   ],
   "source": [
    "print(f'Average times for unitary: {np.mean(times_unitary)}')"
   ]
  },
  {
   "cell_type": "markdown",
   "metadata": {},
   "source": [
    "### - plot a loss example"
   ]
  },
  {
   "cell_type": "code",
   "execution_count": 22,
   "metadata": {},
   "outputs": [
    {
     "data": {
      "image/png": "[encoded data removed]",
      "text/plain": [
       "<Figure size 432x288 with 1 Axes>"
      ]
     },
     "metadata": {
      "needs_background": "light"
     },
     "output_type": "display_data"
    }
   ],
   "source": [
    "plot(loadLosses('grover_r', 'unitary', 3), color=palette['unitary'])"
   ]
  },
  {
   "cell_type": "code",
   "execution_count": 23,
   "metadata": {},
   "outputs": [],
   "source": [
    "losses_unitary= []\n",
    "max_length = 0\n",
    "for i in range(MAX_TIMES):\n",
    "    losses_unitary.append(loadLosses('grover_r', 'unitary', i + 1))\n",
    "    max_length = max(max_length, len(losses_unitary[-1]))\n",
    "\n",
    "for i in range(MAX_TIMES):\n",
    "    length = len(losses_unitary[i])\n",
    "    while length < max_length:\n",
    "        losses_unitary[i].append(losses_unitary[i][-1])\n",
    "        length += 1"
   ]
  },
  {
   "cell_type": "code",
   "execution_count": 24,
   "metadata": {
    "scrolled": true
   },
   "outputs": [
    {
     "data": {
      "image/png": "[encoded data removed]",
      "text/plain": [
       "<Figure size 432x288 with 1 Axes>"
      ]
     },
     "metadata": {
      "needs_background": "light"
     },
     "output_type": "display_data"
    }
   ],
   "source": [
    "plotLosses(losses_unitary, title='Grover-6 unitary')"
   ]
  },
  {
   "cell_type": "markdown",
   "metadata": {},
   "source": [
    "### - average time and loss"
   ]
  },
  {
   "cell_type": "code",
   "execution_count": 25,
   "metadata": {},
   "outputs": [
    {
     "name": "stdout",
     "output_type": "stream",
     "text": [
      "Average loss for unitary: (0.00043915981386245817+0j)\n"
     ]
    }
   ],
   "source": [
    "average_loss_unitary = 0.0\n",
    "for i in range(MAX_TIMES):\n",
    "    loss = loadLosses('grover_r', 'unitary', i + 1)[-1]\n",
    "    average_loss_unitary += loss\n",
    "print(f'Average loss for unitary: {average_loss_unitary / MAX_TIMES}')"
   ]
  },
  {
   "cell_type": "code",
   "execution_count": 26,
   "metadata": {},
   "outputs": [
    {
     "name": "stdout",
     "output_type": "stream",
     "text": [
      "Average epoch for unitary: 104.7\n"
     ]
    }
   ],
   "source": [
    "average_epoch_unitary = 0\n",
    "for i in range(MAX_TIMES):\n",
    "    loss = loadLosses('grover_r', 'unitary', i + 1)\n",
    "    average_epoch_unitary += len(loss)\n",
    "print(f'Average epoch for unitary: {average_epoch_unitary / MAX_TIMES}')"
   ]
  },
  {
   "cell_type": "code",
   "execution_count": 27,
   "metadata": {},
   "outputs": [],
   "source": [
    "average_time_unitary = 61.368883040000036"
   ]
  },
  {
   "cell_type": "code",
   "execution_count": 28,
   "metadata": {},
   "outputs": [
    {
     "name": "stdout",
     "output_type": "stream",
     "text": [
      "Average time per epoch for unitary: 0.058614023915950365\n"
     ]
    }
   ],
   "source": [
    "average_time_per_epoch_unitary = average_time_unitary / average_epoch_unitary\n",
    "print(f'Average time per epoch for unitary: {average_time_per_epoch_unitary}')"
   ]
  },
  {
   "cell_type": "markdown",
   "metadata": {},
   "source": [
    "|Strategy| parameterized unitary |\n",
    "|:----------------:|:-----:|\n",
    "| Average loss | 6.146e-4 |\n",
    "| Average time | 96.852 |\n",
    "| Average epochs | 145.6 |\n",
    "| Average time per epoch | 0.06652 |"
   ]
  },
  {
   "cell_type": "markdown",
   "metadata": {},
   "source": [
    "## Strategy: VQC"
   ]
  },
  {
   "cell_type": "code",
   "execution_count": 42,
   "metadata": {},
   "outputs": [],
   "source": [
    "qol_vqc = QOLearnerBase([inputCircuit, diffuserCircuit], 3, [0, 1, 2], expected)"
   ]
  },
  {
   "cell_type": "code",
   "execution_count": 34,
   "metadata": {},
   "outputs": [
    {
     "ename": "NameError",
     "evalue": "name 'qol_vqc' is not defined",
     "output_type": "error",
     "traceback": [
      "\u001b[1;31m---------------------------------------------------------------------------\u001b[0m",
      "\u001b[1;31mNameError\u001b[0m                                 Traceback (most recent call last)",
      "Input \u001b[1;32mIn [34]\u001b[0m, in \u001b[0;36m<cell line: 3>\u001b[1;34m()\u001b[0m\n\u001b[0;32m      3\u001b[0m \u001b[38;5;28;01mfor\u001b[39;00m i \u001b[38;5;129;01min\u001b[39;00m \u001b[38;5;28mrange\u001b[39m(MAX_TIMES):\n\u001b[0;32m      4\u001b[0m     start \u001b[38;5;241m=\u001b[39m time\u001b[38;5;241m.\u001b[39mperf_counter()\n\u001b[1;32m----> 5\u001b[0m     \u001b[43mqol_vqc\u001b[49m\u001b[38;5;241m.\u001b[39mfit(epoch\u001b[38;5;241m=\u001b[39m\u001b[38;5;241m1000\u001b[39m, strategy\u001b[38;5;241m=\u001b[39m\u001b[38;5;124m'\u001b[39m\u001b[38;5;124mvqc\u001b[39m\u001b[38;5;124m'\u001b[39m, stepsize\u001b[38;5;241m=\u001b[39m\u001b[38;5;241m0.003\u001b[39m, early_stopping\u001b[38;5;241m=\u001b[39m\u001b[38;5;28;01mTrue\u001b[39;00m,  regularization_lambda\u001b[38;5;241m=\u001b[39m\u001b[38;5;241m1\u001b[39m)\n\u001b[0;32m      6\u001b[0m     end \u001b[38;5;241m=\u001b[39m time\u001b[38;5;241m.\u001b[39mperf_counter()\n\u001b[0;32m      7\u001b[0m     times_vqc\u001b[38;5;241m.\u001b[39mappend(end \u001b[38;5;241m-\u001b[39m start)\n",
      "\u001b[1;31mNameError\u001b[0m: name 'qol_vqc' is not defined"
     ]
    }
   ],
   "source": [
    "times_vqc = []\n",
    "\n",
    "for i in range(MAX_TIMES):\n",
    "    start = time.perf_counter()\n",
    "    qol_vqc.fit(epoch=1000, strategy='vqc', stepsize=0.003, early_stopping=True,  regularization_lambda=1)\n",
    "    end = time.perf_counter()\n",
    "    times_vqc.append(end - start)\n",
    "    print(f'Fin - No. {i + 1}')\n",
    "    \n",
    "    saveParams(qol_vqc.params[-1], 'grover_r', 'vqc', i + 1)\n",
    "    saveLosses(qol_vqc.losses, 'grover_r', 'vqc', i + 1)"
   ]
  },
  {
   "cell_type": "code",
   "execution_count": 46,
   "metadata": {},
   "outputs": [
    {
     "name": "stdout",
     "output_type": "stream",
     "text": [
      "Average times for vqc: 78.20693336000004\n"
     ]
    }
   ],
   "source": [
    "print(f'Average times for vqc: {np.mean(times_vqc)}')"
   ]
  },
  {
   "cell_type": "markdown",
   "metadata": {},
   "source": [
    "### - plot a loss example"
   ]
  },
  {
   "cell_type": "code",
   "execution_count": 48,
   "metadata": {},
   "outputs": [
    {
     "data": {
      "image/png": "[encoded data removed]",
      "text/plain": [
       "<Figure size 432x288 with 1 Axes>"
      ]
     },
     "metadata": {
      "needs_background": "light"
     },
     "output_type": "display_data"
    }
   ],
   "source": [
    "plot(loadLosses('grover_r', 'vqc', 1), color=palette['vqc'])"
   ]
  },
  {
   "cell_type": "code",
   "execution_count": 49,
   "metadata": {},
   "outputs": [],
   "source": [
    "losses_vqc= []\n",
    "max_length = 0\n",
    "for i in range(10):\n",
    "    losses_vqc.append(loadLosses('grover_r', 'vqc', i + 1))\n",
    "    max_length = max(max_length, len(losses_vqc[-1]))\n",
    "\n",
    "for i in range(10):\n",
    "    length = len(losses_vqc[i])\n",
    "    while length < max_length:\n",
    "        losses_vqc[i].append(losses_vqc[i][-1])\n",
    "        length += 1"
   ]
  },
  {
   "cell_type": "code",
   "execution_count": 50,
   "metadata": {
    "scrolled": true
   },
   "outputs": [
    {
     "data": {
      "image/png": "[encoded data removed]",
      "text/plain": [
       "<Figure size 432x288 with 1 Axes>"
      ]
     },
     "metadata": {
      "needs_background": "light"
     },
     "output_type": "display_data"
    }
   ],
   "source": [
    "plotLosses(losses_vqc, color=\"#FF9966\", fill_color=\"#CCFF99\", title=\"grover-6 vqc\")"
   ]
  },
  {
   "cell_type": "markdown",
   "metadata": {},
   "source": [
    "### - average time and loss"
   ]
  },
  {
   "cell_type": "code",
   "execution_count": 45,
   "metadata": {},
   "outputs": [
    {
     "name": "stdout",
     "output_type": "stream",
     "text": [
      "Average loss for vqc: (0.0014480085252654012+0j)\n"
     ]
    }
   ],
   "source": [
    "average_loss_vqc = 0.0\n",
    "for i in range(MAX_TIMES):\n",
    "    loss = loadLosses('grover', 'vqc', i + 1)[-1]\n",
    "    average_loss_vqc += loss\n",
    "print(f'Average loss for vqc: {average_loss_vqc / MAX_TIMES}')"
   ]
  },
  {
   "cell_type": "code",
   "execution_count": 46,
   "metadata": {},
   "outputs": [
    {
     "name": "stdout",
     "output_type": "stream",
     "text": [
      "Average epoch for vqc: 448.9\n"
     ]
    }
   ],
   "source": [
    "average_epoch_vqc = 0\n",
    "for i in range(MAX_TIMES):\n",
    "    loss = loadLosses('grover', 'vqc', i + 1)\n",
    "    average_epoch_vqc += len(loss)\n",
    "print(f'Average epoch for vqc: {average_epoch_vqc / MAX_TIMES}')"
   ]
  },
  {
   "cell_type": "code",
   "execution_count": 47,
   "metadata": {},
   "outputs": [],
   "source": [
    "average_time_vqc = 92.09989926"
   ]
  },
  {
   "cell_type": "code",
   "execution_count": 48,
   "metadata": {},
   "outputs": [
    {
     "name": "stdout",
     "output_type": "stream",
     "text": [
      "Average time per epoch for vqc: 0.020516796449097794\n"
     ]
    }
   ],
   "source": [
    "average_time_per_epoch_vqc = average_time_vqc / average_epoch_vqc\n",
    "print(f'Average time per epoch for vqc: {average_time_per_epoch_vqc}')"
   ]
  },
  {
   "cell_type": "markdown",
   "metadata": {},
   "source": [
    "| Strategy | VQC |\n",
    "|:----------------:|:-----:|\n",
    "| Average loss | 1.448e-3 |\n",
    "| Average time | 92.10 |\n",
    "| Average epochs | 448.9 |\n",
    "| Average time per epoch | 0.02052 |"
   ]
  },
  {
   "cell_type": "markdown",
   "metadata": {},
   "source": [
    "##  Summarize"
   ]
  },
  {
   "cell_type": "code",
   "execution_count": 31,
   "metadata": {
    "scrolled": false
   },
   "outputs": [
    {
     "data": {
      "image/png": "[encoded data removed]",
      "text/plain": [
       "<Figure size 1080x432 with 2 Axes>"
      ]
     },
     "metadata": {
      "needs_background": "light"
     },
     "output_type": "display_data"
    }
   ],
   "source": [
    "plt.figure(figsize=(15, 6))\n",
    "plt.subplot(1,2,1)\n",
    "plotLosses(losses_unitary, title=\"grover-6 unitary\")\n",
    "plt.subplot(1,2,2)\n",
    "plotLosses(losses_vqc, color=\"#FF9966\", fill_color=\"#CCFF99\", title=\"grover-6 vqc\")"
   ]
  },
  {
   "cell_type": "markdown",
   "metadata": {},
   "source": [
    "|Strategy| parameterized unitary |VQC |\n",
    "|:----------------:|:-----:|:-----:|\n",
    "| Average loss | 6.146e-4 | 1.448e-3 |\n",
    "| Average time | 96.852 | 92.10 |\n",
    "| Average epochs | 145.6 |448.9 |\n",
    "| Average time per epoch | 0.06652 |0.02052 |"
   ]
  },
  {
   "cell_type": "markdown",
   "metadata": {},
   "source": [
    "## Compare Lipschitz"
   ]
  },
  {
   "cell_type": "code",
   "execution_count": 30,
   "metadata": {},
   "outputs": [],
   "source": [
    "measurements = getMeasurements(3)"
   ]
  },
  {
   "cell_type": "code",
   "execution_count": 31,
   "metadata": {},
   "outputs": [],
   "source": [
    "names = ['unitary', 'vqc']"
   ]
  },
  {
   "cell_type": "code",
   "execution_count": 32,
   "metadata": {},
   "outputs": [],
   "source": [
    "error_params = [\n",
    "    [0.0001 , 'b'], [0.0001 , 'p'], [0.0001 , 'd'], \n",
    "    [0.001 , 'b'], [0.001 , 'p'], [0.001 , 'd'], \n",
    "    [0.01 , 'b'], [0.01 , 'p'], [0.01 , 'd'],\n",
    "    [0.1 , 'b'], [0.1 , 'p'], [0.1 , 'd'], \n",
    "]"
   ]
  },
  {
   "cell_type": "markdown",
   "metadata": {},
   "source": [
    "### - exact Lipschitz"
   ]
  },
  {
   "cell_type": "code",
   "execution_count": 52,
   "metadata": {
    "scrolled": true
   },
   "outputs": [
    {
     "name": "stdout",
     "output_type": "stream",
     "text": [
      " - p = 0.0001, errorType: b\n",
      "Lipschitz for [unitary] is: 0.02804068356979437\n",
      "\n",
      "Lipschitz for [vqc] is: 0.024512998338303265\n",
      "\n",
      "smallest one: [vqc]\n",
      "-------------------------\n",
      "\n",
      " - p = 0.0001, errorType: p\n",
      "Lipschitz for [unitary] is: 0.011475409742266995\n",
      "\n",
      "Lipschitz for [vqc] is: 0.008553197418383476\n",
      "\n",
      "smallest one: [vqc]\n",
      "-------------------------\n",
      "\n",
      " - p = 0.0001, errorType: d\n",
      "Lipschitz for [unitary] is: 0.011475379256266386\n",
      "\n",
      "Lipschitz for [vqc] is: 0.00855353902680296\n",
      "\n",
      "smallest one: [vqc]\n",
      "-------------------------\n",
      "\n",
      " - p = 0.001, errorType: b\n",
      "Lipschitz for [unitary] is: 0.027684652787261156\n",
      "\n",
      "Lipschitz for [vqc] is: 0.021821300126301853\n",
      "\n",
      "smallest one: [vqc]\n",
      "-------------------------\n",
      "\n",
      " - p = 0.001, errorType: p\n",
      "Lipschitz for [unitary] is: 0.011475956946980897\n",
      "\n",
      "Lipschitz for [vqc] is: 0.008547045485729545\n",
      "\n",
      "smallest one: [vqc]\n",
      "-------------------------\n",
      "\n",
      " - p = 0.001, errorType: d\n",
      "Lipschitz for [unitary] is: 0.01147565322942903\n",
      "\n",
      "Lipschitz for [vqc] is: 0.00855046386646848\n",
      "\n",
      "smallest one: [vqc]\n",
      "-------------------------\n",
      "\n",
      " - p = 0.01, errorType: b\n",
      "Lipschitz for [unitary] is: 0.027184180571139215\n",
      "\n",
      "Lipschitz for [vqc] is: 0.022560760909575952\n",
      "\n",
      "smallest one: [vqc]\n",
      "-------------------------\n",
      "\n",
      " - p = 0.01, errorType: p\n",
      "Lipschitz for [unitary] is: 0.011481295795530349\n",
      "\n",
      "Lipschitz for [vqc] is: 0.008485236507331715\n",
      "\n",
      "smallest one: [vqc]\n",
      "-------------------------\n",
      "\n",
      " - p = 0.01, errorType: d\n",
      "Lipschitz for [unitary] is: 0.01147835987694338\n",
      "\n",
      "Lipschitz for [vqc] is: 0.008519639972310577\n",
      "\n",
      "smallest one: [vqc]\n",
      "-------------------------\n",
      "\n",
      " - p = 0.1, errorType: b\n",
      "Lipschitz for [unitary] is: 0.026955002872125582\n",
      "\n",
      "Lipschitz for [vqc] is: 0.02736534692058649\n",
      "\n",
      "smallest one: [unitary]\n",
      "-------------------------\n",
      "\n",
      " - p = 0.1, errorType: p\n",
      "Lipschitz for [unitary] is: 0.01151972447298685\n",
      "\n",
      "Lipschitz for [vqc] is: 0.008005267716719753\n",
      "\n",
      "smallest one: [vqc]\n",
      "-------------------------\n",
      "\n",
      " - p = 0.1, errorType: d\n",
      "Lipschitz for [unitary] is: 0.011501917966246538\n",
      "\n",
      "Lipschitz for [vqc] is: 0.008204061611372429\n",
      "\n",
      "smallest one: [vqc]\n",
      "-------------------------\n",
      "\n",
      "{'unitary': 1.0, 'vqc': 11.0}\n"
     ]
    }
   ],
   "source": [
    "smallestDict = { k: 0 for k in names }\n",
    "\n",
    "for (p, errorType) in error_params:\n",
    "    print(f' - p = {p}, errorType: {errorType}')\n",
    "    \n",
    "    # simulate noise input circuits\n",
    "    noiseInputCircuits = getNoiseCircuits([inputCircuit], p, errorType)\n",
    "\n",
    "    smallest = 1.0; smallestKey = ''\n",
    "    for name in names: # unitary or vqc\n",
    "        lip = 0.0\n",
    "        \n",
    "        for i in range(MAX_TIMES):\n",
    "            # build targetCircuit\n",
    "            params = loadParams('grover', name, i + 1)\n",
    "            targetCircuit = QuantumCircuit(3, 3)\n",
    "            \n",
    "            if name == 'unitary':\n",
    "                targetCircuit.append(buildU(3, params), [0, 1, 2])\n",
    "            else:\n",
    "                targetCircuit = getVQCCircuit(targetCircuit, 3, params, [0, 1, 2])\n",
    "                \n",
    "            lip += calculateExactLipschitz(\n",
    "                [inputCircuit], noiseInputCircuits, \n",
    "                targetCircuit, diffuserCircuit, measurements\n",
    "            )\n",
    "        lip = lip / MAX_TIMES\n",
    "        \n",
    "        if lip < smallest:\n",
    "            smallest = lip\n",
    "            smallestKey = name\n",
    "        \n",
    "        print(f'Lipschitz for [{name}] is: {lip}\\n')\n",
    "    \n",
    "    smallestDict[smallestKey]  += 1.0\n",
    "    print(f'smallest one: [{smallestKey}]')\n",
    "        \n",
    "    print('-' * 25)\n",
    "    print()\n",
    "\n",
    "print(smallestDict)"
   ]
  },
  {
   "cell_type": "markdown",
   "metadata": {},
   "source": [
    "<table>\n",
    "    <tr>\n",
    "        <th rowspan=\"2\">Strategy</th><th rowspan=\"2\">Error Type</th><th colspan=\"4\">Probability</th>\n",
    "    </tr>\n",
    "    <tr>\n",
    "                                                 <td>0.0001</td><td>0.001</td><td>0.01</td><td>0.1</td>\n",
    "    </tr>\n",
    "    <tr>\n",
    "        <td rowspan=\"3\">Parameterized Unitary</td><td>bit flip</td><td>0.02804</td><td>0.02768</td><td> 0.02718</td><td>0.02696</td>\n",
    "    </tr>\n",
    "    <tr>\n",
    "        <td>phase flip</td><td>0.01148</td><td>0.01148</td><td>0.01148</td><td>0.01152</td>\n",
    "    </tr>\n",
    "    <tr>\n",
    "        <td>depolarizing</td><td>0.01148</td><td>0.01148</td><td>0.01148</td><td>0.01150</td>\n",
    "    </tr>\n",
    "    <tr>\n",
    "        <td rowspan=\"3\">VQC</td><td>bit flip</td><td> 0.02451</td><td>0.02182</td><td>0.02256</td><td>0.02696</td>\n",
    "    </tr>\n",
    "    <tr>\n",
    "        <td>phase flip</td><td>0.008553</td><td>0.008547</td><td>0.008485</td><td>0.008005</td>\n",
    "    </tr>\n",
    "    <tr>\n",
    "        <td>depolarizing</td><td>0.008554</td><td>0.008550</td><td>0.008520</td><td>0.008204</td>\n",
    "    </tr>\n",
    "    \n",
    "</table>"
   ]
  },
  {
   "cell_type": "markdown",
   "metadata": {},
   "source": [
    "### - approximate Lipschitz"
   ]
  },
  {
   "cell_type": "code",
   "execution_count": 33,
   "metadata": {},
   "outputs": [
    {
     "name": "stdout",
     "output_type": "stream",
     "text": [
      "Lipschitz for [unitary] is: 0.01304604277668465(best params: No.8(0.00013822188447689743))\n",
      "\n",
      "Lipschitz for [vqc] is: 0.016084098193649643(best params: No.7(6.0839104896731605e-05))\n",
      "\n"
     ]
    }
   ],
   "source": [
    "for name in names: # unitary or vqc\n",
    "    lip = 0.0\n",
    "    best_index = -1; best_lip = 1\n",
    "\n",
    "    for i in range(MAX_TIMES):\n",
    "        # build targetCircuit\n",
    "        params = loadParams('grover_r', name, i + 1)\n",
    "        targetCircuit = QuantumCircuit(3, 3)\n",
    "\n",
    "        if name == 'unitary':\n",
    "            targetCircuit.append(buildU(3, params), [0, 1, 2])\n",
    "        else:\n",
    "            targetCircuit = getVQCCircuit(targetCircuit, 3, params, [0, 1, 2])\n",
    "\n",
    "        score = calculateLipschitz(targetCircuit, diffuserCircuit, measurements)\n",
    "        \n",
    "        if score < best_lip:\n",
    "            best_lip = score\n",
    "            best_index = i + 1\n",
    "        \n",
    "        lip += score\n",
    "        \n",
    "    lip = lip / MAX_TIMES\n",
    "\n",
    "    print(f'Lipschitz for [{name}] is: {lip}(best params: No.{best_index}({best_lip}))\\n')"
   ]
  },
  {
   "cell_type": "code",
   "execution_count": null,
   "metadata": {},
   "outputs": [],
   "source": []
  }
 ],
 "metadata": {
  "kernelspec": {
   "display_name": "Python 3 (ipykernel)",
   "language": "python",
   "name": "python3"
  },
  "language_info": {
   "codemirror_mode": {
    "name": "ipython",
    "version": 3
   },
   "file_extension": ".py",
   "mimetype": "text/x-python",
   "name": "python",
   "nbconvert_exporter": "python",
   "pygments_lexer": "ipython3",
   "version": "3.8.13"
  }
 },
 "nbformat": 4,
 "nbformat_minor": 4
}
