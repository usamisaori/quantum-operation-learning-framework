{
 "cells": [
  {
   "cell_type": "code",
   "execution_count": 1,
   "metadata": {},
   "outputs": [],
   "source": [
    "import sys\n",
    "sys.path.append(\"./tools\")"
   ]
  },
  {
   "cell_type": "code",
   "execution_count": 2,
   "metadata": {},
   "outputs": [],
   "source": [
    "import numpy as np\n",
    "\n",
    "import qiskit\n",
    "from qiskit import QuantumCircuit\n",
    "from qiskit import execute, Aer\n",
    "from qiskit.visualization import plot_bloch_multivector, plot_histogram\n",
    "\n",
    "simulator = Aer.get_backend('qasm_simulator')"
   ]
  },
  {
   "cell_type": "code",
   "execution_count": 3,
   "metadata": {},
   "outputs": [],
   "source": [
    "import warnings\n",
    "warnings.filterwarnings('ignore')"
   ]
  },
  {
   "cell_type": "code",
   "execution_count": 4,
   "metadata": {},
   "outputs": [],
   "source": [
    "palette = {\n",
    "    'unitary': '#FF9966', 'vqc': '#66CC99', \n",
    "}"
   ]
  },
  {
   "cell_type": "code",
   "execution_count": 5,
   "metadata": {},
   "outputs": [],
   "source": [
    "%matplotlib inline"
   ]
  },
  {
   "cell_type": "markdown",
   "metadata": {},
   "source": [
    "## Tool Modules"
   ]
  },
  {
   "cell_type": "code",
   "execution_count": 6,
   "metadata": {},
   "outputs": [],
   "source": [
    "from unitary import *\n",
    "from VQC import *\n",
    "\n",
    "from dataSL import *#"
   ]
  },
  {
   "cell_type": "markdown",
   "metadata": {},
   "source": [
    "## Prepare Circuits"
   ]
  },
  {
   "cell_type": "markdown",
   "metadata": {},
   "source": [
    "### - input circuit"
   ]
  },
  {
   "cell_type": "code",
   "execution_count": 7,
   "metadata": {},
   "outputs": [],
   "source": [
    "def initCircuit(n):\n",
    "    circuit = QuantumCircuit(2 * n, 2 * n)\n",
    "    senders = circuit.qubits[0:n]\n",
    "    receivers = circuit.qubits[n:]\n",
    "    \n",
    "    for sender, receiver in zip(senders, receivers):\n",
    "        circuit.h(sender)\n",
    "        circuit.cx(sender, receiver)\n",
    "        \n",
    "    return senders, receivers, circuit"
   ]
  },
  {
   "cell_type": "code",
   "execution_count": 9,
   "metadata": {},
   "outputs": [],
   "source": [
    "def operate(circuit, target, bits):\n",
    "    \"\"\"\n",
    "        => Z^(b_1) * X^(b_2)\n",
    "    \"\"\"\n",
    "    if bits[0] == '1':\n",
    "        circuit.z(target)\n",
    "    if bits[1] == '1':\n",
    "        circuit.x(target)\n",
    "\n",
    "    return circuit\n",
    "\n",
    "def getCircuit(n, classical_bits):\n",
    "    bits_str = ''.join(classical_bits)\n",
    "    \"\"\"\n",
    "        getCircuit(circuit, [\"01\", \"10\", \"00\"])\n",
    "            => X(A1), Z(A2), I(A3)\n",
    "    \"\"\"\n",
    "    senders, receivers, circuit = initCircuit(n)\n",
    "    circuit_copy = circuit.copy()\n",
    "    \n",
    "    circuit_copy.barrier(senders)\n",
    "    for i, sender in enumerate(senders):\n",
    "        operate(circuit_copy, sender, classical_bits[i])\n",
    "\n",
    "    return circuit_copy"
   ]
  },
  {
   "cell_type": "markdown",
   "metadata": {},
   "source": [
    "### - target circuit"
   ]
  },
  {
   "cell_type": "code",
   "execution_count": 10,
   "metadata": {},
   "outputs": [],
   "source": [
    "def getTargetCircuit(strategy, n, p, pos):\n",
    "    circuit = QuantumCircuit(2 * n, 2 * n)\n",
    "    \n",
    "    if strategy == 'vqc':\n",
    "        circuit = getVQCCircuit(circuit, n, p, pos)\n",
    "    elif strategy == 'unitary':\n",
    "        unitary = buildU(n, p)\n",
    "        circuit.append(unitary, pos)\n",
    "        \n",
    "    return circuit"
   ]
  },
  {
   "cell_type": "markdown",
   "metadata": {},
   "source": [
    "### - Output Circuits"
   ]
  },
  {
   "cell_type": "code",
   "execution_count": 12,
   "metadata": {},
   "outputs": [],
   "source": [
    "def getMeasureCircuit(n):\n",
    "    circuit = QuantumCircuit(2 * n, 2 * n)\n",
    "    \n",
    "    for i in range(n):\n",
    "        circuit.cx(i, i + n)\n",
    "        circuit.h(i)\n",
    "    \n",
    "    return circuit"
   ]
  },
  {
   "cell_type": "markdown",
   "metadata": {},
   "source": [
    "### - Full Circuit"
   ]
  },
  {
   "cell_type": "code",
   "execution_count": 13,
   "metadata": {},
   "outputs": [],
   "source": [
    "def getFullCircuit(strategy, n, bits, p):\n",
    "    inputCircuit = getCircuit(n, bits)\n",
    "    inputCircuit.barrier()\n",
    "    \n",
    "    targetCircuit = getTargetCircuit(strategy, n, p, [0, 1])\n",
    "    targetCircuit.barrier()\n",
    "    \n",
    "    outputCircuit = getMeasureCircuit(n)\n",
    "    \n",
    "    return inputCircuit.compose(targetCircuit).compose(outputCircuit)"
   ]
  },
  {
   "cell_type": "code",
   "execution_count": 14,
   "metadata": {},
   "outputs": [
    {
     "data": {
      "image/png": "[encoded data removed]",
      "text/plain": [
       "<Figure size 1230.4x325.08 with 1 Axes>"
      ]
     },
     "execution_count": 14,
     "metadata": {},
     "output_type": "execute_result"
    }
   ],
   "source": [
    "qc = getFullCircuit('vqc', 2, ['01', '11'], loadParams('sdc2', 'vqc', 2))\n",
    "qc.draw(output='mpl')"
   ]
  },
  {
   "cell_type": "code",
   "execution_count": 18,
   "metadata": {},
   "outputs": [
    {
     "data": {
      "text/plain": [
       "18"
      ]
     },
     "execution_count": 18,
     "metadata": {},
     "output_type": "execute_result"
    }
   ],
   "source": [
    "len(loadParams('sdc3', 'vqc', 4))"
   ]
  },
  {
   "cell_type": "code",
   "execution_count": 19,
   "metadata": {},
   "outputs": [
    {
     "data": {
      "text/plain": [
       "64"
      ]
     },
     "execution_count": 19,
     "metadata": {},
     "output_type": "execute_result"
    }
   ],
   "source": [
    "len(loadParams('sdc3', 'unitary', 4))"
   ]
  },
  {
   "cell_type": "code",
   "execution_count": 15,
   "metadata": {},
   "outputs": [
    {
     "data": {
      "image/png": "[encoded data removed]",
      "text/plain": [
       "<Figure size 808.997x325.08 with 1 Axes>"
      ]
     },
     "execution_count": 15,
     "metadata": {},
     "output_type": "execute_result"
    }
   ],
   "source": [
    "qc = getFullCircuit('unitary', 2, ['01', '11'], loadParams('sdc2', 'unitary', 4))\n",
    "qc.draw(output='mpl')"
   ]
  },
  {
   "cell_type": "markdown",
   "metadata": {},
   "source": [
    "## Validate"
   ]
  },
  {
   "cell_type": "markdown",
   "metadata": {},
   "source": [
    "### - infos"
   ]
  },
  {
   "cell_type": "code",
   "execution_count": 20,
   "metadata": {},
   "outputs": [
    {
     "name": "stdout",
     "output_type": "stream",
     "text": [
      "[['00', '00'], ['00', '01'], ['00', '10'], ['00', '11'], ['01', '00'], ['01', '01'], ['01', '10'], ['01', '11'], ['10', '00'], ['10', '01'], ['10', '10'], ['10', '11'], ['11', '00'], ['11', '01'], ['11', '10'], ['11', '11']]\n",
      "16\n"
     ]
    }
   ],
   "source": [
    "allInfos = []\n",
    "classical_bits = [\"00\", \"01\", \"10\", \"11\"]\n",
    "for comb in combs[2]:\n",
    "    allInfos.append(list(map( lambda x: classical_bits[int(x)] , list(comb))))\n",
    "\n",
    "print(allInfos)\n",
    "print(len(allInfos))"
   ]
  },
  {
   "cell_type": "code",
   "execution_count": 104,
   "metadata": {},
   "outputs": [],
   "source": [
    "infos_example = [\"11\", \"01\"]"
   ]
  },
  {
   "cell_type": "markdown",
   "metadata": {},
   "source": [
    "### - statistic"
   ]
  },
  {
   "cell_type": "code",
   "execution_count": 22,
   "metadata": {},
   "outputs": [],
   "source": [
    "def statisticCount(counts):\n",
    "    dict1 = {'00': 0, '01': 0, '10': 0, '11': 0}\n",
    "    dict2 = {'00': 0, '01': 0, '10': 0, '11': 0}\n",
    "\n",
    "    for key in counts:\n",
    "        # dict[key[:2]]\n",
    "        dict1[ key[:2] ] += counts[key]\n",
    "        dict2[ key[2:4] ] += counts[key]\n",
    "\n",
    "    stds = np.array([\n",
    "        np.std(list(dict1.values())),\n",
    "        np.std(list(dict2.values())),\n",
    "    ])\n",
    "    \n",
    "    print(f'1: {dict1}, std: {stds[0]}')\n",
    "    print(f'2: {dict2}, std: {stds[1]}')\n",
    "    \n",
    "    return stds"
   ]
  },
  {
   "cell_type": "code",
   "execution_count": 23,
   "metadata": {},
   "outputs": [],
   "source": [
    "def stat(circuit, shots=1000):\n",
    "    circuit = circuit.copy()\n",
    "    circuit.measure([0, 2, 1, 3], [3, 2, 1, 0])\n",
    "    \n",
    "    job = execute(circuit, simulator, shots = shots)\n",
    "    results = job.result()\n",
    "    counts = results.get_counts(circuit)\n",
    "    \n",
    "    print(counts)\n",
    "    print()\n",
    "    statisticCount(counts)"
   ]
  },
  {
   "cell_type": "code",
   "execution_count": 29,
   "metadata": {},
   "outputs": [],
   "source": [
    "def statAll(strategy, circuitFactory, infos, *, shots=1000, params=None):\n",
    "    stds = np.array([0.0, 0.0])\n",
    "    \n",
    "    for i, info in enumerate(infos):\n",
    "        print(f'No. {i + 1}: info: {info}\\n')\n",
    "        \n",
    "        if not isinstance(params, type(None)):\n",
    "            circuit = circuitFactory(strategy, 2, info, params)\n",
    "        else:\n",
    "            circuit = circuitFactory(strategy, 2, info)\n",
    "        circuit.measure([0, 2, 1, 3], [3, 2, 1, 0])\n",
    "\n",
    "        job = execute(circuit, simulator, shots = shots)\n",
    "        results = job.result()\n",
    "        counts = results.get_counts(circuit)\n",
    "        \n",
    "        stds += statisticCount(counts)\n",
    "        print()\n",
    "    \n",
    "    print('-' * 64)\n",
    "    print('Average: ', stds / 16)"
   ]
  },
  {
   "cell_type": "code",
   "execution_count": 30,
   "metadata": {},
   "outputs": [],
   "source": [
    "def getCounts(circuit, shots=1000):\n",
    "    circuit = circuit.copy()\n",
    "    circuit.measure([0, 2, 1, 3], [3, 2, 1, 0])\n",
    "    \n",
    "    job = execute(circuit, simulator, shots = shots)\n",
    "    results = job.result()\n",
    "    counts = results.get_counts(circuit)\n",
    "    \n",
    "    return counts"
   ]
  },
  {
   "cell_type": "markdown",
   "metadata": {},
   "source": [
    "## Test: Unitary"
   ]
  },
  {
   "cell_type": "code",
   "execution_count": 132,
   "metadata": {},
   "outputs": [],
   "source": [
    "best_unitary_params = loadParams('sdc2', 'unitary', 9)"
   ]
  },
  {
   "cell_type": "code",
   "execution_count": 88,
   "metadata": {
    "scrolled": true
   },
   "outputs": [
    {
     "name": "stdout",
     "output_type": "stream",
     "text": [
      "No. 1: info: ['00', '00']\n",
      "\n",
      "1: {'00': 2576, '01': 2312, '10': 2464, '11': 2648}, std: 126.80693987317886\n",
      "2: {'00': 2500, '01': 2469, '10': 2472, '11': 2559}, std: 36.145539143855636\n",
      "\n",
      "No. 2: info: ['00', '01']\n",
      "\n",
      "1: {'00': 2468, '01': 2319, '10': 2571, '11': 2642}, std: 121.43928524163834\n",
      "2: {'00': 2532, '01': 2478, '10': 2522, '11': 2468}, std: 27.459060435491963\n",
      "\n",
      "No. 3: info: ['00', '10']\n",
      "\n",
      "1: {'00': 2482, '01': 2269, '10': 2565, '11': 2684}, std: 151.4645172969564\n",
      "2: {'00': 2414, '01': 2610, '10': 2437, '11': 2539}, std: 79.03480246068817\n",
      "\n",
      "No. 4: info: ['00', '11']\n",
      "\n",
      "1: {'00': 2536, '01': 2325, '10': 2488, '11': 2651}, std: 117.11746240420341\n",
      "2: {'00': 2499, '01': 2476, '10': 2518, '11': 2507}, std: 15.411035007422441\n",
      "\n",
      "No. 5: info: ['01', '00']\n",
      "\n",
      "1: {'00': 2205, '01': 2510, '10': 2680, '11': 2605}, std: 180.65851765139666\n",
      "2: {'00': 2529, '01': 2449, '10': 2475, '11': 2547}, std: 39.61060464067672\n",
      "\n",
      "No. 6: info: ['01', '01']\n",
      "\n",
      "1: {'00': 2282, '01': 2543, '10': 2627, '11': 2548}, std: 130.1979262507664\n",
      "2: {'00': 2475, '01': 2454, '10': 2566, '11': 2505}, std: 42.19597137168429\n",
      "\n",
      "No. 7: info: ['01', '10']\n",
      "\n",
      "1: {'00': 2315, '01': 2530, '10': 2652, '11': 2503}, std: 120.66275315937392\n",
      "2: {'00': 2468, '01': 2592, '10': 2426, '11': 2514}, std: 61.56297588648554\n",
      "\n",
      "No. 8: info: ['01', '11']\n",
      "\n",
      "1: {'00': 2344, '01': 2504, '10': 2701, '11': 2451}, std: 129.57044416069584\n",
      "2: {'00': 2516, '01': 2459, '10': 2457, '11': 2568}, std: 45.8530260724415\n",
      "\n",
      "No. 9: info: ['10', '00']\n",
      "\n",
      "1: {'00': 2559, '01': 2608, '10': 2571, '11': 2262}, std: 138.59112525699473\n",
      "2: {'00': 2524, '01': 2488, '10': 2454, '11': 2534}, std: 31.591137997862628\n",
      "\n",
      "No. 10: info: ['10', '01']\n",
      "\n",
      "1: {'00': 2535, '01': 2620, '10': 2551, '11': 2294}, std: 123.14828460031427\n",
      "2: {'00': 2451, '01': 2516, '10': 2629, '11': 2404}, std: 84.43044474595642\n",
      "\n",
      "No. 11: info: ['10', '10']\n",
      "\n",
      "1: {'00': 2565, '01': 2637, '10': 2527, '11': 2271}, std: 137.98913000667844\n",
      "2: {'00': 2457, '01': 2582, '10': 2514, '11': 2447}, std: 53.800557617928085\n",
      "\n",
      "No. 12: info: ['10', '11']\n",
      "\n",
      "1: {'00': 2590, '01': 2643, '10': 2511, '11': 2256}, std: 148.49747472600333\n",
      "2: {'00': 2557, '01': 2506, '10': 2480, '11': 2457}, std: 37.19542982679458\n",
      "\n",
      "No. 13: info: ['11', '00']\n",
      "\n",
      "1: {'00': 2687, '01': 2513, '10': 2267, '11': 2533}, std: 150.42938542718306\n",
      "2: {'00': 2516, '01': 2430, '10': 2459, '11': 2595}, std: 62.972216095671904\n",
      "\n",
      "No. 14: info: ['11', '01']\n",
      "\n",
      "1: {'00': 2600, '01': 2575, '10': 2216, '11': 2609}, std: 164.43995864752583\n",
      "2: {'00': 2458, '01': 2462, '10': 2586, '11': 2494}, std: 51.57518783291051\n",
      "\n",
      "No. 15: info: ['11', '10']\n",
      "\n",
      "1: {'00': 2593, '01': 2565, '10': 2291, '11': 2551}, std: 121.61003248087717\n",
      "2: {'00': 2521, '01': 2555, '10': 2410, '11': 2514}, std: 54.226377345347345\n",
      "\n",
      "No. 16: info: ['11', '11']\n",
      "\n",
      "1: {'00': 2628, '01': 2549, '10': 2320, '11': 2503}, std: 113.13045566954992\n",
      "2: {'00': 2534, '01': 2494, '10': 2529, '11': 2443}, std: 36.33868462121325\n",
      "\n",
      "----------------------------------------------------------------\n",
      "Average:  [135.9846058   47.46269069]\n"
     ]
    }
   ],
   "source": [
    "statAll('unitary', getFullCircuit, allInfos, shots=10000, params=best_unitary_params)"
   ]
  },
  {
   "cell_type": "code",
   "execution_count": 133,
   "metadata": {},
   "outputs": [
    {
     "data": {
      "image/png": "[encoded data removed]",
      "text/plain": [
       "<Figure size 808.997x325.08 with 1 Axes>"
      ]
     },
     "execution_count": 133,
     "metadata": {},
     "output_type": "execute_result"
    }
   ],
   "source": [
    "unitary_circuit = getFullCircuit('unitary', 2, infos_example, best_unitary_params)\n",
    "unitary_circuit.draw(output='mpl')"
   ]
  },
  {
   "cell_type": "code",
   "execution_count": 134,
   "metadata": {},
   "outputs": [
    {
     "name": "stdout",
     "output_type": "stream",
     "text": [
      "{'0010': 707, '1011': 600, '1000': 597, '0111': 615, '0100': 608, '0011': 665, '1100': 686, '1110': 635, '0001': 609, '0101': 626, '1101': 640, '1111': 603, '0000': 626, '0110': 664, '1010': 553, '1001': 566}\n",
      "\n",
      "1: {'00': 2607, '01': 2513, '10': 2316, '11': 2564}, std: 111.32160616879366\n",
      "2: {'00': 2517, '01': 2441, '10': 2559, '11': 2483}, std: 43.41658669218482\n"
     ]
    }
   ],
   "source": [
    "stat(unitary_circuit, shots=10000)"
   ]
  },
  {
   "cell_type": "code",
   "execution_count": 138,
   "metadata": {},
   "outputs": [
    {
     "data": {
      "image/png": "[encoded data removed]",
      "text/plain": [
       "<Figure size 864x504 with 1 Axes>"
      ]
     },
     "execution_count": 138,
     "metadata": {},
     "output_type": "execute_result"
    }
   ],
   "source": [
    "plot_histogram(getCounts(unitary_circuit, shots=10000), figsize=(12,7), color=palette['unitary'])"
   ]
  },
  {
   "cell_type": "markdown",
   "metadata": {},
   "source": [
    "## Test: VQC"
   ]
  },
  {
   "cell_type": "code",
   "execution_count": 139,
   "metadata": {},
   "outputs": [],
   "source": [
    "best_vqc_params = loadParams('sdc2', 'vqc', 8)"
   ]
  },
  {
   "cell_type": "code",
   "execution_count": 95,
   "metadata": {
    "scrolled": true
   },
   "outputs": [
    {
     "name": "stdout",
     "output_type": "stream",
     "text": [
      "No. 1: info: ['00', '00']\n",
      "\n",
      "1: {'00': 2457, '01': 2447, '10': 2527, '11': 2569}, std: 50.368641037852115\n",
      "2: {'00': 2428, '01': 2458, '10': 2590, '11': 2524}, std: 62.49799996799898\n",
      "\n",
      "No. 2: info: ['00', '01']\n",
      "\n",
      "1: {'00': 2459, '01': 2536, '10': 2579, '11': 2426}, std: 60.609405210742665\n",
      "2: {'00': 2485, '01': 2570, '10': 2549, '11': 2396}, std: 67.71632004177427\n",
      "\n",
      "No. 3: info: ['00', '10']\n",
      "\n",
      "1: {'00': 2587, '01': 2507, '10': 2532, '11': 2374}, std: 78.29112337934615\n",
      "2: {'00': 2448, '01': 2541, '10': 2529, '11': 2482}, std: 37.24916106437835\n",
      "\n",
      "No. 4: info: ['00', '11']\n",
      "\n",
      "1: {'00': 2472, '01': 2500, '10': 2477, '11': 2551}, std: 31.280984639234106\n",
      "2: {'00': 2499, '01': 2495, '10': 2540, '11': 2466}, std: 26.372333988481188\n",
      "\n",
      "No. 5: info: ['01', '00']\n",
      "\n",
      "1: {'00': 2561, '01': 2507, '10': 2406, '11': 2526}, std: 57.623779813545724\n",
      "2: {'00': 2491, '01': 2520, '10': 2519, '11': 2470}, std: 20.868636754709208\n",
      "\n",
      "No. 6: info: ['01', '01']\n",
      "\n",
      "1: {'00': 2497, '01': 2435, '10': 2520, '11': 2548}, std: 41.6473288459176\n",
      "2: {'00': 2495, '01': 2514, '10': 2530, '11': 2461}, std: 25.700194551792794\n",
      "\n",
      "No. 7: info: ['01', '10']\n",
      "\n",
      "1: {'00': 2536, '01': 2542, '10': 2476, '11': 2446}, std: 40.47221268969612\n",
      "2: {'00': 2478, '01': 2483, '10': 2526, '11': 2513}, std: 20.112185361118765\n",
      "\n",
      "No. 8: info: ['01', '11']\n",
      "\n",
      "1: {'00': 2506, '01': 2460, '10': 2523, '11': 2511}, std: 23.90606617576384\n",
      "2: {'00': 2530, '01': 2405, '10': 2552, '11': 2513}, std: 56.564122904894404\n",
      "\n",
      "No. 9: info: ['10', '00']\n",
      "\n",
      "1: {'00': 2463, '01': 2571, '10': 2481, '11': 2485}, std: 41.82104733265297\n",
      "2: {'00': 2497, '01': 2553, '10': 2443, '11': 2507}, std: 39.102429592034305\n",
      "\n",
      "No. 10: info: ['10', '01']\n",
      "\n",
      "1: {'00': 2522, '01': 2513, '10': 2486, '11': 2479}, std: 17.95828499606797\n",
      "2: {'00': 2607, '01': 2448, '10': 2496, '11': 2449}, std: 64.7495173727187\n",
      "\n",
      "No. 11: info: ['10', '10']\n",
      "\n",
      "1: {'00': 2500, '01': 2545, '10': 2509, '11': 2446}, std: 35.43303543305315\n",
      "2: {'00': 2469, '01': 2567, '10': 2501, '11': 2463}, std: 41.291645644125154\n",
      "\n",
      "No. 12: info: ['10', '11']\n",
      "\n",
      "1: {'00': 2533, '01': 2523, '10': 2445, '11': 2499}, std: 34.07345007480164\n",
      "2: {'00': 2474, '01': 2547, '10': 2532, '11': 2447}, std: 40.98170323449234\n",
      "\n",
      "No. 13: info: ['11', '00']\n",
      "\n",
      "1: {'00': 2505, '01': 2539, '10': 2519, '11': 2437}, std: 38.3275357934736\n",
      "2: {'00': 2452, '01': 2505, '10': 2509, '11': 2534}, std: 29.857997253667232\n",
      "\n",
      "No. 14: info: ['11', '01']\n",
      "\n",
      "1: {'00': 2482, '01': 2558, '10': 2511, '11': 2449}, std: 40.03123780249619\n",
      "2: {'00': 2562, '01': 2415, '10': 2536, '11': 2487}, std: 55.97767412102793\n",
      "\n",
      "No. 15: info: ['11', '10']\n",
      "\n",
      "1: {'00': 2473, '01': 2413, '10': 2525, '11': 2589}, std: 64.89221833163049\n",
      "2: {'00': 2412, '01': 2564, '10': 2511, '11': 2513}, std: 55.06813960903346\n",
      "\n",
      "No. 16: info: ['11', '11']\n",
      "\n",
      "1: {'00': 2531, '01': 2513, '10': 2555, '11': 2401}, std: 59.06775770248944\n",
      "2: {'00': 2446, '01': 2517, '10': 2567, '11': 2470}, std: 46.351914739307155\n",
      "\n",
      "----------------------------------------------------------------\n",
      "Average:  [44.73775683 43.15387351]\n"
     ]
    }
   ],
   "source": [
    "statAll('vqc', getFullCircuit, allInfos, shots=10000, params=best_vqc_params)"
   ]
  },
  {
   "cell_type": "code",
   "execution_count": 140,
   "metadata": {},
   "outputs": [
    {
     "data": {
      "image/png": "[encoded data removed]",
      "text/plain": [
       "<Figure size 1230.4x325.08 with 1 Axes>"
      ]
     },
     "execution_count": 140,
     "metadata": {},
     "output_type": "execute_result"
    }
   ],
   "source": [
    "vqc_circuit = getFullCircuit('vqc', 2, infos_example, best_vqc_params)\n",
    "vqc_circuit.draw(output='mpl')"
   ]
  },
  {
   "cell_type": "code",
   "execution_count": 143,
   "metadata": {},
   "outputs": [
    {
     "name": "stdout",
     "output_type": "stream",
     "text": [
      "{'0111': 673, '0110': 621, '1011': 691, '0010': 661, '1100': 592, '1001': 545, '0101': 542, '0100': 698, '1111': 599, '0001': 672, '1000': 649, '1110': 648, '1010': 554, '0000': 563, '0011': 566, '1101': 726}\n",
      "\n",
      "1: {'00': 2462, '01': 2534, '10': 2439, '11': 2565}, std: 51.34685968976097\n",
      "2: {'00': 2502, '01': 2485, '10': 2484, '11': 2529}, std: 18.207141456033124\n"
     ]
    }
   ],
   "source": [
    "stat(vqc_circuit, shots=10000)"
   ]
  },
  {
   "cell_type": "code",
   "execution_count": 148,
   "metadata": {},
   "outputs": [
    {
     "data": {
      "image/png": "[encoded data removed]",
      "text/plain": [
       "<Figure size 864x504 with 1 Axes>"
      ]
     },
     "execution_count": 148,
     "metadata": {},
     "output_type": "execute_result"
    }
   ],
   "source": [
    "plot_histogram(getCounts(vqc_circuit, shots=10000), figsize=(12,7), color=palette['vqc'])"
   ]
  },
  {
   "cell_type": "code",
   "execution_count": null,
   "metadata": {},
   "outputs": [],
   "source": []
  }
 ],
 "metadata": {
  "kernelspec": {
   "display_name": "Python 3 (ipykernel)",
   "language": "python",
   "name": "python3"
  },
  "language_info": {
   "codemirror_mode": {
    "name": "ipython",
    "version": 3
   },
   "file_extension": ".py",
   "mimetype": "text/x-python",
   "name": "python",
   "nbconvert_exporter": "python",
   "pygments_lexer": "ipython3",
   "version": "3.8.13"
  }
 },
 "nbformat": 4,
 "nbformat_minor": 4
}
