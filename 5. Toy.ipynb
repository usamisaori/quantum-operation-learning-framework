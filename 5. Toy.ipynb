{
 "cells": [
  {
   "cell_type": "code",
   "execution_count": 19,
   "metadata": {},
   "outputs": [],
   "source": [
    "import sys\n",
    "sys.path.append(\"./tools\")"
   ]
  },
  {
   "cell_type": "code",
   "execution_count": 20,
   "metadata": {},
   "outputs": [],
   "source": [
    "import numpy as np\n",
    "\n",
    "import qiskit\n",
    "from qiskit import QuantumCircuit\n",
    "from qiskit import execute, Aer\n",
    "\n",
    "simulator = Aer.get_backend('qasm_simulator')"
   ]
  },
  {
   "cell_type": "code",
   "execution_count": 21,
   "metadata": {},
   "outputs": [],
   "source": [
    "import warnings\n",
    "warnings.filterwarnings('ignore')"
   ]
  },
  {
   "cell_type": "code",
   "execution_count": 22,
   "metadata": {},
   "outputs": [],
   "source": [
    "palette = {\n",
    "    'unitary': '#FF9966', 'vqc': '#66CC99', \n",
    "}"
   ]
  },
  {
   "cell_type": "code",
   "execution_count": 23,
   "metadata": {},
   "outputs": [],
   "source": [
    "%matplotlib inline"
   ]
  },
  {
   "cell_type": "code",
   "execution_count": 24,
   "metadata": {},
   "outputs": [
    {
     "data": {
      "text/html": [
       "<style>\n",
       "table {float:left;}\n",
       "</style>\n"
      ],
      "text/plain": [
       "<IPython.core.display.HTML object>"
      ]
     },
     "metadata": {},
     "output_type": "display_data"
    }
   ],
   "source": [
    "%%html\n",
    "<style>\n",
    "table {float:left;}\n",
    "</style>"
   ]
  },
  {
   "cell_type": "markdown",
   "metadata": {},
   "source": [
    "## Tool Modules"
   ]
  },
  {
   "cell_type": "code",
   "execution_count": 25,
   "metadata": {},
   "outputs": [],
   "source": [
    "from quantum import *\n",
    "from measurements import *\n",
    "\n",
    "from unitary import *\n",
    "from VQC import *\n",
    "\n",
    "from dataSL import *\n",
    "from QOLearner import *\n",
    "\n",
    "from noise import *\n",
    "from lipschitz import *"
   ]
  },
  {
   "cell_type": "markdown",
   "metadata": {},
   "source": [
    "## Prepare Circuits"
   ]
  },
  {
   "cell_type": "markdown",
   "metadata": {},
   "source": [
    "### - Input Circuits"
   ]
  },
  {
   "cell_type": "code",
   "execution_count": 26,
   "metadata": {},
   "outputs": [],
   "source": [
    "def initCircuit(n=4):\n",
    "    circuit = QuantumCircuit(n, n)\n",
    "    \n",
    "    for i in range(n):\n",
    "        circuit.h(i)\n",
    "        circuit.barrier(i)\n",
    "    \n",
    "    return circuit"
   ]
  },
  {
   "cell_type": "code",
   "execution_count": 27,
   "metadata": {},
   "outputs": [
    {
     "data": {
      "image/png": "[encoded data removed]",
      "text/plain": [
       "<Figure size 206.997x325.08 with 1 Axes>"
      ]
     },
     "execution_count": 27,
     "metadata": {},
     "output_type": "execute_result"
    }
   ],
   "source": [
    "inputCircuit = initCircuit()\n",
    "inputCircuit.draw(output='mpl')"
   ]
  },
  {
   "cell_type": "markdown",
   "metadata": {},
   "source": [
    "### - Output Circuits"
   ]
  },
  {
   "cell_type": "code",
   "execution_count": 28,
   "metadata": {},
   "outputs": [],
   "source": [
    "def cnx(qc, *qubits):\n",
    "    if len(qubits) >= 3:\n",
    "        last = qubits[-1]\n",
    "        # A matrix: (made up of a  and Y rotation, lemma4.3)\n",
    "        qc.crz(np.pi/2, qubits[-2], qubits[-1])\n",
    "        qc.cu3(np.pi/2, 0, 0, qubits[-2],qubits[-1])\n",
    "        \n",
    "        # Control not gate\n",
    "        cnx(qc,*qubits[:-2],qubits[-1])\n",
    "        \n",
    "        # B matrix (pposite angle)\n",
    "        qc.cu3(-np.pi/2, 0, 0, qubits[-2], qubits[-1])\n",
    "        \n",
    "        # Control\n",
    "        cnx(qc,*qubits[:-2],qubits[-1])\n",
    "        \n",
    "        # C matrix (final rotation)\n",
    "        qc.crz(-np.pi/2,qubits[-2],qubits[-1])\n",
    "    elif len(qubits)==3:\n",
    "        qc.ccx(*qubits)\n",
    "    elif len(qubits)==2:\n",
    "        qc.cx(*qubits)"
   ]
  },
  {
   "cell_type": "code",
   "execution_count": 29,
   "metadata": {},
   "outputs": [],
   "source": [
    "def createDiffuser():\n",
    "    circuit = QuantumCircuit(4, 4)\n",
    "    \n",
    "    # diffuser\n",
    "    circuit.h(2)\n",
    "    circuit.h(0)\n",
    "    circuit.h(1)\n",
    "    circuit.h(3)\n",
    "    circuit.x(3)\n",
    "    circuit.x(2)\n",
    "    circuit.x(0)\n",
    "    circuit.x(1)\n",
    "    circuit.barrier()\n",
    "    circuit.h(3)\n",
    "    cnx(circuit, 0, 1, 2, 3)\n",
    "    circuit.h(3)\n",
    "    circuit.barrier()\n",
    "    circuit.x(3)\n",
    "    circuit.x(2)\n",
    "    circuit.x(0)\n",
    "    circuit.x(1)\n",
    "    circuit.h(0)\n",
    "    circuit.h(1)\n",
    "    circuit.h(2)\n",
    "    circuit.h(3)\n",
    "    \n",
    "    return circuit"
   ]
  },
  {
   "cell_type": "code",
   "execution_count": 30,
   "metadata": {},
   "outputs": [
    {
     "data": {
      "image/png": "[encoded data removed]",
      "text/plain": [
       "<Figure size 1531.4x325.08 with 1 Axes>"
      ]
     },
     "execution_count": 30,
     "metadata": {},
     "output_type": "execute_result"
    }
   ],
   "source": [
    "diffuserCircuit = createDiffuser()\n",
    "diffuserCircuit.draw(output='mpl')"
   ]
  },
  {
   "cell_type": "markdown",
   "metadata": {},
   "source": [
    "## Train paramters"
   ]
  },
  {
   "cell_type": "code",
   "execution_count": 31,
   "metadata": {},
   "outputs": [],
   "source": [
    "import time\n",
    "import sys\n",
    "stdout = sys.stdout"
   ]
  },
  {
   "cell_type": "code",
   "execution_count": 32,
   "metadata": {},
   "outputs": [],
   "source": [
    "# experiments times\n",
    "MAX_TIMES = 10"
   ]
  },
  {
   "cell_type": "markdown",
   "metadata": {},
   "source": [
    "### - expecetd"
   ]
  },
  {
   "cell_type": "code",
   "execution_count": 33,
   "metadata": {},
   "outputs": [],
   "source": [
    "# 2 3 5 7 11 13 \n",
    "expected = {\"0010\":1, \"0011\":1, \"0101\":1, \"0111\":1, \"1011\":1, \"1101\": 1}"
   ]
  },
  {
   "cell_type": "markdown",
   "metadata": {},
   "source": [
    "## Strategy: unitary"
   ]
  },
  {
   "cell_type": "code",
   "execution_count": 34,
   "metadata": {},
   "outputs": [],
   "source": [
    "qol_unitary = QOLearnerBase([inputCircuit, diffuserCircuit], 4, [0, 1, 2, 3], expected)"
   ]
  },
  {
   "cell_type": "code",
   "execution_count": 17,
   "metadata": {},
   "outputs": [
    {
     "name": "stdout",
     "output_type": "stream",
     "text": [
      "epoch: [1/1000] - loss: (0.007043353231205516+0j) end.\n",
      "epoch: [2/1000] - loss: (0.006182101017773006+0j) end.\n",
      "epoch: [3/1000] - loss: (0.005414925337519737+0j) end.\n",
      "epoch: [4/1000] - loss: (0.004734402611813649+0j) end.\n",
      "epoch: [5/1000] - loss: (0.004130454576061362+0j) end.\n",
      "epoch: [6/1000] - loss: (0.0035948418267680686+0j) end.\n",
      "epoch: [7/1000] - loss: (0.0031228773348283777+0j) end.\n",
      "epoch: [8/1000] - loss: (0.002711986718238208+0j) end.\n",
      "epoch: [9/1000] - loss: (0.0023601514155698173+0j) end.\n",
      "epoch: [10/1000] - loss: (0.0020642844833627452+0j) end.\n",
      "epoch: [11/1000] - loss: (0.0018186018954331861+0j) end.\n",
      "epoch: [12/1000] - loss: (0.0016137093227838741+0j) end.\n",
      "epoch: [13/1000] - loss: (0.0014370268630211093+0j) end.\n",
      "epoch: [14/1000] - loss: (0.0012744348795208722+0j) end.\n",
      "epoch: [15/1000] - loss: (0.001113270257445988+0j) end.\n",
      "epoch: [16/1000] - loss: (0.0009456872202929174+0j) end.\n",
      "epoch: [17/1000] - loss: (0.0007709316196028935+0j) end.\n",
      "epoch: [18/1000] - loss: (0.0005957439301172522+0j) end.\n",
      "epoch: [19/1000] - loss: (0.00043278601527812317+0j) end.\n",
      "epoch: [20/1000] - loss: (0.0002973963281075176+0j) end.\n",
      "epoch: [21/1000] - loss: (0.00020306457746148882+0j) end.\n",
      "epoch: [22/1000] - loss: (0.0001562432981620091+0j) end.\n",
      "Fin - No. 1\n",
      "epoch: [1/1000] - loss: (0.01421708913870912+0j) end.\n",
      "epoch: [2/1000] - loss: (0.012976901843139831+0j) end.\n",
      "epoch: [3/1000] - loss: (0.011811377382197005+0j) end.\n",
      "epoch: [4/1000] - loss: (0.01072980534346544+0j) end.\n",
      "epoch: [5/1000] - loss: (0.009738360623265985+0j) end.\n",
      "epoch: [6/1000] - loss: (0.008841091941750432+0j) end.\n",
      "epoch: [7/1000] - loss: (0.008038710698867994+0j) end.\n",
      "epoch: [8/1000] - loss: (0.0073274898048298+0j) end.\n",
      "epoch: [9/1000] - loss: (0.0066974179869581036+0j) end.\n",
      "epoch: [10/1000] - loss: (0.0061327081595146105+0j) end.\n",
      "epoch: [11/1000] - loss: (0.005616228009541572+0j) end.\n",
      "epoch: [12/1000] - loss: (0.005134184343252572+0j) end.\n",
      "epoch: [13/1000] - loss: (0.004677674724742528+0j) end.\n",
      "epoch: [14/1000] - loss: (0.00424121225053259+0j) end.\n",
      "epoch: [15/1000] - loss: (0.003820396885946601+0j) end.\n",
      "epoch: [16/1000] - loss: (0.003411438392603072+0j) end.\n",
      "epoch: [17/1000] - loss: (0.003012177668299742+0j) end.\n",
      "epoch: [18/1000] - loss: (0.0026230175569144426+0j) end.\n",
      "epoch: [19/1000] - loss: (0.002247564685282723+0j) end.\n",
      "epoch: [20/1000] - loss: (0.0018925971359543198+0j) end.\n",
      "epoch: [21/1000] - loss: (0.0015670935528398933+0j) end.\n",
      "epoch: [22/1000] - loss: (0.0012804279618685251+0j) end.\n",
      "epoch: [23/1000] - loss: (0.001040167433890535+0j) end.\n",
      "epoch: [24/1000] - loss: (0.0008500479559240404+0j) end.\n",
      "epoch: [25/1000] - loss: (0.0007088112840816906+0j) end.\n",
      "epoch: [26/1000] - loss: (0.0006103555309602804+0j) end.\n",
      "epoch: [27/1000] - loss: (0.0005451133780721647+0j) end.\n",
      "epoch: [28/1000] - loss: (0.0005021070682284394+0j) end.\n",
      "epoch: [29/1000] - loss: (0.0004709979154299439+0j) end.\n",
      "epoch: [30/1000] - loss: (0.00044358515417543+0j) end.\n",
      "epoch: [31/1000] - loss: (0.0004145429504869844+0j) end.\n",
      "epoch: [32/1000] - loss: (0.0003814305427747282+0j) end.\n",
      "epoch: [33/1000] - loss: (0.0003441941650344428+0j) end.\n",
      "epoch: [34/1000] - loss: (0.0003043835658722459+0j) end.\n",
      "epoch: [35/1000] - loss: (0.000264280509003403+0j) end.\n",
      "epoch: [36/1000] - loss: (0.00022612088290087604+0j) end.\n",
      "epoch: [37/1000] - loss: (0.00019155334416453296+0j) end.\n",
      "epoch: [38/1000] - loss: (0.00016139623175421593+0j) end.\n",
      "epoch: [39/1000] - loss: (0.0001357155751295488+0j) end.\n",
      "epoch: [40/1000] - loss: (0.00011411253954463321+0j) end.\n",
      "epoch: [41/1000] - loss: (9.607350216391058e-05+0j) end.\n",
      "epoch: [42/1000] - loss: (8.122131311547523e-05+0j) end.\n",
      "epoch: [43/1000] - loss: (6.937852228000069e-05+0j) end.\n",
      "Fin - No. 2\n",
      "epoch: [1/1000] - loss: (0.009313597004299266+0j) end.\n",
      "epoch: [2/1000] - loss: (0.008124139676965786+0j) end.\n",
      "epoch: [3/1000] - loss: (0.007058514803805226+0j) end.\n",
      "epoch: [4/1000] - loss: (0.00611281248384128+0j) end.\n",
      "epoch: [5/1000] - loss: (0.005281839088187655+0j) end.\n",
      "epoch: [6/1000] - loss: (0.004558612603069181+0j) end.\n",
      "epoch: [7/1000] - loss: (0.003933161613245844+0j) end.\n",
      "epoch: [8/1000] - loss: (0.0033928755814636143+0j) end.\n",
      "epoch: [9/1000] - loss: (0.002924169289331571+0j) end.\n",
      "epoch: [10/1000] - loss: (0.0025142717631757277+0j) end.\n",
      "epoch: [11/1000] - loss: (0.002152397685503539+0j) end.\n",
      "epoch: [12/1000] - loss: (0.001830340230945319+0j) end.\n",
      "epoch: [13/1000] - loss: (0.001542563552481081+0j) end.\n",
      "epoch: [14/1000] - loss: (0.0012858202956705803+0j) end.\n",
      "epoch: [15/1000] - loss: (0.001058502989711037+0j) end.\n",
      "epoch: [16/1000] - loss: (0.00085996544765206+0j) end.\n",
      "epoch: [17/1000] - loss: (0.0006899284691611582+0j) end.\n",
      "epoch: [18/1000] - loss: (0.0005479930876764877+0j) end.\n",
      "epoch: [19/1000] - loss: (0.0004332431818025258+0j) end.\n",
      "epoch: [20/1000] - loss: (0.0003439646250611889+0j) end.\n",
      "epoch: [21/1000] - loss: (0.0002775082867408988+0j) end.\n",
      "epoch: [22/1000] - loss: (0.0002303322656976704+0j) end.\n",
      "epoch: [23/1000] - loss: (0.00019822975018839542+0j) end.\n",
      "epoch: [24/1000] - loss: (0.00017672241471656188+0j) end.\n",
      "epoch: [25/1000] - loss: (0.00016156584283608086+0j) end.\n",
      "epoch: [26/1000] - loss: (0.00014924353064366507+0j) end.\n",
      "epoch: [27/1000] - loss: (0.00013730494298559763+0j) end.\n",
      "epoch: [28/1000] - loss: (0.0001244634465050421+0j) end.\n",
      "epoch: [29/1000] - loss: (0.00011046563765891679+0j) end.\n",
      "epoch: [30/1000] - loss: (9.579957223556989e-05+0j) end.\n",
      "epoch: [31/1000] - loss: (8.133751338752544e-05+0j) end.\n",
      "epoch: [32/1000] - loss: (6.799430510384545e-05+0j) end.\n",
      "epoch: [33/1000] - loss: (5.6473078182838614e-05+0j) end.\n",
      "Fin - No. 3\n",
      "epoch: [1/1000] - loss: (0.015522385508600548+0j) end.\n",
      "epoch: [2/1000] - loss: (0.014306844329018433+0j) end.\n",
      "epoch: [3/1000] - loss: (0.013101866170117746+0j) end.\n",
      "epoch: [4/1000] - loss: (0.011910937997653043+0j) end.\n",
      "epoch: [5/1000] - loss: (0.010744240386579056+0j) end.\n",
      "epoch: [6/1000] - loss: (0.009617750356449803+0j) end.\n",
      "epoch: [7/1000] - loss: (0.008548019490622859+0j) end.\n",
      "epoch: [8/1000] - loss: (0.007549563156576235+0j) end.\n",
      "epoch: [9/1000] - loss: (0.006632916318635364+0j) end.\n",
      "epoch: [10/1000] - loss: (0.005802840045469394+0j) end.\n",
      "epoch: [11/1000] - loss: (0.00505773959386201+0j) end.\n",
      "epoch: [12/1000] - loss: (0.004390795885701874+0j) end.\n",
      "epoch: [13/1000] - loss: (0.0037925108380018014+0j) end.\n",
      "epoch: [14/1000] - loss: (0.003253804527019683+0j) end.\n",
      "epoch: [15/1000] - loss: (0.002768576896764699+0j) end.\n",
      "epoch: [16/1000] - loss: (0.002334746173147037+0j) end.\n",
      "epoch: [17/1000] - loss: (0.0019536188493657586+0j) end.\n",
      "epoch: [18/1000] - loss: (0.0016279999959627489+0j) end.\n",
      "epoch: [19/1000] - loss: (0.0013599218649353276+0j) end.\n",
      "epoch: [20/1000] - loss: (0.0011487183827521394+0j) end.\n",
      "epoch: [21/1000] - loss: (0.000989951268095495+0j) end.\n",
      "epoch: [22/1000] - loss: (0.0008753962313620084+0j) end.\n",
      "epoch: [23/1000] - loss: (0.00079409127306337+0j) end.\n",
      "epoch: [24/1000] - loss: (0.0007341285563157581+0j) end.\n",
      "epoch: [25/1000] - loss: (0.0006846064503688959+0j) end.\n",
      "epoch: [26/1000] - loss: (0.000637151019681678+0j) end.\n",
      "epoch: [27/1000] - loss: (0.000586675504237684+0j) end.\n",
      "epoch: [28/1000] - loss: (0.0005313539383348307+0j) end.\n",
      "epoch: [29/1000] - loss: (0.00047203336461111594+0j) end.\n",
      "epoch: [30/1000] - loss: (0.00041132603281206215+0j) end.\n",
      "epoch: [31/1000] - loss: (0.00035263077907162534+0j) end.\n",
      "epoch: [32/1000] - loss: (0.00029924834513248607+0j) end.\n",
      "epoch: [33/1000] - loss: (0.00025370221179460124+0j) end.\n",
      "epoch: [34/1000] - loss: (0.00021732109631503546+0j) end.\n",
      "epoch: [35/1000] - loss: (0.0001901017986141687+0j) end.\n",
      "epoch: [36/1000] - loss: (0.00017083066287448478+0j) end.\n",
      "epoch: [37/1000] - loss: (0.0001574316657624665+0j) end.\n",
      "Fin - No. 4\n",
      "epoch: [1/1000] - loss: (0.01048171697985094+0j) end.\n",
      "epoch: [2/1000] - loss: (0.009220542059964434+0j) end.\n",
      "epoch: [3/1000] - loss: (0.00813384938979845+0j) end.\n",
      "epoch: [4/1000] - loss: (0.007191215981674331+0j) end.\n",
      "epoch: [5/1000] - loss: (0.00636222999632935+0j) end.\n",
      "epoch: [6/1000] - loss: (0.005620189515281342+0j) end.\n",
      "epoch: [7/1000] - loss: (0.004945622788516065+0j) end.\n",
      "epoch: [8/1000] - loss: (0.004327033532609159+0j) end.\n",
      "epoch: [9/1000] - loss: (0.0037593419503083956+0j) end.\n",
      "epoch: [10/1000] - loss: (0.003241825204215191+0j) end.\n"
     ]
    },
    {
     "name": "stdout",
     "output_type": "stream",
     "text": [
      "epoch: [11/1000] - loss: (0.0027761304036093438+0j) end.\n",
      "epoch: [12/1000] - loss: (0.0023643627687541732+0j) end.\n",
      "epoch: [13/1000] - loss: (0.002007381348154061+0j) end.\n",
      "epoch: [14/1000] - loss: (0.0017035373375403225+0j) end.\n",
      "epoch: [15/1000] - loss: (0.0014483163562274796+0j) end.\n",
      "epoch: [16/1000] - loss: (0.0012351352253586712+0j) end.\n",
      "epoch: [17/1000] - loss: (0.0010568089716877554+0j) end.\n",
      "epoch: [18/1000] - loss: (0.0009069372328206433+0j) end.\n",
      "epoch: [19/1000] - loss: (0.000780778051681287+0j) end.\n",
      "epoch: [20/1000] - loss: (0.0006753353536377202+0j) end.\n",
      "epoch: [21/1000] - loss: (0.0005887257213742065+0j) end.\n",
      "epoch: [22/1000] - loss: (0.0005191769172948218+0j) end.\n",
      "epoch: [23/1000] - loss: (0.00046416906341504986+0j) end.\n",
      "epoch: [24/1000] - loss: (0.0004201479947635298+0j) end.\n",
      "epoch: [25/1000] - loss: (0.0003829419638487808+0j) end.\n",
      "epoch: [26/1000] - loss: (0.0003486263899807572+0j) end.\n",
      "epoch: [27/1000] - loss: (0.0003143675262749764+0j) end.\n",
      "epoch: [28/1000] - loss: (0.00027888819630973515+0j) end.\n",
      "epoch: [29/1000] - loss: (0.00024244844124069405+0j) end.\n",
      "epoch: [30/1000] - loss: (0.0002064575436782399+0j) end.\n",
      "epoch: [31/1000] - loss: (0.00017287935168332924+0j) end.\n",
      "epoch: [32/1000] - loss: (0.00014362988558054324+0j) end.\n",
      "epoch: [33/1000] - loss: (0.00012007919776433975+0j) end.\n",
      "epoch: [34/1000] - loss: (0.00010275979723365277+0j) end.\n",
      "epoch: [35/1000] - loss: (9.129548864419139e-05+0j) end.\n",
      "Fin - No. 5\n",
      "epoch: [1/1000] - loss: (0.01026633101125853+0j) end.\n",
      "epoch: [2/1000] - loss: (0.00931709062623125+0j) end.\n",
      "epoch: [3/1000] - loss: (0.008408740892239702+0j) end.\n",
      "epoch: [4/1000] - loss: (0.007547182434366277+0j) end.\n",
      "epoch: [5/1000] - loss: (0.006740911230213623+0j) end.\n",
      "epoch: [6/1000] - loss: (0.005999398411860921+0j) end.\n",
      "epoch: [7/1000] - loss: (0.005330257021169938+0j) end.\n",
      "epoch: [8/1000] - loss: (0.004737234373507869+0j) end.\n",
      "epoch: [9/1000] - loss: (0.004218964608795838+0j) end.\n",
      "epoch: [10/1000] - loss: (0.0037684938763639358+0j) end.\n",
      "epoch: [11/1000] - loss: (0.0033751332660693478+0j) end.\n",
      "epoch: [12/1000] - loss: (0.0030278826870129842+0j) end.\n",
      "epoch: [13/1000] - loss: (0.002718286950209133+0j) end.\n",
      "epoch: [14/1000] - loss: (0.002441501257062738+0j) end.\n",
      "epoch: [15/1000] - loss: (0.0021956039436538083+0j) end.\n",
      "epoch: [16/1000] - loss: (0.0019797454493459205+0j) end.\n",
      "epoch: [17/1000] - loss: (0.0017918318242037563+0j) end.\n",
      "epoch: [18/1000] - loss: (0.0016268911826145792+0j) end.\n",
      "epoch: [19/1000] - loss: (0.001477109831856504+0j) end.\n",
      "epoch: [20/1000] - loss: (0.001333447319851733+0j) end.\n",
      "epoch: [21/1000] - loss: (0.0011879857128441742+0j) end.\n",
      "epoch: [22/1000] - loss: (0.0010359292612253969+0j) end.\n",
      "epoch: [23/1000] - loss: (0.0008767778379896537+0j) end.\n",
      "epoch: [24/1000] - loss: (0.0007145896728887212+0j) end.\n",
      "epoch: [25/1000] - loss: (0.0005573101485754782+0j) end.\n",
      "epoch: [26/1000] - loss: (0.0004152913234243989+0j) end.\n",
      "epoch: [27/1000] - loss: (0.0002991662275602595+0j) end.\n",
      "epoch: [28/1000] - loss: (0.00021734155122833397+0j) end.\n",
      "epoch: [29/1000] - loss: (0.00017347200396096283+0j) end.\n",
      "Fin - No. 6\n",
      "epoch: [1/1000] - loss: (0.008945635402195647+0j) end.\n",
      "epoch: [2/1000] - loss: (0.00826227401117254+0j) end.\n",
      "epoch: [3/1000] - loss: (0.007654371298005714+0j) end.\n",
      "epoch: [4/1000] - loss: (0.007103550437354138+0j) end.\n",
      "epoch: [5/1000] - loss: (0.006596938912767311+0j) end.\n",
      "epoch: [6/1000] - loss: (0.0061248551606882095+0j) end.\n",
      "epoch: [7/1000] - loss: (0.00567993933042588+0j) end.\n",
      "epoch: [8/1000] - loss: (0.00525699331393573+0j) end.\n",
      "epoch: [9/1000] - loss: (0.004852096714130945+0j) end.\n",
      "epoch: [10/1000] - loss: (0.0044618616762604766+0j) end.\n",
      "epoch: [11/1000] - loss: (0.004083116624708316+0j) end.\n",
      "epoch: [12/1000] - loss: (0.0037130077956179534+0j) end.\n",
      "epoch: [13/1000] - loss: (0.0033491480600431507+0j) end.\n",
      "epoch: [14/1000] - loss: (0.002990044904438044+0j) end.\n",
      "epoch: [15/1000] - loss: (0.0026360107285066598+0j) end.\n",
      "epoch: [16/1000] - loss: (0.0022902672136091056+0j) end.\n",
      "epoch: [17/1000] - loss: (0.0019594624231381178+0j) end.\n",
      "epoch: [18/1000] - loss: (0.0016530690651397034+0j) end.\n",
      "epoch: [19/1000] - loss: (0.0013815663801235818+0j) end.\n",
      "epoch: [20/1000] - loss: (0.001153665318604095+0j) end.\n",
      "epoch: [21/1000] - loss: (0.000973323624624757+0j) end.\n",
      "epoch: [22/1000] - loss: (0.0008379199698004096+0j) end.\n",
      "epoch: [23/1000] - loss: (0.0007387835747859117+0j) end.\n",
      "epoch: [24/1000] - loss: (0.0006640588944026295+0j) end.\n",
      "epoch: [25/1000] - loss: (0.0006024062094285214+0j) end.\n",
      "epoch: [26/1000] - loss: (0.000545683725998992+0j) end.\n",
      "epoch: [27/1000] - loss: (0.0004898180918677702+0j) end.\n",
      "epoch: [28/1000] - loss: (0.00043423164294908155+0j) end.\n",
      "epoch: [29/1000] - loss: (0.0003805419931701729+0j) end.\n",
      "epoch: [30/1000] - loss: (0.00033112610419713204+0j) end.\n",
      "epoch: [31/1000] - loss: (0.00028793288781604016+0j) end.\n",
      "epoch: [32/1000] - loss: (0.00025177249065176194+0j) end.\n",
      "epoch: [33/1000] - loss: (0.00022217656607841248+0j) end.\n",
      "epoch: [34/1000] - loss: (0.0001977807155749674+0j) end.\n",
      "epoch: [35/1000] - loss: (0.00017700958410399775+0j) end.\n",
      "epoch: [36/1000] - loss: (0.00015873488934088195+0j) end.\n",
      "epoch: [37/1000] - loss: (0.00014262634225594082+0j) end.\n",
      "epoch: [38/1000] - loss: (0.00012906975388639374+0j) end.\n",
      "epoch: [39/1000] - loss: (0.00011872969802993951+0j) end.\n",
      "Fin - No. 7\n",
      "epoch: [1/1000] - loss: (0.00832959913386414+0j) end.\n",
      "epoch: [2/1000] - loss: (0.007591491941599719+0j) end.\n",
      "epoch: [3/1000] - loss: (0.00690928986458395+0j) end.\n",
      "epoch: [4/1000] - loss: (0.006279697120993266+0j) end.\n",
      "epoch: [5/1000] - loss: (0.0057002354752824615+0j) end.\n",
      "epoch: [6/1000] - loss: (0.005167310042967657+0j) end.\n",
      "epoch: [7/1000] - loss: (0.004676520499290806+0j) end.\n",
      "epoch: [8/1000] - loss: (0.00422202089845338+0j) end.\n",
      "epoch: [9/1000] - loss: (0.003797157190780841+0j) end.\n",
      "epoch: [10/1000] - loss: (0.0033961256545972673+0j) end.\n",
      "epoch: [11/1000] - loss: (0.0030153043642457415+0j) end.\n",
      "epoch: [12/1000] - loss: (0.002653538273899289+0j) end.\n",
      "epoch: [13/1000] - loss: (0.0023115865503989205+0j) end.\n",
      "epoch: [14/1000] - loss: (0.001991595550540061+0j) end.\n",
      "epoch: [15/1000] - loss: (0.001696919429467108+0j) end.\n",
      "epoch: [16/1000] - loss: (0.0014318167037940298+0j) end.\n",
      "epoch: [17/1000] - loss: (0.0012006881222580404+0j) end.\n",
      "epoch: [18/1000] - loss: (0.0010070224177658436+0j) end.\n",
      "epoch: [19/1000] - loss: (0.0008522982807143859+0j) end.\n",
      "epoch: [20/1000] - loss: (0.0007352102335196754+0j) end.\n",
      "epoch: [21/1000] - loss: (0.000651525222169747+0j) end.\n",
      "epoch: [22/1000] - loss: (0.0005946751243021257+0j) end.\n",
      "epoch: [23/1000] - loss: (0.0005568882238007214+0j) end.\n",
      "epoch: [24/1000] - loss: (0.0005304311864761783+0j) end.\n",
      "epoch: [25/1000] - loss: (0.0005085763516582423+0j) end.\n",
      "epoch: [26/1000] - loss: (0.00048618654512999865+0j) end.\n",
      "epoch: [27/1000] - loss: (0.0004600553779427893+0j) end.\n",
      "epoch: [28/1000] - loss: (0.0004290584312461176+0j) end.\n",
      "epoch: [29/1000] - loss: (0.00039402109924520725+0j) end.\n",
      "epoch: [30/1000] - loss: (0.0003572043105132563+0j) end.\n",
      "epoch: [31/1000] - loss: (0.0003214710602749753+0j) end.\n",
      "epoch: [32/1000] - loss: (0.0002893654696685185+0j) end.\n",
      "epoch: [33/1000] - loss: (0.0002623982281685011+0j) end.\n",
      "epoch: [34/1000] - loss: (0.000240785055201981+0j) end.\n",
      "epoch: [35/1000] - loss: (0.0002236770201301747+0j) end.\n",
      "epoch: [36/1000] - loss: (0.00020971525268877127+0j) end.\n",
      "epoch: [37/1000] - loss: (0.00019761102450157074+0j) end.\n",
      "epoch: [38/1000] - loss: (0.00018650336936600114+0j) end.\n",
      "epoch: [39/1000] - loss: (0.00017601732931616951+0j) end.\n",
      "Fin - No. 8\n",
      "epoch: [1/1000] - loss: (0.00834332999153061+0j) end.\n",
      "epoch: [2/1000] - loss: (0.007365570441932534+0j) end.\n",
      "epoch: [3/1000] - loss: (0.006455912173123326+0j) end.\n",
      "epoch: [4/1000] - loss: (0.005621402868294032+0j) end.\n",
      "epoch: [5/1000] - loss: (0.004864558882228286+0j) end.\n",
      "epoch: [6/1000] - loss: (0.004184951063454088+0j) end.\n",
      "epoch: [7/1000] - loss: (0.003580201979056477+0j) end.\n",
      "epoch: [8/1000] - loss: (0.0030465993117483416+0j) end.\n",
      "epoch: [9/1000] - loss: (0.002579656188244207+0j) end.\n",
      "epoch: [10/1000] - loss: (0.0021746267753734927+0j) end.\n",
      "epoch: [11/1000] - loss: (0.0018268829001161656+0j) end.\n",
      "epoch: [12/1000] - loss: (0.0015321370363602874+0j) end.\n",
      "epoch: [13/1000] - loss: (0.0012864583458697253+0j) end.\n"
     ]
    },
    {
     "name": "stdout",
     "output_type": "stream",
     "text": [
      "epoch: [14/1000] - loss: (0.0010861144093398387+0j) end.\n",
      "epoch: [15/1000] - loss: (0.0009269834903924233+0j) end.\n",
      "epoch: [16/1000] - loss: (0.0008035763920630368+0j) end.\n",
      "epoch: [17/1000] - loss: (0.0007085321067097886+0j) end.\n",
      "epoch: [18/1000] - loss: (0.0006332666832084543+0j) end.\n",
      "epoch: [19/1000] - loss: (0.000569569410322633+0j) end.\n",
      "epoch: [20/1000] - loss: (0.0005112961784740015+0j) end.\n",
      "epoch: [21/1000] - loss: (0.0004552652324452949+0j) end.\n",
      "epoch: [22/1000] - loss: (0.000401020406353666+0j) end.\n",
      "epoch: [23/1000] - loss: (0.0003497678091210575+0j) end.\n",
      "epoch: [24/1000] - loss: (0.0003031111552428188+0j) end.\n",
      "epoch: [25/1000] - loss: (0.00026210395589008927+0j) end.\n",
      "epoch: [26/1000] - loss: (0.00022687937397266664+0j) end.\n",
      "epoch: [27/1000] - loss: (0.00019686886862880238+0j) end.\n",
      "epoch: [28/1000] - loss: (0.00017133143632728893+0j) end.\n",
      "epoch: [29/1000] - loss: (0.00014981656041424007+0j) end.\n",
      "epoch: [30/1000] - loss: (0.00013228446672497508+0j) end.\n",
      "epoch: [31/1000] - loss: (0.00011886500883610613+0j) end.\n",
      "Fin - No. 9\n",
      "epoch: [1/1000] - loss: (0.014668363651713897+0j) end.\n",
      "epoch: [2/1000] - loss: (0.013478135804443965+0j) end.\n",
      "epoch: [3/1000] - loss: (0.012380689772084027+0j) end.\n",
      "epoch: [4/1000] - loss: (0.011370195854719886+0j) end.\n",
      "epoch: [5/1000] - loss: (0.010440113320057058+0j) end.\n",
      "epoch: [6/1000] - loss: (0.009585466516336833+0j) end.\n",
      "epoch: [7/1000] - loss: (0.008800907058851148+0j) end.\n",
      "epoch: [8/1000] - loss: (0.008080223233946719+0j) end.\n",
      "epoch: [9/1000] - loss: (0.007416512925904966+0j) end.\n",
      "epoch: [10/1000] - loss: (0.006803142371009958+0j) end.\n",
      "epoch: [11/1000] - loss: (0.006234705575924153+0j) end.\n",
      "epoch: [12/1000] - loss: (0.005707759261128356+0j) end.\n",
      "epoch: [13/1000] - loss: (0.0052211771187403114+0j) end.\n",
      "epoch: [14/1000] - loss: (0.004775814617474664+0j) end.\n",
      "epoch: [15/1000] - loss: (0.0043734817256797206+0j) end.\n",
      "epoch: [16/1000] - loss: (0.00401529396453364+0j) end.\n",
      "epoch: [17/1000] - loss: (0.0036997225059324677+0j) end.\n",
      "epoch: [18/1000] - loss: (0.003421256872474726+0j) end.\n",
      "epoch: [19/1000] - loss: (0.0031706909645686275+0j) end.\n",
      "epoch: [20/1000] - loss: (0.0029372353426629664+0j) end.\n",
      "epoch: [21/1000] - loss: (0.0027114012667309624+0j) end.\n",
      "epoch: [22/1000] - loss: (0.002487152183546457+0j) end.\n",
      "epoch: [23/1000] - loss: (0.002262641105290899+0j) end.\n",
      "epoch: [24/1000] - loss: (0.0020396477424961465+0j) end.\n",
      "epoch: [25/1000] - loss: (0.0018222392457434573+0j) end.\n",
      "epoch: [26/1000] - loss: (0.0016152027089688349+0j) end.\n",
      "epoch: [27/1000] - loss: (0.0014227599624113407+0j) end.\n",
      "epoch: [28/1000] - loss: (0.0012476901942394657+0j) end.\n",
      "epoch: [29/1000] - loss: (0.001091006663098884+0j) end.\n",
      "epoch: [30/1000] - loss: (0.0009521606102776711+0j) end.\n",
      "epoch: [31/1000] - loss: (0.0008296114707193121+0j) end.\n",
      "epoch: [32/1000] - loss: (0.0007214600668399062+0j) end.\n",
      "epoch: [33/1000] - loss: (0.0006259501702933894+0j) end.\n",
      "epoch: [34/1000] - loss: (0.0005417222559828089+0j) end.\n",
      "epoch: [35/1000] - loss: (0.0004678628928850193+0j) end.\n",
      "epoch: [36/1000] - loss: (0.00040382112261051826+0j) end.\n",
      "epoch: [37/1000] - loss: (0.0003492627028442951+0j) end.\n",
      "epoch: [38/1000] - loss: (0.000303906992879211+0j) end.\n",
      "epoch: [39/1000] - loss: (0.00026735617998530016+0j) end.\n",
      "epoch: [40/1000] - loss: (0.000238929789036706+0j) end.\n",
      "epoch: [41/1000] - loss: (0.00021753908755374105+0j) end.\n",
      "epoch: [42/1000] - loss: (0.00020164625198140123+0j) end.\n",
      "epoch: [43/1000] - loss: (0.00018935448729105305+0j) end.\n",
      "epoch: [44/1000] - loss: (0.00017863351494977708+0j) end.\n",
      "epoch: [45/1000] - loss: (0.00016764816677445149+0j) end.\n",
      "epoch: [46/1000] - loss: (0.00015508815057042272+0j) end.\n",
      "epoch: [47/1000] - loss: (0.00014040097490214366+0j) end.\n",
      "epoch: [48/1000] - loss: (0.00012384600123703388+0j) end.\n",
      "epoch: [49/1000] - loss: (0.00010636245386302554+0j) end.\n",
      "epoch: [50/1000] - loss: (8.929063205526928e-05+0j) end.\n",
      "epoch: [51/1000] - loss: (7.4025103264566e-05+0j) end.\n",
      "epoch: [52/1000] - loss: (6.168040036514743e-05+0j) end.\n",
      "Fin - No. 10\n"
     ]
    }
   ],
   "source": [
    "times_unitary = []\n",
    "\n",
    "for i in range(MAX_TIMES):\n",
    "    start = time.perf_counter()\n",
    "    qol_unitary.fit(epoch=1000, strategy='unitary', stepsize=0.003, early_stopping=True)\n",
    "    end = time.perf_counter()\n",
    "    times_unitary.append(end - start)\n",
    "    \n",
    "    print(f'Fin - No. {i + 1}')\n",
    "    \n",
    "    saveParams(qol_unitary.params[-1], 'toy', 'unitary', i + 1)\n",
    "    saveLosses(qol_unitary.losses, 'toy', 'unitary', i + 1)"
   ]
  },
  {
   "cell_type": "code",
   "execution_count": 18,
   "metadata": {},
   "outputs": [
    {
     "name": "stdout",
     "output_type": "stream",
     "text": [
      "Average times for unitary: 148.28757260999996\n"
     ]
    }
   ],
   "source": [
    "print(f'Average times for unitary: {np.mean(times_unitary)}')"
   ]
  },
  {
   "cell_type": "markdown",
   "metadata": {},
   "source": [
    "### - plot a loss example"
   ]
  },
  {
   "cell_type": "code",
   "execution_count": 19,
   "metadata": {},
   "outputs": [
    {
     "data": {
      "image/png": "[encoded data removed]",
      "text/plain": [
       "<Figure size 432x288 with 1 Axes>"
      ]
     },
     "metadata": {
      "needs_background": "light"
     },
     "output_type": "display_data"
    }
   ],
   "source": [
    "plot(loadLosses('toy', 'unitary', 3), color=palette['unitary'])"
   ]
  },
  {
   "cell_type": "code",
   "execution_count": 16,
   "metadata": {},
   "outputs": [],
   "source": [
    "losses_unitary= []\n",
    "max_length = 0\n",
    "for i in range(MAX_TIMES):\n",
    "    losses_unitary.append(loadLosses('toy', 'unitary', i + 1))\n",
    "    max_length = max(max_length, len(losses_unitary[-1]))\n",
    "\n",
    "for i in range(MAX_TIMES):\n",
    "    length = len(losses_unitary[i])\n",
    "    while length < max_length:\n",
    "        losses_unitary[i].append(losses_unitary[i][-1])\n",
    "        length += 1"
   ]
  },
  {
   "cell_type": "code",
   "execution_count": 21,
   "metadata": {
    "scrolled": true
   },
   "outputs": [
    {
     "data": {
      "image/png": "[encoded data removed]",
      "text/plain": [
       "<Figure size 432x288 with 1 Axes>"
      ]
     },
     "metadata": {
      "needs_background": "light"
     },
     "output_type": "display_data"
    }
   ],
   "source": [
    "plotLosses(losses_unitary, title='toy problem unitary')"
   ]
  },
  {
   "cell_type": "markdown",
   "metadata": {},
   "source": [
    "### - average time and loss"
   ]
  },
  {
   "cell_type": "code",
   "execution_count": 22,
   "metadata": {},
   "outputs": [
    {
     "name": "stdout",
     "output_type": "stream",
     "text": [
      "Average loss for unitary: (0.00010967805667034608+0j)\n"
     ]
    }
   ],
   "source": [
    "average_loss_unitary = 0.0\n",
    "for i in range(MAX_TIMES):\n",
    "    loss = loadLosses('toy', 'unitary', i + 1)[-1]\n",
    "    average_loss_unitary += loss\n",
    "print(f'Average loss for unitary: {average_loss_unitary / MAX_TIMES}')"
   ]
  },
  {
   "cell_type": "code",
   "execution_count": 23,
   "metadata": {},
   "outputs": [
    {
     "name": "stdout",
     "output_type": "stream",
     "text": [
      "Average epoch for unitary: 37.0\n"
     ]
    }
   ],
   "source": [
    "average_epoch_unitary = 0\n",
    "for i in range(MAX_TIMES):\n",
    "    loss = loadLosses('toy', 'unitary', i + 1)\n",
    "    average_epoch_unitary += len(loss)\n",
    "print(f'Average epoch for unitary: {average_epoch_unitary / MAX_TIMES}')"
   ]
  },
  {
   "cell_type": "code",
   "execution_count": 24,
   "metadata": {},
   "outputs": [],
   "source": [
    "average_time_unitary = 148.28757260999996"
   ]
  },
  {
   "cell_type": "code",
   "execution_count": 35,
   "metadata": {},
   "outputs": [
    {
     "name": "stdout",
     "output_type": "stream",
     "text": [
      "Average time per epoch for unitary: 0.3804518092113564\n"
     ]
    }
   ],
   "source": [
    "average_time_per_epoch_unitary = average_time_unitary / average_epoch_unitary\n",
    "print(f'Average time per epoch for unitary: {average_time_per_epoch_unitary}')"
   ]
  },
  {
   "cell_type": "markdown",
   "metadata": {},
   "source": [
    "|Strategy| parameterized unitary |\n",
    "|:----------------:|:-----:|\n",
    "| Average loss | 1.097e-4 |\n",
    "| Average time | 148.3 |\n",
    "| Average epochs | 37.0 |\n",
    "| Average time per epoch | 0.3805 |"
   ]
  },
  {
   "cell_type": "markdown",
   "metadata": {},
   "source": [
    "## Strategy: VQC"
   ]
  },
  {
   "cell_type": "code",
   "execution_count": 196,
   "metadata": {},
   "outputs": [],
   "source": [
    "qol_vqc = QOLearnerBase([inputCircuit, diffuserCircuit], 4, [0, 1, 2, 3], expected)"
   ]
  },
  {
   "cell_type": "code",
   "execution_count": 220,
   "metadata": {
    "scrolled": true
   },
   "outputs": [
    {
     "name": "stdout",
     "output_type": "stream",
     "text": [
      "epoch: [1/1000] - loss: (0.00814734659402357+0j) end.\n",
      "epoch: [2/1000] - loss: (0.007871315838155894+0j) end.\n",
      "epoch: [3/1000] - loss: (0.007607212105515046+0j) end.\n",
      "epoch: [4/1000] - loss: (0.007354802004871753+0j) end.\n",
      "epoch: [5/1000] - loss: (0.007113305326841127+0j) end.\n",
      "epoch: [6/1000] - loss: (0.006882554408838917+0j) end.\n",
      "epoch: [7/1000] - loss: (0.006662955951003656+0j) end.\n",
      "epoch: [8/1000] - loss: (0.006454927793933491+0j) end.\n",
      "epoch: [9/1000] - loss: (0.006258553968668395+0j) end.\n",
      "epoch: [10/1000] - loss: (0.006073429192691373+0j) end.\n",
      "epoch: [11/1000] - loss: (0.005898667392656553+0j) end.\n",
      "epoch: [12/1000] - loss: (0.005733084455266987+0j) end.\n",
      "epoch: [13/1000] - loss: (0.005575470518889975+0j) end.\n",
      "epoch: [14/1000] - loss: (0.005424800872657117+0j) end.\n",
      "epoch: [15/1000] - loss: (0.005280314648958043+0j) end.\n",
      "epoch: [16/1000] - loss: (0.005141506563962697+0j) end.\n",
      "epoch: [17/1000] - loss: (0.005008089886486734+0j) end.\n",
      "epoch: [18/1000] - loss: (0.004879948990833037+0j) end.\n",
      "epoch: [19/1000] - loss: (0.004757083452240929+0j) end.\n",
      "epoch: [20/1000] - loss: (0.004639548744338914+0j) end.\n",
      "epoch: [21/1000] - loss: (0.004527400904836351+0j) end.\n",
      "epoch: [22/1000] - loss: (0.004420650092768247+0j) end.\n",
      "epoch: [23/1000] - loss: (0.004319224796710814+0j) end.\n",
      "epoch: [24/1000] - loss: (0.004222948714178502+0j) end.\n",
      "epoch: [25/1000] - loss: (0.004131537392983984+0j) end.\n",
      "epoch: [26/1000] - loss: (0.004044625409933031+0j) end.\n",
      "epoch: [27/1000] - loss: (0.003961823813826535+0j) end.\n",
      "epoch: [28/1000] - loss: (0.003882783568283362+0j) end.\n",
      "epoch: [29/1000] - loss: (0.003807233223962987+0j) end.\n",
      "epoch: [30/1000] - loss: (0.0037349806555730986+0j) end.\n",
      "epoch: [31/1000] - loss: (0.003665891552480771+0j) end.\n",
      "epoch: [32/1000] - loss: (0.003599861167970118+0j) end.\n",
      "epoch: [33/1000] - loss: (0.003536788725478354+0j) end.\n",
      "epoch: [34/1000] - loss: (0.0034765575387647593+0j) end.\n",
      "epoch: [35/1000] - loss: (0.003419021243658925+0j) end.\n",
      "epoch: [36/1000] - loss: (0.0033639960932553815+0j) end.\n",
      "epoch: [37/1000] - loss: (0.0033112594197986863+0j) end.\n",
      "epoch: [38/1000] - loss: (0.0032605543413103673+0j) end.\n",
      "epoch: [39/1000] - loss: (0.0032116004370818744+0j) end.\n",
      "epoch: [40/1000] - loss: (0.003164109481651617+0j) end.\n",
      "epoch: [41/1000] - loss: (0.0031178044357512494+0j) end.\n",
      "epoch: [42/1000] - loss: (0.003072438879859889+0j) end.\n",
      "epoch: [43/1000] - loss: (0.0030278133834606975+0j) end.\n",
      "epoch: [44/1000] - loss: (0.002983785497395854+0j) end.\n",
      "epoch: [45/1000] - loss: (0.0029402713389425237+0j) end.\n",
      "epoch: [46/1000] - loss: (0.0028972386966235495+0j) end.\n",
      "epoch: [47/1000] - loss: (0.0028546934800406424+0j) end.\n",
      "epoch: [48/1000] - loss: (0.00281266262281235+0j) end.\n",
      "epoch: [49/1000] - loss: (0.0027711770436490532+0j) end.\n",
      "epoch: [50/1000] - loss: (0.002730258038851844+0j) end.\n",
      "epoch: [51/1000] - loss: (0.0026899095872575532+0j) end.\n",
      "epoch: [52/1000] - loss: (0.0026501175653438807+0j) end.\n",
      "epoch: [53/1000] - loss: (0.0026108550376258014+0j) end.\n",
      "epoch: [54/1000] - loss: (0.002572091124164384+0j) end.\n",
      "epoch: [55/1000] - loss: (0.0025338000739710477+0j) end.\n",
      "epoch: [56/1000] - loss: (0.0024959674390490046+0j) end.\n",
      "epoch: [57/1000] - loss: (0.002458591488157583+0j) end.\n",
      "epoch: [58/1000] - loss: (0.002421679677243211+0j) end.\n",
      "epoch: [59/1000] - loss: (0.0023852415164497126+0j) end.\n",
      "epoch: [60/1000] - loss: (0.002349280157303524+0j) end.\n",
      "epoch: [61/1000] - loss: (0.0023137853153578254+0j) end.\n",
      "epoch: [62/1000] - loss: (0.0022787297332474542+0j) end.\n",
      "epoch: [63/1000] - loss: (0.0022440703576520663+0j) end.\n",
      "epoch: [64/1000] - loss: (0.0022097539674878048+0j) end.\n",
      "epoch: [65/1000] - loss: (0.0021757255652859507+0j) end.\n",
      "epoch: [66/1000] - loss: (0.002141936970647006+0j) end.\n",
      "epoch: [67/1000] - loss: (0.0021083531303256408+0j) end.\n",
      "epoch: [68/1000] - loss: (0.002074954649024541+0j) end.\n",
      "epoch: [69/1000] - loss: (0.0020417364670673654+0j) end.\n",
      "epoch: [70/1000] - loss: (0.00200870384032886+0j) end.\n",
      "epoch: [71/1000] - loss: (0.0019758673941437867+0j) end.\n",
      "epoch: [72/1000] - loss: (0.0019432389439801468+0j) end.\n",
      "epoch: [73/1000] - loss: (0.001910829169862048+0j) end.\n",
      "epoch: [74/1000] - loss: (0.0018786473763387859+0j) end.\n",
      "epoch: [75/1000] - loss: (0.0018467027613847322+0j) end.\n",
      "epoch: [76/1000] - loss: (0.0018150061168642902+0j) end.\n",
      "epoch: [77/1000] - loss: (0.0017835708491041277+0j) end.\n",
      "epoch: [78/1000] - loss: (0.0017524126263457184+0j) end.\n",
      "epoch: [79/1000] - loss: (0.0017215476297771182+0j) end.\n",
      "epoch: [80/1000] - loss: (0.0016909900054608658+0j) end.\n",
      "epoch: [81/1000] - loss: (0.0016607494285765204+0j) end.\n",
      "epoch: [82/1000] - loss: (0.0016308295989165447+0j) end.\n",
      "epoch: [83/1000] - loss: (0.001601228068684364+0j) end.\n",
      "epoch: [84/1000] - loss: (0.0015719372641747572+0j) end.\n",
      "epoch: [85/1000] - loss: (0.0015429461309782223+0j) end.\n",
      "epoch: [86/1000] - loss: (0.0015142416699024201+0j) end.\n",
      "epoch: [87/1000] - loss: (0.0014858097759332663+0j) end.\n",
      "epoch: [88/1000] - loss: (0.0014576351557044256+0j) end.\n",
      "epoch: [89/1000] - loss: (0.0014297005108771738+0j) end.\n",
      "epoch: [90/1000] - loss: (0.0014019854635405656+0j) end.\n",
      "epoch: [91/1000] - loss: (0.0013744657615359548+0j) end.\n",
      "epoch: [92/1000] - loss: (0.0013471131376327835+0j) end.\n",
      "epoch: [93/1000] - loss: (0.001319895902953071+0j) end.\n",
      "epoch: [94/1000] - loss: (0.0012927800739409145+0j) end.\n",
      "epoch: [95/1000] - loss: (0.0012657306842672983+0j) end.\n",
      "epoch: [96/1000] - loss: (0.0012387129641410965+0j) end.\n",
      "epoch: [97/1000] - loss: (0.001211693236261283+0j) end.\n",
      "epoch: [98/1000] - loss: (0.001184639578905511+0j) end.\n",
      "epoch: [99/1000] - loss: (0.0011575224398404041+0j) end.\n",
      "epoch: [100/1000] - loss: (0.0011303153953838014+0j) end.\n",
      "epoch: [101/1000] - loss: (0.001102996149273278+0j) end.\n",
      "epoch: [102/1000] - loss: (0.0010755477188904403+0j) end.\n",
      "epoch: [103/1000] - loss: (0.0010479596382642826+0j) end.\n",
      "epoch: [104/1000] - loss: (0.0010202289703218573+0j) end.\n",
      "epoch: [105/1000] - loss: (0.0009923609720926792+0j) end.\n",
      "epoch: [106/1000] - loss: (0.0009643693610273893+0j) end.\n",
      "epoch: [107/1000] - loss: (0.0009362762338335007+0j) end.\n",
      "epoch: [108/1000] - loss: (0.000908111745942309+0j) end.\n",
      "epoch: [109/1000] - loss: (0.0008799136537390367+0j) end.\n",
      "epoch: [110/1000] - loss: (0.0008517267691299032+0j) end.\n",
      "epoch: [111/1000] - loss: (0.0008236023124239712+0j) end.\n",
      "epoch: [112/1000] - loss: (0.000795597109571321+0j) end.\n",
      "epoch: [113/1000] - loss: (0.0007677725807903896+0j) end.\n",
      "epoch: [114/1000] - loss: (0.0007401935042020933+0j) end.\n",
      "epoch: [115/1000] - loss: (0.0007129265892820517+0j) end.\n",
      "epoch: [116/1000] - loss: (0.0006860389373751287+0j) end.\n",
      "epoch: [117/1000] - loss: (0.000659596485895846+0j) end.\n",
      "epoch: [118/1000] - loss: (0.0006336625281492265+0j) end.\n",
      "epoch: [119/1000] - loss: (0.0006082963808236262+0j) end.\n",
      "epoch: [120/1000] - loss: (0.0005835522476644592+0j) end.\n",
      "epoch: [121/1000] - loss: (0.0005594783085367443+0j) end.\n",
      "epoch: [122/1000] - loss: (0.0005361160499157693+0j) end.\n",
      "epoch: [123/1000] - loss: (0.0005134998433121066+0j) end.\n",
      "epoch: [124/1000] - loss: (0.0004916567688756057+0j) end.\n",
      "epoch: [125/1000] - loss: (0.0004706066710222475+0j) end.\n",
      "epoch: [126/1000] - loss: (0.00045036242254137276+0j) end.\n",
      "epoch: [127/1000] - loss: (0.00043093036558086104+0j) end.\n",
      "epoch: [128/1000] - loss: (0.0004123108936347497+0j) end.\n",
      "epoch: [129/1000] - loss: (0.0003944991376742165+0j) end.\n",
      "epoch: [130/1000] - loss: (0.0003774857198547482+0j) end.\n",
      "epoch: [131/1000] - loss: (0.0003612575377826103+0j) end.\n",
      "epoch: [132/1000] - loss: (0.000345798540589655+0j) end.\n",
      "epoch: [133/1000] - loss: (0.00033109045646281094+0j) end.\n",
      "epoch: [134/1000] - loss: (0.0003171134324217366+0j) end.\n",
      "epoch: [135/1000] - loss: (0.00030384655336272275+0j) end.\n",
      "epoch: [136/1000] - loss: (0.00029126821936590025+0j) end.\n",
      "epoch: [137/1000] - loss: (0.00027935637650005355+0j) end.\n",
      "epoch: [138/1000] - loss: (0.0002680886137052667+0j) end.\n",
      "epoch: [139/1000] - loss: (0.00025744215320159424+0j) end.\n",
      "epoch: [140/1000] - loss: (0.0002473937715222498+0j) end.\n"
     ]
    }
   ],
   "source": [
    "qol_vqc.fit(epoch=1000, strategy='vqc', stepsize=0.01, early_stopping=True)"
   ]
  },
  {
   "cell_type": "code",
   "execution_count": 200,
   "metadata": {},
   "outputs": [
    {
     "name": "stdout",
     "output_type": "stream",
     "text": [
      "epoch: [1/1000] - loss: (0.013419930998756047+0j) end.\n",
      "epoch: [2/1000] - loss: (0.013358830058539052+0j) end.\n",
      "epoch: [3/1000] - loss: (0.013297799948928516+0j) end.\n",
      "epoch: [4/1000] - loss: (0.013236845930702986+0j) end.\n",
      "epoch: [5/1000] - loss: (0.013175973221258302+0j) end.\n",
      "epoch: [6/1000] - loss: (0.013115186996458857+0j) end.\n",
      "epoch: [7/1000] - loss: (0.01305449239184994+0j) end.\n",
      "epoch: [8/1000] - loss: (0.012993894503272+0j) end.\n",
      "epoch: [9/1000] - loss: (0.012933398386931784+0j) end.\n",
      "epoch: [10/1000] - loss: (0.012873009058990916+0j) end.\n",
      "epoch: [11/1000] - loss: (0.012812731494734183+0j) end.\n",
      "epoch: [12/1000] - loss: (0.012752570627378576+0j) end.\n",
      "epoch: [13/1000] - loss: (0.012692531346580606+0j) end.\n",
      "epoch: [14/1000] - loss: (0.012632618496696545+0j) end.\n",
      "epoch: [15/1000] - loss: (0.012572836874845039+0j) end.\n",
      "epoch: [16/1000] - loss: (0.01251319122881775+0j) end.\n",
      "epoch: [17/1000] - loss: (0.012453686254879356+0j) end.\n",
      "epoch: [18/1000] - loss: (0.012394326595493157+0j) end.\n",
      "epoch: [19/1000] - loss: (0.012335116837005305+0j) end.\n",
      "epoch: [20/1000] - loss: (0.012276061507315902+0j) end.\n",
      "epoch: [21/1000] - loss: (0.01221716507356199+0j) end.\n",
      "epoch: [22/1000] - loss: (0.012158431939833273+0j) end.\n",
      "epoch: [23/1000] - loss: (0.012099866444938752+0j) end.\n",
      "epoch: [24/1000] - loss: (0.012041472860238845+0j) end.\n"
     ]
    },
    {
     "ename": "KeyboardInterrupt",
     "evalue": "",
     "output_type": "error",
     "traceback": [
      "\u001b[1;31m---------------------------------------------------------------------------\u001b[0m",
      "\u001b[1;31mKeyboardInterrupt\u001b[0m                         Traceback (most recent call last)",
      "Input \u001b[1;32mIn [200]\u001b[0m, in \u001b[0;36m<cell line: 3>\u001b[1;34m()\u001b[0m\n\u001b[0;32m      3\u001b[0m \u001b[38;5;28;01mfor\u001b[39;00m i \u001b[38;5;129;01min\u001b[39;00m \u001b[38;5;28mrange\u001b[39m(MAX_TIMES):\n\u001b[0;32m      4\u001b[0m     start \u001b[38;5;241m=\u001b[39m time\u001b[38;5;241m.\u001b[39mperf_counter()\n\u001b[1;32m----> 5\u001b[0m     \u001b[43mqol_vqc\u001b[49m\u001b[38;5;241;43m.\u001b[39;49m\u001b[43mfit\u001b[49m\u001b[43m(\u001b[49m\u001b[43mepoch\u001b[49m\u001b[38;5;241;43m=\u001b[39;49m\u001b[38;5;241;43m1000\u001b[39;49m\u001b[43m,\u001b[49m\u001b[43m \u001b[49m\u001b[43mstrategy\u001b[49m\u001b[38;5;241;43m=\u001b[39;49m\u001b[38;5;124;43m'\u001b[39;49m\u001b[38;5;124;43mvqc\u001b[39;49m\u001b[38;5;124;43m'\u001b[39;49m\u001b[43m,\u001b[49m\u001b[43m \u001b[49m\u001b[43mstepsize\u001b[49m\u001b[38;5;241;43m=\u001b[39;49m\u001b[38;5;241;43m0.001\u001b[39;49m\u001b[43m,\u001b[49m\u001b[43m \u001b[49m\u001b[43mearly_stopping\u001b[49m\u001b[38;5;241;43m=\u001b[39;49m\u001b[38;5;28;43;01mTrue\u001b[39;49;00m\u001b[43m)\u001b[49m\n\u001b[0;32m      6\u001b[0m     end \u001b[38;5;241m=\u001b[39m time\u001b[38;5;241m.\u001b[39mperf_counter()\n\u001b[0;32m      7\u001b[0m     times_vqc\u001b[38;5;241m.\u001b[39mappend(end \u001b[38;5;241m-\u001b[39m start)\n",
      "File \u001b[1;32m~\\Desktop\\QOLF\\./tools\\QOLearner.py:154\u001b[0m, in \u001b[0;36mQOLearnerBase.fit\u001b[1;34m(self, epoch, epsilon, stepsize, strategy, early_stopping, regularization_lambda)\u001b[0m\n\u001b[0;32m    151\u001b[0m \u001b[38;5;28;01mwhile\u001b[39;00m t \u001b[38;5;241m<\u001b[39m epoch:\n\u001b[0;32m    152\u001b[0m     \u001b[38;5;66;03m# repeat\u001b[39;00m\n\u001b[0;32m    153\u001b[0m     t \u001b[38;5;241m+\u001b[39m\u001b[38;5;241m=\u001b[39m \u001b[38;5;241m1\u001b[39m\n\u001b[1;32m--> 154\u001b[0m     grad, loss \u001b[38;5;241m=\u001b[39m \u001b[38;5;28;43mself\u001b[39;49m\u001b[38;5;241;43m.\u001b[39;49m\u001b[43mgradientCalculator\u001b[49m\u001b[43m(\u001b[49m\u001b[43mp\u001b[49m\u001b[43m,\u001b[49m\u001b[43m \u001b[49m\u001b[43mepsilon\u001b[49m\u001b[43m)\u001b[49m\n\u001b[0;32m    155\u001b[0m     \u001b[38;5;28mself\u001b[39m\u001b[38;5;241m.\u001b[39mlosses\u001b[38;5;241m.\u001b[39mappend(loss)\n\u001b[0;32m    156\u001b[0m     \u001b[38;5;28mself\u001b[39m\u001b[38;5;241m.\u001b[39mparams\u001b[38;5;241m.\u001b[39mappend(p)\n",
      "File \u001b[1;32m~\\Desktop\\QOLF\\./tools\\QOLearner.py:122\u001b[0m, in \u001b[0;36mQOLearnerBase.gradientCalculator\u001b[1;34m(self, p, epsilon)\u001b[0m\n\u001b[0;32m    120\u001b[0m \u001b[38;5;28;01mfor\u001b[39;00m i, param \u001b[38;5;129;01min\u001b[39;00m \u001b[38;5;28menumerate\u001b[39m(p):\n\u001b[0;32m    121\u001b[0m     p[i] \u001b[38;5;241m+\u001b[39m\u001b[38;5;241m=\u001b[39m epsilon\n\u001b[1;32m--> 122\u001b[0m     l_pe \u001b[38;5;241m=\u001b[39m \u001b[38;5;28;43mself\u001b[39;49m\u001b[38;5;241;43m.\u001b[39;49m\u001b[43mL\u001b[49m\u001b[43m(\u001b[49m\u001b[43mp\u001b[49m\u001b[43m)\u001b[49m\n\u001b[0;32m    123\u001b[0m     p[i] \u001b[38;5;241m-\u001b[39m\u001b[38;5;241m=\u001b[39m epsilon\n\u001b[0;32m    125\u001b[0m     derivates[i] \u001b[38;5;241m=\u001b[39m (l_pe \u001b[38;5;241m-\u001b[39m l_p)\n",
      "File \u001b[1;32m~\\Desktop\\QOLF\\./tools\\QOLearner.py:110\u001b[0m, in \u001b[0;36mQOLearnerBase.L\u001b[1;34m(self, p)\u001b[0m\n\u001b[0;32m    107\u001b[0m \u001b[38;5;66;03m# remained circuit\u001b[39;00m\n\u001b[0;32m    108\u001b[0m circuit \u001b[38;5;241m=\u001b[39m circuit\u001b[38;5;241m.\u001b[39mcompose(targetCircuit)\u001b[38;5;241m.\u001b[39mcompose(\u001b[38;5;28mself\u001b[39m\u001b[38;5;241m.\u001b[39mcircuits[\u001b[38;5;241m1\u001b[39m])\n\u001b[1;32m--> 110\u001b[0m loss \u001b[38;5;241m+\u001b[39m\u001b[38;5;241m=\u001b[39m \u001b[38;5;28;43mself\u001b[39;49m\u001b[38;5;241;43m.\u001b[39;49m\u001b[43mcost\u001b[49m\u001b[43m(\u001b[49m\u001b[43mcircuit\u001b[49m\u001b[43m)\u001b[49m\n\u001b[0;32m    111\u001b[0m \u001b[38;5;28;01mif\u001b[39;00m \u001b[38;5;28mself\u001b[39m\u001b[38;5;241m.\u001b[39mlipschitz_regularization:\n\u001b[0;32m    112\u001b[0m     loss \u001b[38;5;241m+\u001b[39m\u001b[38;5;241m=\u001b[39m calculateLipschitz(targetCircuit, \u001b[38;5;28mself\u001b[39m\u001b[38;5;241m.\u001b[39mcircuits[\u001b[38;5;241m1\u001b[39m], \u001b[38;5;28mself\u001b[39m\u001b[38;5;241m.\u001b[39mmeasurements) \u001b[38;5;241m*\u001b[39m \u001b[38;5;28mself\u001b[39m\u001b[38;5;241m.\u001b[39mregularization_lambda\n",
      "File \u001b[1;32m~\\Desktop\\QOLF\\./tools\\QOLearner.py:69\u001b[0m, in \u001b[0;36mQOLearnerBase.cost\u001b[1;34m(self, circuit)\u001b[0m\n\u001b[0;32m     68\u001b[0m \u001b[38;5;28;01mdef\u001b[39;00m \u001b[38;5;21mcost\u001b[39m(\u001b[38;5;28mself\u001b[39m, circuit):\n\u001b[1;32m---> 69\u001b[0m     state \u001b[38;5;241m=\u001b[39m \u001b[43mgetStatevector\u001b[49m\u001b[43m(\u001b[49m\u001b[43mcircuit\u001b[49m\u001b[43m)\u001b[49m\n\u001b[0;32m     70\u001b[0m     loss \u001b[38;5;241m=\u001b[39m \u001b[38;5;241m0.0\u001b[39m\n\u001b[0;32m     72\u001b[0m     \u001b[38;5;28;01mfor\u001b[39;00m k \u001b[38;5;129;01min\u001b[39;00m \u001b[38;5;28mself\u001b[39m\u001b[38;5;241m.\u001b[39mexpected\u001b[38;5;241m.\u001b[39mkeys():\n",
      "File \u001b[1;32m~\\Desktop\\QOLF\\./tools\\quantum.py:13\u001b[0m, in \u001b[0;36mgetStatevector\u001b[1;34m(circuit)\u001b[0m\n\u001b[0;32m     12\u001b[0m \u001b[38;5;28;01mdef\u001b[39;00m \u001b[38;5;21mgetStatevector\u001b[39m(circuit):\n\u001b[1;32m---> 13\u001b[0m     \u001b[38;5;28;01mreturn\u001b[39;00m \u001b[43mStatevector\u001b[49m\u001b[43m(\u001b[49m\u001b[43mcircuit\u001b[49m\u001b[43m)\u001b[49m\u001b[38;5;241m.\u001b[39mdata\n",
      "File \u001b[1;32m~\\anaconda3\\envs\\qiskit\\lib\\site-packages\\qiskit\\quantum_info\\states\\statevector.py:89\u001b[0m, in \u001b[0;36mStatevector.__init__\u001b[1;34m(self, data, dims)\u001b[0m\n\u001b[0;32m     87\u001b[0m     \u001b[38;5;28mself\u001b[39m\u001b[38;5;241m.\u001b[39m_data \u001b[38;5;241m=\u001b[39m np\u001b[38;5;241m.\u001b[39mravel(data\u001b[38;5;241m.\u001b[39mdata)\n\u001b[0;32m     88\u001b[0m \u001b[38;5;28;01melif\u001b[39;00m \u001b[38;5;28misinstance\u001b[39m(data, (QuantumCircuit, Instruction)):\n\u001b[1;32m---> 89\u001b[0m     \u001b[38;5;28mself\u001b[39m\u001b[38;5;241m.\u001b[39m_data \u001b[38;5;241m=\u001b[39m \u001b[43mStatevector\u001b[49m\u001b[38;5;241;43m.\u001b[39;49m\u001b[43mfrom_instruction\u001b[49m\u001b[43m(\u001b[49m\u001b[43mdata\u001b[49m\u001b[43m)\u001b[49m\u001b[38;5;241m.\u001b[39mdata\n\u001b[0;32m     90\u001b[0m \u001b[38;5;28;01melse\u001b[39;00m:\n\u001b[0;32m     91\u001b[0m     \u001b[38;5;28;01mraise\u001b[39;00m QiskitError(\u001b[38;5;124m\"\u001b[39m\u001b[38;5;124mInvalid input data format for Statevector\u001b[39m\u001b[38;5;124m\"\u001b[39m)\n",
      "File \u001b[1;32m~\\anaconda3\\envs\\qiskit\\lib\\site-packages\\qiskit\\quantum_info\\states\\statevector.py:732\u001b[0m, in \u001b[0;36mStatevector.from_instruction\u001b[1;34m(cls, instruction)\u001b[0m\n\u001b[0;32m    730\u001b[0m init[\u001b[38;5;241m0\u001b[39m] \u001b[38;5;241m=\u001b[39m \u001b[38;5;241m1.0\u001b[39m\n\u001b[0;32m    731\u001b[0m vec \u001b[38;5;241m=\u001b[39m Statevector(init, dims\u001b[38;5;241m=\u001b[39minstruction\u001b[38;5;241m.\u001b[39mnum_qubits \u001b[38;5;241m*\u001b[39m (\u001b[38;5;241m2\u001b[39m,))\n\u001b[1;32m--> 732\u001b[0m \u001b[38;5;28;01mreturn\u001b[39;00m \u001b[43mStatevector\u001b[49m\u001b[38;5;241;43m.\u001b[39;49m\u001b[43m_evolve_instruction\u001b[49m\u001b[43m(\u001b[49m\u001b[43mvec\u001b[49m\u001b[43m,\u001b[49m\u001b[43m \u001b[49m\u001b[43minstruction\u001b[49m\u001b[43m)\u001b[49m\n",
      "File \u001b[1;32m~\\anaconda3\\envs\\qiskit\\lib\\site-packages\\qiskit\\quantum_info\\states\\statevector.py:872\u001b[0m, in \u001b[0;36mStatevector._evolve_instruction\u001b[1;34m(statevec, obj, qargs)\u001b[0m\n\u001b[0;32m    870\u001b[0m     \u001b[38;5;28;01melse\u001b[39;00m:\n\u001b[0;32m    871\u001b[0m         new_qargs \u001b[38;5;241m=\u001b[39m [qargs[qubits[tup]] \u001b[38;5;28;01mfor\u001b[39;00m tup \u001b[38;5;129;01min\u001b[39;00m qregs]\n\u001b[1;32m--> 872\u001b[0m     \u001b[43mStatevector\u001b[49m\u001b[38;5;241;43m.\u001b[39;49m\u001b[43m_evolve_instruction\u001b[49m\u001b[43m(\u001b[49m\u001b[43mstatevec\u001b[49m\u001b[43m,\u001b[49m\u001b[43m \u001b[49m\u001b[43minstr\u001b[49m\u001b[43m,\u001b[49m\u001b[43m \u001b[49m\u001b[43mqargs\u001b[49m\u001b[38;5;241;43m=\u001b[39;49m\u001b[43mnew_qargs\u001b[49m\u001b[43m)\u001b[49m\n\u001b[0;32m    873\u001b[0m \u001b[38;5;28;01mreturn\u001b[39;00m statevec\n",
      "File \u001b[1;32m~\\anaconda3\\envs\\qiskit\\lib\\site-packages\\qiskit\\quantum_info\\states\\statevector.py:838\u001b[0m, in \u001b[0;36mStatevector._evolve_instruction\u001b[1;34m(statevec, obj, qargs)\u001b[0m\n\u001b[0;32m    834\u001b[0m mat \u001b[38;5;241m=\u001b[39m Operator\u001b[38;5;241m.\u001b[39m_instruction_to_matrix(obj)\n\u001b[0;32m    835\u001b[0m \u001b[38;5;28;01mif\u001b[39;00m mat \u001b[38;5;129;01mis\u001b[39;00m \u001b[38;5;129;01mnot\u001b[39;00m \u001b[38;5;28;01mNone\u001b[39;00m:\n\u001b[0;32m    836\u001b[0m     \u001b[38;5;66;03m# Perform the composition and inplace update the current state\u001b[39;00m\n\u001b[0;32m    837\u001b[0m     \u001b[38;5;66;03m# of the operator\u001b[39;00m\n\u001b[1;32m--> 838\u001b[0m     \u001b[38;5;28;01mreturn\u001b[39;00m \u001b[43mStatevector\u001b[49m\u001b[38;5;241;43m.\u001b[39;49m\u001b[43m_evolve_operator\u001b[49m\u001b[43m(\u001b[49m\u001b[43mstatevec\u001b[49m\u001b[43m,\u001b[49m\u001b[43m \u001b[49m\u001b[43mOperator\u001b[49m\u001b[43m(\u001b[49m\u001b[43mmat\u001b[49m\u001b[43m)\u001b[49m\u001b[43m,\u001b[49m\u001b[43m \u001b[49m\u001b[43mqargs\u001b[49m\u001b[38;5;241;43m=\u001b[39;49m\u001b[43mqargs\u001b[49m\u001b[43m)\u001b[49m\n\u001b[0;32m    840\u001b[0m \u001b[38;5;66;03m# Special instruction types\u001b[39;00m\n\u001b[0;32m    841\u001b[0m \u001b[38;5;28;01mif\u001b[39;00m \u001b[38;5;28misinstance\u001b[39m(obj, Reset):\n",
      "File \u001b[1;32m~\\anaconda3\\envs\\qiskit\\lib\\site-packages\\qiskit\\quantum_info\\states\\statevector.py:809\u001b[0m, in \u001b[0;36mStatevector._evolve_operator\u001b[1;34m(statevec, oper, qargs)\u001b[0m\n\u001b[0;32m    807\u001b[0m indices \u001b[38;5;241m=\u001b[39m [num_qargs \u001b[38;5;241m-\u001b[39m \u001b[38;5;241m1\u001b[39m \u001b[38;5;241m-\u001b[39m i \u001b[38;5;28;01mfor\u001b[39;00m i \u001b[38;5;129;01min\u001b[39;00m \u001b[38;5;28mreversed\u001b[39m(qargs)]\n\u001b[0;32m    808\u001b[0m axes \u001b[38;5;241m=\u001b[39m indices \u001b[38;5;241m+\u001b[39m [i \u001b[38;5;28;01mfor\u001b[39;00m i \u001b[38;5;129;01min\u001b[39;00m \u001b[38;5;28mrange\u001b[39m(num_qargs) \u001b[38;5;28;01mif\u001b[39;00m i \u001b[38;5;129;01mnot\u001b[39;00m \u001b[38;5;129;01min\u001b[39;00m indices]\n\u001b[1;32m--> 809\u001b[0m axes_inv \u001b[38;5;241m=\u001b[39m \u001b[43mnp\u001b[49m\u001b[38;5;241;43m.\u001b[39;49m\u001b[43margsort\u001b[49m\u001b[43m(\u001b[49m\u001b[43maxes\u001b[49m\u001b[43m)\u001b[49m\u001b[38;5;241m.\u001b[39mtolist()\n\u001b[0;32m    811\u001b[0m \u001b[38;5;66;03m# Calculate contraction dimensions\u001b[39;00m\n\u001b[0;32m    812\u001b[0m contract_dim \u001b[38;5;241m=\u001b[39m oper\u001b[38;5;241m.\u001b[39m_op_shape\u001b[38;5;241m.\u001b[39mshape[\u001b[38;5;241m1\u001b[39m]\n",
      "File \u001b[1;32m<__array_function__ internals>:5\u001b[0m, in \u001b[0;36margsort\u001b[1;34m(*args, **kwargs)\u001b[0m\n",
      "File \u001b[1;32m~\\anaconda3\\envs\\qiskit\\lib\\site-packages\\numpy\\core\\fromnumeric.py:1114\u001b[0m, in \u001b[0;36margsort\u001b[1;34m(a, axis, kind, order)\u001b[0m\n\u001b[0;32m   1006\u001b[0m \u001b[38;5;129m@array_function_dispatch\u001b[39m(_argsort_dispatcher)\n\u001b[0;32m   1007\u001b[0m \u001b[38;5;28;01mdef\u001b[39;00m \u001b[38;5;21margsort\u001b[39m(a, axis\u001b[38;5;241m=\u001b[39m\u001b[38;5;241m-\u001b[39m\u001b[38;5;241m1\u001b[39m, kind\u001b[38;5;241m=\u001b[39m\u001b[38;5;28;01mNone\u001b[39;00m, order\u001b[38;5;241m=\u001b[39m\u001b[38;5;28;01mNone\u001b[39;00m):\n\u001b[0;32m   1008\u001b[0m     \u001b[38;5;124;03m\"\"\"\u001b[39;00m\n\u001b[0;32m   1009\u001b[0m \u001b[38;5;124;03m    Returns the indices that would sort an array.\u001b[39;00m\n\u001b[0;32m   1010\u001b[0m \n\u001b[1;32m   (...)\u001b[0m\n\u001b[0;32m   1112\u001b[0m \n\u001b[0;32m   1113\u001b[0m \u001b[38;5;124;03m    \"\"\"\u001b[39;00m\n\u001b[1;32m-> 1114\u001b[0m     \u001b[38;5;28;01mreturn\u001b[39;00m \u001b[43m_wrapfunc\u001b[49m\u001b[43m(\u001b[49m\u001b[43ma\u001b[49m\u001b[43m,\u001b[49m\u001b[43m \u001b[49m\u001b[38;5;124;43m'\u001b[39;49m\u001b[38;5;124;43margsort\u001b[39;49m\u001b[38;5;124;43m'\u001b[39;49m\u001b[43m,\u001b[49m\u001b[43m \u001b[49m\u001b[43maxis\u001b[49m\u001b[38;5;241;43m=\u001b[39;49m\u001b[43maxis\u001b[49m\u001b[43m,\u001b[49m\u001b[43m \u001b[49m\u001b[43mkind\u001b[49m\u001b[38;5;241;43m=\u001b[39;49m\u001b[43mkind\u001b[49m\u001b[43m,\u001b[49m\u001b[43m \u001b[49m\u001b[43morder\u001b[49m\u001b[38;5;241;43m=\u001b[39;49m\u001b[43morder\u001b[49m\u001b[43m)\u001b[49m\n",
      "File \u001b[1;32m~\\anaconda3\\envs\\qiskit\\lib\\site-packages\\numpy\\core\\fromnumeric.py:54\u001b[0m, in \u001b[0;36m_wrapfunc\u001b[1;34m(obj, method, *args, **kwds)\u001b[0m\n\u001b[0;32m     52\u001b[0m bound \u001b[38;5;241m=\u001b[39m \u001b[38;5;28mgetattr\u001b[39m(obj, method, \u001b[38;5;28;01mNone\u001b[39;00m)\n\u001b[0;32m     53\u001b[0m \u001b[38;5;28;01mif\u001b[39;00m bound \u001b[38;5;129;01mis\u001b[39;00m \u001b[38;5;28;01mNone\u001b[39;00m:\n\u001b[1;32m---> 54\u001b[0m     \u001b[38;5;28;01mreturn\u001b[39;00m \u001b[43m_wrapit\u001b[49m\u001b[43m(\u001b[49m\u001b[43mobj\u001b[49m\u001b[43m,\u001b[49m\u001b[43m \u001b[49m\u001b[43mmethod\u001b[49m\u001b[43m,\u001b[49m\u001b[43m \u001b[49m\u001b[38;5;241;43m*\u001b[39;49m\u001b[43margs\u001b[49m\u001b[43m,\u001b[49m\u001b[43m \u001b[49m\u001b[38;5;241;43m*\u001b[39;49m\u001b[38;5;241;43m*\u001b[39;49m\u001b[43mkwds\u001b[49m\u001b[43m)\u001b[49m\n\u001b[0;32m     56\u001b[0m \u001b[38;5;28;01mtry\u001b[39;00m:\n\u001b[0;32m     57\u001b[0m     \u001b[38;5;28;01mreturn\u001b[39;00m bound(\u001b[38;5;241m*\u001b[39margs, \u001b[38;5;241m*\u001b[39m\u001b[38;5;241m*\u001b[39mkwds)\n",
      "File \u001b[1;32m~\\anaconda3\\envs\\qiskit\\lib\\site-packages\\numpy\\core\\fromnumeric.py:43\u001b[0m, in \u001b[0;36m_wrapit\u001b[1;34m(obj, method, *args, **kwds)\u001b[0m\n\u001b[0;32m     41\u001b[0m \u001b[38;5;28;01mexcept\u001b[39;00m \u001b[38;5;167;01mAttributeError\u001b[39;00m:\n\u001b[0;32m     42\u001b[0m     wrap \u001b[38;5;241m=\u001b[39m \u001b[38;5;28;01mNone\u001b[39;00m\n\u001b[1;32m---> 43\u001b[0m result \u001b[38;5;241m=\u001b[39m \u001b[38;5;28;43mgetattr\u001b[39;49m\u001b[43m(\u001b[49m\u001b[43masarray\u001b[49m\u001b[43m(\u001b[49m\u001b[43mobj\u001b[49m\u001b[43m)\u001b[49m\u001b[43m,\u001b[49m\u001b[43m \u001b[49m\u001b[43mmethod\u001b[49m\u001b[43m)\u001b[49m\u001b[43m(\u001b[49m\u001b[38;5;241;43m*\u001b[39;49m\u001b[43margs\u001b[49m\u001b[43m,\u001b[49m\u001b[43m \u001b[49m\u001b[38;5;241;43m*\u001b[39;49m\u001b[38;5;241;43m*\u001b[39;49m\u001b[43mkwds\u001b[49m\u001b[43m)\u001b[49m\n\u001b[0;32m     44\u001b[0m \u001b[38;5;28;01mif\u001b[39;00m wrap:\n\u001b[0;32m     45\u001b[0m     \u001b[38;5;28;01mif\u001b[39;00m \u001b[38;5;129;01mnot\u001b[39;00m \u001b[38;5;28misinstance\u001b[39m(result, mu\u001b[38;5;241m.\u001b[39mndarray):\n",
      "\u001b[1;31mKeyboardInterrupt\u001b[0m: "
     ]
    }
   ],
   "source": [
    "times_vqc = []\n",
    "\n",
    "for i in range(MAX_TIMES):\n",
    "    start = time.perf_counter()\n",
    "    qol_vqc.fit(epoch=1000, strategy='vqc', stepsize=0.001, early_stopping=True)\n",
    "    end = time.perf_counter()\n",
    "    times_vqc.append(end - start)\n",
    "    print(f'Fin - No. {i + 1}')\n",
    "    \n",
    "    saveParams(qol_vqc.params[-1], 'toy', 'vqc', i + 1)\n",
    "    saveLosses(qol_vqc.losses, 'toy', 'vqc', i + 1)"
   ]
  },
  {
   "cell_type": "code",
   "execution_count": 38,
   "metadata": {},
   "outputs": [
    {
     "name": "stdout",
     "output_type": "stream",
     "text": [
      "Average times for vqc: 67.84420188999998\n"
     ]
    }
   ],
   "source": [
    "print(f'Average times for vqc: {np.mean(times_vqc)}')"
   ]
  },
  {
   "cell_type": "markdown",
   "metadata": {},
   "source": [
    "### - plot a loss example"
   ]
  },
  {
   "cell_type": "code",
   "execution_count": 39,
   "metadata": {},
   "outputs": [
    {
     "data": {
      "image/png": "[encoded data removed]",
      "text/plain": [
       "<Figure size 432x288 with 1 Axes>"
      ]
     },
     "metadata": {
      "needs_background": "light"
     },
     "output_type": "display_data"
    }
   ],
   "source": [
    "plot(loadLosses('toy', 'vqc', 1), color=palette['vqc'])"
   ]
  },
  {
   "cell_type": "code",
   "execution_count": 17,
   "metadata": {},
   "outputs": [],
   "source": [
    "losses_vqc= []\n",
    "max_length = 0\n",
    "for i in range(10):\n",
    "    losses_vqc.append(loadLosses('toy', 'vqc', i + 1))\n",
    "    max_length = max(max_length, len(losses_vqc[-1]))\n",
    "\n",
    "for i in range(10):\n",
    "    length = len(losses_vqc[i])\n",
    "    while length < max_length:\n",
    "        losses_vqc[i].append(losses_vqc[i][-1])\n",
    "        length += 1"
   ]
  },
  {
   "cell_type": "code",
   "execution_count": 31,
   "metadata": {
    "scrolled": true
   },
   "outputs": [
    {
     "data": {
      "image/png": "[encoded data removed]",
      "text/plain": [
       "<Figure size 432x288 with 1 Axes>"
      ]
     },
     "metadata": {
      "needs_background": "light"
     },
     "output_type": "display_data"
    }
   ],
   "source": [
    "plotLosses(losses_vqc, color=\"#FF9966\", fill_color=\"#CCFF99\", title=\"toy problem vqc\")"
   ]
  },
  {
   "cell_type": "markdown",
   "metadata": {},
   "source": [
    "### - average time and loss"
   ]
  },
  {
   "cell_type": "code",
   "execution_count": 42,
   "metadata": {},
   "outputs": [
    {
     "name": "stdout",
     "output_type": "stream",
     "text": [
      "Average loss for vqc: (0.0013356027413743777+0j)\n"
     ]
    }
   ],
   "source": [
    "average_loss_vqc = 0.0\n",
    "for i in range(MAX_TIMES):\n",
    "    loss = loadLosses('toy', 'vqc', i + 1)[-1]\n",
    "    average_loss_vqc += loss\n",
    "print(f'Average loss for vqc: {average_loss_vqc / MAX_TIMES}')"
   ]
  },
  {
   "cell_type": "code",
   "execution_count": 43,
   "metadata": {},
   "outputs": [
    {
     "name": "stdout",
     "output_type": "stream",
     "text": [
      "Average epoch for vqc: 186.5\n"
     ]
    }
   ],
   "source": [
    "average_epoch_vqc = 0\n",
    "for i in range(MAX_TIMES):\n",
    "    loss = loadLosses('toy', 'vqc', i + 1)\n",
    "    average_epoch_vqc += len(loss)\n",
    "print(f'Average epoch for vqc: {average_epoch_vqc / MAX_TIMES}')"
   ]
  },
  {
   "cell_type": "code",
   "execution_count": 44,
   "metadata": {},
   "outputs": [],
   "source": [
    "average_time_vqc = 67.84420188999998"
   ]
  },
  {
   "cell_type": "code",
   "execution_count": 45,
   "metadata": {},
   "outputs": [
    {
     "name": "stdout",
     "output_type": "stream",
     "text": [
      "Average time per epoch for vqc: 0.036377588144772106\n"
     ]
    }
   ],
   "source": [
    "average_time_per_epoch_vqc = average_time_vqc / average_epoch_vqc\n",
    "print(f'Average time per epoch for vqc: {average_time_per_epoch_vqc}')"
   ]
  },
  {
   "cell_type": "markdown",
   "metadata": {},
   "source": [
    "| Strategy | VQC |\n",
    "|:----------------:|:-----:|\n",
    "| Average loss | 1.336e-3 |\n",
    "| Average time | 67.84 |\n",
    "| Average epochs | 186.5 |\n",
    "| Average time per epoch | 0.03638 |"
   ]
  },
  {
   "cell_type": "markdown",
   "metadata": {},
   "source": [
    "##  Summarize"
   ]
  },
  {
   "cell_type": "code",
   "execution_count": 37,
   "metadata": {
    "scrolled": false
   },
   "outputs": [
    {
     "data": {
      "image/png": "[encoded data removed]",
      "text/plain": [
       "<Figure size 864x360 with 2 Axes>"
      ]
     },
     "metadata": {
      "needs_background": "light"
     },
     "output_type": "display_data"
    }
   ],
   "source": [
    "plt.figure(figsize=(12, 5))\n",
    "plt.subplot(1,2,1)\n",
    "plotLosses(losses_unitary, title=\"toy problem unitary\")\n",
    "plt.subplot(1,2,2)\n",
    "plotLosses(losses_vqc, color=\"#FF9966\", fill_color=\"#CCFF99\", title=\"toy problem vqc\")"
   ]
  },
  {
   "cell_type": "code",
   "execution_count": 18,
   "metadata": {},
   "outputs": [
    {
     "data": {
      "text/plain": [
       "256"
      ]
     },
     "execution_count": 18,
     "metadata": {},
     "output_type": "execute_result"
    }
   ],
   "source": [
    "len(loadParams('toy', 'unitary', 1))"
   ]
  },
  {
   "cell_type": "code",
   "execution_count": 19,
   "metadata": {},
   "outputs": [
    {
     "data": {
      "text/plain": [
       "24"
      ]
     },
     "execution_count": 19,
     "metadata": {},
     "output_type": "execute_result"
    }
   ],
   "source": [
    "len(loadParams('toy', 'vqc', 1))"
   ]
  },
  {
   "cell_type": "markdown",
   "metadata": {},
   "source": [
    "|Indicators| PUG|VQC |\n",
    "|:----------------:|:-----:|:-----:|\n",
    "| Average loss | 1.097e-4 |1.336e-3 |\n",
    "| Average time | 148.3 | 67.84 |\n",
    "| Average epochs | 37.0 | 186.5 |\n",
    "| Average time per epoch | 0.3805 |0.03638 |\n",
    "| Total parameters| 256 | 24 |"
   ]
  },
  {
   "cell_type": "markdown",
   "metadata": {},
   "source": [
    "## Compare Lipschitz"
   ]
  },
  {
   "cell_type": "code",
   "execution_count": 35,
   "metadata": {},
   "outputs": [],
   "source": [
    "measurements = getMeasurements(4)"
   ]
  },
  {
   "cell_type": "code",
   "execution_count": 36,
   "metadata": {},
   "outputs": [],
   "source": [
    "names = ['unitary', 'vqc']"
   ]
  },
  {
   "cell_type": "code",
   "execution_count": 37,
   "metadata": {},
   "outputs": [],
   "source": [
    "error_params = [\n",
    "    [0.0001 , 'b'], [0.0001 , 'p'], [0.0001 , 'd'], \n",
    "    [0.001 , 'b'], [0.001 , 'p'], [0.001 , 'd'], \n",
    "    [0.01 , 'b'], [0.01 , 'p'], [0.01 , 'd'],\n",
    "    [0.1 , 'b'], [0.1 , 'p'], [0.1 , 'd'], \n",
    "]"
   ]
  },
  {
   "cell_type": "markdown",
   "metadata": {},
   "source": [
    "### - exact Lipschitz"
   ]
  },
  {
   "cell_type": "code",
   "execution_count": 241,
   "metadata": {
    "scrolled": true
   },
   "outputs": [
    {
     "name": "stdout",
     "output_type": "stream",
     "text": [
      " - p = 0.0001, errorType: b\n",
      "Lipschitz for [unitary] is: 0.009514746746462391\n",
      "\n",
      "Lipschitz for [vqc] is: 0.001851129319258216\n",
      "\n",
      "smallest one: [vqc]\n",
      "-------------------------\n",
      "\n",
      " - p = 0.0001, errorType: p\n",
      "Lipschitz for [unitary] is: 0.004544564075534789\n",
      "\n",
      "Lipschitz for [vqc] is: 0.0023410978982788674\n",
      "\n",
      "smallest one: [vqc]\n",
      "-------------------------\n",
      "\n",
      " - p = 0.0001, errorType: d\n",
      "Lipschitz for [unitary] is: 0.004544656466242356\n",
      "\n",
      "Lipschitz for [vqc] is: 0.00234102626009484\n",
      "\n",
      "smallest one: [vqc]\n",
      "-------------------------\n",
      "\n",
      " - p = 0.001, errorType: b\n",
      "Lipschitz for [unitary] is: 0.00872528026490834\n",
      "\n",
      "Lipschitz for [vqc] is: 0.0015739950892713153\n",
      "\n",
      "smallest one: [vqc]\n",
      "-------------------------\n",
      "\n",
      " - p = 0.001, errorType: p\n",
      "Lipschitz for [unitary] is: 0.004542900554068851\n",
      "\n",
      "Lipschitz for [vqc] is: 0.0023423856597993937\n",
      "\n",
      "smallest one: [vqc]\n",
      "-------------------------\n",
      "\n",
      " - p = 0.001, errorType: d\n",
      "Lipschitz for [unitary] is: 0.004543824706542443\n",
      "\n",
      "Lipschitz for [vqc] is: 0.002341670568198935\n",
      "\n",
      "smallest one: [vqc]\n",
      "-------------------------\n",
      "\n",
      " - p = 0.01, errorType: b\n",
      "Lipschitz for [unitary] is: 0.010012228178318469\n",
      "\n",
      "Lipschitz for [vqc] is: 0.0018316536196048313\n",
      "\n",
      "smallest one: [vqc]\n",
      "-------------------------\n",
      "\n",
      " - p = 0.01, errorType: p\n",
      "Lipschitz for [unitary] is: 0.004526270114770902\n",
      "\n",
      "Lipschitz for [vqc] is: 0.0023551100250371673\n",
      "\n",
      "smallest one: [vqc]\n",
      "-------------------------\n",
      "\n",
      " - p = 0.01, errorType: d\n",
      "Lipschitz for [unitary] is: 0.004535508076494794\n",
      "\n",
      "Lipschitz for [vqc] is: 0.0023480755186928957\n",
      "\n",
      "smallest one: [vqc]\n",
      "-------------------------\n",
      "\n",
      " - p = 0.1, errorType: b\n",
      "Lipschitz for [unitary] is: 0.008435846542554108\n",
      "\n",
      "Lipschitz for [vqc] is: 0.0019277982055354984\n",
      "\n",
      "smallest one: [vqc]\n",
      "-------------------------\n",
      "\n",
      " - p = 0.1, errorType: p\n",
      "Lipschitz for [unitary] is: 0.004361512068618637\n",
      "\n",
      "Lipschitz for [vqc] is: 0.0024653190660929233\n",
      "\n",
      "smallest one: [vqc]\n",
      "-------------------------\n",
      "\n",
      " - p = 0.1, errorType: d\n",
      "Lipschitz for [unitary] is: 0.004452573235485734\n",
      "\n",
      "Lipschitz for [vqc] is: 0.0024081066531253226\n",
      "\n",
      "smallest one: [vqc]\n",
      "-------------------------\n",
      "\n",
      "{'unitary': 0, 'vqc': 12.0}\n"
     ]
    }
   ],
   "source": [
    "smallestDict = { k: 0 for k in names }\n",
    "\n",
    "for (p, errorType) in error_params:\n",
    "    print(f' - p = {p}, errorType: {errorType}')\n",
    "    \n",
    "    # simulate noise input circuits\n",
    "    noiseInputCircuits = getNoiseCircuits([inputCircuit], p, errorType)\n",
    "\n",
    "    smallest = 1.0; smallestKey = ''\n",
    "    for name in names: # unitary or vqc\n",
    "        lip = 0.0\n",
    "        \n",
    "        for i in range(MAX_TIMES):\n",
    "            # build targetCircuit\n",
    "            params = loadParams('toy', name, i + 1)\n",
    "            targetCircuit = QuantumCircuit(4, 4)\n",
    "            \n",
    "            if name == 'unitary':\n",
    "                targetCircuit.append(buildU(4, params), [0, 1, 2, 3])\n",
    "            else:\n",
    "                targetCircuit = getVQCCircuit(targetCircuit, 4, params, [0, 1, 2, 3])\n",
    "                \n",
    "            lip += calculateExactLipschitz(\n",
    "                [inputCircuit], noiseInputCircuits, \n",
    "                targetCircuit, diffuserCircuit, measurements\n",
    "            )\n",
    "        lip = lip / MAX_TIMES\n",
    "        \n",
    "        if lip < smallest:\n",
    "            smallest = lip\n",
    "            smallestKey = name\n",
    "        \n",
    "        print(f'Lipschitz for [{name}] is: {lip}\\n')\n",
    "    \n",
    "    smallestDict[smallestKey]  += 1.0\n",
    "    print(f'smallest one: [{smallestKey}]')\n",
    "        \n",
    "    print('-' * 25)\n",
    "    print()\n",
    "\n",
    "print(smallestDict)"
   ]
  },
  {
   "cell_type": "markdown",
   "metadata": {},
   "source": [
    "<table>\n",
    "    <tr>\n",
    "        <th style=\"text-align: center\" rowspan=\"2\">Strategy</th><th style=\"text-align: center\" rowspan=\"2\">Error Type</th><th style=\"text-align: center\" colspan=\"4\">Probability</th>\n",
    "    </tr>\n",
    "    <tr>\n",
    "                                                 <td style=\"text-align: center\">0.0001</td><td style=\"text-align: center\">0.001</td><td style=\"text-align: center\">0.01</td><td style=\"text-align: center\">0.1</td>\n",
    "    </tr>\n",
    "    <tr>\n",
    "        <td style=\"text-align: center\" rowspan=\"3\">Parameterized Unitary</td><td style=\"text-align: center\">bit flip</td><td>9.515e-3</td><td>8.725e-3</td><td>0.0100</td><td>8.436e-3</td>\n",
    "    </tr>\n",
    "    <tr>\n",
    "        <td style=\"text-align: center\">phase flip</td><td>4.545e-3\n",
    "</td><td>4.543e-3</td><td>4.526e-3</td><td>4.362e-3</td>\n",
    "    </tr>\n",
    "    <tr>\n",
    "        <td style=\"text-align: center\">depolarizing</td><td>4.545e-3</td><td>4.544e-3</td><td>4.536e-3</td><td>4.453e-3</td>\n",
    "    </tr>\n",
    "    <tr>\n",
    "        <td style=\"text-align: center\" rowspan=\"3\">VQC</td><td style=\"text-align: center\">bit flip</td><td> 1.851e-3</td><td>2.465e-3\n",
    "</td><td>1.832e-3</td><td>1.928e-3</td>\n",
    "    </tr>\n",
    "    <tr>\n",
    "        <td style=\"text-align: center\">phase flip</td><td>2.341e-3</td><td>2.342e-3</td><td>2.356e-3</td><td>2.465e-3</td>\n",
    "    </tr>\n",
    "    <tr>\n",
    "        <td style=\"text-align: center\">depolarizing</td><td>2.341e-3</td><td>2.342e-3\n",
    "</td><td>2.348e-3\n",
    "</td><td>2.408e-3</td>\n",
    "    </tr>\n",
    "    \n",
    "</table>"
   ]
  },
  {
   "cell_type": "markdown",
   "metadata": {},
   "source": [
    "### - approximate Lipschitz"
   ]
  },
  {
   "cell_type": "code",
   "execution_count": 36,
   "metadata": {},
   "outputs": [
    {
     "name": "stdout",
     "output_type": "stream",
     "text": [
      "Lipschitz for [unitary] is: 0.0017833707497205563(best params: No.6(0.00020229833291142825))\n",
      "\n",
      "Lipschitz for [vqc] is: 0.0008478257038459326(best params: No.7(4.544634546305719e-07))\n",
      "\n"
     ]
    }
   ],
   "source": [
    "for name in names: # unitary or vqc\n",
    "    lip = 0.0\n",
    "    best_index = -1; best_lip = 1\n",
    "\n",
    "    for i in range(MAX_TIMES):\n",
    "        # build targetCircuit\n",
    "        params = loadParams('toy', name, i + 1)\n",
    "        targetCircuit = QuantumCircuit(4, 4)\n",
    "\n",
    "        if name == 'unitary':\n",
    "            targetCircuit.append(buildU(4, params), [0, 1, 2, 3])\n",
    "        else:\n",
    "            targetCircuit = getVQCCircuit(targetCircuit, 4, params, [0, 1, 2, 3])\n",
    "\n",
    "        score = calculateLipschitz(targetCircuit, diffuserCircuit, measurements)\n",
    "        \n",
    "        if score < best_lip:\n",
    "            best_lip = score\n",
    "            best_index = i + 1\n",
    "        \n",
    "        lip += score\n",
    "        \n",
    "    lip = lip / MAX_TIMES\n",
    "\n",
    "    print(f'Lipschitz for [{name}] is: {lip}(best params: No.{best_index}({best_lip}))\\n')"
   ]
  },
  {
   "cell_type": "code",
   "execution_count": 80,
   "metadata": {},
   "outputs": [
    {
     "data": {
      "image/png": "[encoded data removed]",
      "text/plain": [
       "<Figure size 1591.6x686.28 with 1 Axes>"
      ]
     },
     "execution_count": 80,
     "metadata": {},
     "output_type": "execute_result"
    }
   ],
   "source": [
    "params = loadParams('toy', 'vqc', 10)\n",
    "targetCircuit = QuantumCircuit(4, 4)\n",
    "fullCircuitVQC = inputCircuit.compose(getVQCCircuit(targetCircuit, 4, params, [0, 1, 2, 3])).compose(diffuserCircuit)\n",
    "fullCircuitVQC.draw(output='mpl')"
   ]
  },
  {
   "cell_type": "code",
   "execution_count": 44,
   "metadata": {},
   "outputs": [
    {
     "data": {
      "text/plain": [
       "<qiskit.circuit.instructionset.InstructionSet at 0x18d91864140>"
      ]
     },
     "execution_count": 44,
     "metadata": {},
     "output_type": "execute_result"
    }
   ],
   "source": [
    "fullCircuitVQC.measure([0, 1, 2, 3], [0, 1, 2, 3])"
   ]
  },
  {
   "cell_type": "code",
   "execution_count": 49,
   "metadata": {},
   "outputs": [
    {
     "name": "stdout",
     "output_type": "stream",
     "text": [
      "{'1011': 120, '0010': 143, '0011': 165, '1010': 11, '0001': 36, '0101': 160, '0111': 131, '1111': 14, '1101': 108, '1001': 15, '0110': 21, '0000': 18, '1000': 31, '1110': 16, '0100': 7, '1100': 4}\n"
     ]
    }
   ],
   "source": [
    "# expected = {\"0010\":1, \"0011\":1, \"0101\":1, \"0111\":1, \"1011\":1, \"1101\": 1}\n",
    "job = execute(fullCircuitVQC, simulator, shots = 1000)\n",
    "results = job.result()\n",
    "counts = results.get_counts(fullCircuitVQC)\n",
    "print(counts)"
   ]
  },
  {
   "cell_type": "code",
   "execution_count": 55,
   "metadata": {},
   "outputs": [
    {
     "data": {
      "image/png": "[encoded data removed]",
      "text/plain": [
       "<Figure size 1591.6x686.28 with 1 Axes>"
      ]
     },
     "execution_count": 55,
     "metadata": {},
     "output_type": "execute_result"
    }
   ],
   "source": [
    "params = loadParams('toy', 'unitary', 6)\n",
    "inputC = inputCircuit.copy()\n",
    "inputC.append(buildU(4, params), [0, 1, 2, 3])\n",
    "fullCircuitUnitary = inputC.compose(diffuserCircuit)\n",
    "fullCircuitUnitary.draw(output='mpl')"
   ]
  },
  {
   "cell_type": "code",
   "execution_count": 54,
   "metadata": {},
   "outputs": [
    {
     "data": {
      "text/plain": [
       "<qiskit.circuit.instructionset.InstructionSet at 0x18d91794840>"
      ]
     },
     "execution_count": 54,
     "metadata": {},
     "output_type": "execute_result"
    }
   ],
   "source": [
    "fullCircuitUnitary.measure([0, 1, 2, 3], [0, 1, 2, 3])"
   ]
  },
  {
   "cell_type": "code",
   "execution_count": 51,
   "metadata": {},
   "outputs": [
    {
     "name": "stdout",
     "output_type": "stream",
     "text": [
      "{'0011': 163, '1101': 146, '1011': 164, '0010': 168, '0111': 161, '0101': 145, '1111': 9, '0001': 6, '1001': 2, '0110': 16, '0100': 12, '0000': 1, '1110': 5, '1100': 1, '1010': 1}\n"
     ]
    }
   ],
   "source": [
    "# expected = {\"0010\":1, \"0011\":1, \"0101\":1, \"0111\":1, \"1011\":1, \"1101\": 1}\n",
    "job = execute(fullCircuitUnitary, simulator, shots = 1000)\n",
    "results = job.result()\n",
    "counts = results.get_counts(fullCircuitUnitary)\n",
    "print(counts)"
   ]
  },
  {
   "cell_type": "code",
   "execution_count": 38,
   "metadata": {},
   "outputs": [],
   "source": [
    "from qiskit.visualization import plot_bloch_multivector, plot_histogram"
   ]
  },
  {
   "cell_type": "code",
   "execution_count": 39,
   "metadata": {},
   "outputs": [],
   "source": [
    "palette = {\n",
    "    'unitary': '#AAAAFF', 'vqc': '#66CC99', \n",
    "}"
   ]
  },
  {
   "cell_type": "code",
   "execution_count": 40,
   "metadata": {},
   "outputs": [],
   "source": [
    "def getCounts(circuit, shots=10000):\n",
    "    circuit = circuit.copy()\n",
    "    circuit.measure([0, 1, 2, 3], [0, 1, 2, 3])\n",
    "    \n",
    "    job = execute(circuit, simulator, shots = shots)\n",
    "    results = job.result()\n",
    "    counts = results.get_counts(circuit)\n",
    "    \n",
    "    return counts"
   ]
  },
  {
   "cell_type": "code",
   "execution_count": 41,
   "metadata": {},
   "outputs": [],
   "source": [
    "params = loadParams('toy', 'unitary', 6)\n",
    "inputC = inputCircuit.copy()\n",
    "inputC.append(buildU(4, params), [0, 1, 2, 3])\n",
    "fullCircuitUnitary = inputC.compose(diffuserCircuit)"
   ]
  },
  {
   "cell_type": "code",
   "execution_count": 42,
   "metadata": {},
   "outputs": [
    {
     "data": {
      "image/png": "[encoded data removed]",
      "text/plain": [
       "<Figure size 720x360 with 1 Axes>"
      ]
     },
     "execution_count": 42,
     "metadata": {},
     "output_type": "execute_result"
    }
   ],
   "source": [
    "plot_histogram(getCounts(fullCircuitUnitary, shots=1000), figsize=(10,5), color=palette['unitary'], title=\"PUG- Primes searching\")"
   ]
  },
  {
   "cell_type": "code",
   "execution_count": 221,
   "metadata": {},
   "outputs": [],
   "source": [
    "params = loadParams('toy', 'vqc', 7)\n",
    "targetCircuit = QuantumCircuit(4, 4)\n",
    "fullCircuitVQC = inputCircuit.compose(getVQCCircuit(targetCircuit, 4, qol_vqc.params[-1], [0, 1, 2, 3])).compose(diffuserCircuit)"
   ]
  },
  {
   "cell_type": "code",
   "execution_count": 240,
   "metadata": {},
   "outputs": [
    {
     "data": {
      "image/png": "[encoded data removed]",
      "text/plain": [
       "<Figure size 720x360 with 1 Axes>"
      ]
     },
     "execution_count": 240,
     "metadata": {},
     "output_type": "execute_result"
    }
   ],
   "source": [
    "plot_histogram(getCounts(fullCircuitVQC, shots=1000), figsize=(10,5), color=palette['vqc'],  title=\"VQC - Primes searching\")"
   ]
  },
  {
   "cell_type": "code",
   "execution_count": null,
   "metadata": {},
   "outputs": [],
   "source": []
  }
 ],
 "metadata": {
  "kernelspec": {
   "display_name": "Python 3 (ipykernel)",
   "language": "python",
   "name": "python3"
  },
  "language_info": {
   "codemirror_mode": {
    "name": "ipython",
    "version": 3
   },
   "file_extension": ".py",
   "mimetype": "text/x-python",
   "name": "python",
   "nbconvert_exporter": "python",
   "pygments_lexer": "ipython3",
   "version": "3.8.13"
  }
 },
 "nbformat": 4,
 "nbformat_minor": 4
}
