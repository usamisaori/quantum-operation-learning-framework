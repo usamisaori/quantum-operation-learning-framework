{
 "cells": [
  {
   "cell_type": "code",
   "execution_count": 1,
   "metadata": {},
   "outputs": [],
   "source": [
    "import sys\n",
    "sys.path.append(\"./tools\")"
   ]
  },
  {
   "cell_type": "code",
   "execution_count": 2,
   "metadata": {},
   "outputs": [],
   "source": [
    "import numpy as np\n",
    "\n",
    "import qiskit\n",
    "from qiskit import QuantumCircuit\n",
    "from qiskit import execute, Aer\n",
    "\n",
    "simulator = Aer.get_backend('qasm_simulator')"
   ]
  },
  {
   "cell_type": "code",
   "execution_count": 3,
   "metadata": {},
   "outputs": [],
   "source": [
    "import warnings\n",
    "warnings.filterwarnings('ignore')"
   ]
  },
  {
   "cell_type": "code",
   "execution_count": 4,
   "metadata": {},
   "outputs": [],
   "source": [
    "palette = {\n",
    "    'unitary': '#FF9966', 'vqc': '#66CC99', \n",
    "}"
   ]
  },
  {
   "cell_type": "code",
   "execution_count": 5,
   "metadata": {},
   "outputs": [],
   "source": [
    "%matplotlib inline"
   ]
  },
  {
   "cell_type": "code",
   "execution_count": 6,
   "metadata": {},
   "outputs": [
    {
     "data": {
      "text/html": [
       "<style>\n",
       "table {float:left;}\n",
       "</style>\n"
      ],
      "text/plain": [
       "<IPython.core.display.HTML object>"
      ]
     },
     "metadata": {},
     "output_type": "display_data"
    }
   ],
   "source": [
    "%%html\n",
    "<style>\n",
    "table {float:left;}\n",
    "</style>"
   ]
  },
  {
   "cell_type": "markdown",
   "metadata": {},
   "source": [
    "## Tool Modules"
   ]
  },
  {
   "cell_type": "code",
   "execution_count": 7,
   "metadata": {},
   "outputs": [],
   "source": [
    "from quantum import *\n",
    "from measurements import *\n",
    "\n",
    "from unitary import *\n",
    "from VQC import *\n",
    "\n",
    "from dataSL import *\n",
    "from QOLearner import *\n",
    "\n",
    "from noise import *\n",
    "from lipschitz import *"
   ]
  },
  {
   "cell_type": "markdown",
   "metadata": {},
   "source": [
    "## Prepare Circuits"
   ]
  },
  {
   "cell_type": "markdown",
   "metadata": {},
   "source": [
    "### - Input Circuits"
   ]
  },
  {
   "cell_type": "code",
   "execution_count": 8,
   "metadata": {},
   "outputs": [],
   "source": [
    "def initCircuit(n):\n",
    "    circuit = QuantumCircuit(2 * n, 2 * n)\n",
    "    senders = circuit.qubits[0:n]\n",
    "    receivers = circuit.qubits[n:]\n",
    "    \n",
    "    for sender, receiver in zip(senders, receivers):\n",
    "        circuit.h(sender)\n",
    "        circuit.cx(sender, receiver)\n",
    "        \n",
    "    return senders, receivers, circuit"
   ]
  },
  {
   "cell_type": "code",
   "execution_count": 9,
   "metadata": {},
   "outputs": [],
   "source": [
    "def operate(circuit, target, bits):\n",
    "    \"\"\"\n",
    "        => Z^(b_1) * X^(b_2)\n",
    "    \"\"\"\n",
    "    if bits[0] == '1':\n",
    "        circuit.z(target)\n",
    "    if bits[1] == '1':\n",
    "        circuit.x(target)\n",
    "\n",
    "    return circuit\n",
    "\n",
    "def getCircuit(n, classical_bits):\n",
    "    bits_str = ''.join(classical_bits)\n",
    "    \"\"\"\n",
    "        getCircuit(circuit, [\"01\", \"10\", \"00\"])\n",
    "            => X(A1), Z(A2), I(A3)\n",
    "    \"\"\"\n",
    "    senders, receivers, circuit = initCircuit(n)\n",
    "    circuit_copy = circuit.copy()\n",
    "    \n",
    "    circuit_copy.barrier(senders)\n",
    "    for i, sender in enumerate(senders):\n",
    "        operate(circuit_copy, sender, classical_bits[i])\n",
    "\n",
    "    return circuit_copy"
   ]
  },
  {
   "cell_type": "code",
   "execution_count": 10,
   "metadata": {},
   "outputs": [
    {
     "data": {
      "image/png": "[encoded data removed]",
      "text/plain": [
       "<Figure size 387.597x325.08 with 1 Axes>"
      ]
     },
     "execution_count": 10,
     "metadata": {},
     "output_type": "execute_result"
    }
   ],
   "source": [
    "qc = getCircuit(2, [\"01\", \"10\"])\n",
    "qc.draw(output='mpl')"
   ]
  },
  {
   "cell_type": "code",
   "execution_count": 11,
   "metadata": {},
   "outputs": [
    {
     "name": "stdout",
     "output_type": "stream",
     "text": [
      "16\n"
     ]
    }
   ],
   "source": [
    "inputCircuits = []\n",
    "n = 2\n",
    "\n",
    "classical_bits = [\"00\", \"01\", \"10\", \"11\"]\n",
    "for comb in combs[n]:\n",
    "    inputCircuits.append( getCircuit(n, list(map( lambda x: classical_bits[int(x)] , list(comb)))) )\n",
    "\n",
    "print(len(inputCircuits)) # 16"
   ]
  },
  {
   "cell_type": "markdown",
   "metadata": {},
   "source": [
    "### - Output Circuits"
   ]
  },
  {
   "cell_type": "code",
   "execution_count": 12,
   "metadata": {},
   "outputs": [],
   "source": [
    "def getMeasureCircuit(n):\n",
    "    circuit = QuantumCircuit(2 * n, 2 * n)\n",
    "    \n",
    "    for i in range(n):\n",
    "        circuit.cx(i, i + n)\n",
    "        circuit.h(i)\n",
    "    \n",
    "    return circuit"
   ]
  },
  {
   "cell_type": "code",
   "execution_count": 13,
   "metadata": {},
   "outputs": [
    {
     "data": {
      "image/png": "[encoded data removed]",
      "text/plain": [
       "<Figure size 267.197x325.08 with 1 Axes>"
      ]
     },
     "execution_count": 13,
     "metadata": {},
     "output_type": "execute_result"
    }
   ],
   "source": [
    "n = 2\n",
    "\n",
    "measureCircuit = getMeasureCircuit(n)\n",
    "measureCircuit.draw(output='mpl')"
   ]
  },
  {
   "cell_type": "markdown",
   "metadata": {},
   "source": [
    "## Train paramters"
   ]
  },
  {
   "cell_type": "code",
   "execution_count": 14,
   "metadata": {},
   "outputs": [],
   "source": [
    "import time\n",
    "import sys\n",
    "stdout = sys.stdout"
   ]
  },
  {
   "cell_type": "code",
   "execution_count": 15,
   "metadata": {},
   "outputs": [],
   "source": [
    "# experiments times\n",
    "MAX_TIMES = 10"
   ]
  },
  {
   "cell_type": "markdown",
   "metadata": {},
   "source": [
    "### - expecetd"
   ]
  },
  {
   "cell_type": "code",
   "execution_count": 16,
   "metadata": {},
   "outputs": [
    {
     "name": "stdout",
     "output_type": "stream",
     "text": [
      "{'0000': 1, '0001': 1, '0010': 1, '0011': 1, '0100': 1, '0101': 1, '0110': 1, '0111': 1, '1000': 1, '1001': 1, '1010': 1, '1011': 1, '1100': 1, '1101': 1, '1110': 1, '1111': 1}\n",
      "16\n"
     ]
    }
   ],
   "source": [
    "expected = {}\n",
    "\n",
    "n = 2\n",
    "for i in range(2 ** (2 * n)):\n",
    "    expected[bin(i)[2:].rjust(2 * n, '0')] = 1\n",
    "\n",
    "print(expected)\n",
    "print(len(expected)) # 4 ** n"
   ]
  },
  {
   "cell_type": "markdown",
   "metadata": {},
   "source": [
    "## Strategy: unitary"
   ]
  },
  {
   "cell_type": "code",
   "execution_count": 17,
   "metadata": {},
   "outputs": [],
   "source": [
    "qol_unitary = QOLearnerBase([inputCircuits, measureCircuit], 2, [0, 1], expected)"
   ]
  },
  {
   "cell_type": "code",
   "execution_count": 122,
   "metadata": {},
   "outputs": [
    {
     "name": "stdout",
     "output_type": "stream",
     "text": [
      "Fin - No. 1\n",
      "Fin - No. 2\n",
      "Fin - No. 3\n",
      "Fin - No. 4\n",
      "Fin - No. 5\n",
      "Fin - No. 6\n",
      "Fin - No. 7\n",
      "Fin - No. 8\n",
      "Fin - No. 9\n",
      "Fin - No. 10\n"
     ]
    }
   ],
   "source": [
    "times_unitary = []\n",
    "\n",
    "for i in range(MAX_TIMES):\n",
    "    sys.stdout = None\n",
    "    start = time.clock()\n",
    "    qol_unitary.fit(epoch=1000, strategy='unitary', stepsize=0.005, early_stopping=True)\n",
    "    end = time.clock()\n",
    "    times_unitary.append(end - start)\n",
    "    sys.stdout = stdout\n",
    "    \n",
    "    print(f'Fin - No. {i + 1}')\n",
    "    \n",
    "    saveParams(qol_unitary.params[-1], 'sdc2', 'unitary', i + 1)\n",
    "    saveLosses(qol_unitary.losses, 'sdc2', 'unitary', i + 1)"
   ]
  },
  {
   "cell_type": "code",
   "execution_count": 154,
   "metadata": {},
   "outputs": [
    {
     "name": "stdout",
     "output_type": "stream",
     "text": [
      "Average times for unitary: 208.38560327000158\n"
     ]
    }
   ],
   "source": [
    "print(f'Average times for unitary: {np.mean(times_unitary)}')"
   ]
  },
  {
   "cell_type": "markdown",
   "metadata": {},
   "source": [
    "### - plot a loss example"
   ]
  },
  {
   "cell_type": "code",
   "execution_count": 141,
   "metadata": {},
   "outputs": [
    {
     "data": {
      "image/png": "[encoded data removed]",
      "text/plain": [
       "<Figure size 432x288 with 1 Axes>"
      ]
     },
     "metadata": {
      "needs_background": "light"
     },
     "output_type": "display_data"
    }
   ],
   "source": [
    "plot(loadLosses('sdc2', 'unitary', 9), color=palette['unitary'])"
   ]
  },
  {
   "cell_type": "code",
   "execution_count": 19,
   "metadata": {
    "scrolled": true
   },
   "outputs": [],
   "source": [
    "losses_unitary = []\n",
    "max_length = 0\n",
    "for i in range(MAX_TIMES):\n",
    "    losses_unitary.append(loadLosses('sdc2', 'unitary', i + 1))\n",
    "    max_length = max(max_length, len(losses_unitary[-1]))\n",
    "\n",
    "for i in range(MAX_TIMES):\n",
    "    length = len(losses_unitary[i])\n",
    "    while length < max_length:\n",
    "        losses_unitary[i].append(losses_unitary[i][-1])\n",
    "        length += 1"
   ]
  },
  {
   "cell_type": "code",
   "execution_count": 20,
   "metadata": {
    "scrolled": false
   },
   "outputs": [
    {
     "data": {
      "image/png": "[encoded data removed]",
      "text/plain": [
       "<Figure size 432x288 with 1 Axes>"
      ]
     },
     "metadata": {
      "needs_background": "light"
     },
     "output_type": "display_data"
    }
   ],
   "source": [
    "plotLosses(losses_unitary, title='SDC-2 unitary')"
   ]
  },
  {
   "cell_type": "markdown",
   "metadata": {},
   "source": [
    "### - average time and loss"
   ]
  },
  {
   "cell_type": "code",
   "execution_count": 144,
   "metadata": {},
   "outputs": [
    {
     "name": "stdout",
     "output_type": "stream",
     "text": [
      "Average loss for unitary: (0.0005889372168244077+0j)\n"
     ]
    }
   ],
   "source": [
    "average_loss_unitary = 0.0\n",
    "for i in range(MAX_TIMES):\n",
    "    loss = loadLosses('sdc2', 'unitary', i + 1)[-1]\n",
    "    average_loss_unitary += loss\n",
    "print(f'Average loss for unitary: {average_loss_unitary / MAX_TIMES}')"
   ]
  },
  {
   "cell_type": "code",
   "execution_count": 145,
   "metadata": {},
   "outputs": [
    {
     "name": "stdout",
     "output_type": "stream",
     "text": [
      "Average epoch for unitary: 155.8\n"
     ]
    }
   ],
   "source": [
    "average_epoch_unitary = 0\n",
    "for i in range(MAX_TIMES):\n",
    "    loss = loadLosses('sdc2', 'unitary', i + 1)\n",
    "    average_epoch_unitary += len(loss)\n",
    "print(f'Average epoch for unitary: {average_epoch_unitary / MAX_TIMES}')"
   ]
  },
  {
   "cell_type": "code",
   "execution_count": 146,
   "metadata": {},
   "outputs": [],
   "source": [
    "average_time_unitary = 208.38560327000158"
   ]
  },
  {
   "cell_type": "code",
   "execution_count": 147,
   "metadata": {},
   "outputs": [
    {
     "name": "stdout",
     "output_type": "stream",
     "text": [
      "Average time per epoch for unitary: 0.1337519918292693\n"
     ]
    }
   ],
   "source": [
    "average_time_per_epoch_unitary = average_time_unitary / average_epoch_unitary\n",
    "print(f'Average time per epoch for unitary: {average_time_per_epoch_unitary}')"
   ]
  },
  {
   "cell_type": "markdown",
   "metadata": {},
   "source": [
    "|Strategy| parameterized unitary |\n",
    "|:----------------:|:-----:|\n",
    "| Average loss | 5.889e-4 |\n",
    "| Average time | 208.4 |\n",
    "| Average epochs | 155.8 |\n",
    "| Average time per epoch | 0.134 |"
   ]
  },
  {
   "cell_type": "markdown",
   "metadata": {},
   "source": [
    "## Strategy: VQC"
   ]
  },
  {
   "cell_type": "code",
   "execution_count": 67,
   "metadata": {},
   "outputs": [],
   "source": [
    "qol_vqc = QOLearnerBase([inputCircuits, measureCircuit], 2, [0, 1], expected)"
   ]
  },
  {
   "cell_type": "code",
   "execution_count": 123,
   "metadata": {},
   "outputs": [
    {
     "name": "stdout",
     "output_type": "stream",
     "text": [
      "Fin - No. 1\n",
      "Fin - No. 2\n",
      "Fin - No. 3\n",
      "Fin - No. 4\n",
      "Fin - No. 5\n",
      "Fin - No. 6\n",
      "Fin - No. 7\n",
      "Fin - No. 8\n",
      "Fin - No. 9\n",
      "Fin - No. 10\n"
     ]
    }
   ],
   "source": [
    "times_vqc = []\n",
    "\n",
    "for i in range(MAX_TIMES):\n",
    "    sys.stdout = None\n",
    "    start = time.clock()\n",
    "    qol_vqc.fit(epoch=1000, strategy='vqc', stepsize=0.005, early_stopping=True)\n",
    "    end = time.clock()\n",
    "    times_vqc.append(end - start)\n",
    "    sys.stdout = stdout\n",
    "    \n",
    "    print(f'Fin - No. {i + 1}')\n",
    "    \n",
    "    saveParams(qol_vqc.params[-1], 'sdc2', 'vqc', i + 1)\n",
    "    saveLosses(qol_vqc.losses, 'sdc2', 'vqc', i + 1)"
   ]
  },
  {
   "cell_type": "code",
   "execution_count": 131,
   "metadata": {},
   "outputs": [
    {
     "name": "stdout",
     "output_type": "stream",
     "text": [
      "Average times for vqc: 197.4960733400003\n"
     ]
    }
   ],
   "source": [
    "print(f'Average times for vqc: {np.mean(times_vqc)}')"
   ]
  },
  {
   "cell_type": "markdown",
   "metadata": {},
   "source": [
    "### - plot a loss example"
   ]
  },
  {
   "cell_type": "code",
   "execution_count": 132,
   "metadata": {},
   "outputs": [
    {
     "data": {
      "image/png": "[encoded data removed]",
      "text/plain": [
       "<Figure size 432x288 with 1 Axes>"
      ]
     },
     "metadata": {
      "needs_background": "light"
     },
     "output_type": "display_data"
    }
   ],
   "source": [
    "plot(loadLosses('sdc2', 'vqc', 6), color=palette['vqc'])"
   ]
  },
  {
   "cell_type": "code",
   "execution_count": 21,
   "metadata": {
    "scrolled": true
   },
   "outputs": [],
   "source": [
    "losses_vqc = []\n",
    "max_length = 0\n",
    "for i in range(10):\n",
    "    losses_vqc.append(loadLosses('sdc2', 'vqc', i + 1))\n",
    "    max_length = max(max_length, len(losses_vqc[-1]))\n",
    "\n",
    "for i in range(10):\n",
    "    length = len(losses_vqc[i])\n",
    "    while length < max_length:\n",
    "        losses_vqc[i].append(losses_vqc[i][-1])\n",
    "        length += 1"
   ]
  },
  {
   "cell_type": "code",
   "execution_count": 22,
   "metadata": {
    "scrolled": false
   },
   "outputs": [
    {
     "data": {
      "image/png": "[encoded data removed]",
      "text/plain": [
       "<Figure size 432x288 with 1 Axes>"
      ]
     },
     "metadata": {
      "needs_background": "light"
     },
     "output_type": "display_data"
    }
   ],
   "source": [
    "plotLosses(losses_vqc, color=\"#FF9966\", fill_color=\"#CCFF99\", title=\"SDC-2 vqc\")"
   ]
  },
  {
   "cell_type": "markdown",
   "metadata": {},
   "source": [
    "### - average time and loss"
   ]
  },
  {
   "cell_type": "code",
   "execution_count": 135,
   "metadata": {},
   "outputs": [
    {
     "name": "stdout",
     "output_type": "stream",
     "text": [
      "Average loss for vqc: (0.0003660185362818955+0j)\n"
     ]
    }
   ],
   "source": [
    "average_loss_vqc = 0.0\n",
    "for i in range(MAX_TIMES):\n",
    "    loss = loadLosses('sdc2', 'vqc', i + 1)[-1]\n",
    "    average_loss_vqc += loss\n",
    "print(f'Average loss for vqc: {average_loss_vqc / MAX_TIMES}')"
   ]
  },
  {
   "cell_type": "code",
   "execution_count": 136,
   "metadata": {},
   "outputs": [
    {
     "name": "stdout",
     "output_type": "stream",
     "text": [
      "Average epoch for vqc: 181.6\n"
     ]
    }
   ],
   "source": [
    "average_epoch_vqc = 0\n",
    "for i in range(MAX_TIMES):\n",
    "    loss = loadLosses('sdc2', 'vqc', i + 1)\n",
    "    average_epoch_vqc += len(loss)\n",
    "print(f'Average epoch for vqc: {average_epoch_vqc / MAX_TIMES}')"
   ]
  },
  {
   "cell_type": "code",
   "execution_count": 137,
   "metadata": {},
   "outputs": [],
   "source": [
    "average_time_vqc = 197.4960733400003"
   ]
  },
  {
   "cell_type": "code",
   "execution_count": 138,
   "metadata": {},
   "outputs": [
    {
     "name": "stdout",
     "output_type": "stream",
     "text": [
      "Average time per epoch for vqc: 0.10875334435022042\n"
     ]
    }
   ],
   "source": [
    "average_time_per_epoch_vqc = average_time_vqc / average_epoch_vqc\n",
    "print(f'Average time per epoch for vqc: {average_time_per_epoch_vqc}')"
   ]
  },
  {
   "cell_type": "markdown",
   "metadata": {},
   "source": [
    "| Strategy | VQC |\n",
    "|:----------------:|:-----:|\n",
    "| Average loss | 3.660e-4 |\n",
    "| Average time | 197.5 |\n",
    "| Average epochs | 181.6 |\n",
    "| Average time per epoch | 0.109 |"
   ]
  },
  {
   "cell_type": "markdown",
   "metadata": {},
   "source": [
    "##  Summarize"
   ]
  },
  {
   "cell_type": "code",
   "execution_count": 148,
   "metadata": {},
   "outputs": [
    {
     "data": {
      "image/png": "[encoded data removed]",
      "text/plain": [
       "<Figure size 1080x432 with 2 Axes>"
      ]
     },
     "metadata": {
      "needs_background": "light"
     },
     "output_type": "display_data"
    }
   ],
   "source": [
    "plt.figure(figsize=(15, 6))\n",
    "plt.subplot(1,2,1)\n",
    "plotLosses(losses_unitary, title=\"SDC-2 unitary\")\n",
    "plt.subplot(1,2,2)\n",
    "plotLosses(losses_vqc, color=\"#FF9966\", fill_color=\"#CCFF99\", title=\"SDC-2 vqc\")"
   ]
  },
  {
   "cell_type": "markdown",
   "metadata": {},
   "source": [
    "|Strategy| parameterized unitary | VQC |\n",
    "|:----------------:|:-----:|:-----:|\n",
    "| Average loss | 5.889e-4 | 3.660e-4 |\n",
    "| Average time | 208.4 | 197.5 |\n",
    "| Average epochs | 155.8 | 181.6 |\n",
    "| Average time per epoch | 0.134 | 0.109 |"
   ]
  },
  {
   "cell_type": "markdown",
   "metadata": {},
   "source": [
    "## Compare Lipschitz"
   ]
  },
  {
   "cell_type": "code",
   "execution_count": 18,
   "metadata": {},
   "outputs": [],
   "source": [
    "measurements = getMeasurements(4)"
   ]
  },
  {
   "cell_type": "code",
   "execution_count": 19,
   "metadata": {},
   "outputs": [],
   "source": [
    "names = ['unitary', 'vqc']"
   ]
  },
  {
   "cell_type": "code",
   "execution_count": 20,
   "metadata": {},
   "outputs": [],
   "source": [
    "error_params = [\n",
    "    [0.0001 , 'b'], [0.0001 , 'p'], [0.0001 , 'd'], \n",
    "    [0.001 , 'b'], [0.001 , 'p'], [0.001 , 'd'], \n",
    "    [0.01 , 'b'], [0.01 , 'p'], [0.01 , 'd'],\n",
    "    [0.1 , 'b'], [0.1 , 'p'], [0.1 , 'd'], \n",
    "]"
   ]
  },
  {
   "cell_type": "markdown",
   "metadata": {},
   "source": [
    "### - exact Lipschitz"
   ]
  },
  {
   "cell_type": "code",
   "execution_count": 21,
   "metadata": {
    "scrolled": true
   },
   "outputs": [
    {
     "name": "stdout",
     "output_type": "stream",
     "text": [
      " - p = 0.0001, errorType: b\n",
      "Lipschitz for [unitary] is: 0.017109645455904973\n",
      "\n",
      "Lipschitz for [vqc] is: 0.009154627023146534\n",
      "\n",
      "smallest one: [vqc]\n",
      "-------------------------\n",
      "\n",
      " - p = 0.0001, errorType: p\n",
      "Lipschitz for [unitary] is: 0.017113706734255944\n",
      "\n",
      "Lipschitz for [vqc] is: 0.009156384310283858\n",
      "\n",
      "smallest one: [vqc]\n",
      "-------------------------\n",
      "\n",
      " - p = 0.0001, errorType: d\n",
      "Lipschitz for [unitary] is: 0.017111940377537105\n",
      "\n",
      "Lipschitz for [vqc] is: 0.00915543552554245\n",
      "\n",
      "smallest one: [vqc]\n",
      "-------------------------\n",
      "\n",
      " - p = 0.001, errorType: b\n",
      "Lipschitz for [unitary] is: 0.01707316806099261\n",
      "\n",
      "Lipschitz for [vqc] is: 0.009138873955796042\n",
      "\n",
      "smallest one: [vqc]\n",
      "-------------------------\n",
      "\n",
      " - p = 0.001, errorType: p\n",
      "Lipschitz for [unitary] is: 0.01711370673275306\n",
      "\n",
      "Lipschitz for [vqc] is: 0.009156384309011202\n",
      "\n",
      "smallest one: [vqc]\n",
      "-------------------------\n",
      "\n",
      " - p = 0.001, errorType: d\n",
      "Lipschitz for [unitary] is: 0.017096056588320443\n",
      "\n",
      "Lipschitz for [vqc] is: 0.009146912301708065\n",
      "\n",
      "smallest one: [vqc]\n",
      "-------------------------\n",
      "\n",
      " - p = 0.01, errorType: b\n",
      "Lipschitz for [unitary] is: 0.01671556075938583\n",
      "\n",
      "Lipschitz for [vqc] is: 0.008987871139717352\n",
      "\n",
      "smallest one: [vqc]\n",
      "-------------------------\n",
      "\n",
      " - p = 0.01, errorType: p\n",
      "Lipschitz for [unitary] is: 0.01711370673274385\n",
      "\n",
      "Lipschitz for [vqc] is: 0.009156384309006255\n",
      "\n",
      "smallest one: [vqc]\n",
      "-------------------------\n",
      "\n",
      " - p = 0.01, errorType: d\n",
      "Lipschitz for [unitary] is: 0.016938547640701795\n",
      "\n",
      "Lipschitz for [vqc] is: 0.009063220574089568\n",
      "\n",
      "smallest one: [vqc]\n",
      "-------------------------\n",
      "\n",
      " - p = 0.1, errorType: b\n",
      "Lipschitz for [unitary] is: 0.014249689598660098\n",
      "\n",
      "Lipschitz for [vqc] is: 0.008015879149353361\n",
      "\n",
      "smallest one: [vqc]\n",
      "-------------------------\n",
      "\n",
      " - p = 0.1, errorType: p\n",
      "Lipschitz for [unitary] is: 0.01711370673274374\n",
      "\n",
      "Lipschitz for [vqc] is: 0.009156384309006161\n",
      "\n",
      "smallest one: [vqc]\n",
      "-------------------------\n",
      "\n",
      " - p = 0.1, errorType: d\n",
      "Lipschitz for [unitary] is: 0.015590142961849273\n",
      "\n",
      "Lipschitz for [vqc] is: 0.008380647692875652\n",
      "\n",
      "smallest one: [vqc]\n",
      "-------------------------\n",
      "\n",
      "{'unitary': 0, 'vqc': 12.0}\n"
     ]
    }
   ],
   "source": [
    "smallestDict = { k: 0 for k in names }\n",
    "\n",
    "for (p, errorType) in error_params:\n",
    "    print(f' - p = {p}, errorType: {errorType}')\n",
    "    \n",
    "    # simulate noise input circuits\n",
    "    noiseInputCircuits = getNoiseCircuits(inputCircuits, p, errorType)\n",
    "\n",
    "    smallest = 1.0; smallestKey = ''\n",
    "    for name in names: # unitary or vqc\n",
    "        lip = 0.0\n",
    "        \n",
    "        for i in range(MAX_TIMES):\n",
    "            # build targetCircuit\n",
    "            params = loadParams('sdc2', name, i + 1)\n",
    "            targetCircuit = QuantumCircuit(4, 4)\n",
    "            \n",
    "            if name == 'unitary':\n",
    "                targetCircuit.append(buildU(2, params), [0, 1])\n",
    "            else:\n",
    "                targetCircuit = getVQCCircuit(targetCircuit, 2, params, [0, 1])\n",
    "                \n",
    "            lip += calculateExactLipschitz2(\n",
    "                inputCircuits, noiseInputCircuits, \n",
    "                targetCircuit, measureCircuit, measurements\n",
    "            )\n",
    "        lip = lip / MAX_TIMES\n",
    "        \n",
    "        if lip < smallest:\n",
    "            smallest = lip\n",
    "            smallestKey = name\n",
    "        \n",
    "        print(f'Lipschitz for [{name}] is: {lip}\\n')\n",
    "    \n",
    "    smallestDict[smallestKey]  += 1.0\n",
    "    print(f'smallest one: [{smallestKey}]')\n",
    "        \n",
    "    print('-' * 25)\n",
    "    print()\n",
    "\n",
    "print(smallestDict)"
   ]
  },
  {
   "cell_type": "markdown",
   "metadata": {},
   "source": [
    "<table>\n",
    "    <tr>\n",
    "        <th style=\"text-align: center\"  rowspan=\"2\">Strategy</th><th style=\"text-align: center\"rowspan=\"2\">Error Type</th><th colspan=\"4\" style=\"text-align: center\">Probability</th>\n",
    "    </tr>\n",
    "    <tr>\n",
    "                                                 <td style=\"text-align: center\" >0.0001</td><td style=\"text-align: center\" >0.001</td><td style=\"text-align: center\" >0.01</td><td style=\"text-align: center\" >0.1</td>\n",
    "    </tr>\n",
    "    <tr>\n",
    "        <td style=\"text-align: center\"  rowspan=\"3\">PUG</td><td style=\"text-align: center\" >bit flip</td><td style=\"text-align: center\" >0.01711</td><td style=\"text-align: center\" >0.01707</td><td style=\"text-align: center\" >0.01672</td><td style=\"text-align: center\" >0.01425</td>\n",
    "    </tr>\n",
    "    <tr>\n",
    "        <td style=\"text-align: center\" >phase flip</td><td style=\"text-align: center\" >0.01711</td><td style=\"text-align: center\" >0.01711</td><td style=\"text-align: center\" >0.01711</td><td style=\"text-align: center\" >0.01711</td>\n",
    "    </tr>\n",
    "    <tr>\n",
    "        <td style=\"text-align: center\" >depolarizing</td><td style=\"text-align: center\" >0.01711</td><td style=\"text-align: center\" >0.01710</td><td style=\"text-align: center\" >0.01694</td><td style=\"text-align: center\" >0.01560</td>\n",
    "    </tr>\n",
    "    <tr>\n",
    "        <td style=\"text-align: center\" rowspan=\"3\">VQC</td><td  style=\"text-align: center\" >bit flip</td><td style=\"text-align: center\" >9.155e-3</td><td style=\"text-align: center\" >9.139e-3</td><td style=\"text-align: center\" >8.988e-3</td><td style=\"text-align: center\" >8.016e-3</td>\n",
    "    </tr>\n",
    "    <tr>\n",
    "        <td style=\"text-align: center\">phase flip</td><td style=\"text-align: center\" >9.156e-3</td><td style=\"text-align: center\" >9.156e-3</td><td style=\"text-align: center\" >9.156e-3</td><td style=\"text-align: center\" >9.156e-3</td>\n",
    "    </tr>\n",
    "    <tr>\n",
    "        <td style=\"text-align: center\" >depolarizing</td><td style=\"text-align: center\" >9.155e-3</td><td style=\"text-align: center\" >9.147e-3</td><td style=\"text-align: center\" >9.063e-3</td><td style=\"text-align: center\" >8.381e-3</td>\n",
    "    </tr>\n",
    "    \n",
    "</table>"
   ]
  },
  {
   "cell_type": "markdown",
   "metadata": {},
   "source": [
    "<table>\n",
    "    <tr>\n",
    "        <th style=\"text-align: center\"  rowspan=\"2\">Strategy</th><th style=\"text-align: center\"rowspan=\"2\">Error Type</th><th colspan=\"4\" style=\"text-align: center\">Probability</th>\n",
    "    </tr>\n",
    "    <tr>\n",
    "                                                 <td style=\"text-align: center\" >0.0001</td><td style=\"text-align: center\" >0.001</td><td style=\"text-align: center\" >0.01</td><td style=\"text-align: center\" >0.1</td>\n",
    "    </tr>\n",
    "    <tr>\n",
    "        <td style=\"text-align: center\"  rowspan=\"3\">Parameterized Unitary</td><td style=\"text-align: center\" >bit flip</td><td style=\"text-align: center\" >0.01533</td><td style=\"text-align: center\" >0.01533</td><td style=\"text-align: center\" >0.01529</td><td style=\"text-align: center\" >0.01502</td>\n",
    "    </tr>\n",
    "    <tr>\n",
    "        <td style=\"text-align: center\" >phase flip</td><td style=\"text-align: center\" >3.694e-14</td><td style=\"text-align: center\" >1.762e-14</td><td style=\"text-align: center\" >2.118e-15</td><td style=\"text-align: center\" >2.087e-16</td>\n",
    "    </tr>\n",
    "    <tr>\n",
    "        <td style=\"text-align: center\" >depolarizing</td><td style=\"text-align: center\" >8.021e-3</td><td style=\"text-align: center\" >8.027e-3</td><td style=\"text-align: center\" >8.085e-3</td><td style=\"text-align: center\" >8.667e-3</td>\n",
    "    </tr>\n",
    "    <tr>\n",
    "        <td style=\"text-align: center\" rowspan=\"3\">VQC</td><td  style=\"text-align: center\" >bit flip</td><td style=\"text-align: center\" >7.804e-3</td><td style=\"text-align: center\" >7.803e-3</td><td style=\"text-align: center\" >7.799e-3</td><td style=\"text-align: center\" >7.771e-3</td>\n",
    "    </tr>\n",
    "    <tr>\n",
    "        <td style=\"text-align: center\">phase flip</td><td style=\"text-align: center\" >2.192e-14</td><td style=\"text-align: center\" >1.003e-14</td><td style=\"text-align: center\" >1.243e-15</td><td style=\"text-align: center\" >1.201e-16</td>\n",
    "    </tr>\n",
    "    <tr>\n",
    "        <td style=\"text-align: center\" >depolarizing</td><td style=\"text-align: center\" >4.209e-3</td><td style=\"text-align: center\" >4.212e-3</td><td style=\"text-align: center\" >4.244e-3</td><td style=\"text-align: center\" >4.571e-3</td>\n",
    "    </tr>\n",
    "    \n",
    "</table>"
   ]
  },
  {
   "cell_type": "markdown",
   "metadata": {},
   "source": [
    "### - approximate Lipschitz"
   ]
  },
  {
   "cell_type": "code",
   "execution_count": 153,
   "metadata": {},
   "outputs": [
    {
     "name": "stdout",
     "output_type": "stream",
     "text": [
      "Lipschitz for [unitary] is: 0.026536907191988986(best params: No.9(7.218545981975993e-05))\n",
      "\n",
      "Lipschitz for [vqc] is: 0.009256806191693273(best params: No.8(3.401474584273814e-06))\n",
      "\n"
     ]
    }
   ],
   "source": [
    "for name in names: # unitary or vqc\n",
    "    lip = 0.0\n",
    "    best_index = -1; best_lip = 1\n",
    "\n",
    "    for i in range(MAX_TIMES):\n",
    "        # build targetCircuit\n",
    "        params = loadParams('sdc2', name, i + 1)\n",
    "        targetCircuit = QuantumCircuit(4, 4)\n",
    "\n",
    "        if name == 'unitary':\n",
    "            targetCircuit.append(buildU(2, params), [0, 1])\n",
    "        else:\n",
    "            targetCircuit = getVQCCircuit(targetCircuit, 2, params, [0, 1])\n",
    "\n",
    "        score = calculateLipschitz(targetCircuit, measureCircuit, measurements)\n",
    "        \n",
    "        if score < best_lip:\n",
    "            best_lip = score\n",
    "            best_index = i + 1\n",
    "        \n",
    "        lip += score\n",
    "                                  \n",
    "    lip = lip / MAX_TIMES\n",
    "\n",
    "    print(f'Lipschitz for [{name}] is: {lip}(best params: No.{best_index}({best_lip}))\\n')"
   ]
  },
  {
   "cell_type": "code",
   "execution_count": 20,
   "metadata": {},
   "outputs": [
    {
     "name": "stdout",
     "output_type": "stream",
     "text": [
      "Lipschitz for [unitary] is: (0.026536907191988986+6.764828905028613e-20j)(best params: No.9((7.218545981975993e-05+9.238018107808892e-22j)))\n",
      "\n",
      "Lipschitz for [vqc] is: (0.009256806191693273-1.1269060413117056e-20j)(best params: No.8((3.401474584273814e-06-3.214414997621512e-23j)))\n",
      "\n"
     ]
    }
   ],
   "source": [
    "for name in names: # unitary or vqc\n",
    "    lip = 0.0\n",
    "    best_index = -1; best_lip = 1\n",
    "\n",
    "    for i in range(MAX_TIMES):\n",
    "        # build targetCircuit\n",
    "        params = loadParams('sdc2', name, i + 1)\n",
    "        targetCircuit = QuantumCircuit(4, 4)\n",
    "\n",
    "        if name == 'unitary':\n",
    "            targetCircuit.append(buildU(2, params), [0, 1])\n",
    "        else:\n",
    "            targetCircuit = getVQCCircuit(targetCircuit, 2, params, [0, 1])\n",
    "\n",
    "        score = calculateLipschitz2(targetCircuit, measureCircuit, measurements)\n",
    "        \n",
    "        if score < best_lip:\n",
    "            best_lip = score\n",
    "            best_index = i + 1\n",
    "        \n",
    "        lip += score\n",
    "                                  \n",
    "    lip = lip / MAX_TIMES\n",
    "\n",
    "    print(f'Lipschitz for [{name}] is: {lip}(best params: No.{best_index}({best_lip}))\\n')"
   ]
  },
  {
   "cell_type": "code",
   "execution_count": 20,
   "metadata": {},
   "outputs": [
    {
     "name": "stdout",
     "output_type": "stream",
     "text": [
      "Lipschitz for [unitary] is: 0.026536907191988986(best params: No.9(7.218545981975993e-05))\n",
      "\n",
      "Lipschitz for [vqc] is: 0.009256806191693273(best params: No.8(3.401474584273814e-06))\n",
      "\n"
     ]
    }
   ],
   "source": [
    "for name in names: # unitary or vqc\n",
    "    lip = 0.0\n",
    "    best_index = -1; best_lip = 1\n",
    "\n",
    "    for i in range(MAX_TIMES):\n",
    "        # build targetCircuit\n",
    "        params = loadParams('sdc2', name, i + 1)\n",
    "        targetCircuit = QuantumCircuit(4, 4)\n",
    "\n",
    "        if name == 'unitary':\n",
    "            targetCircuit.append(buildU(2, params), [0, 1])\n",
    "        else:\n",
    "            targetCircuit = getVQCCircuit(targetCircuit, 2, params, [0, 1])\n",
    "\n",
    "        score = np.abs(calculateLipschitz2(targetCircuit, measureCircuit, measurements))\n",
    "        \n",
    "        if score < best_lip:\n",
    "            best_lip = score\n",
    "            best_index = i + 1\n",
    "        \n",
    "        lip += score\n",
    "                                  \n",
    "    lip = lip / MAX_TIMES\n",
    "\n",
    "    print(f'Lipschitz for [{name}] is: {lip}(best params: No.{best_index}({best_lip}))\\n')"
   ]
  },
  {
   "cell_type": "code",
   "execution_count": null,
   "metadata": {},
   "outputs": [],
   "source": []
  }
 ],
 "metadata": {
  "kernelspec": {
   "display_name": "Python 3 (ipykernel)",
   "language": "python",
   "name": "python3"
  },
  "language_info": {
   "codemirror_mode": {
    "name": "ipython",
    "version": 3
   },
   "file_extension": ".py",
   "mimetype": "text/x-python",
   "name": "python",
   "nbconvert_exporter": "python",
   "pygments_lexer": "ipython3",
   "version": "3.8.13"
  }
 },
 "nbformat": 4,
 "nbformat_minor": 4
}
